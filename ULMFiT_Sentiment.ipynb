{
  "nbformat": 4,
  "nbformat_minor": 0,
  "metadata": {
    "colab": {
      "name": "ULMFiT Sentiment.ipynb",
      "provenance": [],
      "toc_visible": true,
      "authorship_tag": "ABX9TyMi/wPSs2qCkJ9TmfEfOsQH",
      "include_colab_link": true
    },
    "kernelspec": {
      "name": "python3",
      "display_name": "Python 3"
    },
    "accelerator": "GPU"
  },
  "cells": [
    {
      "cell_type": "markdown",
      "metadata": {
        "id": "view-in-github",
        "colab_type": "text"
      },
      "source": [
        "<a href=\"https://colab.research.google.com/github/natashabutt/TwitterAirlineULMFiT/blob/master/ULMFiT_Sentiment.ipynb\" target=\"_parent\"><img src=\"https://colab.research.google.com/assets/colab-badge.svg\" alt=\"Open In Colab\"/></a>"
      ]
    },
    {
      "cell_type": "markdown",
      "metadata": {
        "id": "0StLGJHe2lUn",
        "colab_type": "text"
      },
      "source": [
        "#Twitter US Airline Sentiment Analysis Using ULMFiT"
      ]
    },
    {
      "cell_type": "markdown",
      "metadata": {
        "id": "9ySQadb520D9",
        "colab_type": "text"
      },
      "source": [
        "In this notebook, we perform sentiment analysis on [Twitter US airline data](https://www.kaggle.com/crowdflower/twitter-airline-sentiment) using Universal Language Model Fine-tuning for Text Classification ([ULMFiT](https://arxiv.org/pdf/1801.06146.pdf)) and achieving a test accuracy of 84%. For our ULMFiT implementation, we use the [fastai library](https://nlp.fast.ai/category/classification.html) for preprocessing our data, fine-tuning a pretrained language model and building our sentiment classifier. The language model (LM) is an English model with an AWD-LSTM architecture pre-trained by fast.ai on [Wikitext-103](https://blog.einstein.ai/the-wikitext-long-term-dependency-language-modeling-dataset/). The structure of this notebook is as follows:\n",
        "\n",
        "\n",
        "1. Set up environment\n",
        "2. Preprocess airline data\n",
        "3. Fine-tune pretrained LM\n",
        "4. Build sentiment classifier\n",
        "5. Predictions\n",
        "\n"
      ]
    },
    {
      "cell_type": "markdown",
      "metadata": {
        "id": "6pATvbyd9Rk5",
        "colab_type": "text"
      },
      "source": [
        "## 1. Set up environment"
      ]
    },
    {
      "cell_type": "markdown",
      "metadata": {
        "id": "6WmcwQRL-EUI",
        "colab_type": "text"
      },
      "source": [
        "Install fastai library if necessary by uncommenting line below"
      ]
    },
    {
      "cell_type": "code",
      "metadata": {
        "id": "RufVfINg9Q7n",
        "colab_type": "code",
        "colab": {}
      },
      "source": [
        "# % pip install fastai"
      ],
      "execution_count": null,
      "outputs": []
    },
    {
      "cell_type": "markdown",
      "metadata": {
        "id": "GZmfgk02-HRd",
        "colab_type": "text"
      },
      "source": [
        "Import packages"
      ]
    },
    {
      "cell_type": "code",
      "metadata": {
        "id": "BPL1-nfh2hLl",
        "colab_type": "code",
        "colab": {}
      },
      "source": [
        "from fastai.text import *\n",
        "from google.colab import drive\n",
        "import pandas as pd"
      ],
      "execution_count": 1,
      "outputs": []
    },
    {
      "cell_type": "markdown",
      "metadata": {
        "id": "16txBDMtBPR_",
        "colab_type": "text"
      },
      "source": [
        "## 2. Preprocess airline data"
      ]
    },
    {
      "cell_type": "markdown",
      "metadata": {
        "id": "NOnmE2loBSo9",
        "colab_type": "text"
      },
      "source": [
        "The data has been copied to a shared [google drive folder](https://drive.google.com/drive/folders/11FxkhoXSUcn5stuwh9eslLpvOGoaW4Jt?usp=sharing). This means we can now mount the drive and access the data in colab."
      ]
    },
    {
      "cell_type": "code",
      "metadata": {
        "id": "M4XyMh5xCBxi",
        "colab_type": "code",
        "colab": {
          "base_uri": "https://localhost:8080/",
          "height": 122
        },
        "outputId": "386dda6e-c085-4f4d-e3d4-256e0fcf68dd"
      },
      "source": [
        "drive.mount('/content/drive')"
      ],
      "execution_count": 2,
      "outputs": [
        {
          "output_type": "stream",
          "text": [
            "Go to this URL in a browser: https://accounts.google.com/o/oauth2/auth?client_id=947318989803-6bn6qk8qdgf4n4g3pfee6491hc0brc4i.apps.googleusercontent.com&redirect_uri=urn%3aietf%3awg%3aoauth%3a2.0%3aoob&response_type=code&scope=email%20https%3a%2f%2fwww.googleapis.com%2fauth%2fdocs.test%20https%3a%2f%2fwww.googleapis.com%2fauth%2fdrive%20https%3a%2f%2fwww.googleapis.com%2fauth%2fdrive.photos.readonly%20https%3a%2f%2fwww.googleapis.com%2fauth%2fpeopleapi.readonly\n",
            "\n",
            "Enter your authorization code:\n",
            "··········\n",
            "Mounted at /content/drive\n"
          ],
          "name": "stdout"
        }
      ]
    },
    {
      "cell_type": "markdown",
      "metadata": {
        "id": "Im9BMUcYDDGF",
        "colab_type": "text"
      },
      "source": [
        "Define the path where the airline data is saved."
      ]
    },
    {
      "cell_type": "code",
      "metadata": {
        "id": "yaq5bAvLDHru",
        "colab_type": "code",
        "colab": {}
      },
      "source": [
        "data_path = '/content/drive/My Drive/ULMFiT Sentiment/'"
      ],
      "execution_count": 3,
      "outputs": []
    },
    {
      "cell_type": "markdown",
      "metadata": {
        "id": "OQPYV8SS-Ijt",
        "colab_type": "text"
      },
      "source": [
        "Shuffle the tweet data and split into training and test sets."
      ]
    },
    {
      "cell_type": "code",
      "metadata": {
        "id": "rQfff--9-N1r",
        "colab_type": "code",
        "colab": {
          "base_uri": "https://localhost:8080/",
          "height": 34
        },
        "outputId": "c2e168d3-c95e-4c5e-fed1-e030658cb4bd"
      },
      "source": [
        "tweets = pd.read_csv('{}Tweets.csv'.format(data_path)) # read csv to pandas dataframe\n",
        "tweets = tweets.sample(frac=1).reset_index(drop=True) # shuffle\n",
        "len_train = round(0.9*len(tweets)) # length of training set\n",
        "len_test = len(tweets) - len_train # length of test set\n",
        "tweets.iloc[:len_train,:].to_csv('{}train.csv'.format(data_path)) # save train to csv\n",
        "tweets.iloc[len_train:,:].to_csv('{}test.csv'.format(data_path)) # save test to csv\n",
        "print('no. of tweets: {} train size: {} test size: {}'.format(len(tweets),len_train,len_test))"
      ],
      "execution_count": 4,
      "outputs": [
        {
          "output_type": "stream",
          "text": [
            "no. of tweets: 14640 train size: 13176 test size: 1464\n"
          ],
          "name": "stdout"
        }
      ]
    },
    {
      "cell_type": "markdown",
      "metadata": {
        "id": "rZCMtloaNMaP",
        "colab_type": "text"
      },
      "source": [
        "Fastai has a [default Spacy tokeniser](https://docs.fast.ai/text.transform.html#BaseTokenizer) for preprocessing. We notice that this includes adding spaces around '#' so that '#donaldtrump' would become ' # donald trump'. However, this rule does not add space around '@'. This is not ideal for tweets and so we will create a customised tokeniser with the fastai defaults plus a new pre rule for adding space around '@'."
      ]
    },
    {
      "cell_type": "code",
      "metadata": {
        "id": "Uvt2M6VaSSKS",
        "colab_type": "code",
        "colab": {}
      },
      "source": [
        "def spec_add_spaces_at(t):\n",
        "    \"Add spaces around @\"\n",
        "    return re.sub(r'([@])', r' \\1 ', t)"
      ],
      "execution_count": 5,
      "outputs": []
    },
    {
      "cell_type": "code",
      "metadata": {
        "id": "GTEUYFl8ST_K",
        "colab_type": "code",
        "colab": {
          "base_uri": "https://localhost:8080/",
          "height": 34
        },
        "outputId": "cefa4119-13da-4c56-bb18-3332ae597459"
      },
      "source": [
        "print(spec_add_spaces_at('@donaldtrump'))"
      ],
      "execution_count": 6,
      "outputs": [
        {
          "output_type": "stream",
          "text": [
            " @ donaldtrump\n"
          ],
          "name": "stdout"
        }
      ]
    },
    {
      "cell_type": "code",
      "metadata": {
        "id": "va5I1JI0SsjM",
        "colab_type": "code",
        "colab": {}
      },
      "source": [
        "tokenizer = Tokenizer(pre_rules=[fix_html, replace_rep, replace_wrep, spec_add_spaces, rm_useless_spaces, spec_add_spaces_at])\n",
        "tok = SpacyTokenizer('en')"
      ],
      "execution_count": 7,
      "outputs": []
    },
    {
      "cell_type": "code",
      "metadata": {
        "id": "VcMVXFBdXUsF",
        "colab_type": "code",
        "colab": {
          "base_uri": "https://localhost:8080/",
          "height": 34
        },
        "outputId": "fbb787dc-f72e-4b93-c059-bc65f4d3d34e"
      },
      "source": [
        "tokenizer.process_text('@donaldtrump', tok)"
      ],
      "execution_count": 8,
      "outputs": [
        {
          "output_type": "execute_result",
          "data": {
            "text/plain": [
              "[' ', '@', 'donaldtrump']"
            ]
          },
          "metadata": {
            "tags": []
          },
          "execution_count": 8
        }
      ]
    },
    {
      "cell_type": "markdown",
      "metadata": {
        "id": "WBEn6BoIJLBK",
        "colab_type": "text"
      },
      "source": [
        "Create a TextDataBunch for the language model, passing our tokenizer to preprocess the data."
      ]
    },
    {
      "cell_type": "code",
      "metadata": {
        "id": "R_f_NxsTJLdB",
        "colab_type": "code",
        "colab": {
          "base_uri": "https://localhost:8080/",
          "height": 17
        },
        "outputId": "bdeb6950-63bb-4915-b829-5df6b4dacc62"
      },
      "source": [
        "data_lm = TextLMDataBunch.from_csv(data_path, 'train.csv', text_cols = 'text', label_cols = 'airline_sentiment', tokenizer=tokenizer)"
      ],
      "execution_count": 9,
      "outputs": [
        {
          "output_type": "display_data",
          "data": {
            "text/html": [
              ""
            ],
            "text/plain": [
              "<IPython.core.display.HTML object>"
            ]
          },
          "metadata": {
            "tags": []
          }
        },
        {
          "output_type": "display_data",
          "data": {
            "text/html": [
              ""
            ],
            "text/plain": [
              "<IPython.core.display.HTML object>"
            ]
          },
          "metadata": {
            "tags": []
          }
        }
      ]
    },
    {
      "cell_type": "code",
      "metadata": {
        "id": "GUYjPM5YJ6cl",
        "colab_type": "code",
        "colab": {
          "base_uri": "https://localhost:8080/",
          "height": 340
        },
        "outputId": "eddc115b-1f45-43aa-8da4-43078dd2aa2e"
      },
      "source": [
        "data_lm.show_batch()"
      ],
      "execution_count": 10,
      "outputs": [
        {
          "output_type": "display_data",
          "data": {
            "text/html": [
              "<table border=\"1\" class=\"dataframe\">\n",
              "  <thead>\n",
              "    <tr style=\"text-align: right;\">\n",
              "      <th>idx</th>\n",
              "      <th>text</th>\n",
              "    </tr>\n",
              "  </thead>\n",
              "  <tbody>\n",
              "    <tr>\n",
              "      <td>0</td>\n",
              "      <td>@ southwestair are you guys alive ? i 've been on hold for 25 minutes and counting xxrep 5 . xxbos   @ jetblue just lost very loyal customers who use them 4 - 10 times a year . xxbos   @ usairways need to retrain xxup us xxunk lead flight attendant and gate agent at arrival xxup mke 2 / 23 . xxmaj horrible attitudes toward helping</td>\n",
              "    </tr>\n",
              "    <tr>\n",
              "      <td>1</td>\n",
              "      <td>on time , but we should of been off the ground 15 minutes ago . xxbos   @ xxmaj united ticket counter xxmaj masters out of xxup smf not very helpful . xxbos   @ virginamerica xxmaj very poor experience . xxmaj first computer problem now seat malfunction . xxmaj stuck . xxmaj missing meeting in xxmaj san xxmaj diego . xxbos   @ united boarding a</td>\n",
              "    </tr>\n",
              "    <tr>\n",
              "      <td>2</td>\n",
              "      <td>the extra xxunk i 'm carrying it on 😒 xxbos   @ united xxmaj flight xxunk ( xxup xxunk ) arrives at   @ flytpa following flight from   @ iah http : / / t.co / xxunk xxbos   @ united what did you do with my seat . xxmaj international connection . xxmaj seriously ? xxbos   @ virginamerica thank you ! i</td>\n",
              "    </tr>\n",
              "    <tr>\n",
              "      <td>3</td>\n",
              "      <td>and it 's not even snowing in xxup fl . xxbos xxmaj first base already ? i like your style   @ jetblue xxbos   @ jetblue , was far less painful than what was coming from xxmaj avis . 💙 xxbos   @ usairways please follow me so i can xxup dm you about something xxbos   @ southwestair xxmaj finally ! xxmaj integration w</td>\n",
              "    </tr>\n",
              "    <tr>\n",
              "      <td>4</td>\n",
              "      <td>@ southwestair think you need to follow me for a xxup dm xxbos   @ southwestair could you please tell me if there is a way to add a xxup rr # to a flight that already took place ? xxbos   @ usairways shout out to the pilots and xxup fc xxunk ) of xxup us xxunk . xxmaj super strong xxunk during landing .</td>\n",
              "    </tr>\n",
              "  </tbody>\n",
              "</table>"
            ],
            "text/plain": [
              "<IPython.core.display.HTML object>"
            ]
          },
          "metadata": {
            "tags": []
          }
        }
      ]
    },
    {
      "cell_type": "markdown",
      "metadata": {
        "id": "h_CXJaTTbvwf",
        "colab_type": "text"
      },
      "source": [
        "Create TextDataBunch for the classification model, passing our tokenizer to preprocess the data and the vocab from our language model."
      ]
    },
    {
      "cell_type": "code",
      "metadata": {
        "id": "jD4OAkhbbu9-",
        "colab_type": "code",
        "colab": {
          "base_uri": "https://localhost:8080/",
          "height": 17
        },
        "outputId": "a230648a-8ac5-44b8-e681-ef6873ad1fff"
      },
      "source": [
        "data_clas = TextClasDataBunch.from_csv(data_path, 'train.csv', text_cols = 'text', test='test.csv', label_cols = 'airline_sentiment', tokenizer=tokenizer, vocab=data_lm.train_ds.vocab, bs=32)"
      ],
      "execution_count": 11,
      "outputs": [
        {
          "output_type": "display_data",
          "data": {
            "text/html": [
              ""
            ],
            "text/plain": [
              "<IPython.core.display.HTML object>"
            ]
          },
          "metadata": {
            "tags": []
          }
        },
        {
          "output_type": "display_data",
          "data": {
            "text/html": [
              ""
            ],
            "text/plain": [
              "<IPython.core.display.HTML object>"
            ]
          },
          "metadata": {
            "tags": []
          }
        },
        {
          "output_type": "display_data",
          "data": {
            "text/html": [
              ""
            ],
            "text/plain": [
              "<IPython.core.display.HTML object>"
            ]
          },
          "metadata": {
            "tags": []
          }
        }
      ]
    },
    {
      "cell_type": "code",
      "metadata": {
        "id": "dcykrndlPvu5",
        "colab_type": "code",
        "colab": {
          "base_uri": "https://localhost:8080/",
          "height": 34
        },
        "outputId": "4737d222-65ec-4cdc-d5fb-aae44a2fba9b"
      },
      "source": [
        "print('classes: {}'.format(data_clas.classes))"
      ],
      "execution_count": 12,
      "outputs": [
        {
          "output_type": "stream",
          "text": [
            "classes: ['negative', 'neutral', 'positive']\n"
          ],
          "name": "stdout"
        }
      ]
    },
    {
      "cell_type": "code",
      "metadata": {
        "id": "jPP8zeL7cfXD",
        "colab_type": "code",
        "colab": {
          "base_uri": "https://localhost:8080/",
          "height": 289
        },
        "outputId": "f5db847f-304b-4010-b61b-5ce92ba99fa0"
      },
      "source": [
        "data_clas.show_batch()"
      ],
      "execution_count": 13,
      "outputs": [
        {
          "output_type": "display_data",
          "data": {
            "text/html": [
              "<table border=\"1\" class=\"dataframe\">\n",
              "  <thead>\n",
              "    <tr style=\"text-align: right;\">\n",
              "      <th>text</th>\n",
              "      <th>target</th>\n",
              "    </tr>\n",
              "  </thead>\n",
              "  <tbody>\n",
              "    <tr>\n",
              "      <td>xxbos   @ united xxmaj hi have a question re future xxmaj flight xxmaj booking xxmaj problems . xxup dub - xxup jac 29 / 9 xxup jac - xxup lax 8 / 10 xxup lax - xxup dub 13 / 10 . i 'm * xxup g. xxmaj what is checked bag allowance for xxup jac - xxup lax ?</td>\n",
              "      <td>neutral</td>\n",
              "    </tr>\n",
              "    <tr>\n",
              "      <td>xxbos   @ united i xxup just xxup asked xxup my xxup boyfriend xxup to xxup prom xxup over xxup the xxup xxunk xxup on xxup flight 494 xxup he xxup said xxup yes xxrep 4 ! xxup best xxup day xxup ever ! ! ! xxup thank u xxup so xxup much xxrep 6 !</td>\n",
              "      <td>positive</td>\n",
              "    </tr>\n",
              "    <tr>\n",
              "      <td>xxbos   @ united xxmaj waiting for xxunk xxup ewr - xxup ord , delayed xxunk mins . xxmaj might miss xxunk xxup ord - xxup xxunk at 6 pm xxup xxunk . xxmaj any room on xxunk xxup ord - xxup xxunk in case i miss xxunk ?</td>\n",
              "      <td>negative</td>\n",
              "    </tr>\n",
              "    <tr>\n",
              "      <td>xxbos   @ southwestair xxmaj loved one 's flight xxup atl to xxup ind xxmaj cancelled xxmaj flightled due to \" ice in xxmaj xxunk \" . xxmaj sitting here in xxmaj xxunk , it is xxunk dry . xxmaj tomorrow 4 - 6 \" of snow .</td>\n",
              "      <td>negative</td>\n",
              "    </tr>\n",
              "    <tr>\n",
              "      <td>xxbos   @ americanair my wife was on a flt from xxup bro to xxup tul via xxup dfw that was xxmaj cancelled xxmaj flighted . xxmaj bought an xxup swa flight to get her home . xxmaj partial refund , xxup dm me plz ?</td>\n",
              "      <td>negative</td>\n",
              "    </tr>\n",
              "  </tbody>\n",
              "</table>"
            ],
            "text/plain": [
              "<IPython.core.display.HTML object>"
            ]
          },
          "metadata": {
            "tags": []
          }
        }
      ]
    },
    {
      "cell_type": "markdown",
      "metadata": {
        "id": "sP_ieMLAef9m",
        "colab_type": "text"
      },
      "source": [
        "Inspect the vocabulary."
      ]
    },
    {
      "cell_type": "code",
      "metadata": {
        "id": "gFeWtmujeziZ",
        "colab_type": "code",
        "colab": {
          "base_uri": "https://localhost:8080/",
          "height": 34
        },
        "outputId": "d4e2d1f9-2d7e-4da2-f0c4-21af7f10fc16"
      },
      "source": [
        "print('length of vocab: {}'.format(len(data_lm.train_ds.vocab.itos)))"
      ],
      "execution_count": 14,
      "outputs": [
        {
          "output_type": "stream",
          "text": [
            "length of vocab: 5552\n"
          ],
          "name": "stdout"
        }
      ]
    },
    {
      "cell_type": "code",
      "metadata": {
        "id": "jT0E1Kw-enzq",
        "colab_type": "code",
        "colab": {
          "base_uri": "https://localhost:8080/",
          "height": 54
        },
        "outputId": "ead24eb1-2ac6-4ddd-a457-856ed052f605"
      },
      "source": [
        "data_lm.train_ds.vocab.stoi.items()"
      ],
      "execution_count": 15,
      "outputs": [
        {
          "output_type": "execute_result",
          "data": {
            "text/plain": [
              "dict_items([('xxunk', 0), ('xxpad', 1), ('xxbos', 2), ('xxeos', 3), ('xxfld', 4), ('xxmaj', 5), ('xxup', 6), ('xxrep', 7), ('xxwrep', 8), ('@', 9), (' ', 10), ('.', 11), ('to', 12), ('i', 13), ('the', 14), ('!', 15), ('a', 16), ('?', 17), ('you', 18), ('/', 19), ('united', 20), (',', 21), ('for', 22), ('flight', 23), ('on', 24), ('#', 25), ('and', 26), ('my', 27), ('americanair', 28), ('usairways', 29), ('is', 30), ('in', 31), ('jetblue', 32), ('it', 33), ('southwestair', 34), ('of', 35), (\"n't\", 36), ('me', 37), (':', 38), ('your', 39), ('have', 40), ('that', 41), ('was', 42), ('not', 43), ('at', 44), ('with', 45), ('no', 46), (\"'s\", 47), ('-', 48), ('this', 49), ('do', 50), ('get', 51), ('&', 52), ('we', 53), ('but', 54), ('be', 55), ('t.co', 56), ('from', 57), ('are', 58), ('can', 59), ('http', 60), ('thanks', 61), ('cancelled', 62), ('an', 63), ('now', 64), ('service', 65), ('just', 66), ('\"', 67), ('so', 68), ('been', 69), ('...', 70), ('help', 71), ('what', 72), ('2', 73), ('time', 74), ('customer', 75), ('they', 76), ('will', 77), ('up', 78), ('out', 79), ('us', 80), ('our', 81), ('hours', 82), (\"'m\", 83), ('all', 84), ('when', 85), ('hold', 86), ('flights', 87), ('if', 88), ('there', 89), ('plane', 90), ('how', 91), ('would', 92), ('why', 93), ('thank', 94), ('ca', 95), ('4', 96), ('still', 97), ('one', 98), ('please', 99), ('did', 100), ('need', 101), ('had', 102), ('delayed', 103), ('or', 104), ('back', 105), ('call', 106), ('about', 107), ('has', 108), ('gate', 109), ('virginamerica', 110), ('am', 111), ('bag', 112), ('as', 113), ('flightled', 114), ('hour', 115), ('after', 116), ('got', 117), ('$', 118), (\"'ve\", 119), ('late', 120), ('like', 121), (')', 122), ('any', 123), ('phone', 124), ('airline', 125), ('today', 126), ('fly', 127), ('over', 128), ('more', 129), ('by', 130), ('again', 131), ('(', 132), ('3', 133), ('guys', 134), ('does', 135), ('could', 136), ('only', 137), ('way', 138), ('know', 139), ('trying', 140), ('u', 141), ('waiting', 142), ('wait', 143), ('flying', 144), ('should', 145), ('great', 146), ('airport', 147), ('change', 148), ('then', 149), ('day', 150), ('make', 151), ('even', 152), ('never', 153), (\"'re\", 154), ('going', 155), ('tomorrow', 156), ('last', 157), ('go', 158), ('really', 159), ('because', 160), ('off', 161), ('seat', 162), ('weather', 163), ('home', 164), ('here', 165), ('were', 166), ('delay', 167), ('minutes', 168), ('check', 169), ('people', 170), ('first', 171), ('bags', 172), ('good', 173), ('new', 174), ('very', 175), ('w', 176), ('see', 177), ('ticket', 178), ('1', 179), ('take', 180), ('agent', 181), ('5', 182), ('dm', 183), ('want', 184), ('she', 185), ('another', 186), ('travel', 187), ('told', 188), ('..', 189), ('work', 190), ('ever', 191), ('luggage', 192), ('crew', 193), ('worst', 194), ('them', 195), ('than', 196), ('yes', 197), ('lost', 198), ('due', 199), ('getting', 200), ('two', 201), ('too', 202), (\"'ll\", 203), ('love', 204), ('let', 205), ('days', 206), ('baggage', 207), ('number', 208), ('much', 209), ('who', 210), ('email', 211), ('hrs', 212), ('made', 213), ('before', 214), ('aa', 215), ('flighted', 216), ('next', 217), ('jfk', 218), ('trip', 219), ('problems', 220), ('seats', 221), ('someone', 222), ('their', 223), ('online', 224), ('through', 225), ('other', 226), ('staff', 227), ('response', 228), ('already', 229), ('right', 230), ('where', 231), ('being', 232), ('“', 233), ('experience', 234), ('”', 235), ('best', 236), ('better', 237), ('sitting', 238), ('customers', 239), ('booked', 240), ('some', 241), ('min', 242), ('her', 243), ('line', 244), ('wo', 245), ('sent', 246), ('bad', 247), ('give', 248), ('since', 249), ('long', 250), ('sure', 251), ('left', 252), ('said', 253), ('times', 254), ('boarding', 255), ('morning', 256), ('reservation', 257), ('miles', 258), ('passengers', 259), ('he', 260), ('well', 261), ('stuck', 262), ('flightr', 263), ('6', 264), ('dfw', 265), ('airlines', 266), ('find', 267), ('think', 268), ('book', 269), ('system', 270), ('same', 271), ('booking', 272), ('into', 273), ('+', 274), ('issue', 275), ('night', 276), ('fleek', 277), ('delays', 278), ('tell', 279), ('says', 280), ('fleet', 281), ('yet', 282), ('nt', 283), ('info', 284), ('miss', 285), ('nothing', 286), ('agents', 287), ('10', 288), ('tried', 289), ('hotel', 290), ('connection', 291), ('tonight', 292), ('website', 293), ('lax', 294), ('air', 295), ('refund', 296), ('care', 297), ('hope', 298), ('flt', 299), ('\\n ', 300), (':)', 301), ('put', 302), ('rude', 303), ('use', 304), ('pay', 305), ('keep', 306), ('ago', 307), ('also', 308), (\"'\", 309), ('called', 310), ('anything', 311), ('rebooked', 312), ('missed', 313), ('class', 314), ('awesome', 315), ('nice', 316), ('down', 317), ('follow', 318), ('mins', 319), ('say', 320), ('every', 321), ('free', 322), ('tickets', 323), ('rebook', 324), ('wifi', 325), (\"'d\", 326), ('30', 327), ('come', 328), ('having', 329), ('missing', 330), ('its', 331), ('issues', 332), ('done', 333), ('delta', 334), ('business', 335), ('finally', 336), ('credit', 337), ('appreciate', 338), ('anyone', 339), ('ord', 340), ('checked', 341), ('until', 342), ('available', 343), ('always', 344), ('able', 345), ('week', 346), ('helpful', 347), ('sfo', 348), ('phl', 349), ('upgrade', 350), ('ok', 351), ('8', 352), ('team', 353), ('person', 354), ('year', 355), ('disappointed', 356), ('problem', 357), ('looking', 358), ('sorry', 359), ('many', 360), ('without', 361), ('early', 362), ('7', 363), ('20', 364), ('via', 365), ('update', 366), ('making', 367), ('️', 368), ('planes', 369), ('terrible', 370), ('dca', 371), ('which', 372), ('ridiculous', 373), ('extra', 374), ('board', 375), ('1st', 376), ('app', 377), ('rt', 378), ('instead', 379), ('understand', 380), ('working', 381), ('answer', 382), ('fix', 383), ('voucher', 384), ('status', 385), ('while', 386), ('something', 387), ('thx', 388), ('hi', 389), ('yesterday', 390), ('look', 391), ('though', 392), ('send', 393), ('amazing', 394), ('bos', 395), ('claim', 396), ('contact', 397), ('ewr', 398), ('attendant', 399), ('actually', 400), ('paid', 401), ('southwest', 402), ('fail', 403), ('stranded', 404), ('leave', 405), ('try', 406), ('clt', 407), ('earlier', 408), ('rep', 409), ('boston', 410), ('stop', 411), ('pass', 412), ('received', 413), ('chicago', 414), ('speak', 415), ('almost', 416), ('denver', 417), ('open', 418), ('site', 419), ('old', 420), ('supposed', 421), ('departure', 422), ('pilot', 423), ('card', 424), ('money', 425), ('name', 426), ('airways', 427), ('ground', 428), ('company', 429), ('least', 430), ('ur', 431), ('snow', 432), ('wife', 433), (';', 434), ('hung', 435), ('oh', 436), ('unacceptable', 437), (':(', 438), ('desk', 439), ('poor', 440), ('tarmac', 441), ('talk', 442), ('connecting', 443), ('45', 444), ('his', 445), ('seriously', 446), ('point', 447), ('different', 448), ('policy', 449), ('found', 450), ('employees', 451), ('half', 452), ('direct', 453), ('pm', 454), ('full', 455), ('american', 456), ('happy', 457), ('job', 458), ('everyone', 459), ('add', 460), ('vegas', 461), ('show', 462), ('family', 463), ('start', 464), ('reply', 465), ('most', 466), ('doing', 467), ('chance', 468), ('taking', 469), ('both', 470), ('twitter', 471), ('destinationdragons', 472), ('m', 473), ('landed', 474), ('those', 475), ('horrible', 476), ('15', 477), ('24', 478), ('needs', 479), ('dallas', 480), ('calling', 481), ('san', 482), ('nyc', 483), ('weeks', 484), ('once', 485), ('sit', 486), ('maybe', 487), ('reservations', 488), ('vacation', 489), ('took', 490), ('leaving', 491), ('mechanical', 492), ('car', 493), ('tweet', 494), ('three', 495), ('away', 496), ('message', 497), ('might', 498), ('destination', 499), ('enough', 500), ('asked', 501), ('far', 502), ('lot', 503), ('reason', 504), ('changed', 505), ('account', 506), ('together', 507), ('question', 508), ('bc', 509), ('fee', 510), ('coming', 511), ('big', 512), ('may', 513), ('few', 514), ('return', 515), ('gave', 516), ('charge', 517), ('40', 518), ('little', 519), ('hr', 520), ('confirmation', 521), ('re', 522), ('charlotte', 523), ('food', 524), ('hey', 525), ('b', 526), ('twice', 527), ('less', 528), ('fll', 529), ('newark', 530), ('cool', 531), ('things', 532), ('frustrated', 533), ('option', 534), ('link', 535), ('used', 536), ('these', 537), ('past', 538), ('friend', 539), ('stay', 540), ('800', 541), ('hear', 542), ('landing', 543), ('guess', 544), ('200', 545), ('arrive', 546), ('worse', 547), ('kids', 548), ('international', 549), ('else', 550), ('makes', 551), ('plus', 552), ('offer', 553), ('pls', 554), ('lack', 555), ('>', 556), ('iad', 557), ('wrong', 558), ('50', 559), ('terminal', 560), ('ua', 561), ('own', 562), ('scheduled', 563), ('phx', 564), ('using', 565), ('given', 566), ('houston', 567), ('such', 568), ('25', 569), ('broken', 570), ('frustrating', 571), ('during', 572), ('idea', 573), ('around', 574), ('possible', 575), ('soon', 576), ('https', 577), ('maintenance', 578), ('him', 579), ('jet', 580), ('runway', 581), ('la', 582), ('saying', 583), ('looks', 584), ('life', 585), ('awful', 586), ('thing', 587), ('9', 588), ('o', 589), ('went', 590), ('calls', 591), ('real', 592), ('waited', 593), ('iah', 594), ('error', 595), ('telling', 596), ('seems', 597), ('glad', 598), ('assistance', 599), ('thought', 600), ('each', 601), ('minute', 602), ('row', 603), ('hoping', 604), ('traveling', 605), ('attendants', 606), ('counting', 607), ('member', 608), ('arrived', 609), ('lga', 610), ('believe', 611), ('cust', 612), ('s', 613), ('cost', 614), ('reflight', 615), ('sucks', 616), ('feel', 617), ('ask', 618), ('swa', 619), ('pilots', 620), ('blue', 621), ('dc', 622), ('🙏', 623), ('thru', 624), ('heard', 625), ('happened', 626), ('guy', 627), ('y', 628), ('second', 629), ('moved', 630), ('hard', 631), ('end', 632), ('mean', 633), ('run', 634), ('sat', 635), ('busy', 636), ('den', 637), ('✈', 638), ('monday', 639), ('bwi', 640), ('wanted', 641), ('updates', 642), ('forward', 643), ('taken', 644), ('information', 645), ('case', 646), ('points', 647), ('deal', 648), ('room', 649), ('carry', 650), ('lol', 651), ('--', 652), ('quick', 653), ('expect', 654), ('2nd', 655), ('standby', 656), ('options', 657), ('wtf', 658), ('pretty', 659), ('process', 660), ('reach', 661), ('non', 662), ('😂', 663), ('12', 664), ('flew', 665), ('wish', 666), ('n’t', 667), ('everything', 668), ('philly', 669), ('loyal', 670), ('100', 671), ('joke', 672), ('request', 673), ('live', 674), ('form', 675), ('longer', 676), ('date', 677), ('needed', 678), ('ceo', 679), ('spent', 680), ('currently', 681), ('month', 682), ('tsa', 683), ('buy', 684), ('whole', 685), ('years', 686), ('rather', 687), ('11', 688), ('either', 689), ('leg', 690), ('yeah', 691), ('checking', 692), ('sleep', 693), ('place', 694), ('fees', 695), ('confirmed', 696), ('communication', 697), ('paying', 698), ('respond', 699), ('sunday', 700), ('tv', 701), ('helping', 702), ('unitedairlines', 703), ('club', 704), ('nashville', 705), ('drive', 706), ('usair', 707), ('city', 708), ('las', 709), ('months', 710), ('apology', 711), ('zero', 712), ('storm', 713), ('counter', 714), ('beyond', 715), ('sw', 716), ('hopefully', 717), ('asap', 718), ('fault', 719), ('=', 720), ('part', 721), ('r', 722), ('plans', 723), ('asking', 724), ('price', 725), ('supervisor', 726), ('c', 727), ('empty', 728), ('complaint', 729), ('1.5', 730), ('high', 731), ('allowed', 732), ('holding', 733), ('cabin', 734), ('boarded', 735), ('pick', 736), ('imaginedragons', 737), ('bring', 738), ('atlanta', 739), ('middle', 740), ('future', 741), ('automated', 742), ('appreciated', 743), ('super', 744), ('disconnected', 745), ('address', 746), ('clothes', 747), ('group', 748), ('fine', 749), ('…', 750), ('flightlations', 751), ('award', 752), ('allow', 753), ('suck', 754), ('human', 755), ('fare', 756), ('employee', 757), ('reschedule', 758), ('between', 759), ('switch', 760), ('flighting', 761), ('following', 762), ('ready', 763), (\"y'\", 764), ('happens', 765), ('wow', 766), ('purchase', 767), ('lose', 768), ('passenger', 769), ('miami', 770), ('flown', 771), ('under', 772), ('cold', 773), ('media', 774), ('several', 775), ('route', 776), ('hate', 777), ('situation', 778), ('atl', 779), ('details', 780), ('happen', 781), ('changes', 782), ('computer', 783), ('front', 784), ('treat', 785), ('flightlation', 786), ('mco', 787), ('orlando', 788), ('fact', 789), ('austin', 790), ('probably', 791), ('correct', 792), ('*', 793), ('safety', 794), ('seem', 795), ('offered', 796), ('tuesday', 797), ('companion', 798), ('gives', 799), ('land', 800), ('round', 801), ('2015', 802), ('👍', 803), ('world', 804), ('figure', 805), ('easy', 806), ('extremely', 807), ('list', 808), ('entire', 809), ('platinum', 810), ('support', 811), ('ice', 812), ('charged', 813), ('country', 814), ('four', 815), ('😭', 816), ('pre', 817), ('must', 818), ('water', 819), ('despite', 820), ('read', 821), ('bought', 822), ('original', 823), ('rock', 824), ('takes', 825), ('delivered', 826), ('record', 827), ('knew', 828), ('apparently', 829), ('checkin', 830), ('answers', 831), ('rdu', 832), ('gets', 833), ('aircraft', 834), ('lounge', 835), ('means', 836), ('upset', 837), ('inconvenience', 838), ('😊', 839), ('dealing', 840), ('provide', 841), ('e', 842), ('mileage', 843), ('seen', 844), ('weekend', 845), ('multiple', 846), ('haha', 847), ('saw', 848), ('n', 849), ('losing', 850), ('literally', 851), ('lots', 852), ('connections', 853), ('answering', 854), ('drop', 855), ('plz', 856), ('winter', 857), ('child', 858), ('sense', 859), ('schedule', 860), ('word', 861), ('virgin', 862), ('helped', 863), ('letting', 864), ('birthday', 865), ('services', 866), ('report', 867), ('true', 868), ('customerservice', 869), ('sad', 870), ('goes', 871), ('area', 872), ('shit', 873), ('control', 874), ('priority', 875), ('tix', 876), ('access', 877), ('feb', 878), ('small', 879), ('luck', 880), ('dividend', 881), ('friendly', 882), ('okay', 883), ('running', 884), ('baby', 885), ('cause', 886), ('sending', 887), ('top', 888), ('unable', 889), ('explain', 890), ('handle', 891), ('anyway', 892), (';)', 893), ('march', 894), ('friends', 895), ('giving', 896), ('code', 897), ('members', 898), ('husband', 899), ('daughter', 900), ('❤', 901), ('completely', 902), ('set', 903), ('arrival', 904), ('anymore', 905), ('excited', 906), ('door', 907), ('anywhere', 908), ('reps', 909), ('myself', 910), ('came', 911), ('unfortunately', 912), ('gon', 913), ('na', 914), ('followed', 915), ('kudos', 916), ('resolved', 917), ('changing', 918), ('spend', 919), (':-)', 920), ('huge', 921), ('\\n \\n ', 922), ('complete', 923), ('connect', 924), ('learn', 925), ('space', 926), ('luv', 927), ('2.5', 928), ('plan', 929), ('social', 930), ('kind', 931), ('friday', 932), ('mind', 933), ('treated', 934), ('hello', 935), ('trouble', 936), ('22', 937), ('share', 938), ('worth', 939), ('overhead', 940), ('_', 941), ('dropped', 942), ('relations', 943), ('wonderful', 944), ('submitted', 945), ('web', 946), ('yr', 947), ('mia', 948), ('sign', 949), ('note', 950), ('americanairlines', 951), ('traveler', 952), ('k', 953), ('matter', 954), ('depart', 955), ('course', 956), ('airplane', 957), ('hang', 958), ('rescheduled', 959), ('folks', 960), ('news', 961), ('afternoon', 962), ('3rd', 963), ('cover', 964), ('failed', 965), ('held', 966), ('kept', 967), ('evening', 968), ('fixed', 969), ('😡', 970), ('mine', 971), ('fun', 972), ('totally', 973), ('bna', 974), ('phones', 975), ('ppl', 976), ('expected', 977), ('bit', 978), ('short', 979), ('attitude', 980), ('win', 981), ('layover', 982), ('gone', 983), ('spoke', 984), ('view', 985), ('warm', 986), ('tag', 987), ('son', 988), ('saturday', 989), ('mess', 990), ('showing', 991), ('compensation', 992), ('phoenix', 993), ('explanation', 994), ('concern', 995), ('behind', 996), ('mom', 997), ('others', 998), ('select', 999), ('1hr', 1000), ('load', 1001), ('ruined', 1002), ('closed', 1003), ('crazy', 1004), ('page', 1005), ('svc', 1006), ('advisory', 1007), ('worries', 1008), ('nope', 1009), ('confirm', 1010), ('knows', 1011), ('purchased', 1012), ('ny', 1013), ('cs', 1014), ('watch', 1015), ('d', 1016), ('keeps', 1017), ('conf', 1018), ('drink', 1019), ('passbook', 1020), ('f', 1021), ('catch', 1022), ('mail', 1023), ('90', 1024), ('bank', 1025), ('seating', 1026), ('bs', 1027), ('vouchers', 1028), ('btw', 1029), ('party', 1030), ('23', 1031), ('however', 1032), ('domestic', 1033), ('order', 1034), ('damn', 1035), ('failure', 1036), ('move', 1037), ('fantastic', 1038), ('window', 1039), ('complaints', 1040), ('neveragain', 1041), ('feedback', 1042), ('lies', 1043), ('avgeek', 1044), ('clear', 1045), ('philadelphia', 1046), ('per', 1047), ('728', 1048), ('lines', 1049), ('arriving', 1050), ('auto', 1051), ('wall', 1052), ('60', 1053), ('excellent', 1054), ('started', 1055), ('single', 1056), ('overnight', 1057), ('gold', 1058), ('transfer', 1059), ('experienced', 1060), ('volume', 1061), ('entertainment', 1062), ('inflight', 1063), ('flyer', 1064), ('nonstop', 1065), ('post', 1066), ('filed', 1067), ('receive', 1068), ('tired', 1069), ('letter', 1070), ('bumped', 1071), ('power', 1072), ('usairwaysfail', 1073), ('safe', 1074), ('none', 1075), ('absolute', 1076), ('responding', 1077), ('fl', 1078), ('speaking', 1079), ('16', 1080), ('😉', 1081), ('difference', 1082), ('useless', 1083), ('ride', 1084), ('de', 1085), ('forced', 1086), ('total', 1087), ('planned', 1088), ('trueblue', 1089), ('gates', 1090), ('tmrw', 1091), ('outside', 1092), ('personal', 1093), ('happening', 1094), ('major', 1095), ('man', 1096), ('wasted', 1097), ('75', 1098), ('unhelpful', 1099), ('added', 1100), ('cc', 1101), ('stuff', 1102), ('assist', 1103), ('loved', 1104), ('offering', 1105), ('frequent', 1106), ('emails', 1107), ('especially', 1108), ('final', 1109), ('center', 1110), ('impressed', 1111), ('questions', 1112), ('seattle', 1113), ('21', 1114), ('compensate', 1115), ('35', 1116), ('sold', 1117), ('refuse', 1118), ('merger', 1119), ('file', 1120), ('accommodate', 1121), ('unhappy', 1122), ('takeoff', 1123), ('works', 1124), ('slow', 1125), ('2hrs', 1126), ('diff', 1127), ('leaves', 1128), ('fucking', 1129), ('fares', 1130), ('shows', 1131), ('funny', 1132), ('excuse', 1133), ('screwed', 1134), ('touch', 1135), ('preferred', 1136), ('0', 1137), ('close', 1138), ('hire', 1139), ('’s', 1140), ('rate', 1141), ('rental', 1142), ('headed', 1143), ('tweeting', 1144), ('alone', 1145), ('representative', 1146), ('god', 1147), ('train', 1148), ('enjoy', 1149), ('turn', 1150), ('resolve', 1151), ('’m', 1152), ('adding', 1153), ('systems', 1154), ('solution', 1155), ('yep', 1156), ('answered', 1157), ('broke', 1158), ('bday', 1159), ('smh', 1160), ('choose', 1161), ('kidding', 1162), ('caused', 1163), ('meeting', 1164), ('provided', 1165), ('badservice', 1166), ('text', 1167), ('buffalo', 1168), ('till', 1169), ('screw', 1170), ('premium', 1171), ('usa', 1172), ('absolutely', 1173), ('mobile', 1174), ('mexico', 1175), ('talking', 1176), ('mistake', 1177), ('deals', 1178), ('callback', 1179), ('known', 1180), ('refused', 1181), ('honor', 1182), ('talked', 1183), ('refunded', 1184), ('fuck', 1185), ('nightmare', 1186), ('pathetic', 1187), ('tracking', 1188), ('video', 1189), ('oscars', 1190), ('lie', 1191), ('willing', 1192), ('bus', 1193), ('receipt', 1194), ('captain', 1195), ('main', 1196), ('worked', 1197), ('tho', 1198), ('keeping', 1199), ('requested', 1200), ('notice', 1201), ('along', 1202), ('equipment', 1203), ('departing', 1204), ('choice', 1205), ('fingers', 1206), ('picked', 1207), ('😩', 1208), ('exactly', 1209), ('tells', 1210), ('handled', 1211), ('18', 1212), ('watching', 1213), ('standing', 1214), ('favorite', 1215), ('match', 1216), ('within', 1217), ('truly', 1218), ('lady', 1219), ('fa', 1220), ('denied', 1221), ('serious', 1222), ('trips', 1223), ('clearly', 1224), ('phlairport', 1225), ('arrives', 1226), ('april', 1227), ('definitely', 1228), ('actual', 1229), ('nc', 1230), ('wonder', 1231), ('moving', 1232), ('traffic', 1233), ('diego', 1234), ('apologies', 1235), ('program', 1236), ('avoid', 1237), ('acceptable', 1238), ('travelers', 1239), ('office', 1240), ('listening', 1241), ('hell', 1242), ('resolution', 1243), ('music', 1244), ('assigned', 1245), ('trust', 1246), ('uk', 1247), ('omg', 1248), ('special', 1249), ('meal', 1250), ('waste', 1251), ('upgrades', 1252), ('internet', 1253), ('children', 1254), ('patient', 1255), ('south', 1256), ('charging', 1257), ('count', 1258), ('story', 1259), ('chances', 1260), ('except', 1261), ('ve', 1262), ('👎', 1263), ('dal', 1264), ('flightd', 1265), ('stl', 1266), ('upgraded', 1267), ('previous', 1268), ('ugh', 1269), ('likely', 1270), ('fyi', 1271), ('security', 1272), ('👏', 1273), ('prices', 1274), ('crossed', 1275), ('incompetent', 1276), ('updated', 1277), ('cross', 1278), ('corporate', 1279), ('department', 1280), ('rules', 1281), ('flyers', 1282), ('%', 1283), ('usually', 1284), ('onboard', 1285), ('courtesy', 1286), ('t', 1287), ('expensive', 1288), ('exit', 1289), ('lovely', 1290), ('daily', 1291), ('17', 1292), ('cut', 1293), ('plenty', 1294), ('save', 1295), ('regarding', 1296), ('iphone', 1297), ('economy', 1298), ('fast', 1299), ('onto', 1300), ('eat', 1301), ('crews', 1302), ('19', 1303), ('😒', 1304), ('delivery', 1305), ('airports', 1306), ('mention', 1307), ('florida', 1308), ('wedding', 1309), ('policies', 1310), ('lhr', 1311), ('sick', 1312), ('forgot', 1313), ('angry', 1314), ('nobody', 1315), ('hangs', 1316), ('deliver', 1317), ('intl', 1318), ('training', 1319), ('yo', 1320), ('visit', 1321), ('america', 1322), ('damaged', 1323), ('consider', 1324), ('avail', 1325), ('chairman', 1326), ('ended', 1327), ('welcome', 1328), ('turned', 1329), ('mint', 1330), ('ways', 1331), ('sju', 1332), ('filled', 1333), ('wondering', 1334), ('mad', 1335), ('remember', 1336), ('suppose', 1337), ('attempt', 1338), ('msg', 1339), ('catering', 1340), ('driving', 1341), ('somewhere', 1342), ('’ll', 1343), ('five', 1344), ('hanging', 1345), ('incredibly', 1346), ('become', 1347), ('funeral', 1348), ('numbers', 1349), ('itinerary', 1350), ('safely', 1351), ('ones', 1352), ('150', 1353), ('expired', 1354), ('game', 1355), ('loaded', 1356), ('prompt', 1357), ('photo', 1358), ('flightling', 1359), ('providing', 1360), ('500', 1361), ('words', 1362), ('congrats', 1363), ('important', 1364), ('global', 1365), ('silver', 1366), ('😃', 1367), ('third', 1368), ('crap', 1369), ('13', 1370), ('etc', 1371), ('texas', 1372), ('thinking', 1373), ('wednesday', 1374), ('washington', 1375), ('shame', 1376), ('ruining', 1377), ('street', 1378), ('promise', 1379), ('freezing', 1380), ('fill', 1381), ('tweets', 1382), ('carousel', 1383), ('pleasant', 1384), ('dfwairport', 1385), ('across', 1386), ('emailed', 1387), ('infant', 1388), ('example', 1389), ('bet', 1390), ('redeem', 1391), ('otherwise', 1392), ('300', 1393), ('✌', 1394), ('jb', 1395), ('😄', 1396), ('id', 1397), ('badcustomerservice', 1398), ('item', 1399), ('advantage', 1400), ('routes', 1401), ('ty', 1402), (\"o'hare\", 1403), ('unprofessional', 1404), ('impossible', 1405), ('near', 1406), ('continue', 1407), ('sweet', 1408), ('planning', 1409), ('unbelievable', 1410), ('feeling', 1411), ('bother', 1412), ('ball', 1413), ('fair', 1414), ('buf', 1415), ('advise', 1416), ('conditions', 1417), ('spending', 1418), ('emergency', 1419), ('14', 1420), ('met', 1421), ('incompetence', 1422), ('tampa', 1423), ('28', 1424), ('worry', 1425), ('promised', 1426), ('characters', 1427), ('<3', 1428), ('act', 1429), ('improve', 1430), ('70', 1431), ('columbus', 1432), ('dates', 1433), ('treatment', 1434), ('ta', 1435), ('wanna', 1436), ('estimated', 1437), ('notification', 1438), ('further', 1439), ('suitcase', 1440), ('😢', 1441), ('sf', 1442), ('announced', 1443), ('watched', 1444), ('dollars', 1445), ('level', 1446), ('thursday', 1447), ('midnight', 1448), ('jetway', 1449), ('pull', 1450), ('killing', 1451), ('disappointment', 1452), ('simple', 1453), ('patience', 1454), ('applied', 1455), ('bdl', 1456), ('appease', 1457), ('clue', 1458), ('airfare', 1459), ('overbooked', 1460), ('sooner', 1461), ('crappy', 1462), ('certain', 1463), ('forever', 1464), ('shot', 1465), ('rr', 1466), ('hand', 1467), ('cmh', 1468), ('rsw', 1469), ('fortunemagazine', 1470), ('pdx', 1471), ('tough', 1472), ('raise', 1473), ('straight', 1474), ('beautiful', 1475), ('london', 1476), ('informed', 1477), ('relate', 1478), ('res', 1479), ('messed', 1480), ('returned', 1481), ('mileageplus', 1482), ('considering', 1483), ('issued', 1484), ('frm', 1485), ('print', 1486), ('feature', 1487), ('coffee', 1488), ('rest', 1489), (\"dm'd\", 1490), ('dog', 1491), ('dragons', 1492), ('sea', 1493), ('faa', 1494), ('wasting', 1495), ('eventually', 1496), ('x', 1497), ('sna', 1498), ('flightations', 1499), ('brother', 1500), ('recent', 1501), ('legroom', 1502), ('accept', 1503), ('based', 1504), ('additional', 1505), ('fan', 1506), ('apply', 1507), ('event', 1508), ('sister', 1509), ('fit', 1510), ('woman', 1511), ('alternate', 1512), ('honest', 1513), ('cab', 1514), ('dept', 1515), ('perhaps', 1516), ('quickly', 1517), ('sort', 1518), ('suggestions', 1519), ('snacks', 1520), ('complain', 1521), ('1k', 1522), ('placed', 1523), ('advance', 1524), ('jan', 1525), ('transferred', 1526), ('log', 1527), ('sell', 1528), ('faster', 1529), ('amount', 1530), ('specific', 1531), ('slc', 1532), ('disappointing', 1533), ('type', 1534), ('laptop', 1535), ('ticketed', 1536), ('confused', 1537), ('interview', 1538), ('officially', 1539), ('premier', 1540), ('27', 1541), ('break', 1542), ('higher', 1543), ('biz', 1544), ('dead', 1545), ('song', 1546), ('state', 1547), ('professional', 1548), ('felt', 1549), ('contacting', 1550), ('appears', 1551), ('absurd', 1552), ('outstanding', 1553), ('model', 1554), ('mdw', 1555), ('battles', 1556), ('heart', 1557), ('low', 1558), ('double', 1559), ('cheaper', 1560), ('located', 1561), ('ahead', 1562), ('realize', 1563), ('paper', 1564), ('finding', 1565), ('skies', 1566), ('pax', 1567), ('est', 1568), ('b4', 1569), ('nuts', 1570), ('york', 1571), ('allowing', 1572), ('directly', 1573), ('disaster', 1574), ('bird', 1575), ('fight', 1576), ('large', 1577), ('february', 1578), ('figured', 1579), ('coach', 1580), ('including', 1581), ('lesson', 1582), ('looked', 1583), ('returning', 1584), ('admirals', 1585), ('dmed', 1586), ('whenever', 1587), ('carrieunderwood', 1588), ('experiences', 1589), ('head', 1590), ('possibly', 1591), ('2x', 1592), ('jblu', 1593), ('frozen', 1594), ('clean', 1595), ('responded', 1596), ('stopped', 1597), ('notified', 1598), ('afford', 1599), ('promo', 1600), ('140', 1601), ('imagine', 1602), ('st.', 1603), ('easily', 1604), ('six', 1605), ('nearly', 1606), ('passed', 1607), ('yyz', 1608), ('current', 1609), ('journal', 1610), ('annoying', 1611), ('pr', 1612), ('unavailable', 1613), ('cities', 1614), ('weight', 1615), ('workers', 1616), ('whose', 1617), ('cle', 1618), ('elite', 1619), ('certainly', 1620), ('brand', 1621), ('school', 1622), ('’ve', 1623), ('pvd', 1624), ('400', 1625), ('departs', 1626), ('mother', 1627), ('play', 1628), ('bringing', 1629), ('deserves', 1630), ('wet', 1631), ('suit', 1632), ('earn', 1633), ('speed', 1634), ('posted', 1635), ('fuel', 1636), ('sjc', 1637), ('death', 1638), ('above', 1639), ('brought', 1640), ('juan', 1641), ('ual', 1642), ('sun', 1643), ('traveled', 1644), ('bonus', 1645), ('32', 1646), ('private', 1647), ('hawaii', 1648), ('public', 1649), ('hundreds', 1650), ('opportunity', 1651), ('insane', 1652), ('flyingitforward', 1653), ('reimburse', 1654), ('deplane', 1655), ('shitty', 1656), ('costs', 1657), ('normal', 1658), ('hands', 1659), ('disgusting', 1660), ('apologize', 1661), ('aware', 1662), ('😔', 1663), ('fam', 1664), ('heading', 1665), ('delaying', 1666), ('winners', 1667), ('700', 1668), ('drinks', 1669), ('hotels', 1670), ('thnx', 1671), ('nor', 1672), ('connected', 1673), ('dinner', 1674), ('sale', 1675), ('lame', 1676), ('dia', 1677), ('father', 1678), ('locator', 1679), ('knowing', 1680), ('lets', 1681), ('—', 1682), ('chi', 1683), ('retrieve', 1684), ('shout', 1685), ('reroute', 1686), ('originally', 1687), ('often', 1688), ('pbi', 1689), ('red', 1690), ('embarrassing', 1691), ('honestly', 1692), ('step', 1693), ('explained', 1694), ('won', 1695), ('4th', 1696), ('inconvenient', 1697), ('tpa', 1698), ('aus', 1699), ('cell', 1700), ('canned', 1701), ('gotten', 1702), ('surprised', 1703), ('august', 1704), ('meant', 1705), ('nothappy', 1706), ('sounds', 1707), ('announcement', 1708), ('taxi', 1709), ('quality', 1710), ('ladygaga', 1711), ('hearing', 1712), ('somebody', 1713), ('incredible', 1714), ('nah', 1715), ('memphis', 1716), ('engine', 1717), ('passes', 1718), ('offers', 1719), ('wsj', 1720), ('messages', 1721), ('exec', 1722), ('plat', 1723), ('cheers', 1724), ('screen', 1725), ('east', 1726), ('feels', 1727), ('ft', 1728), ('dulles', 1729), ('guarantee', 1730), ('mci', 1731), ('effort', 1732), ('pts', 1733), ('truck', 1734), ('states', 1735), ('sharing', 1736), ('fort', 1737), ('lauderdale', 1738), ('couple', 1739), ('method', 1740), ('flightly', 1741), ('rocks', 1742), ('upcoming', 1743), ('enter', 1744), ('nj', 1745), ('showed', 1746), ('peanuts', 1747), ('minor', 1748), ('pit', 1749), ('side', 1750), ('starting', 1751), ('inside', 1752), ('alert', 1753), ('switched', 1754), ('mechanics', 1755), ('west', 1756), ('mke', 1757), ('snack', 1758), ('thoughts', 1759), ('degrees', 1760), ('handling', 1761), ('cares', 1762), ('elevate', 1763), ('ran', 1764), ('heathrow', 1765), ('logan', 1766), ('living', 1767), ('girl', 1768), ('payment', 1769), ('reported', 1770), ('comes', 1771), ('paperwork', 1772), ('<', 1773), ('outlets', 1774), ('items', 1775), ('switching', 1776), ('rewards', 1777), ('ill', 1778), ('stewardess', 1779), ('mile', 1780), ('funds', 1781), ('push', 1782), ('bummer', 1783), ('obviously', 1784), ('disgusted', 1785), ('😁', 1786), ('3hrs', 1787), ('legs', 1788), ('cup', 1789), ('understood', 1790), ('properly', 1791), ('ha', 1792), ('picture', 1793), ('flytpa', 1794), ('yea', 1795), ('til', 1796), ('carrier', 1797), ('wants', 1798), ('track', 1799), ('fliers', 1800), ('unitedsucks', 1801), ('seeing', 1802), ('limit', 1803), ('computers', 1804), ('badly', 1805), ('hot', 1806), ('errors', 1807), ('expecting', 1808), ('moment', 1809), ('’re', 1810), ('hit', 1811), ('flyfi', 1812), ('a320', 1813), ('icing', 1814), ('contest', 1815), ('h', 1816), ('reimbursed', 1817), ('military', 1818), ('epicfail', 1819), ('meals', 1820), ('value', 1821), ('respect', 1822), ('42', 1823), ('although', 1824), ('cowboycerrone', 1825), ('names', 1826), ('g', 1827), ('somehow', 1828), ('reward', 1829), ('local', 1830), ('promotion', 1831), ('24hrs', 1832), ('cancun', 1833), ('❄', 1834), ('cleveland', 1835), ('listen', 1836), ('strand', 1837), ('laguardia', 1838), ('dad', 1839), ('earned', 1840), ('paris', 1841), ('hence', 1842), ('basically', 1843), ('discuss', 1844), ('manager', 1845), ('acct', 1846), ('difficult', 1847), ('deplaned', 1848), ('golf', 1849), ('stand', 1850), ('continues', 1851), ('midway', 1852), ('nasty', 1853), ('coast', 1854), ('affected', 1855), ('mon', 1856), ('blame', 1857), ('ya', 1858), ('sunny', 1859), ('california', 1860), ('aviation', 1861), ('hook', 1862), ('personnel', 1863), ('beach', 1864), ('certificate', 1865), ('marketing', 1866), ('walk', 1867), ('ipad', 1868), ('simply', 1869), ('rerouted', 1870), ('size', 1871), ('pending', 1872), ('loyalty', 1873), ('anniversary', 1874), ('discount', 1875), ('piece', 1876), ('shuttle', 1877), ('yay', 1878), ('uncomfortable', 1879), ('poorly', 1880), ('dirty', 1881), ('va', 1882), ('partner', 1883), ('fraud', 1884), ('false', 1885), ('unreal', 1886), ('tweeted', 1887), ('2day', 1888), ('lousy', 1889), ('thankyou', 1890), ('prepared', 1891), ('palm', 1892), ('cnn', 1893), ('abq', 1894), ('interest', 1895), ('disgrace', 1896), ('fails', 1897), ('stated', 1898), ('accepted', 1899), ('notifications', 1900), ('ah', 1901), ('floor', 1902), ('bin', 1903), ('pa', 1904), ('named', 1905), ('routing', 1906), ('notcool', 1907), ('apple', 1908), ('stick', 1909), ('dollar', 1910), ('fra', 1911), ('ctl', 1912), ('steps', 1913), ('boyfriend', 1914), ('rooms', 1915), ('rapid', 1916), ('million', 1917), ('sky', 1918), ('frustration', 1919), ('zone', 1920), ('roundtrip', 1921), ('generic', 1922), ('ripoff', 1923), ('summer', 1924), ('compassion', 1925), ('conference', 1926), ('cleaned', 1927), ('accurate', 1928), ('reagan', 1929), ('face', 1930), ('voice', 1931), ('include', 1932), ('5hrs', 1933), ('responses', 1934), ('whatever', 1935), ('nights', 1936), ('playing', 1937), ('departed', 1938), ('advice', 1939), ('^kp', 1940), ('belt', 1941), ('poorservice', 1942), ('francisco', 1943), ('outbound', 1944), ('😕', 1945), ('expedia', 1946), ('queue', 1947), ('plastic', 1948), ('💙', 1949), ('sound', 1950), ('yrs', 1951), ('36', 1952), ('according', 1953), (';-)', 1954), ('😤', 1955), ('ourselves', 1956), ('ind', 1957), ('pissed', 1958), ('loses', 1959), ('write', 1960), ('putting', 1961), ('profits', 1962), ('virginatlantic', 1963), ('26', 1964), ('management', 1965), ('hunt', 1966), ('claims', 1967), (':-(', 1968), ('repair', 1969), ('buying', 1970), ('position', 1971), ('carriers', 1972), ('general', 1973), ('medical', 1974), ('surgery', 1975), ('house', 1976), ('tx', 1977), ('contacted', 1978), ('737', 1979), ('approach', 1980), ('suggest', 1981), ('student', 1982), ('backup', 1983), ('existent', 1984), ('turns', 1985), ('stinks', 1986), ('announce', 1987), ('meetings', 1988), ('usual', 1989), ('timely', 1990), ('causing', 1991), ('apart', 1992), ('lucky', 1993), ('forcing', 1994), ('charges', 1995), ('ios', 1996), ('dream', 1997), ('rows', 1998), ('exact', 1999), ('aadvantage', 2000), ('unless', 2001), ('immediately', 2002), ('slept', 2003), ('mid', 2004), ('positive', 2005), ('central', 2006), ('extended', 2007), ('feet', 2008), ('exceptional', 2009), ('automatically', 2010), ('rescheduling', 2011), (\"can't\", 2012), ('black', 2013), ('history', 2014), ('cuz', 2015), ('ignored', 2016), ('fabulous', 2017), ('💗', 2018), ('english', 2019), ('saving', 2020), ('smooth', 2021), ('pushed', 2022), ('success', 2023), ('hiring', 2024), ('cheap', 2025), ('star', 2026), ('age', 2027), ('parents', 2028), ('gg8929', 2029), ('wheelchair', 2030), ('noticed', 2031), ('seconds', 2032), ('inbound', 2033), ('chat', 2034), ('initial', 2035), ('listed', 2036), ('begin', 2037), ('miserable', 2038), ('sorted', 2039), ('agree', 2040), ('unitedfail', 2041), ('flightation', 2042), ('reimbursement', 2043), ('waive', 2044), ('doubt', 2045), ('ps', 2046), ('correctly', 2047), ('among', 2048), ('besides', 2049), ('rough', 2050), ('chicken', 2051), ('hnl', 2052), ('mistakes', 2053), ('loss', 2054), ('significant', 2055), ('👌', 2056), ('served', 2057), ('heads', 2058), ('insult', 2059), ('disney', 2060), ('practice', 2061), ('pair', 2062), ('typical', 2063), ('lands', 2064), ('cont', 2065), ('forget', 2066), ('promises', 2067), ('stroller', 2068), ('ba', 2069), ('regular', 2070), ('upon', 2071), ('daughters', 2072), ('malfunction', 2073), ('lap', 2074), ('overweight', 2075), ('shoes', 2076), ('toddler', 2077), ('incident', 2078), ('gear', 2079), ('grand', 2080), ('notify', 2081), ('disappeared', 2082), ('towards', 2083), ('spoken', 2084), ('fly2ohare', 2085), ('replying', 2086), ('constant', 2087), ('existing', 2088), ('operated', 2089), ('replacing', 2090), ('van', 2091), ('origin', 2092), ('refunds', 2093), ('kicked', 2094), ('easier', 2095), ('planet', 2096), ('mosaic', 2097), ('wth', 2098), ('inspired', 2099), ('women', 2100), ('ric', 2101), ('signed', 2102), ('☺', 2103), ('reserved', 2104), ('3x', 2105), ('spiritairlines', 2106), ('david', 2107), ('managed', 2108), ('designed', 2109), ('comp', 2110), ('commercial', 2111), ('fire', 2112), ('breakfast', 2113), ('review', 2114), ('police', 2115), ('lit', 2116), ('expires', 2117), ('garbage', 2118), ('barely', 2119), ('reading', 2120), ('exchange', 2121), ('snowing', 2122), ('eta', 2123), ('😍', 2124), ('sigh', 2125), ('australia', 2126), ('pic', 2127), ('fat', 2128), ('matters', 2129), ('arrangements', 2130), ('u.', 2131), ('remove', 2132), ('belongings', 2133), ('livery', 2134), ('field', 2135), ('result', 2136), ('article', 2137), ('beer', 2138), ('costing', 2139), ('flat', 2140), ('ton', 2141), ('june', 2142), ('719', 2143), ('staralliance', 2144), ('scavenger', 2145), ('operations', 2146), ('gross', 2147), ('spot', 2148), ('itineraries', 2149), ('statement', 2150), ('concerns', 2151), ('serv', 2152), ('39', 2153), ('partners', 2154), ('interesting', 2155), ('machine', 2156), ('results', 2157), ('okc', 2158), ('extend', 2159), ('document', 2160), ('prior', 2161), ('included', 2162), ('sleeping', 2163), ('excuses', 2164), ('disconnects', 2165), ('separate', 2166), ('learned', 2167), ('dtw', 2168), ('assignment', 2169), ('walked', 2170), ('{', 2171), ('}', 2172), ('finish', 2173), ('manage', 2174), ('kiosks', 2175), ('48', 2176), ('costa', 2177), ('rica', 2178), ('balance', 2179), ('stressful', 2180), ('jax', 2181), ('departures', 2182), ('released', 2183), ('comfortable', 2184), ('coat', 2185), (\"y'all\", 2186), ('grounded', 2187), ('perfect', 2188), ('kinda', 2189), ('shocked', 2190), ('neither', 2191), ('ahold', 2192), ('decided', 2193), ('boards', 2194), ('2014', 2195), ('lufthansa', 2196), ('louis', 2197), ('brutal', 2198), ('huh', 2199), ('seated', 2200), ('fell', 2201), ('luckily', 2202), ('evaluate', 2203), ('hou', 2204), ('433', 2205), ('quite', 2206), ('consistent', 2207), ('anytime', 2208), ('december', 2209), ('corporation', 2210), ('reminder', 2211), ('cali', 2212), ('cards', 2213), ('loving', 2214), ('600', 2215), ('join', 2216), ('desperately', 2217), ('decision', 2218), ('rates', 2219), ('canada', 2220), ('wrote', 2221), ('chaos', 2222), ('express', 2223), ('elsewhere', 2224), ('bogota', 2225), ('guitar', 2226), ('penalty', 2227), ('attend', 2228), ('merge', 2229), ('flightst', 2230), ('747', 2231), ('official', 2232), ('shopping', 2233), ('portland', 2234), ('useful', 2235), ('en', 2236), ('lifetime', 2237), ('firstclass', 2238), ('rent', 2239), ('fresh', 2240), ('abc', 2241), ('forgetting', 2242), ('fall', 2243), ('understandable', 2244), ('md80', 2245), ('europe', 2246), ('dming', 2247), ('dealt', 2248), ('gf', 2249), ('jump', 2250), ('misplaced', 2251), ('tech', 2252), ('written', 2253), ('software', 2254), ('cart', 2255), ('whether', 2256), ('young', 2257), ('130', 2258), ('redcarpet', 2259), ('tues', 2260), ('bump', 2261), ('meet', 2262), ('usairwayssucks', 2263), ('cash', 2264), ('location', 2265), ('communicate', 2266), ('salt', 2267), ('kid', 2268), ('unfriendly', 2269), ('hates', 2270), ('fb', 2271), ('flier', 2272), ('technical', 2273), ('deserve', 2274), ('concerned', 2275), ('bullshit', 2276), ('horrendous', 2277), ('biggest', 2278), ('annoyed', 2279), ('bush', 2280), ('college', 2281), ('turbulence', 2282), ('actions', 2283), ('transaction', 2284), ('valid', 2285), ('fi', 2286), ('understaffing', 2287), ('band', 2288), ('l', 2289), ('canadian', 2290), ('complimentary', 2291), ('accommodations', 2292), ('term', 2293), ('lower', 2294), ('bucks', 2295), ('starts', 2296), ('common', 2297), ('airbus', 2298), ('unfriendlyskies', 2299), ('revenue', 2300), ('raleigh', 2301), ('accepting', 2302), ('ignoring', 2303), ('diverted', 2304), ('msy', 2305), ('john', 2306), ('wallet', 2307), ('inexcusable', 2308), ('against', 2309), ('alot', 2310), ('beginning', 2311), ('uh', 2312), ('blah', 2313), ('pulling', 2314), ('travelling', 2315), ('11:30', 2316), ('alright', 2317), ('👠', 2318), ('msp', 2319), ('st', 2320), ('nexus', 2321), ('dulles_airport', 2322), ('shortly', 2323), ('places', 2324), ('sincerely', 2325), ('lead', 2326), ('toward', 2327), ('humor', 2328), ('filmcrew', 2329), ('degree', 2330), ('fc', 2331), ('reserve', 2332), ('facebook', 2333), ('777', 2334), ('proper', 2335), ('mem', 2336), ('sarcasm', 2337), ('injury', 2338), ('honeymoon', 2339), ('cleared', 2340), ('freaking', 2341), ('5th', 2342), ('present', 2343), ('efficiency', 2344), ('unreliable', 2345), ('prefer', 2346), ('recently', 2347), ('stat', 2348), ('cxl', 2349), ('shut', 2350), ('grr', 2351), ('pricing', 2352), ('courteous', 2353), ('logged', 2354), ('😥', 2355), ('selected', 2356), ('americanview', 2357), ('period', 2358), ('downgrade', 2359), ('style', 2360), ('holder', 2361), ('nantucket', 2362), ('zurich', 2363), ('extreme', 2364), ('dancing', 2365), ('speedy', 2366), ('80', 2367), ('harder', 2368), ('drove', 2369), ('disappoint', 2370), ('roads', 2371), ('timed', 2372), ('b737', 2373), ('perks', 2374), ('carrying', 2375), ('😎', 2376), ('terribly', 2377), ('pleasure', 2378), ('compensated', 2379), ('abysmal', 2380), ('beats', 2381), ('bunch', 2382), ('channels', 2383), ('basic', 2384), ('indeed', 2385), ('ase', 2386), ('tail', 2387), ('attention', 2388), ('holders', 2389), ('inadequate', 2390), ('3056', 2391), ('touchdown', 2392), ('prob', 2393), ('requires', 2394), ('extension', 2395), ('continued', 2396), ('camera', 2397), ('feed', 2398), ('consistently', 2399), ('painful', 2400), ('gift', 2401), ('bae', 2402), ('download', 2403), ('ep', 2404), ('brilliant', 2405), ('replacement', 2406), ('button', 2407), ('sight', 2408), ('exception', 2409), ('rain', 2410), ('🎉', 2411), ('hv', 2412), ('79', 2413), ('white', 2414), ('oscar', 2415), ('performance', 2416), ('throughout', 2417), ('icy', 2418), ('ass', 2419), ('happily', 2420), ('annricord', 2421), ('stt', 2422), ('hooked', 2423), ('699', 2424), ('birds', 2425), ('map', 2426), ('surprise', 2427), ('vile', 2428), ('guide', 2429), ('needing', 2430), ('cun', 2431), ('bay', 2432), ('weird', 2433), ('desks', 2434), ('cry', 2435), ('limited', 2436), ('😀', 2437), ('cvg', 2438), ('10:30', 2439), ('dissatisfied', 2440), ('bereavement', 2441), ('causes', 2442), ('thankfully', 2443), ('merged', 2444), ('crashed', 2445), ('faith', 2446), ('companies', 2447), ('shameful', 2448), ('advertise', 2449), ('😜', 2450), ('767', 2451), ('coupon', 2452), ('trained', 2453), ('cx', 2454), ('frankfurt', 2455), ('blog', 2456), ('love_dragonss', 2457), ('waterbury', 2458), ('republican', 2459), ('awards', 2460), ('hostage', 2461), ('crash', 2462), ('^jh', 2463), ('stupid', 2464), ('locations', 2465), ('orleans', 2466), ('submit', 2467), ('4hrs', 2468), ('spanish', 2469), ('recommend', 2470), ('haul', 2471), ('birmingham', 2472), ('ripped', 2473), ('worried', 2474), ('loading', 2475), ('lied', 2476), ('asleep', 2477), ('responsible', 2478), ('7300', 2479), ('aspen', 2480), ('clients', 2481), ('industry', 2482), ('profit', 2483), ('remains', 2484), ('everytime', 2485), ('eye', 2486), ('outsource', 2487), ('discounts', 2488), ('relationship', 2489), ('jose', 2490), ('earth', 2491), ('10,000', 2492), ('wide', 2493), ('reset', 2494), ('male', 2495), ('green', 2496), ('credits', 2497), ('solve', 2498), ('omaha', 2499), ('sits', 2500), ('valuable', 2501), ('updating', 2502), ('forces', 2503), ('accommodating', 2504), ('accounts', 2505), ('lisa', 2506), ('j', 2507), ('stolen', 2508), ('progress', 2509), ('removal', 2510), ('cessna', 2511), ('warning', 2512), ('goodwill', 2513), ('karen', 2514), ('cabo', 2515), ('executive', 2516), ('below', 2517), ('views', 2518), ('lazy', 2519), ('kill', 2520), ('triflight', 2521), ('assume', 2522), ('mark', 2523), ('curious', 2524), ('paypal', 2525), ('shoutout', 2526), ('aka', 2527), ('october', 2528), ('reasonable', 2529), ('national', 2530), ('metal', 2531), ('bill', 2532), ('ring', 2533), ('3.5', 2534), ('pref', 2535), ('incentive', 2536), ('fixing', 2537), ('puerto', 2538), ('purpose', 2539), ('chase', 2540), (':d', 2541), ('efforts', 2542), ('light', 2543), ('legal', 2544), ('pretzels', 2545), ('blaming', 2546), ('dear', 2547), ('journey', 2548), ('scam', 2549), ('capt', 2550), ('whoever', 2551), ('stood', 2552), ('ogg', 2553), ('selfie', 2554), (\"int'l\", 2555), ('eyes', 2556), ('claimed', 2557), ('136', 2558), ('carryon', 2559), ('prevent', 2560), ('jac', 2561), ('ads', 2562), ('passport', 2563), ('dying', 2564), ('gain', 2565), ('aircanada', 2566), ('comment', 2567), ('tkt', 2568), ('180', 2569), ('fav', 2570), ('click', 2571), ('tight', 2572), ('ohio', 2573), ('chairs', 2574), ('scan', 2575), ('trapped', 2576), ('inches', 2577), ('alliance', 2578), ('neptune', 2579), ('organization', 2580), ('freq', 2581), ('operating', 2582), ('visa', 2583), ('csr', 2584), ('negotiate', 2585), ('furious', 2586), ('im', 2587), ('appear', 2588), ('backs', 2589), ('massive', 2590), ('transportation', 2591), ('mex', 2592), ('north', 2593), ('baltimore', 2594), ('availability', 2595), ('+1', 2596), ('yall', 2597), ('key', 2598), ('confusion', 2599), ('heck', 2600), ('pos', 2601), ('ladies', 2602), ('bluemanity', 2603), ('20min', 2604), ('maint', 2605), ('requesting', 2606), ('😳', 2607), ('volunteer', 2608), ('similar', 2609), ('1000', 2610), ('cousin', 2611), ('operate', 2612), ('dest', 2613), ('throwing', 2614), ('worstairlineever', 2615), ('roc', 2616), ('january', 2617), ('enroute', 2618), ('tire', 2619), ('fiasco', 2620), ('⭐', 2621), ('movie', 2622), ('alive', 2623), ('wheel', 2624), ('😐', 2625), ('jvmchat', 2626), ('|', 2627), ('tea', 2628), ('grandma', 2629), ('ten', 2630), ('shannon', 2631), ('rarely', 2632), ('hungry', 2633), ('413', 2634), ('enjoyed', 2635), ('version', 2636), ('250', 2637), ('sdf', 2638), ('gladly', 2639), ('haiti', 2640), ('required', 2641), ('occurred', 2642), ('🙅', 2643), ('adopting', 2644), ('orf', 2645), ('shown', 2646), ('hahaha', 2647), ('dumb', 2648), ('txt', 2649), ('dpt', 2650), ('notch', 2651), ('packed', 2652), ('gogo', 2653), ('boat', 2654), ('72', 2655), ('understanding', 2656), ('b767', 2657), ('circumstances', 2658), ('°', 2659), ('strangers', 2660), ('rented', 2661), ('login', 2662), ('esp', 2663), ('standard', 2664), ('accidentally', 2665), ('announcements', 2666), ('bottles', 2667), ('8aug', 2668), ('assaulted', 2669), ('rights', 2670), ('continuing', 2671), ('29', 2672), ('lmao', 2673), ('september', 2674), ('southwestair-', 2675), ('bhm', 2676), ('ohare', 2677), ('armrest', 2678), ('ktn', 2679), ('entering', 2680), ('device', 2681), ('debacle', 2682), ('630', 2683), ('crying', 2684), ('grateful', 2685), ('severely', 2686), ('stressed', 2687), ('hub', 2688), ('oops', 2689), ('flts', 2690), ('played', 2691), ('customs', 2692), ('lake', 2693), ('unnecessary', 2694), ('integration', 2695), ('thin', 2696), ('nvr', 2697), ('con', 2698), ('unexpected', 2699), ('757', 2700), ('p', 2701), ('promising', 2702), ('truth', 2703), ('continental', 2704), ('representatives', 2705), ('theworst', 2706), ('cookies', 2707), ('hardly', 2708), ('attached', 2709), ('sc', 2710), ('winning', 2711), ('spread', 2712), ('locate', 2713), ('partnership', 2714), ('spare', 2715), ('spam', 2716), ('30min', 2717), ('strong', 2718), ('classy', 2719), ('flightaware', 2720), ('families', 2721), ('pillows', 2722), ('race', 2723), ('nowhere', 2724), ('competition', 2725), ('addressed', 2726), ('moments', 2727), ('negligence', 2728), ('stellar', 2729), ('dark', 2730), ('rno', 2731), ('segments', 2732), ('particularly', 2733), ('bestairline', 2734), ('survey', 2735), ('driver', 2736), ('yest', 2737), ('disregard', 2738), ('photos', 2739), ('kindle', 2740), ('popular', 2741), ('logistics', 2742), ('themselves', 2743), ('aww', 2744), ('reports', 2745), ('deep', 2746), ('vx', 2747), ('die', 2748), ('wine', 2749), ('aruba', 2750), ('require', 2751), ('equally', 2752), ('owe', 2753), ('bothered', 2754), ('sadly', 2755), ('woo', 2756), ('suggested', 2757), ('rant', 2758), ('accountability', 2759), ('threatened', 2760), ('charleston', 2761), ('fave', 2762), ('benefits', 2763), ('everywhere', 2764), ('overbook', 2765), ('budget', 2766), ('fits', 2767), ('opening', 2768), ('5350', 2769), ('sxm', 2770), ('nocustomerservice', 2771), ('color', 2772), ('misleading', 2773), ('reasons', 2774), ('manner', 2775), ('hilarious', 2776), ('servicefail', 2777), (\"c'mon\", 2778), ('😘', 2779), ('seeks', 2780), ('beat', 2781), ('02', 2782), ('hpn', 2783), ('picking', 2784), ('dry', 2785), ('assured', 2786), ('680', 2787), ('waiver', 2788), ('expire', 2789), ('overall', 2790), ('lowered', 2791), ('norfolk', 2792), ('6:15', 2793), ('rethinking', 2794), ('toilet', 2795), ('formal', 2796), ('424', 2797), ('cake', 2798), ('notes', 2799), ('century', 2800), ('jacksonville', 2801), ('explorer', 2802), ('selection', 2803), ('suggestion', 2804), ('redeemed', 2805), ('worstcustomerservice', 2806), ('snowboard', 2807), ('ability', 2808), ('promotions', 2809), ('teach', 2810), ('reserv', 2811), ('5:30', 2812), ('hassle', 2813), ('yourselves', 2814), ('oneworld', 2815), ('disconnect', 2816), ('singapore', 2817), ('refuses', 2818), ('operator', 2819), ('ontime', 2820), ('halfway', 2821), ('sec', 2822), ('turning', 2823), ('transport', 2824), ('nolove', 2825), ('reaching', 2826), ('china', 2827), ('mission', 2828), ('hitting', 2829), ('heavily', 2830), ('surely', 2831), ('fucked', 2832), ('24th', 2833), ('boss', 2834), ('scheduling', 2835), ('law', 2836), ('definition', 2837), ('directtv', 2838), ('gas', 2839), ('pricey', 2840), ('sees', 2841), ('sept', 2842), ('ins', 2843), ('impact', 2844), ('manually', 2845), ('reminded', 2846), ('nytimes', 2847), ('loosing', 2848), ('create', 2849), ('smiling', 2850), ('bar', 2851), ('dep', 2852), ('costumer', 2853), ('commercials', 2854), ('necessary', 2855), ('ours', 2856), ('credited', 2857), ('recovery', 2858), ('bathroom', 2859), ('brandloveaffair', 2860), ('doors', 2861), ('seven', 2862), ('dl', 2863), ('getaway', 2864), ('int', 2865), ('offices', 2866), ('terrific', 2867), ('fed', 2868), ('serving', 2869), ('duty', 2870), ('refunding', 2871), ('fans', 2872), ('beauty', 2873), ('precheck', 2874), ('boy', 2875), ('conflicting', 2876), ('quicker', 2877), ('operational', 2878), ('closer', 2879), ('facing', 2880), ('👀', 2881), ('1600', 2882), ('savannah', 2883), ('gma', 2884), ('v', 2885), ('😫', 2886), ('estimate', 2887), ('13th', 2888), ('treats', 2889), ('noon', 2890), ('albany', 2891), ('password', 2892), ('bug', 2893), ('network', 2894), ('oak', 2895), ('opened', 2896), ('wind', 2897), ('4x', 2898), ('bound', 2899), ('pocket', 2900), ('eu', 2901), ('conversation', 2902), ('ranked', 2903), ('moms', 2904), ('nasdaq', 2905), ('random', 2906), ('q', 2907), ('custserv', 2908), ('failing', 2909), ('girlfriend', 2910), ('yousuck', 2911), ('oscars2015', 2912), ('servicing', 2913), ('reference', 2914), ('pushing', 2915), ('flies', 2916), ('dobetter', 2917), ('bagage', 2918), ('darn', 2919), ('dropping', 2920), ('confusing', 2921), ('4567', 2922), ('55', 2923), ('deltaassist', 2924), ('magazine', 2925), ('lying', 2926), ('deserved', 2927), ('sticking', 2928), ('💝', 2929), ('forth', 2930), ('signs', 2931), ('dime', 2932), ('bitch', 2933), ('abt', 2934), ('doug', 2935), ('sometime', 2936), ('robotic', 2937), ('closest', 2938), ('hdn', 2939), ('cutting', 2940), ('richard', 2941), ('safari', 2942), ('bankrupt', 2943), ('703', 2944), ('bridge', 2945), ('directed', 2946), ('battery', 2947), ('died', 2948), ('fired', 2949), ('travels', 2950), ('louisville', 2951), ('connector', 2952), ('fear', 2953), ('winterweather', 2954), ('yup', 2955), ('claiming', 2956), ('crashing', 2957), ('constantly', 2958), ('appalled', 2959), ('contract', 2960), ('oma', 2961), ('wi', 2962), ('carseat', 2963), ('praying', 2964), ('define', 2965), ('approve', 2966), ('procedure', 2967), ('guest', 2968), ('hmmm', 2969), ('yelled', 2970), ('prove', 2971), ('cxld', 2972), ('cr', 2973), ('rico', 2974), ('collection', 2975), ('average', 2976), ('texted', 2977), ('quiet', 2978), ('45min', 2979), ('develop', 2980), ('numerous', 2981), ('identical', 2982), ('falling', 2983), ('jh', 2984), ('pulled', 2985), ('search', 2986), ('poorcustomerservice', 2987), ('wearing', 2988), ('content', 2989), ('stress', 2990), ('ups', 2991), ('film', 2992), ('🙌', 2993), ('repeat', 2994), ('puts', 2995), ('elderly', 2996), ('cmon', 2997), ('aqjn4hwnac', 2998), ('gorgeous', 2999), ('🌴', 3000), ('consecutive', 3001), ('relative', 3002), ('property', 3003), ('punta', 3004), ('cana', 3005), ('pittsburgh', 3006), ('videos', 3007), ('lauren', 3008), ('release', 3009), ('perfectomobile', 3010), ('deleted', 3011), ('letsgo', 3012), ('heat', 3013), ('ensure', 3014), ('july', 3015), ('sites', 3016), ('😖', 3017), ('lbs', 3018), ('kc', 3019), (\"ya'll\", 3020), ('concourse', 3021), ('🇬', 3022), ('🇧', 3023), ('parking', 3024), ('11:30pm', 3025), ('odd', 3026), ('proof', 3027), ('💯', 3028), ('globe', 3029), ('admiral', 3030), ('tab', 3031), ('appropriate', 3032), ('yours', 3033), ('velourlive', 3034), ('tablet', 3035), ('ends', 3036), ('😞', 3037), ('t5', 3038), ('calgary', 3039), ('d.c.', 3040), ('belize', 3041), ('robin', 3042), ('rule', 3043), ('u.s.', 3044), ('oakland', 3045), ('park', 3046), ('increased', 3047), ('15th', 3048), ('attempting', 3049), ('inappropriate', 3050), ('merging', 3051), ('sydney', 3052), ('21st', 3053), ('shall', 3054), ('handed', 3055), ('ff', 3056), ('cluster', 3057), ('srvc', 3058), ('technically', 3059), ('checkout', 3060), ('bostonlogan', 3061), ('rudest', 3062), ('nervous', 3063), ('cho', 3064), ('holdup', 3065), ('action', 3066), ('foot', 3067), ('pwm', 3068), ('license', 3069), ('😑', 3070), ('kindness', 3071), ('terry', 3072), ('sabre', 3073), ('remind', 3074), ('streaming', 3075), ('retrain', 3076), ('winds', 3077), ('temperature', 3078), ('scale', 3079), ('lh', 3080), ('self', 3081), ('1800', 3082), (\"don't\", 3083), ('jayvig', 3084), ('sacramento', 3085), ('qantas', 3086), ('gmail.com', 3087), ('safetyfirst', 3088), ('expenses', 3089), ('butt', 3090), ('reliable', 3091), ('lynn', 3092), ('dang', 3093), ('miracle', 3094), ('worker', 3095), ('roger', 3096), ('2hr', 3097), ('~45', 3098), ('transit', 3099), ('45mins', 3100), ('notimpressed', 3101), ('meds', 3102), ('visible', 3103), ('downhill', 3104), ('b.', 3105), ('helps', 3106), ('proceed', 3107), ('oversize', 3108), ('ragandisney', 3109), ('utterly', 3110), ('protect', 3111), ('lb', 3112), ('quit', 3113), ('atrocious', 3114), ('ex', 3115), ('ethiopia', 3116), ('refreshed', 3117), ('regardless', 3118), ('thomas', 3119), ('pain', 3120), ('plague', 3121), ('harbor', 3122), ('nine', 3123), ('precious', 3124), ('erj145', 3125), ('40min', 3126), ('sched', 3127), ('loc', 3128), ('ashamed', 3129), ('letters', 3130), ('crowded', 3131), ('nearby', 3132), ('physically', 3133), ('hrl', 3134), ('promptly', 3135), ('shared', 3136), ('ref', 3137), ('senseless', 3138), ('chose', 3139), ('400er', 3140), ('waivers', 3141), ('flexibility', 3142), ('ad', 3143), ('laugh', 3144), ('expedited', 3145), ('stars', 3146), ('reeks', 3147), ('vomit', 3148), ('toledo', 3149), ('saver', 3150), ('umm', 3151), ('strange', 3152), ('recommended', 3153), ('smallest', 3154), ('risk', 3155), ('screaming', 3156), ('breaks', 3157), ('guitars', 3158), ('boycott', 3159), ('messing', 3160), ('northeast', 3161), ('solved', 3162), ('pet', 3163), ('toronto', 3164), ('personally', 3165), ('waits', 3166), ('data', 3167), ('exhausted', 3168), ('blasting', 3169), ('downtown', 3170), ('gotcha', 3171), ('typo', 3172), ('monitor', 3173), ('telephone', 3174), ('daytona', 3175), ('tryin', 3176), ('2days', 3177), ('btv', 3178), ('musicians', 3179), ('slightly', 3180), ('handlers', 3181), ('choosing', 3182), ('luggage-', 3183), ('notifying', 3184), ('kim', 3185), ('ping', 3186), ('selling', 3187), ('wings', 3188), ('texts', 3189), ('15mins', 3190), ('hopeful', 3191), ('😱', 3192), ('ordered', 3193), ('glass', 3194), ('horror', 3195), ('stories', 3196), ('complained', 3197), ('dot', 3198), ('6:30', 3199), ('jeokoo', 3200), ('gesture', 3201), ('1359', 3202), ('tool', 3203), ('conversations', 3204), ('worstcustomerserviceever', 3205), (\"i've\", 3206), ('clicking', 3207), ('reinstated', 3208), ('columbia', 3209), ('destinations', 3210), ('ftw', 3211), ('exp', 3212), ('island', 3213), ('disgruntled', 3214), ('entertain', 3215), ('kelly', 3216), ('approaching', 3217), ('auh', 3218), ('headphones', 3219), ('collect', 3220), ('registration', 3221), ('sucked', 3222), ('hanger', 3223), ('loose', 3224), ('sean', 3225), ('pjs', 3226), ('stops', 3227), ('blew', 3228), ('woof', 3229), ('airlinegeeks', 3230), ('mech', 3231), ('housing', 3232), ('writing', 3233), ('sentiment', 3234), ('charity', 3235), ('aboard', 3236), ('gracias', 3237), ('faithful', 3238), ('pl', 3239), ('celebrating', 3240), ('miler', 3241), ('committed', 3242), ('disrespectful', 3243), ('awkward', 3244), ('cranky', 3245), ('bro', 3246), ('awaiting', 3247), ('indicated', 3248), ('tb', 3249), ('vice', 3250), ('frustrations', 3251), ('livid', 3252), ('1970', 3253), ('replied', 3254), ('bout', 3255), ('bot', 3256), ('pointless', 3257), ('unaware', 3258), ('involved', 3259), ('solo', 3260), ('clarification', 3261), ('announces', 3262), ('austinairport', 3263), ('dallaslovefield', 3264), ('register', 3265), ('comcast', 3266), ('username', 3267), ('686', 3268), ('599', 3269), ('cats', 3270), ('seatac', 3271), ('dude', 3272), ('caught', 3273), ('troubles', 3274), ('hoo', 3275), ('worthless', 3276), ('forecast', 3277), ('shares', 3278), ('financial', 3279), ('😏', 3280), ('severe', 3281), ('tour', 3282), ('pack', 3283), ('submitting', 3284), ('officer', 3285), ('apparent', 3286), ('fairs', 3287), ('challenging', 3288), ('worstflightever', 3289), ('rescue', 3290), ('allows', 3291), ('lodging', 3292), ('ac', 3293), ('ntrustopen', 3294), ('hashtag', 3295), ('1917', 3296), ('books', 3297), ('screwing', 3298), ('approx', 3299), ('onhold', 3300), ('meaning', 3301), ('40th', 3302), ('cleaning', 3303), ('65', 3304), ('knees', 3305), ('maiden', 3306), ('married', 3307), ('discover', 3308), ('alaska', 3309), ('coke', 3310), ('damage', 3311), ('competent', 3312), ('rudeness', 3313), ('💺', 3314), ('1200', 3315), ('atlantic', 3316), ('boys', 3317), ('shoulder', 3318), ('joanna', 3319), ('enjoyable', 3320), ('stock', 3321), ('renting', 3322), ('describe', 3323), ('presented', 3324), ('duffle', 3325), ('ella', 3326), ('597', 3327), (\"i'm\", 3328), ('rely', 3329), ('troubleshoot', 3330), ('worstairline', 3331), ('alex', 3332), ('basket', 3333), ('catered', 3334), ('nicer', 3335), ('weak', 3336), ('pleased', 3337), ('sexual', 3338), ('assult', 3339), ('kit', 3340), ('lindsey', 3341), ('durango', 3342), ('rudely', 3343), ('confirming', 3344), ('deck', 3345), ('latimes', 3346), ('ua936', 3347), ('pants', 3348), ('layovers', 3349), ('31', 3350), ('imo', 3351), ('653', 3352), ('opposite', 3353), ('arrogant', 3354), ('anticipate', 3355), ('decisions', 3356), ('1:30', 3357), ('plate', 3358), ('xna', 3359), ('eco', 3360), ('ua938', 3361), ('soaked', 3362), ('mentioned', 3363), ('endless', 3364), ('donate', 3365), ('warnings', 3366), ('jobs', 3367), ('box', 3368), ('empathy', 3369), ('nonexistent', 3370), ('hurt', 3371), ('segment', 3372), ('annual', 3373), ('rampers', 3374), ('boise', 3375), ('entitled', 3376), ('balls', 3377), ('talks', 3378), ('getittogether', 3379), ('exist', 3380), ('jms2802', 3381), ('range', 3382), ('accomplished', 3383), ('hide', 3384), ('silly', 3385), ('bull', 3386), ('heaven', 3387), ('skills', 3388), ('italy', 3389), ('recording', 3390), ('apt', 3391), ('flight293', 3392), ('disappear', 3393), ('nature', 3394), ('51', 3395), ('continually', 3396), ('div', 3397), ('agency', 3398), ('responsive', 3399), ('bottom', 3400), ('eastern', 3401), ('clothing', 3402), ('nassau', 3403), ('menu', 3404), ('copy', 3405), ('35,000', 3406), ('terminals', 3407), ('hayes', 3408), ('hangar', 3409), ('kp', 3410), ('inept', 3411), ('5.5', 3412), ('oversold', 3413), ('appreciates', 3414), ('peanut', 3415), ('provider', 3416), ('normally', 3417), ('hug', 3418), ('expense', 3419), ('indianapolis', 3420), ('634', 3421), ('sunshine', 3422), ('patrick', 3423), ('ordeal', 3424), ('59', 3425), ('caring', 3426), ('tick', 3427), ('accordingly', 3428), ('gng', 3429), ('2b', 3430), ('bk', 3431), ('anybody', 3432), ('jacquie', 3433), ('plitt', 3434), ('strike', 3435), ('bummed', 3436), ('hopes', 3437), ('spirit', 3438), ('diverting', 3439), ('900', 3440), ('440', 3441), ('[', 3442), (']', 3443), ('assisting', 3444), ('series', 3445), ('soft', 3446), ('colleague', 3447), ('understaffed', 3448), ('746', 3449), ('detail', 3450), ('^gj', 3451), ('smile', 3452), ('475', 3453), ('jtrexsocial', 3454), ('769', 3455), ('uniform', 3456), ('intercom', 3457), ('quoted', 3458), ('askpaypal', 3459), ('sm', 3460), ('minneapolis', 3461), ('1081', 3462), ('searching', 3463), ('seg', 3464), ('albuquerque', 3465), ('philippines', 3466), ('photography', 3467), ('regards', 3468), ('304', 3469), ('♥', 3470), ('5hr', 3471), ('memories', 3472), ('1230', 3473), ('blamed', 3474), ('angel', 3475), ('giant', 3476), ('30k', 3477), ('grace', 3478), ('taxing', 3479), ('perk', 3480), ('intentionally', 3481), ('irritating', 3482), ('dance', 3483), ('corp', 3484), ('fourth', 3485), ('metro', 3486), ('girls', 3487), ('becoming', 3488), ('woaw', 3489), ('rfxlv1kgdh', 3490), ('november', 3491), ('10hrs', 3492), ('serve', 3493), ('refer', 3494), ('operation', 3495), ('woke', 3496), ('revs', 3497), ('commitment', 3498), ('ph', 3499), ('jacked', 3500), ('confidence', 3501), ('increase', 3502), ('breaking', 3503), ('scott', 3504), ('💕', 3505), ('impression', 3506), ('weekends', 3507), ('mr', 3508), ('highly', 3509), ('robbed', 3510), ('texting', 3511), ('795', 3512), ('greetings', 3513), ('glasgow', 3514), ('attempted', 3515), ('38', 3516), ('restrictions', 3517), ('4ojrsdwpkk', 3518), ('nyc-', 3519), ('digital', 3520), ('backlog', 3521), ('convo', 3522), ('verify', 3523), ('protection', 3524), ('competitor', 3525), ('econ', 3526), ('efficient', 3527), ('solutions', 3528), ('pray', 3529), ('buyer', 3530), ('hoops', 3531), ('ho', 3532), ('drops', 3533), ('fly_nashville', 3534), ('turnaround', 3535), ('vieques', 3536), ('testing', 3537), ('pics', 3538), ('shaking', 3539), ('advertising', 3540), ('anamarketers', 3541), ('thanx', 3542), ('outrageous', 3543), ('men', 3544), ('embarrassed', 3545), ('relax', 3546), ('badges', 3547), ('cuba', 3548), ('contingency', 3549), ('wheels', 3550), ('pressurization', 3551), ('ons', 3552), ('humans', 3553), ('highlight', 3554), ('brandmance', 3555), ('bruh', 3556), ('disrespect', 3557), ('c26', 3558), ('561', 3559), ('created', 3560), ('wld', 3561), ('friendliest', 3562), ('etihad', 3563), ('10pm', 3564), ('p.', 3565), ('friendlyskies', 3566), ('pacific', 3567), ('623', 3568), ('deadhead', 3569), ('1472', 3570), ('aarp', 3571), ('hypocrisy', 3572), ('faces', 3573), ('chair', 3574), ('restore', 3575), ('ny_njairports', 3576), ('gun', 3577), ('uncaring', 3578), ('4840', 3579), ('envoy', 3580), ('coworkers', 3581), ('a+', 3582), ('lavatory', 3583), ('temp', 3584), ('flex', 3585), ('orangecounty', 3586), ('concert', 3587), ('blown', 3588), ('strikes', 3589), ('lunch', 3590), ('billions', 3591), ('westjet', 3592), ('husbands', 3593), ('incorrect', 3594), ('comedy', 3595), ('pregnant', 3596), ('rid', 3597), ('15min', 3598), ('allowance', 3599), ('please;)', 3600), ('jetbae', 3601), ('impressive', 3602), ('2012', 3603), ('lil', 3604), ('headache', 3605), ('iced', 3606), ('639', 3607), ('gary', 3608), ('pens', 3609), ('pen', 3610), ('yell', 3611), ('unveils', 3612), ('syracuse', 3613), ('goal', 3614), ('capital', 3615), ('considered', 3616), ('greedy', 3617), ('bahamas', 3618), ('jets', 3619), ('evoucher', 3620), ('fiancé', 3621), ('problemss', 3622), ('bumping', 3623), ('expectations', 3624), ('messaged', 3625), ('jamaica', 3626), ('likelihood', 3627), ('mouse', 3628), ('notmyfault', 3629), ('vs', 3630), ('touched', 3631), ('nicely', 3632), ('corrected', 3633), ('clubs', 3634), ('finds', 3635), ('westchester', 3636), ('rubber', 3637), ('randomly', 3638), ('4420', 3639), ('otis', 3640), ('interested', 3641), ('invalid', 3642), ('incoming', 3643), ('expiring', 3644), ('comfort', 3645), ('aa2444', 3646), ('dunno', 3647), ('irritated', 3648), ('delhi', 3649), ('centers', 3650), ('hospitality', 3651), ('usatoday', 3652), ('dub', 3653), ('issuing', 3654), ('galley', 3655), ('encountered', 3656), ('atc', 3657), ('trading', 3658), ('jetbluesofly', 3659), ('resolutions', 3660), ('sauce', 3661), ('antonio', 3662), ('soul', 3663), ('illegal', 3664), ('understatement', 3665), ('💔', 3666), ('🇺', 3667), ('🇸', 3668), ('🎀', 3669), ('application', 3670), ('435', 3671), ('750', 3672), ('jacket', 3673), ('google', 3674), ('comments', 3675), ('owner', 3676), ('😻', 3677), ('chill', 3678), ('project', 3679), ('hop', 3680), ('compared', 3681), ('eyw', 3682), ('sooo', 3683), ('b6', 3684), ('30th', 3685), ('sympathy', 3686), ('christmas', 3687), ('gr8', 3688), ('sensitive', 3689), ('complicated', 3690), ('sayin', 3691), ('terribleservice', 3692), ('403', 3693), ('428', 3694), ('inconvenienced', 3695), ('flylaxairport', 3696), ('err', 3697), ('bottle', 3698), ('section', 3699), ('clarify', 3700), ('fran', 3701), ('vincenzolandino', 3702), ('152', 3703), ('timing', 3704), ('resolving', 3705), ('buddy', 3706), ('milan', 3707), ('thus', 3708), ('guidelines', 3709), ('thurs', 3710), ('approved', 3711), ('unload', 3712), ('goin', 3713), ('jane', 3714), ('kick', 3715), ('epic', 3716), ('dial', 3717), ('logic', 3718), ('pst', 3719), ('practical', 3720), ('a1', 3721), ('intention', 3722), ('kicking', 3723), ('4322', 3724), ('enjoying', 3725), ('hubby', 3726), ('precipitation', 3727), ('scared', 3728), ('forms', 3729), ('preboard', 3730), ('hats', 3731), ('compliment', 3732), ('replace', 3733), ('sunset', 3734), ('manners', 3735), ('30mins', 3736), ('4251', 3737), ('c.', 3738), ('honey', 3739), ('fortunately', 3740), ('thinks', 3741), ('b11', 3742), ('entirely', 3743), ('santa', 3744), ('partial', 3745), ('parker', 3746), ('barbados', 3747), ('nothin', 3748), ('68', 3749), ('loves', 3750), ('derrick', 3751), ('bussey', 3752), ('honoring', 3753), ('ellahenderson', 3754), ('individual', 3755), ('kiosk', 3756), ('6th', 3757), ('orig', 3758), ('admit', 3759), ('irresponsible', 3760), ('pile', 3761), ('tucson', 3762), ('rectify', 3763), ('responds', 3764), ('strategy', 3765), ('joined', 3766), ('sometimes', 3767), ('inch', 3768), ('ideas', 3769), ('ship', 3770), ('tonite', 3771), ('design', 3772), ('dividends', 3773), ('untz', 3774), ('dozen', 3775), ('tnx', 3776), ('odds', 3777), ('skiing', 3778), ('ivr', 3779), ('passing', 3780), ('greenville', 3781), ('comped', 3782), ('madrid', 3783), ('suspect', 3784), ('beamske', 3785), ('marks', 3786), ('yourself', 3787), ('upgrading', 3788), ('table', 3789), ('69', 3790), ('continuous', 3791), ('tray', 3792), ('sounded', 3793), ('urgently', 3794), ('mvp', 3795), ('tuned', 3796), ('0016', 3797), ('blatant', 3798), ('operators', 3799), ('brothers', 3800), ('lord', 3801), ('120', 3802), ('screens', 3803), ('rip', 3804), ('wks', 3805), ('functioning', 3806), ('~', 3807), ('shouldhaveflowndelta', 3808), ('luvswa', 3809), ('rocked', 3810), ('coincidence', 3811), ('springs', 3812), ('phxskyharbor', 3813), ('slapintheface', 3814), ('pros', 3815), ('emailing', 3816), ('hardworking', 3817), ('resched', 3818), ('cherry', 3819), ('waivethefee', 3820), ('secure', 3821), ('99', 3822), ('8:30', 3823), ('guests', 3824), ('dislike', 3825), ('walking', 3826), ('roasted', 3827), ('787', 3828), ('finger', 3829), ('lovejetblue', 3830), ('crisis', 3831), ('slip', 3832), ('accident', 3833), ('leading', 3834), ('situations', 3835), ('bins', 3836), ('hero', 3837), ('happier', 3838), ('sjo', 3839), ('recourse', 3840), ('556', 3841), ('magic', 3842), ('exclusively', 3843), ('midland', 3844), ('em', 3845), ('jumped', 3846), ('evry', 3847), ('4435', 3848), ('hugely', 3849), ('03', 3850), ('🔵', 3851), ('radio', 3852), ('mostly', 3853), ('mood', 3854), ('rumors', 3855), ('attitudes', 3856), ('aside', 3857), ('gracious', 3858), ('billing', 3859), ('cycles', 3860), ('shirts', 3861), ('checkpoint', 3862), ('professorpaul15', 3863), ('nbc', 3864), ('b1', 3865), ('idiot', 3866), ('coworker', 3867), ('goodnight', 3868), ('youareonyourown', 3869), ('formally', 3870), ('handler', 3871), ('472', 3872), ('wmcactionnews5', 3873), ('unhappycustomer', 3874), ('1300', 3875), ('stunned', 3876), ('hartford', 3877), ('yards', 3878), ('skis', 3879), ('sop', 3880), ('inclement', 3881), ('born', 3882), ('cushions', 3883), ('1388', 3884), ('5:15', 3885), ('lpalumbo', 3886), ('g.', 3887), ('yearly', 3888), ('415', 3889), ('dispute', 3890), ('opens', 3891), ('airnzusa', 3892), ('lodge', 3893), ('nocrew', 3894), ('3.10.0', 3895), ('1:05', 3896), ('bora', 3897), ('sanfrancisco', 3898), ('aa953', 3899), ('discrimination', 3900), ('1625', 3901), ('diapers', 3902), ('finest', 3903), ('earthquake', 3904), ('masters', 3905), ('smf', 3906), ('verbal', 3907), ('carried', 3908), ('liable', 3909), ('nonsense', 3910), ('moodlighting', 3911), ('inform', 3912), ('disinfectant', 3913), ('trash', 3914), ('vicky', 3915), ('customerservicefail', 3916), ('aa76', 3917), ('gems', 3918), ('7:40', 3919), ('nite', 3920), ('add’l', 3921), ('paint', 3922), ('scheme', 3923), ('generated', 3924), ('manchester', 3925), ('clicked', 3926), ('50,000', 3927), ('doctor', 3928), ('dozens', 3929), ('dublin', 3930), ('jam', 3931), ('batteries', 3932), ('swivel', 3933), ('dietcoke', 3934), ('happyflier', 3935), ('checks', 3936), ('qualifies', 3937), ('consideration', 3938), ('millions', 3939), ('flysfo', 3940), ('inconsistent', 3941), ('delicious', 3942), ('cargo', 3943), ('claudoakeshott', 3944), ('incorrectly', 3945), ('4hr', 3946), ('1099', 3947), ('filthy', 3948), ('babies', 3949), ('misinformation', 3950), ('damages', 3951), ('observe', 3952), ('fwiw', 3953), ('ow', 3954), ('ua507', 3955), ('batting', 3956), ('1.000', 3957), ('naming', 3958), ('horrible.went', 3959), ('button-4that', 3960), ('mins&&put', 3961), ('.800', 3962), ('called&&it', 3963), ('hungupnohelp', 3964), ('arkansas', 3965), ('affordable', 3966), ('apologizing', 3967), ('1644', 3968), ('tkts', 3969), ('despicable', 3970), ('aa106', 3971), ('mi', 3972), ('remote', 3973), ('neglect', 3974), ('sl', 3975), ('☀', 3976), ('infants', 3977), ('twelve', 3978), ('diamond', 3979), ('vibe', 3980), ('moodlitmonday', 3981), ('aw', 3982), ('btr', 3983), ('communicating', 3984), ('resoled', 3985), ('tweeter', 3986), ('easiest', 3987), ('pita', 3988), ('cocktail', 3989), ('1027', 3990), ('volumes', 3991), ('build', 3992), ('capacity', 3993), ('reuniting', 3994), ('mountains', 3995), ('choppiest', 3996), ('whiplash', 3997), ('americanairlinesfail', 3998), ('iwantmymoneyback', 3999), ('1500', 4000), ('prem', 4001), ('honored', 4002), ('mike', 4003), ('elm', 4004), ('34', 4005), ('tears', 4006), ('base', 4007), ('avis', 4008), ('chocolate', 4009), ('1971', 4010), ('defend', 4011), ('✨', 4012), ('customer.relations', 4013), ('aa.com', 4014), ('princesshalf', 4015), ('fallow', 4016), ('activities', 4017), ('programs', 4018), ('health', 4019), ('shenanigans', 4020), ('320', 4021), ('flexible', 4022), ('reissued', 4023), ('proud', 4024), ('xx', 4025), ('cue', 4026), ('taxis', 4027), ('nogood', 4028), ('hayden', 4029), ('steamboat', 4030), ('2302', 4031), ('postcode', 4032), ('ireland', 4033), ('port', 4034), ('devices', 4035), ('a.', 4036), ('sleet', 4037), ('prioritize', 4038), ('tone', 4039), ('deaf', 4040), ('hah', 4041), ('swiss', 4042), ('pink', 4043), ('n598jb', 4044), ('104', 4045), ('duped', 4046), ('starving', 4047), ('hosting', 4048), ('crowd', 4049), ('bwi_airport', 4050), ('connects', 4051), ('irrops', 4052), ('😠', 4053), ('junk', 4054), ('2a', 4055), ('dividendmiles', 4056), ('cardholder', 4057), ('hangup', 4058), ('recheck', 4059), ('weighs', 4060), ('chronicleherald', 4061), ('amex', 4062), ('49', 4063), ('101', 4064), ('shannonwoodward', 4065), ('geeks', 4066), ('driven', 4067), ('1715', 4068), ('grievance', 4069), ('alleviate', 4070), ('f623', 4071), ('display', 4072), ('adds', 4073), ('arms', 4074), ('nas', 4075), ('cute', 4076), ('😷', 4077), ('workaround', 4078), ('cockpit', 4079), ('carpet', 4080), ('norm', 4081), ('detailed', 4082), ('amsterdam', 4083), ('snowstorm', 4084), ('9:50pm', 4085), ('bright', 4086), ('ua6259', 4087), ('ua5525', 4088), ('vhgkitzsaw', 4089), ('dialing', 4090), ('baggages', 4091), ('8.5', 4092), ('argentina', 4093), ('tld', 4094), ('trvl', 4095), ('announcing', 4096), ('gatwick', 4097), ('9hrs', 4098), ('mardigras', 4099), ('8wbzorrn3c', 4100), ('downgraded', 4101), ('aa2402', 4102), ('chkd', 4103), ('badge', 4104), ('mere', 4105), ('historical', 4106), ('pictures', 4107), ('tips', 4108), ('trick', 4109), ('evenlate', 4110), ('volunteers', 4111), ('cheer', 4112), ('7:30', 4113), ('probs', 4114), ('z', 4115), ('lounges', 4116), ('happiness', 4117), ('w.', 4118), ('ers', 4119), ('bestflightever', 4120), ('ua469', 4121), ('910', 4122), ('remedy', 4123), ('busiest', 4124), ('cable', 4125), ('any1', 4126), ('flierfriendly', 4127), ('crated', 4128), ('pets', 4129), ('dre', 4130), ('ua1740', 4131), ('laguardiaair', 4132), ('abi', 4133), ('wichita', 4134), ('falls', 4135), ('receiving', 4136), ('arrivals', 4137), ('shawn', 4138), ('spectacular', 4139), ('susan', 4140), ('engaging', 4141), ('dsm', 4142), ('vm', 4143), ('wanting', 4144), ('aisle', 4145), ('3thparty', 4146), ('dms', 4147), ('cnnbrk', 4148), ('10:10', 4149), ('wrongfully', 4150), ('65,000', 4151), ('bergstrom', 4152), ('particular', 4153), ('anxiety', 4154), ('⛄', 4155), ('1514', 4156), ('53', 4157), ('sch', 4158), ('cruel', 4159), ('unusual', 4160), ('loop', 4161), ('impressions', 4162), ('reverse', 4163), ('patronizing', 4164), ('legitimate', 4165), ('reagan_airport', 4166), ('abroad', 4167), ('reddit', 4168), ('50lbs', 4169), ('angrycustomer', 4170), ('1:40pm', 4171), ('clarence', 4172), ('unlike', 4173), ('etfjqiwuvt', 4174), ('holidays', 4175), ('postpone', 4176), ('heathrowairport', 4177), ('7th', 4178), ('lemme', 4179), ('university', 4180), ('destroyed', 4181), ('95', 4182), ('specified', 4183), ('dads', 4184), ('shoddy', 4185), ('earliest', 4186), ('nofun', 4187), ('shortage', 4188), ('upgd', 4189), ('certificates', 4190), ('arguing', 4191), ('jeanine', 4192), ('wknd', 4193), ('blank', 4194), ('acknowledgment', 4195), ('sweetingr', 4196), ('smoking', 4197), ('37', 4198), ('gifts', 4199), ('3130', 4200), ('7:20', 4201), ('pbi-', 4202), ('c-42', 4203), ('replies', 4204), ('brushing', 4205), ('hidden', 4206), ('inferior', 4207), ('co', 4208), ('relaxing', 4209), ('holy', 4210), ('roadwarrior', 4211), ('vmquurzupw', 4212), ('refreshing', 4213), ('itin', 4214), ('swu', 4215), ('finnair', 4216), ('codeshare', 4217), ('rollers', 4218), ('warmer', 4219), ('endlessly', 4220), ('lights', 4221), ('rating', 4222), ('vetr', 4223), ('inc.', 4224), ('dakota', 4225), ('michaelbcoleman', 4226), ('occupied', 4227), ('ua3774', 4228), ('wrap', 4229), ('moon', 4230), ('warehouse', 4231), ('overflowed', 4232), ('childish', 4233), ('hotline', 4234), ('preflight', 4235), ('9148445695', 4236), ('disrupted', 4237), ('linked', 4238), ('events', 4239), ('french', 4240), ('occur', 4241), ('386', 4242), ('upgrd', 4243), ('sandwich', 4244), ('portion', 4245), ('obj_3', 4246), ('marriott', 4247), ('fu', 4248), ('a3', 4249), ('slcairport', 4250), ('restroom', 4251), ('46', 4252), ('788', 4253), ('188', 4254), ('referral', 4255), ('comms', 4256), ('chicagotribune', 4257), ('unimpressed', 4258), ('drunk', 4259), ('el', 4260), ('paso', 4261), ('🌏', 4262), ('avoided', 4263), ('110', 4264), ('1051', 4265), ('delighted', 4266), ('bravo', 4267), ('🍻', 4268), ('leinenkugels', 4269), ('breath', 4270), ('atx', 4271), ('unscheduled', 4272), ('choices', 4273), ('border', 4274), ('equal', 4275), ('lowest', 4276), ('beatsmusic', 4277), ('gmail', 4278), ('folder', 4279), ('superyan', 4280), ('2:15', 4281), ('decline', 4282), ('grounds', 4283), ('rearrange', 4284), ('bangkok', 4285), ('accommodation', 4286), ('aggravating', 4287), ('ems', 4288), ('thread', 4289), ('tear', 4290), ('1a', 4291), ('1808', 4292), ('lan', 4293), ('natca', 4294), ('former', 4295), ('pia', 4296), ('saved', 4297), ('40mins', 4298), ('television', 4299), ('colombia', 4300), ('580815', 4301), ('165', 4302), ('math', 4303), ('improvements', 4304), ('deplorable', 4305), ('publicity', 4306), ('misunderstood', 4307), ('overpriced', 4308), ('par', 4309), ('enquires', 4310), ('fritz', 4311), ('terms', 4312), ('del', 4313), ('registers', 4314), ('dawn', 4315), ('sobewff', 4316), ('wiped', 4317), ('refrain', 4318), ('dreamliner', 4319), ('outsourcing', 4320), ('robertdwyer', 4321), ('reputation', 4322), ('closes', 4323), ('desert', 4324), ('1855', 4325), ('reclining', 4326), ('split', 4327), ('unnecessarily', 4328), ('refuel', 4329), ('125', 4330), ('sing', 4331), ('flyitforward', 4332), ('invest', 4333), ('folk', 4334), ('harsh', 4335), ('remorse', 4336), ('alternatives', 4337), ('noexcuses', 4338), ('thirty_lives', 4339), ('taste', 4340), ('😆', 4341), ('2littlebirds', 4342), ('hsv', 4343), ('aafail', 4344), ('reversed', 4345), ('night-_-', 4346), ('assure', 4347), ('bigger', 4348), ('dick', 4349), ('952', 4350), ('athletes', 4351), (\"ma'am\", 4352), ('€', 4353), ('10:20', 4354), ('chairmans', 4355), ('painfully', 4356), ('inexperienced', 4357), ('bougth', 4358), ('thrown', 4359), ('systemwide', 4360), ('removed', 4361), ('unpleasant', 4362), ('spring', 4363), ('cp', 4364), ('in-', 4365), ('bein', 4366), ('hits', 4367), ('criminal', 4368), ('gettin', 4369), ('c25', 4370), ('carryons', 4371), (':p', 4372), ('vs.', 4373), ('paste', 4374), ('films', 4375), ('travelocity', 4376), ('campilley', 4377), ('mr.', 4378), ('roll', 4379), ('1533', 4380), ('asks', 4381), ('test', 4382), ('arbitrary', 4383), ('jedediahbila', 4384), ('ms.', 4385), ('allergies', 4386), ('kevin', 4387), ('seriousness', 4388), ('f2lfulcbq7', 4389), ('incur', 4390), ('yikes', 4391), ('oumc1lrxdn', 4392), ('airplanes', 4393), ('umosaicmecrazy', 4394), ('repeating', 4395), ('maine', 4396), ('iberia', 4397), ('cheapflights', 4398), ('farecompare', 4399), ('cheertymedad', 4400), ('gee', 4401), ('trusted', 4402), ('adult', 4403), ('urgent', 4404), ('tock', 4405), ('skip', 4406), ('development', 4407), ('723', 4408), ('alternative', 4409), ('um', 4410), ('idiots', 4411), ('sjd', 4412), ('aug', 4413), ('stairs', 4414), ('75.00', 4415), ('y’', 4416), ('horriblecustomerservice', 4417), ('450', 4418), ('brush', 4419), ('momsgoodeats', 4420), ('mandarinjourney', 4421), ('disgraceful', 4422), ('logging', 4423), ('paulo', 4424), ('ages', 4425), ('snapchat', 4426), ('retired', 4427), ('disruptions', 4428), ('vaca', 4429), ('c19', 4430), ('jt', 4431), ('processed', 4432), ('2:00', 4433), ('💩', 4434), ('combine', 4435), ('corp.', 4436), ('tsaprecheck', 4437), ('az', 4438), ('provides', 4439), ('india', 4440), ('quoting', 4441), ('impress', 4442), ('reopens', 4443), ('divert', 4444), ('-_-', 4445), ('wandered', 4446), ('settle', 4447), ('southwestairlines', 4448), ('bf', 4449), ('standbys', 4450), ('sorta', 4451), ('internjohnradio', 4452), ('mrerickv', 4453), ('threatening', 4454), ('league', 4455), ('registered', 4456), ('spf', 4457), ('toiletries', 4458), ('market', 4459), ('witnessed', 4460), ('tulsa', 4461), ('f.', 4462), ('active', 4463), ('disability', 4464), ('pleas', 4465), ('smells', 4466), ('patiently', 4467), ('fm', 4468), ('prev', 4469), ('innovation', 4470), ('completed', 4471), ('annettenaif', 4472), ('roberto', 4473), ('paged', 4474), ('spaced', 4475), ('acebo6elpa', 4476), ('jeff', 4477), ('smisek', 4478), ('cae', 4479), ('conveniently', 4480), ('nm', 4481), ('cebu', 4482), ('educational', 4483), ('compensating', 4484), ('thevdt', 4485), ('beware', 4486), ('pure', 4487), ('awesomeness', 4488), ('tim', 4489), ('1589', 4490), ('rear', 4491), ('follows', 4492), ('breakdown', 4493), ('cloud', 4494), ('ru', 4495), ('marie', 4496), ('providence', 4497), ('personalized', 4498), ('autoresponse', 4499), ('cushion', 4500), ('classes', 4501), ('hometown', 4502), ('russia', 4503), ('pretend', 4504), ('involve', 4505), ('wx', 4506), ('inspected', 4507), ('urgency', 4508), ('focused', 4509), ('outage', 4510), ('smoothly', 4511), ('maryella_green', 4512), ('destinationdragon', 4513), ('josephtreis', 4514), ('wasteoftime', 4515), ('waived', 4516), ('logo', 4517), ('brussels', 4518), ('rizzilient', 4519), ('slowest', 4520), ('beg', 4521), ('offensive', 4522), ('imma', 4523), ('negative', 4524), ('alt', 4525), ('10min', 4526), ('jetblueblues', 4527), (\"dm'ed\", 4528), ('desired', 4529), ('sons', 4530), ('distribution', 4531), ('24h', 4532), ('convenient', 4533), ('proving', 4534), ('10:55', 4535), ('hopeless', 4536), ('steve', 4537), ('info-', 4538), ('email-', 4539), ('vallarta', 4540), ('1098', 4541), ('cnnmoney', 4542), ('174', 4543), ('hayleymad', 4544), ('participate', 4545), ('830', 4546), ('mph', 4547), ('tailwind', 4548), ('stoked', 4549), ('cruise', 4550), ('remotely', 4551), ('310', 4552), ('robert', 4553), ('raising', 4554), ('yvr', 4555), ('provo', 4556), ('overflight', 4557), ('airway', 4558), ('489', 4559), ('-17', 4560), ('62', 4561), ('pro', 4562), ('340', 4563), ('zkatcher', 4564), ('processing', 4565), ('confirmations', 4566), ('flysouthwest', 4567), ('koa', 4568), ('1-way', 4569), ('chnge', 4570), ('behave', 4571), ('force', 4572), ('thankful', 4573), ('measured', 4574), ('justify', 4575), ('neglected', 4576), ('stays', 4577), ('600117', 4578), ('goingforgreat', 4579), ('bye', 4580), ('bttr', 4581), ('wounded', 4582), ('delete', 4583), ('hotmail.com', 4584), ('politely', 4585), ('oregon', 4586), ('horrific', 4587), ('amybruni', 4588), ('bluecarpet', 4589), ('communications', 4590), ('misfortune', 4591), ('ua1116', 4592), ('avon', 4593), ('dcoadavon', 4594), ('phn', 4595), ('2d', 4596), ('3d', 4597), ('embossed', 4598), ('patches', 4599), ('superior', 4600), ('3fq3xelbon', 4601), ('charter', 4602), ('bathrooms', 4603), ('redirected', 4604), ('226', 4605), ('jetbluerocks', 4606), ('disappoints', 4607), ('appointments', 4608), ('thirty', 4609), ('mideast', 4610), ('reassign', 4611), ('doll', 4612), ('pattonoswalt', 4613), ('ua1481', 4614), ('locked', 4615), ('1109', 4616), ('subpar', 4617), ('excellence', 4618), ('itself', 4619), ('decide', 4620), ('brain', 4621), ('procedures', 4622), ('queues', 4623), ('shortcomings', 4624), ('lay', 4625), ('siting', 4626), ('inaccurate', 4627), ('ailing', 4628), ('parent', 4629), ('rage', 4630), ('unitedairlinessucks', 4631), ('mco->cmh', 4632), ('cldnt', 4633), ('3104', 4634), ('tue', 4635), ('mitchell', 4636), ('congratulations', 4637), ('464', 4638), ('andrew_wasila', 4639), ('andrew', 4640), ('sma', 4641), ('us1562', 4642), ('ric2dfw', 4643), ('1657', 4644), ('yelling', 4645), ('uncool', 4646), ('deciding', 4647), ('wreck', 4648), ('maneuver', 4649), ('upsetting', 4650), ('4524', 4651), ('ua1516', 4652), ('sweepstakes', 4653), ('exposed', 4654), ('cus', 4655), ('oc', 4656), ('unsafe', 4657), ('stunning', 4658), ('exceptions', 4659), ('2:30', 4660), ('tfw1', 4661), ('jimcramer', 4662), ('recovering', 4663), ('unitedappeals', 4664), ('cincy', 4665), ('nxt', 4666), ('established', 4667), ('robinreda', 4668), ('embarrassment', 4669), ('science', 4670), ('thaw', 4671), ('dca-', 4672), ('unlikely', 4673), ('nvm', 4674), ('benefit', 4675), ('ignorant', 4676), ('jumping', 4677), ('brazil', 4678), ('buenos', 4679), ('😬', 4680), ('b777', 4681), ('200er', 4682), ('ilc0hp', 4683), ('combined', 4684), ('crewmember', 4685), ('gloves', 4686), ('maria', 4687), ('beanie', 4688), ('aneqxzr4bp', 4689), ('mht', 4690), ('colleagues', 4691), ('837', 4692), ('6232', 4693), ('trace', 4694), ('1531', 4695), ('culture', 4696), ('investigate', 4697), ('capable', 4698), ('3:30', 4699), ('outta', 4700), ('6:30am', 4701), ('teaching', 4702), ('research', 4703), ('dedicated', 4704), ('bless', 4705), ('developers', 4706), ('morn', 4707), ('danger', 4708), ('timeliness', 4709), ('sincere', 4710), ('frontier', 4711), ('11:00', 4712), ('entered', 4713), ('aa199', 4714), ('mxp', 4715), ('28th', 4716), ('earlybird', 4717), ('desktop', 4718), ('react', 4719), ('iowa', 4720), ('arranged', 4721), ('employer', 4722), ('flght', 4723), ('hve', 4724), ('jack', 4725), ('behavior', 4726), ('runways', 4727), ('nrt', 4728), ('celebrate', 4729), ('spotty', 4730), ('intern', 4731), ('1706', 4732), ('nothanks', 4733), ('caribbean', 4734), ('1hr+', 4735), ('truebluelove', 4736), ('allergy', 4737), ('birthdate', 4738), ('stayed', 4739), ('80s', 4740), ('fri', 4741), ('returns', 4742), ('weary', 4743), ('jetbluecheeps', 4744), ('ng', 4745), ('pointing', 4746), ('gso', 4747), ('reactivate', 4748), ('5238', 4749), ('greatservice', 4750), ('622', 4751), ('1898', 4752), ('usairways-', 4753), ('overwhelming', 4754), ('sked', 4755), ('silverairways', 4756), ('dare', 4757), ('increasing', 4758), ('flypdx', 4759), ('pig', 4760), ('sheesh', 4761), ('breach', 4762), ('lawsuit', 4763), ('1242', 4764), ('distance', 4765), ('3739', 4766), ('crashes', 4767), ('foolish', 4768), ('scenario', 4769), ('grk', 4770), ('raised', 4771), ('frigid', 4772), ('tatianaking', 4773), ('thewayoftheid', 4774), ('heated', 4775), ('applying', 4776), ('conveyer', 4777), ('unknown', 4778), ('referred', 4779), ('aa919', 4780), ('user', 4781), ('103', 4782), ('led', 4783), ('singing', 4784), ('wins', 4785), ('blocking', 4786), ('priced', 4787), ('jp', 4788), ('oversized', 4789), ('frequentflyer', 4790), ('80th', 4791), ('flite', 4792), ('doo', 4793), ('president', 4794), ('rtb', 4795), ('neighbors', 4796), ('asshole', 4797), ('💜', 4798), ('mouth', 4799), ('county', 4800), ('signal', 4801), ('caned', 4802), ('enforcing', 4803), ('58', 4804), ('deplaning', 4805), ('.50', 4806), ('transf', 4807), ('nonrefundable', 4808), ('sample', 4809), ('town', 4810), ('profitability', 4811), ('304min', 4812), ('dnmsblzumr', 4813), ('breast', 4814), ('wudda', 4815), ('cot', 4816), ('female', 4817), ('5534', 4818), ('cert', 4819), ('afterall', 4820), ('lovesongfriday', 4821), ('gay', 4822), ('ear', 4823), ('jackass', 4824), ('idk', 4825), ('dissapointed', 4826), ('sav', 4827), ('delivering', 4828), ('letdown', 4829), ('669', 4830), ('stewardesses', 4831), ('lusaka', 4832), ('resulted', 4833), ('1687', 4834), ('websites', 4835), ('begins', 4836), ('͡', 4837), ('strip', 4838), ('clarifying', 4839), ('madness', 4840), ('srq', 4841), ('holiday', 4842), ('covered', 4843), ('prince', 4844), ('relief', 4845), ('mtg', 4846), ('explore', 4847), ('reinstate', 4848), ('wht', 4849), ('execplat', 4850), ('thenewamerican', 4851), ('inevitable', 4852), ('condition', 4853), ('167', 4854), ('dialup', 4855), ('regulations', 4856), ('🍷', 4857), ('pleasantly', 4858), ('myers', 4859), ('decent', 4860), ('enterprise', 4861), ('mailing', 4862), ('2.24', 4863), ('usairsucks', 4864), ('versus', 4865), ('lostluggage', 4866), ('txfd', 4867), ('cancer', 4868), ('ski', 4869), ('tremendous', 4870), ('guaranteed', 4871), ('jason', 4872), ('diversion', 4873), ('stall', 4874), ('courier', 4875), ('oy', 4876), ('newyork', 4877), ('piss', 4878), ('poorplanning', 4879), ('^lol', 4880), ('atleast', 4881), ('118', 4882), ('mac', 4883), ('honesty', 4884), ('pandora', 4885), ('noplacelikehome', 4886), ('2401', 4887), ('6:50am', 4888), ('2586', 4889), ('became', 4890), ('89', 4891), ('movies', 4892), ('proactive', 4893), ('kylejudah', 4894), ('therefore', 4895), ('fairly', 4896), ('tcf', 4897), ('fustrated', 4898), ('groups', 4899), ('torture', 4900), ('path', 4901), ('b12', 4902), ('4438', 4903), ('cared', 4904), ('rotten', 4905), ('package', 4906), ('assuming', 4907), ('memo', 4908), ('1826', 4909), ('iamtedking', 4910), ('multi', 4911), ('privileges', 4912), ('army', 4913), ('complaining', 4914), ('attended', 4915), ('whoa', 4916), ('ouch', 4917), ('glasses', 4918), ('appalling', 4919), ('530', 4920), ('tmw', 4921), ('unsympathetic', 4922), ('1951', 4923), ('’', 4924), ('grown', 4925), ('aa65', 4926), ('british_airways', 4927), ('consumers', 4928), ('education', 4929), ('opportunities', 4930), ('debating', 4931), ('1583', 4932), ('instruments', 4933), ('2016', 4934), ('2,000', 4935), ('narrowly', 4936), ('snags', 4937), ('road', 4938), ('3yr', 4939), ('failures', 4940), ('amazingly', 4941), ('supposedly', 4942), ('1007', 4943), ('depends', 4944), ('craving', 4945), ('nburnside26', 4946), ('goods', 4947), ('beautifully', 4948), ('accused', 4949), ('b8', 4950), ('gpu', 4951), ('hour+', 4952), ('skytrax', 4953), ('speaks', 4954), ('insist', 4955), ('instructed', 4956), ('screws', 4957), ('curiosity', 4958), ('valentines', 4959), ('abilities', 4960), ('donation', 4961), ('readers', 4962), ('srsly', 4963), ('a321', 4964), ('various', 4965), ('1535', 4966), ('b40', 4967), ('marshaled', 4968), ('jkf', 4969), ('dominican', 4970), ('hole', 4971), ('honolulu', 4972), ('a.m.', 4973), ('22ipgeicsm', 4974), ('indicates', 4975), ('3659', 4976), ('1701', 4977), ('mammoth', 4978), ('kul', 4979), ('pj', 4980), ('carolina', 4981), ('altitude', 4982), ('5080', 4983), ('reduced', 4984), ('korea', 4985), ('apps', 4986), ('strollers', 4987), ('lgb', 4988), ('cal', 4989), ('medal', 4990), ('compliant', 4991), ('justynmoro', 4992), ('gents', 4993), ('screenshot', 4994), ('strongly', 4995), ('younger', 4996), ('block', 4997), ('bike', 4998), ('sis', 4999), ('nephew', 5000), ('495', 5001), ('bonuses', 5002), ('enroll', 5003), ('195', 5004), ('pounds', 5005), ('dr', 5006), ('airborne', 5007), ('grab', 5008), ('chain', 5009), ('props', 5010), ('emv', 5011), ('internal', 5012), ('dbcvepn5qc', 5013), ('corevalues', 5014), ('passion', 5015), ('aerojobmarket', 5016), ('eagle', 5017), ('justsaying', 5018), ('flawed', 5019), ('flyerfriendly', 5020), ('silicon', 5021), ('festival', 5022), ('27,000', 5023), ('blowing', 5024), ('2yr', 5025), ('prom', 5026), ('494', 5027), ('worthy', 5028), ('larger', 5029), ('george', 5030), ('pbpinftworth', 5031), ('64', 5032), ('gb', 5033), ('reality', 5034), ('concentrate', 5035), ('store', 5036), ('publicly', 5037), ('comps', 5038), ('\\xa0', 5039), ('badmgmt', 5040), ('timco', 5041), ('pitt', 5042), ('sj', 5043), ('ali', 5044), ('shifts', 5045), ('hair', 5046), ('thousands', 5047), ('wannagohome', 5048), ('hmm', 5049), ('fully', 5050), ('filling', 5051), ('bizarre', 5052), ('kate', 5053), ('wkrb', 5054), ('un', 5055), ('numerical', 5056), ('bench', 5057), ('swamped', 5058), ('supervisors', 5059), ('btwn', 5060), ('suitcases', 5061), ('experiencing', 5062), ('prime', 5063), ('channel', 5064), ('mastercard', 5065), ('sir', 5066), ('xt', 5067), ('f-1571aus', 5068), ('cried', 5069), ('improvement', 5070), ('frequency', 5071), ('pafe', 5072), ('warmth', 5073), ('requirement', 5074), ('energy', 5075), ('addresses', 5076), ('4:05', 5077), ('sentinel', 5078), ('typically', 5079), ('vx399', 5080), ('standards', 5081), ('separated', 5082), ('detroit', 5083), ('reads', 5084), ('11th', 5085), ('bold', 5086), ('dialogue', 5087), ('pleasehelp', 5088), ('reviewed', 5089), ('recovered', 5090), ('forgive', 5091), ('105', 5092), ('celebrates', 5093), ('15-year', 5094), ('phil', 5095), ('123', 5096), ('hooking', 5097), ('awww', 5098), ('argued', 5099), ('opinion', 5100), ('ooh', 5101), ('35x', 5102), ('droped', 5103), ('shipped', 5104), ('654', 5105), ('newly', 5106), ('functionality', 5107), ('thanku', 5108), ('technology', 5109), ('336', 5110), ('southwestrally', 5111), ('bestemployees', 5112), ('swaculture', 5113), ('theft', 5114), ('1679', 5115), ('alerted', 5116), ('dispatcher', 5117), ('insanity', 5118), ('recieved', 5119), ('entertaining', 5120), ('yuma', 5121), ('obnoxious', 5122), ('arrange', 5123), ('kewl', 5124), ('travellers', 5125), ('sympathetic', 5126), ('nhlonnbcsports', 5127), ('comm', 5128), ('ann', 5129), ('peace', 5130), ('loganairports', 5131), ('236', 5132), ('hundred', 5133), ('23rd', 5134), ('jenniferwalshpr', 5135), ('dissatisfaction', 5136), ('fr', 5137), ('consistency', 5138), ('oil', 5139), ('integrate', 5140), ('surf', 5141), ('depending', 5142), ('617', 5143), ('3040', 5144), ('ffl', 5145), ('tiny', 5146), ('nigga', 5147), ('vineyard', 5148), ('packages', 5149), ('fool', 5150), ('tags', 5151), ('exists', 5152), ('emp', 5153), ('foreign', 5154), ('advisories', 5155), ('convinced', 5156), ('travisamex', 5157), ('craziness', 5158), ('382', 5159), ('cnxn', 5160), ('7700', 5161), ('mails', 5162), ('inbox', 5163), ('alas', 5164), ('unfortunate', 5165), ('insufficient', 5166), ('throw', 5167), ('requiring', 5168), ('rebooks', 5169), ('caller', 5170), ('445', 5171), ('centricity', 5172), ('ticks', 5173), ('athlete', 5174), ('julie', 5175), ('andrews', 5176), ('gaga', 5177), ('carrie', 5178), ('meh', 5179), ('permission', 5180), ('ph6rps', 5181), ('educate', 5182), ('mel', 5183), ('sticker', 5184), ('wheelsup', 5185), ('unsure', 5186), ('formula', 5187), ('kax', 5188), ('inability', 5189), ('shorts', 5190), ('jealous', 5191), ('understands', 5192), ('dmd', 5193), ('5:50', 5194), ('fueled', 5195), ('wing', 5196), ('ticketing', 5197), ('prompts', 5198), ('ferry', 5199), ('soaking', 5200), ('waitin', 5201), ('inconsiderate', 5202), ('flyyow', 5203), ('runaround', 5204), ('burger', 5205), ('heavy', 5206), ('rhonda', 5207), ('huntsville', 5208), ('al', 5209), ('hurry', 5210), ('faanews', 5211), ('fas', 5212), ('closing', 5213), ('mce', 5214), ('knoxville', 5215), ('mechanic', 5216), ('fax', 5217), ('2013', 5218), ('1ywxrfn0gr', 5219), ('investigated', 5220), ('disappears', 5221), ('loud', 5222), ('anxious', 5223), ('dramatically', 5224), ('resulting', 5225), ('mis', 5226), ('rubbish', 5227), ('clouds', 5228), ('affect', 5229), ('bloody', 5230), ('ignore', 5231), ('cpap', 5232), ('learning', 5233), ('asset', 5234), ('phd_mama', 5235), ('shirt', 5236), ('filmjobnoequipment', 5237), ('tvs', 5238), ('blast', 5239), ('rifle', 5240), ('seemed', 5241), ('responsibility', 5242), ('closet', 5243), ('secured', 5244), ('priorities', 5245), ('spotify', 5246), ('fucken', 5247), ('clarkey_19', 5248), ('biggie', 5249), ('ruth', 5250), ('pressure', 5251), ('capa_aviation', 5252), ('redirect', 5253), ('marathon', 5254), ('flightledflight', 5255), ('rocking', 5256), ('delight', 5257), ('counted', 5258), ('apologizes', 5259), ('rockstar', 5260), ('pat', 5261), ('grp', 5262), ('1h', 5263), ('feb.', 5264), ('unused', 5265), ('expedient', 5266), ('starbucks', 5267), ('pedro', 5268), ('challenge', 5269), ('wastedtime', 5270), ('bqn', 5271), ('reminding', 5272), ('a.a', 5273), ('trv', 5274), ('principle', 5275), ('danahajek', 5276), ('skilled', 5277), ('targeting', 5278), ('displeased', 5279), ('def', 5280), ('amongst', 5281), ('maintained', 5282), ('survive', 5283), ('orl', 5284), ('3750', 5285), ('onholdwith', 5286), ('remembered', 5287), ('lmfao', 5288), ('citizen', 5289), ('finder', 5290), ('alaskaair', 5291), ('zoom', 5292), ('refundable', 5293), ('tul', 5294), ('buddies', 5295), ('spelling', 5296), ('communicationfail', 5297), ('los', 5298), ('angeles', 5299), ('attendees', 5300), ('preboarding', 5301), ('clearing', 5302), ('dividendrewards', 5303), ('recognition', 5304), ('roxydigital', 5305), ('proactively', 5306), ('meaningful', 5307), ('essentially', 5308), ('^ey', 5309), ('recline', 5310), ('^lo', 5311), ('stealing', 5312), ('bourbon', 5313), ('dining', 5314), ('savethediagonals', 5315), ('misses', 5316), ('memory', 5317), ('callbacks', 5318), ('vital', 5319), ('federal', 5320), ('laws', 5321), ('fligt', 5322), ('context', 5323), ('partnerships', 5324), ('woohoo', 5325), ('blacklist', 5326), ('parked', 5327), ('momma', 5328), ('abandoned', 5329), ('4649', 5330), ('asia', 5331), ('tmadcle', 5332), ('thrilled', 5333), ('sys', 5334), ('genius', 5335), ('informative', 5336), ('considerable', 5337), ('horrid', 5338), ('oz', 5339), ('33', 5340), ('drunks', 5341), ('barbara', 5342), ('cases', 5343), ('mercy', 5344), ('mentions', 5345), ('panamerican', 5346), ('leadership', 5347), ('regret', 5348), ('grandfather', 5349), ('275', 5350), ('regional', 5351), ('plain', 5352), ('toddlers', 5353), ('462', 5354), ('ctr', 5355), ('stuckinmemphis', 5356), ('texasisclosed', 5357), ('bgm', 5358), ('mths', 5359), ('hacks', 5360), ('jokers', 5361), ('complains', 5362), ('mt', 5363), ('1071', 5364), ('chrome', 5365), ('browser', 5366), ('swell', 5367), ('swadiversity', 5368), ('pooling', 5369), ('sunrise', 5370), ('suffering', 5371), ('flashlight', 5372), ('picks', 5373), ('toilets', 5374), ('copilot', 5375), ('chief', 5376), ('espinosa', 5377), ('0hxlnvzknp', 5378), ('cots', 5379), ('projects', 5380), ('shafted', 5381), ('embassy', 5382), ('suites', 5383), ('herndon', 5384), ('nh', 5385), ('26th', 5386), ('boo', 5387), ('shock', 5388), ('counters', 5389), ('papers', 5390), ('advised', 5391), ('122', 5392), ('deedee', 5393), ('s.', 5394), ('3.30', 5395), ('i.', 5396), ('assign', 5397), ('captive', 5398), ('8:05am', 5399), ('flyunited', 5400), ('sudden', 5401), ('voided', 5402), ('1181', 5403), ('whammie', 5404), ('clever', 5405), ('amazed', 5406), ('inop', 5407), ('bff', 5408), ('casimir', 5409), ('resend', 5410), ('mates', 5411), ('contd', 5412), ('warriors', 5413), ('ing', 5414), ('decency', 5415), ('secret', 5416), ('pity', 5417), ('th', 5418), ('2:00pm', 5419), ('stepping', 5420), ('preciate', 5421), ('calendar', 5422), ('ignores', 5423), ('aa45', 5424), ('suicide', 5425), ('teens', 5426), ('neverflyvirginforbusiness', 5427), ('max', 5428), ('117', 5429), ('silence', 5430), ('lives', 5431), ('winterstorm', 5432), ('rivets', 5433), ('vote', 5434), ('768', 5435), ('grabbed', 5436), ('ey', 5437), ('transactions', 5438), ('meantime', 5439), ('gnv', 5440), ('chg', 5441), ('sorrynotsorry', 5442), ('paulgordonbrown', 5443), ('tarmack', 5444), ('fo', 5445), ('treating', 5446), ('sanitized', 5447), ('glitch', 5448), ('fresno', 5449), ('blocked', 5450), ('communicated', 5451), ('cnx', 5452), ('believing', 5453), ('locals', 5454), ('nonprofit', 5455), ('adopted', 5456), ('🌟', 5457), ('shocking', 5458), ('dragon', 5459), ('salted', 5460), ('disorganization', 5461), ('uncalled', 5462), ('reconsider', 5463), ('midght', 5464), ('cellphone', 5465), ('85832', 5466), ('loads', 5467), ('fields', 5468), ('6hrs', 5469), ('perth', 5470), ('rectified', 5471), ('recap', 5472), ('permanently', 5473), ('robot', 5474), ('southwestverity', 5475), ('rum', 5476), ('staying', 5477), ('ruin', 5478), ('receipts', 5479), ('73', 5480), ('brokenpromises', 5481), ('represents', 5482), ('interaction', 5483), ('conection', 5484), ('^jt', 5485), ('1856', 5486), ('greeting', 5487), ('reflect', 5488), ('protocol', 5489), ('confident', 5490), ('twins', 5491), ('lacked', 5492), ('refsd', 5493), ('360', 5494), ('averted', 5495), ('modify', 5496), ('unwilling', 5497), ('premiere', 5498), ('booted', 5499), ('fastest', 5500), ('cos', 5501), ('betting', 5502), ('bounced', 5503), ('knowledge', 5504), ('specifics', 5505), ('wd40', 5506), ('spots', 5507), ('geg', 5508), ('hoped', 5509), ('stream', 5510), ('allergic', 5511), ('msnbc', 5512), ('automatic', 5513), ('luggages', 5514), ('disorganized', 5515), ('1712', 5516), ('teco', 5517), ('unaccompanied', 5518), ('discontinued', 5519), ('char', 5520), ('1491', 5521), ('arizona', 5522), ('des', 5523), ('moines', 5524), ('nd', 5525), ('charm', 5526), ('ramp', 5527), ('lucia', 5528), ('spoiled', 5529), ('forgotten', 5530), ('hawaiian', 5531), ('oui', 5532), ('wat', 5533), ('tisk', 5534), ('aggressive', 5535), ('betsy', 5536), ('besty', 5537), ('shots', 5538), ('fuk', 5539), ('eri', 5540), ('carsl', 5541), ('itunesmusic', 5542), ('spagnuolo', 5543), ('coached', 5544), ('rams', 5545), ('e+', 5546), ('pages', 5547), ('xxfake', 5551), ('installing', 0), ('3837', 0), ('erickofiejones', 0), ('emxlyy', 0), ('swear', 0), ('2,500', 0), ('choppy', 0), ('gusty', 0), ('windchill', 0), ('-8', 0), ('viable', 0), ('excitement', 0), ('pqd', 0), ('insulted', 0), ('disrespected', 0), ('qavvlaxlkl', 0), ('5347', 0), ('nexttimeiwillflysouthwest', 0), ('hsmpbsf4uf', 0), ('ravioli', 0), ('gettingoffplane', 0), ('cehroeurc5', 0), ('trublue', 0), ('num', 0), ('conflict', 0), ('erased', 0), ('px8hqoks3r', 0), ('usexpress', 0), ('psa', 0), ('customerservicewin', 0), ('itravelalot', 0), ('z5znfwkkwp', 0), ('reopened', 0), ('wd', 0), ('adjustments', 0), ('misconnected', 0), ('cabinfever', 0), ('discontinue', 0), ('471', 0), ('gbd5r1olsi', 0), ('arose', 0), ('mikehertz7', 0), ('5559', 0), ('yyc', 0), ('lightbulb', 0), ('sa_craig', 0), ('hinted', 0), ('abandonment', 0), ('96', 0), ('yourphonesystemsucks', 0), ('2155', 0), ('e11', 0), ('penguin', 0), ('fidencio', 0), ('beverage', 0), ('ua6076', 0), ('2000', 0), ('gangway', 0), ('massages', 0), ('245', 0), ('exper', 0), ('msgs', 0), ('myvxexperience', 0), ('frustratingly', 0), ('eqepkkpsxm', 0), ('birth', 0), ('donna', 0), ('flite454', 0), ('patriarc', 0), ('bduauzfhw2', 0), ('74', 0), ('bur', 0), ('gettingbetter', 0), ('lasairport', 0), ('c22', 0), ('ceases', 0), ('amaze', 0), ('sports', 0), ('logistically', 0), ('multimillion', 0), ('accumulation', 0), ('inputted', 0), ('sittingontheplane', 0), ('jx4s2', 0), ('damper', 0), ('iy', 0), ('geez', 0), ('flt2417', 0), ('🍅', 0), ('0wbjawx7xd', 0), ('46n9kdcsxu', 0), ('minus', 0), ('freeneversucks', 0), ('respectful', 0), ('5hourwait', 0), ('wilco', 0), ('alsonodrinkcartcomingaround', 0), ('11:56', 0), ('oprah', 0), ('ypo7nyprzl', 0), ('biztravel', 0), ('beating', 0), ('apron', 0), ('lookin', 0), ('1m36ntptr8', 0), ('steering', 0), ('yucki', 0), ('9r9omzqavi', 0), ('ne', 0), ('ngg3n0wiar', 0), ('stating', 0), ('994', 0), ('493', 0), ('crumbs', 0), ('reliability', 0), ('ua5396', 0), ('liqwoblfbt', 0), ('rebuilding', 0), ('makessense', 0), ('approvals', 0), ('hutchinsjim', 0), ('workout', 0), ('7403607771', 0), ('g8', 0), ('c17', 0), ('necessity', 0), ('ashley', 0), ('presenting', 0), ('5znmwxdi9u', 0), ('us624', 0), ('resorting', 0), ('afterward', 0), ('bwood', 0), ('^ml”:3:15', 0), ('jeopardy', 0), ('reboarding', 0), ('a49', 0), ('colossal', 0), ('infringement', 0), ('3797', 0), ('direction', 0), ('matt_e_boss', 0), ('tryn', 0), ('comping', 0), ('o1u96xc3bo', 0), ('lasttweetaboutthis', 0), ('reebok', 0), ('rockinwellness', 0), ('tkvmhbkec3', 0), ('5202', 0), ('n3bvzty3zi', 0), ('faced', 0), ('apology=$25', 0), ('wipe', 0), ('retailbagholder', 0), ('expeditious', 0), ('onechildfourbags', 0), ('2010', 0), ('1219', 0), ('boiled', 0), ('3xdaily', 0), ('embraersa', 0), ('evansville', 0), ('4jun', 0), ('9:04', 0), ('tjycqh', 0), ('pu', 0), ('unt', 0), ('aft', 0), ('shld', 0), ('baked', 0), ('usairwaysssuck', 0), ('1542', 0), ('glenn', 0), ('coles', 0), ('niagara', 0), ('1:36', 0), ('synch', 0), ('gt6umhbh43', 0), ('toughtomakeplans', 0), ('xmaqcucwzl', 0), ('handing', 0), ('coded', 0), ('vocab', 0), ('ua22', 0), ('240', 0), ('kms', 0), ('2990176298', 0), ('afraid', 0), ('bcwckwtnle', 0), ('marketwatch', 0), ('yi4wguk5tr', 0), ('300er', 0), ('zrh_airport', 0), ('6may-23sep', 0), ('23oct', 0), ('igotmonte', 0), ('hopin', 0), ('ferrissalameh', 0), ('aligned', 0), ('mobay', 0), ('inchecking', 0), ('netherlands', 0), ('ams', 0), ('2424', 0), ('791', 0), ('9:30pm', 0), ('1.5hrs', 0), ('gvn', 0), ('nxqijcojnj', 0), ('xzbajmiekx', 0), ('braved', 0), ('leopolds_ic', 0), ('phillip', 0), ('heller', 0), ('ifc', 0), ('672', 0), ('305', 0), ('2hourwaitsucks', 0), ('attackingbabymomma', 0), ('crazinessintherockies', 0), ('struggling', 0), ('julian', 0), ('down?how', 0), ('ua3426', 0), ('stretching', 0), ('exhausting', 0), ('uncvsduke', 0), ('ftlauderdale', 0), ('5lbs', 0), ('1640', 0), ('n33289', 0), ('rvcda2nnme', 0), ('wjere', 0), ('avalible', 0), ('hotelliving', 0), ('credibility', 0), ('3076', 0), ('awheelchair', 0), ('1891', 0), ('ua5029', 0), ('ua423', 0), ('-all', 0), ('g4o6yx7tmj', 0), ('discusses', 0), ('possibilities', 0), ('nhl', 0), ('arena', 0), ('t3e4sh5xng', 0), ('smusportmgt', 0), ('sportsbiz', 0), ('axpn28xiqb', 0), ('1581', 0), ('gov.', 0), ('governor', 0), ('sb-202', 0), ('legalizes', 0), ('lgbt.can', 0), ('lend', 0), ('shin', 0), ('splits', 0), ('sprinting', 0), ('hotspot', 0), ('0162389030167', 0), ('16866853', 0), ('8465981', 0), ('nochill', 0), ('esd3xd5v1r', 0), ('unbelievably', 0), ('15minutes', 0), ('getmorehands', 0), ('guinea', 0), ('pigs', 0), ('flgt', 0), ('motel', 0), ('smalls', 0), ('multibillion', 0), ('25mn', 0), ('sna2ord', 0), ('greatest', 0), ('deane', 0), ('norma', 0), ('sedholm', 0), ('luz', 0), ('calderon', 0), ('king', 0), ('shortstaffed', 0), ('shutting', 0), ('spoil', 0), ('commit', 0), ('emmaclifford', 0), ('pdw', 0), ('ilovejetblue', 0), ('resting', 0), ('elbows', 0), ('mix', 0), ('seatmate', 0), ('welcomed', 0), ('xtra', 0), ('donotflyusair', 0), ('snobby', 0), ('remarks', 0), ('poker', 0), ('sisters', 0), ('rosetta', 0), ('6457', 0), ('dan', 0), ('wasappreciated', 0), ('pointer', 0), ('western', 0), ('nba', 0), ('fox8news', 0), ('potential', 0), ('kristi_capel', 0), ('1373', 0), ('quiche', 0), ('tandoori', 0), ('entrees', 0), ('accompaniments', 0), ('intend', 0), ('423', 0), ('races', 0), ('plse', 0), ('me?the', 0), ('datingrev', 0), ('lag', 0), ('vt', 0), ('sept.', 0), ('8:03', 0), ('unitedhatesusall', 0), ('riot', 0), ('rang', 0), ('vendor', 0), ('expand', 0), ('moodlight', 0), ('sciencebehindtheexperience', 0), ('y7o0unxtqp', 0), ('cld', 0), ('mk', 0), ('weigh', 0), ('conveyor', 0), ('1703', 0), ('betty', 0), ('ilm', 0), ('3870', 0), ('tan', 0), ('t.', 0), ('uld0hwfkfo', 0), ('homegirl', 0), ('📱', 0), ('unamerican', 0), ('h11jglw74l”ayyy', 0), ('displayed', 0), ('lov', 0), ('inedible', 0), ('shrimp', 0), ('sotl8xqsrp', 0), ('tomo', 0), ('stephenrodrick', 0), ('twitterhug', 0), ('shesaidrun', 0), ('bohnjai', 0), ('stole', 0), ('aging', 0), ('doorstep', 0), ('speciifc', 0), ('character', 0), ('neverflyaaagain', 0), ('krescate', 0), ('toplay', 0), ('vainglorygame', 0), ('cmjriwop7o', 0), ('coachgs', 0), ('cheap1', 0), ('ktm', 0), ('1707', 0), ('poop', 0), ('4827', 0), ('dilemma', 0), ('suspended', 0), ('12b', 0), ('41g.', 0), ('peterpiatetsky', 0), ('chasefoster', 0), ('wylie', 0), ('jgor0vdi3s', 0), ('valentine', 0), ('swair-', 0), ('tortured', 0), ('assisted', 0), ('11:23', 0), ('scotch', 0), ('coffeemaker', 0), ('ft1892', 0), ('be4', 0), ('coma', 0), ('reinforcements', 0), ('securing', 0), ('disneyworld', 0), ('rundisney', 0), ('stqy9v8256', 0), ('invite', 0), ('helacohlc', 0), ('prevention', 0), ('condom', 0), ('rito', 0), ('501(c)(3)thanks', 0), ('oka', 0), ('irons', 0), ('lapse', 0), ('strandednyc', 0), ('unfold', 0), ('accomidating', 0), ('emerg', 0), ('1997', 0), ('fargo', 0), ('fargoairport', 0), ('amazings', 0), ('4285', 0), ('community', 0), ('managers', 0), ('e2axlqzwvh', 0), ('example-', 0), ('1627', 0), (\"86'd\", 0), ('fifty', 0), ('telaviv', 0), ('impolite', 0), ('assistant', 0), ('brisk', 0), ('vx363', 0), ('rmznivgmg6', 0), ('scanned', 0), ('shivadelrahim', 0), ('2hours', 0), ('hesitant', 0), ('sized', 0), ('me=', 0), ('gah', 0), ('disorganised', 0), ('1672', 0), ('5sdlyn9mss', 0), ('complt', 0), ('295.lav', 0), ('pln', 0), ('lnded', 0), ('authority', 0), ('brink', 0), ('bankruptcy', 0), ('01ldxn3qqq', 0), ('reccewife', 0), ('heh', 0), ('1mnth', 0), ('bcs', 0), ('laurasbrown5', 0), ('-thx', 0), ('using.this.word', 0), (\"you're\", 0), ('fd2tnyctrb', 0), ('expansion', 0), ('exciting', 0), ('b3', 0), ('1299', 0), ('m13', 0), ('lx009', 0), ('8jcediky9u', 0), ('need2know', 0), ('maf', 0), ('gvgkhbx1rb', 0), ('wentook3', 0), ('n775jb', 0), ('capture', 0), ('ua1564', 0), ('ua4232', 0), ('curbside', 0), ('teamusa', 0), ('france', 0), ('to(4', 0), ('humanity', 0), ('tiredofthis', 0), ('528', 0), ('sill', 0), ('volkswagen', 0), ('whatacluster', 0), ('48hrs', 0), ('11:30am', 0), ('darrel', 0), ('draws', 0), ('hrvuktpvn1', 0), ('my3dnvbzaz', 0), ('jimtrotter_nfl', 0), ('listened', 0), ('unfair', 0), ('arvls', 0), ('custs', 0), ('professors', 0), ('midterm', 0), ('kathryn', 0), ('sotelo', 0), ('broth', 0), ('ua4689', 0), ('yhz', 0), ('sal', 0), ('clo', 0), ('1h45', 0), ('av', 0), ('l2n0eghdgn', 0), ('jfk!even', 0), ('50.000', 0), ('incompetency', 0), ('b16', 0), ('airserv', 0), ('contractors', 0), ('ua1566', 0), ('calamity', 0), ('ncrmqibiwo', 0), ('attendant(eliz', 0), ('673', 0), ('crosswinds', 0), ('eliz', 0), ('nicest', 0), ('11:51', 0), ('4:41', 0), ('605', 0), ('flight?1153', 0), ('~tom', 0), ('77', 0), ('nerds', 0), ('dressed', 0), ('veers', 0), ('atwyifh6zy', 0), ('jm4geyxby5”lol', 0), ('1449', 0), ('stow', 0), ('aggravation', 0), ('graded', 0), ('eqp', 0), ('exhibited', 0), ('newamericanairline', 0), ('cheapslogannotmotto', 0), ('rgywjbbhm4', 0), ('4110', 0), ('isp', 0), ('seanvrose', 0), ('writers', 0), ('nbd', 0), ('muchas', 0), ('grassy', 0), (\"cap'n\", 0), ('c8mqezxvdh', 0), ('iidrblnoox', 0), ('bars', 0), ('airlineguys', 0), ('mwsoguc33p', 0), ('856.81', 0), ('excruciatingly', 0), ('sine', 0), ('vibrant', 0), ('habitrails', 0), ('impatience', 0), ('untruthful', 0), ('4651', 0), ('4348', 0), ('thier', 0), ('flight6831', 0), ('pssgrs', 0), ('psngrs', 0), ('3763', 0), ('outdoor', 0), (\"king'scollegelondon\", 0), ('jailbreak', 0), ('rag', 0), ('zqutus7epw', 0), ('usaireays', 0), ('vu5lbzxtrx', 0), ('owen', 0), ('agpb45v8wt', 0), ('werenot', 0), ('2chng', 0), ('going2', 0), ('whch', 0), ('advsry', 0), ('suck!we', 0), ('bestfriend', 0), ('interviewed', 0), ('recruiter', 0), ('pits', 0), ('disconnections', 0), ('1558', 0), ('fy6f9rzb9k', 0), ('n7osjz8a59', 0), ('fattuesday', 0), ('hateful', 0), ('doesnt', 0), ('shits', 0), ('😣', 0), ('deemed', 0), ('bad!?!maybe', 0), ('slash', 0), ('engagement', 0), ('cooler', 0), ('1691', 0), ('nakedmeetings', 0), ('mbltalr4bs', 0), ('asgmnt', 0), ('10:15am', 0), ('aired', 0), ('bookofnegroes', 0), ('kn', 0), ('bypass', 0), ('cju102xp2k', 0), ('waved', 0), ('yoga', 0), ('yeehaw', 0), ('vent', 0), ('wway', 0), ('apologise', 0), ('blameshiftoverload', 0), ('disneyprincesshalfmarathon', 0), ('girlsweekend', 0), ('bffs', 0), ('uncontrollably', 0), ('7dm2j8h97', 0), ('xedeckgmw5', 0), ('frghglmkqf', 0), ('wellplayed', 0), ('jokesonus', 0), ('kmdw', 0), ('b738', 0), ('6cpypgfnd6', 0), ('liftin', 0), ('higherandhigher', 0), ('xgfs6tjtmo', 0), ('ixm3t5mizc', 0), ('t2qbgamfpc', 0), ('thu', 0), ('teeming', 0), ('morons', 0), ('natt', 0), ('eniqg0buzj', 0), ('3345', 0), ('bringbackrealstaff', 0), ('spreading', 0), ('nftyconvention', 0), ('ttbty89ilo', 0), ('nl', 0), ('disappointments', 0), ('plowing', 0), ('back;)', 0), ('shuffle', 0), ('1058', 0), (\"dest'n\", 0), ('saysorrychris', 0), ('^sw”followed', 0), ('6f', 0), ('1818', 0), ('cavs', 0), ('audio', 0), ('watered', 0), ('hahahah', 0), ('generally', 0), ('unhelpfulness', 0), ('taxiing', 0), ('1899', 0), ('bbzijwfdl3', 0), ('curtesy', 0), ('bestplanesever', 0), ('birder', 0), ('trap', 0), ('intro', 0), ('qxnoaqtyn8', 0), ('jk7qmdfqgf', 0), ('flt348', 0), ('satisfaction', 0), ('mistreated', 0), ('xfinity', 0), ('grossed', 0), ('internationally', 0), ('manned', 0), ('supplies', 0), ('divident', 0), ('kciairport', 0), ('9:58', 0), ('valued', 0), ('871', 0), ('failingyourcustomer', 0), ('4.5', 0), ('reveal', 0), ('keepingit100', 0), ('weaktea', 0), ('dm-', 0), ('vcp', 0), ('pats', 0), ('doyourjob', 0), ('aeroport', 0), ('cflanagian', 0), ('shadier', 0), ('nines', 0), ('sammi_jon3s', 0), ('hdsportsguy', 0), ('kkwhb', 0), ('b46', 0), ('lhrdfw', 0), ('equivalent', 0), ('dirt', 0), ('tn', 0), ('214i0rtih4', 0), ('4841', 0), ('rise', 0), ('q4', 0), ('lfs4pefe6y', 0), ('mclarren(sp', 0), ('unhappytraveler', 0), ('perspective', 0), ('expressed', 0), ('communicationiskey', 0), ('competitors', 0), ('itproblems', 0), ('owed', 0), ('46min', 0), ('nbsnewsr', 0), ('rtn', 0), ('22nd', 0), ('meoalcipdd', 0), ('flyingwithus', 0), ('lostacustomer', 0), ('4609', 0), ('u390czplhl', 0), ('2139', 0), ('+20min', 0), ('investors', 0), ('blade', 0), ('r4xjxqrx1z', 0), ('benjaminokeefe', 0), ('coat?”unfortunately', 0), ('werenotincalianymore', 0), ('1tfh2v0a7z', 0), ('literate', 0), ('18hrs', 0), ('chartering', 0), ('om1vieg74a', 0), ('gif', 0), ('brochure', 0), ('touting', 0), ('timbennettg3', 0), ('4532', 0), ('8:38', 0), ('emaleesugano', 0), ('awol', 0), ('lite', 0), ('mt8splm02v', 0), ('spotting', 0), ('ezemanalyst', 0), ('impersonal', 0), ('impatient', 0), ('brag', 0), ('us3645', 0), ('buwjtvuwkm', 0), ('lopezlaymari', 0), ('megentripodi', 0), ('jordnnicole7', 0), ('retaining', 0), ('whisper', 0), ('pamper', 0), ('fend4yourself', 0), ('pw1eudlczg', 0), ('engadget', 0), ('theverge', 0), ('wired', 0), ('nght', 0), ('flighted-mech.probs', 0), ('cls', 0), ('285', 0), ('unitedairlinessuck', 0), ('overloaded', 0), ('4232', 0), ('frank', 0), ('hoot', 0), ('buzzkill', 0), ('students', 0), ('occasion', 0), ('8.51', 0), ('segway', 0), ('infographic', 0), ('forsyth_factor', 0), ('lsusoftball', 0), ('lsuquinlanduhon', 0), ('ottawa', 0), ('pgatour', 0), ('shittydeal', 0), ('overfilled', 0), ('superben', 0), ('graduate', 0), ('slacksoft_uk', 0), ('colours', 0), ('6475', 0), ('2b4bdtldx2', 0), ('849', 0), ('subsequent', 0), ('ua304', 0), ('invoices', 0), ('usdelay', 0), ('letsgoalready', 0), ('fifth', 0), ('persistence', 0), ('abuse', 0), ('overcharge', 0), ('privilege', 0), ('sdylukr7pt', 0), ('robthecameraman', 0), ('abcnetwork', 0), ('permissions', 0), ('whyabcwhy', 0), ('657', 0), ('candice', 0), ('probability', 0), ('1330', 0), ('hep', 0), ('rejected', 0), ('m7mmq2f5fa', 0), ('lizaapproved', 0), ('notahappycustomer', 0), ('leavingtomm', 0), ('mario', 0), ('bros', 0), ('gameboy', 0), ('premiers', 0), ('10:55pm', 0), ('melinda', 0), ('greensboro', 0), ('jewel', 0), ('nikon', 0), ('prebook', 0), ('7.unnecessary', 0), ('tokyo', 0), ('72rmpkogwu', 0), ('cbcallinaday', 0), ('cbcnews', 0), ('visiting', 0), ('nothing,(1', 0), ('docs', 0), ('stillmakingmepoorthough', 0), ('recharging', 0), ('f*%', 0), ('ed', 0), ('stare', 0), ('555phltoslc', 0), ('height', 0), ('costarica', 0), ('pennies', 0), ('vacatime', 0), ('emphasize', 0), ('vape', 0), ('onholdforever', 0), ('suboptimal', 0), ('consultant', 0), ('treacherous', 0), ('0hmmqczkcf', 0), ('printed', 0), ('records', 0), ('flutter', 0), ('fullprice', 0), ('itslaloca', 0), ('weyburn', 0), ('rtqyjcvtq3', 0), ('mergers', 0), ('condescension', 0), ('classics', 0), ('puj', 0), ('trials', 0), ('dreading', 0), ('tad', 0), ('fuckinf', 0), ('errored', 0), ('megzezzo', 0), ('injured', 0), ('fw3cy8hgdj', 0), ('goodcustomerservice', 0), ('dmsc', 0), ('usairways.com', 0), ('infuriated', 0), ('27.just', 0), ('inv', 0), ('proficient', 0), ('3:05pm', 0), ('foresight', 0), ('managing', 0), ('greenfield', 0), ('reporter', 0), ('lm3opxkxch', 0), ('divided', 0), ('qw2ebeemvg', 0), ('.not', 0), ('reappeared', 0), ('backpack', 0), ('135', 0), ('spin', 0), ('auciello', 0), ('transpired', 0), ('kl9baimes6', 0), ('visors', 0), ('redemption', 0), ('12.45am', 0), ('138', 0), ('ps9q9rpsil', 0), ('ba_usa', 0), ('20mins', 0), ('wouldve', 0), ('liked', 0), ('perform', 0), ('eb', 0), ('a30', 0), ('pipes', 0), ('3900', 0), ('fro', 0), ('plumber', 0), ('8o3scr5efw', 0), ('jetbluehatesbtv', 0), ('quitting', 0), ('posting', 0), ('feck', 0), ('cozy', 0), ('helpmeplease', 0), ('anyonethere', 0), ('tomorrow.would', 0), ('5396', 0), ('prettyplease', 0), (\"6'4\", 0), ('850', 0), ('11:40am', 0), ('wewanttoknow', 0), ('affiliate', 0), ('aa2227', 0), ('miatoiah', 0), ('2hrs35minonhold', 0), ('29.1.15', 0), ('10.2.15', 0), ('704', 0), ('grandcayman', 0), ('gx7qbtckbr', 0), ('chats', 0), ('rkorhvr9z1', 0), ('contentmarketing', 0), ('incomprehensible', 0), ('qkkjdfobos', 0), ('chrysichrysic', 0), ('2086', 0), ('cnxns', 0), ('coathanging', 0), ('connetion', 0), ('fehqne', 0), ('21feb15', 0), ('24hours', 0), ('flight919', 0), ('saveus', 0), ('irmafromdallas', 0), ('ath', 0), ('refresh', 0), ('hamsters', 0), ('rabbits', 0), ('doctors', 0), ('issues-', 0), ('rez', 0), ('1254', 0), ('tourist', 0), ('tides', 0), ('tide', 0), ('u.k', 0), ('coasts', 0), ('gxdqortss0', 0), ('f*cking', 0), (\"we'e\", 0), ('baking', 0), ('3415', 0), ('kat', 0), ('tasty', 0), ('leather', 0), ('ay', 0), ('seams', 0), ('5:55', 0), ('4:15', 0), ('sinuses', 0), ('contend', 0), ('landings', 0), ('preregistration', 0), ('pullin', 0), ('sh', 0), ('av2rffhmcv', 0), ('luvagent', 0), ('pummeled', 0), ('c2next', 0), ('milageplus', 0), ('attempts', 0), ('hour??hope', 0), ('relying', 0), ('caffeine', 0), ('needcoffee', 0), ('blushing', 0), ('us84', 0), ('2008', 0), ('threw', 0), ('undrstnd', 0), ('-but', 0), ('wlcm', 0), ('onbrd', 0), ('aufm4xdaj2', 0), ('lacking', 0), ('gopro', 0), ('interrupted', 0), ('5594', 0), ('3937', 0), ('smelled', 0), ('vrm', 0), ('1170', 0), ('877', 0), ('02.27.2015', 0), ('overheads', 0), ('rockies', 0), ('airplanemodewason', 0), ('processes', 0), ('anotherfail', 0), ('vitaminwater', 0), ('dosequis', 0), ('fattire', 0), ('209', 0), ('for40', 0), ('for4', 0), ('16hr', 0), ('55mins', 0), ('rett', 0), ('cavan', 0), ('gofundme', 0), ('oct', 0), ('25-oct', 0), ('weather….call', 0), ('outofbusiness', 0), ('577', 0), ('prn', 0), ('tryagain', 0), ('tyxaztmq1u', 0), ('boot', 0), ('stink', 0), ('psp', 0), ('eould', 0), ('regularly', 0), ('denairport', 0), ('xijifymvqp', 0), ('bene', 0), ('aa138', 0), ('45minutes', 0), ('20l.', 0), ('20l', 0), ('monsoon', 0), ('failover', 0), ('xltv5z6st1', 0), ('flt1727', 0), ('w3xs6tvpzg', 0), ('dishonest', 0), ('pillow', 0), ('followers', 0), ('soc', 0), ('dontflyusairways', 0), ('38e', 0), ('twtr', 0), ('9:05pm', 0), ('ua3462', 0), ('scoop', 0), ('motto', 0), ('seam', 0), ('busted', 0), ('zippers', 0), ('lhwfbkfyni', 0), ('2am', 0), ('nfaqhhr09j', 0), ('transformative', 0), ('7f.', 0), ('airbusintheus', 0), ('aruba_airport', 0), ('warmweather', 0), ('kaej9g0chd', 0), ('yow', 0), ('yxu', 0), ('matthewebel', 0), ('defines', 0), ('flt1999', 0), ('aadavantage', 0), ('atct', 0), ('hpsieaokwh', 0), ('imjustsaying', 0), ('t6fyybhjhl', 0), ('integrating', 0), ('wheresthecustomerserviceat', 0), ('phi2ifnjit', 0), ('staticy', 0), ('ithelpsabit', 0), ('pereira', 0), ('cartago', 0), ('streets', 0), ('ack', 0), ('qrxvzfrd1z', 0), ('outoftouchwithreality', 0), ('10,000lbs', 0), ('lavoratories', 0), ('transfers', 0), ('574', 0), ('enraging', 0), ('sacintlairport', 0), ('bestinclass', 0), ('takemehome', 0), ('teams', 0), ('takingthistothetop', 0), ('willneverflywithyou', 0), ('additionally', 0), ('ijustwanttobeinboston', 0), ('thanksdc', 0), ('ua1568', 0), ('ua1543', 0), ('uplink', 0), ('~$400', 0), ('sub', 0), ('ont', 0), ('-1st', 0), ('involuntarily', 0), ('preferably', 0), ('bru', 0), ('retain', 0), ('pulse', 0), ('hxsnv7fbbh', 0), ('tighter', 0), ('addair', 0), ('^cp”done', 0), ('pays', 0), ('46am1bsi2', 0), ('vx413', 0), ('flightled?gonna', 0), ('gratitude.mpower', 0), ('1agr9kncpf', 0), ('werin', 0), ('oscars2105', 0), ('vipswagbags', 0), ('avalonhollywood', 0), ('ybmbgs0dhn', 0), ('round)trip', 0), ('gains', 0), ('10:30pm', 0), ('fuel&&likely', 0), ('cycle', 0), ('q16xvwg0l6', 0), ('unitedflyerhd', 0), ('united_airline', 0), ('n26902', 0), ('b787fans', 0), ('ai0yzwt8za', 0), ('mfmnkmvotr”rt', 0), ('4ward', 0), ('quickest', 0), ('wholly', 0), ('stowaway', 0), ('2053', 0), ('fr1', 0), ('sr', 0), ('256746438028', 0), ('14hrs', 0), ('regains', 0), ('karma', 0), ('sweaty', 0), ('2470', 0), ('mojave', 0), ('pressurecooker', 0), ('heattrap', 0), ('25-$100', 0), ('waldorf', 0), ('astoria', 0), ('outfit', 0), ('899', 0), ('hlzahxkdsn', 0), ('lastflightwithyouever', 0), ('americanairsucks', 0), ('hiremorepoeple', 0), ('covering', 0), ('defcon', 0), ('aaron', 0), ('hurts', 0), ('airpt', 0), ('1074', 0), ('saddening', 0), ('nerdbird', 0), ('montego', 0), ('2check', 0), ('lovesouthwestair', 0), ('jeffsmisek', 0), ('robertfor39', 0), ('fioretti2ndward', 0), ('garcia4chicago', 0), ('wk', 0), ('jvj73zza4a', 0), ('lucy_may', 0), ('surly', 0), ('pesky', 0), ('weights', 0), ('jobfail', 0), ('cling', 0), ('kumtbger03', 0), ('profile', 0), ('ua1459', 0), ('threehourslate', 0), ('unreasonable', 0), ('1incncav4n', 0), ('hovuaisg16', 0), ('6344,6373', 0), ('1576', 0), ('ua1266', 0), ('amagrino', 0), ('sends', 0), ('outrage', 0), ('kkwiwi97a4', 0), ('outpost', 0), ('~1', 0), ('6600', 0), ('westpalmbeach', 0), ('flybetter', 0), ('aa3230', 0), ('worlds', 0), ('largest', 0), ('nbpcjcpew9', 0), ('snowbound', 0), ('relatives', 0), ('3lpvfhky2f', 0), ('sister&&brother', 0), ('quickie', 0), ('5392', 0), ('hasty', 0), ('unwise', 0), ('pushback', 0), ('plows', 0), ('iata', 0), ('uhumaskldv', 0), ('tonight-', 0), ('5:26', 0), ('745', 0), ('815', 0), ('clowns', 0), ('aggravated', 0), ('800iflyswa', 0), ('scattered', 0), ('roadtrip', 0), ('1tix', 0), ('3618', 0), ('cpus', 0), ('realise', 0), ('tinder', 0), ('tindertips', 0), ('tinderchamp', 0), ('jbmvvha63a', 0), ('progressed', 0), ('919', 0), ('675', 0), ('0985', 0), ('rachel', 0), ('wong', 0), ('marisol', 0), ('pimentel', 0), ('.thank', 0), ('mm', 0), ('9:45', 0), ('shades', 0), ('windows', 0), ('rj-145s', 0), ('--a', 0), ('aoeaeszdlx', 0), ('qjlzrywfj2', 0), ('ensuring', 0), ('significantly', 0), ('baggagelost', 0), ('67', 0), ('mainline', 0), ('p.s', 0), ('10:14am', 0), ('9:19pm', 0), ('fly2midway', 0), ('20years', 0), ('eventprof', 0), ('ben', 0), ('valuing', 0), ('clockwork', 0), ('scareways', 0), ('neverfails', 0), ('aumilo1', 0), ('anyhelp', 0), ('5639', 0), ('position?how', 0), ('jparkermastin', 0), ('passive', 0), ('mc', 0), ('caren', 0), ('johnnosta', 0), ('usaw', 0), ('6377', 0), ('tagged', 0), ('balancing', 0), ('cyberattack', 0), ('readded', 0), ('asha', 0), ('diverged', 0), ('burlington', 0), ('vermont', 0), ('nopq5xisbs', 0), ('jmnkj6bmc2', 0), ('blizzue', 0), ('hizouse', 0), ('grandmothers', 0), ('4llwi5oxvo', 0), ('lmfa', 0), ('chaotic', 0), ('connection=', 0), ('surfboardbag', 0), ('combative', 0), ('hury', 0), ('throne', 0), ('jdbwaffles', 0), ('7e5bxwg16', 0), ('79wajk7eyt', 0), ('crystal', 0), ('qgtcao1j2u', 0), ('fancy', 0), ('lieflat', 0), ('saxonandparole', 0), ('lobstermac', 0), ('bloodymary', 0), ('jetsetter', 0), ('zf5wjgtxzt', 0), ('descent', 0), ('p.m', 0), ('619-', 0), ('lugging', 0), ('localized', 0), ('unrelate', 0), ('cmfat35000feet', 0), ('kek5pdmgif', 0), ('uncertainty', 0), ('undue', 0), (\"req'ing\", 0), ('4am', 0), ('2301', 0), ('newarkliberty', 0), ('indicate', 0), ('a&&c.', 0), ('flyingainteasy', 0), ('totallyconfused', 0), ('dvsltqzkmq', 0), ('i6ep18', 0), ('els', 0), ('deli', 0), ('customerservicenot', 0), ('troubling', 0), ('nmbhngnmki', 0), ('-chairman', 0), ('feltthelove', 0), ('rubbed', 0), ('bz', 0), ('sld', 0), ('11:20', 0), ('eul6sdurbu', 0), ('earlybirdmeansnothing', 0), ('nohotel', 0), ('bila', 0), ('guesstimate', 0), ('treenut', 0), ('belfast', 0), ('unmissable', 0), ('bushug', 0), ('format', 0), ('busads', 0), ('thinkbus', 0), ('belfastairport', 0), ('avbdstjujs', 0), ('f38ish', 0), ('jacquelyn', 0), ('2251', 0), ('wbhbljjks7', 0), ('261633561838', 0), ('whufmi2ytd', 0), ('fbtemfwrsp', 0), ('chillycvz', 0), ('thankgoodness', 0), ('mypompanobeach', 0), ('mysterious', 0), ('pdquigley', 0), ('ballbag', 0), ('soda', 0), ('xhlc30mtff', 0), ('763', 0), ('executiveplatinummeansnothing', 0), ('iwantcoffee', 0), ('smelly', 0), ('0736', 0), ('2:10pm', 0), ('android', 0), ('government', 0), ('approval', 0), ('soulandinspiration', 0), ('igkogywksr', 0), ('laughter', 0), ('ty9c0gae2o', 0), ('disturb', 0), ('nh2i9zlzmk', 0), ('vbfieo2qjc', 0), ('juice', 0), ('getphilz', 0), ('sg7iqqfvso', 0), ('marry', 0), ('lamp', 0), ('desperate', 0), ('bgtjfmneot', 0), ('waiving', 0), ('active_aly', 0), ('tzzjhuibch', 0), ('barrettkarabis', 0), ('overreacting', 0), ('swag', 0), ('wens', 0), ('rapidly', 0), ('1:45pm', 0), ('fantasy', 0), ('slight', 0), ('tweak', 0), ('-any', 0), ('bugging', 0), ('1106', 0), ('tkauygcpms', 0), ('290', 0), ('sb5551', 0), ('0769', 0), ('brd', 0), ('now.frustrated', 0), ('roc.if', 0), ('mess.cng', 0), ('overbk', 0), ('distances', 0), ('hunky', 0), ('dory', 0), ('theworstairline', 0), ('aa3195', 0), ('aa1458', 0), ('518,758', 0), ('diet', 0), ('bizness', 0), ('jokerunning', 0), ('contents', 0), ('mtgs', 0), ('basics', 0), ('sprawled', 0), ('grossedout', 0), ('locally', 0), ('gal', 0), ('vbuxfpckfa', 0), ('insisted', 0), ('kieranmahan', 0), ('realizing', 0), ('mask', 0), ('ua978', 0), ('são', 0), ('781', 0), ('879', 0), ('4505', 0), ('backtodelta', 0), ('4469', 0), ('demolish', 0), ('1002', 0), ('5:44pm', 0), ('routed', 0), ('vanessaannz', 0), ('inclemental', 0), ('dart', 0), ('dartmedia', 0), ('1903', 0), ('pt', 0), ('stndby', 0), ('missedwork', 0), ('clientnothappy', 0), ('suprlfoi8', 0), ('ruins', 0), ('dreams', 0), ('atd2sm8hf4', 0), ('1777', 0), ('clearance', 0), ('f6dk04', 0), ('xzmscw', 0), ('branson', 0), ('unpleased', 0), ('wgyztnjcxm', 0), ('930', 0), ('3458', 0), ('314505529', 0), ('ots', 0), ('reallytallchris', 0), ('zv2pt6trk9', 0), ('gogh', 0), ('e1eofthgaj', 0), ('chef', 0), ('miguel', 0), ('allende', 0), ('7t1rdrcre6', 0), ('honorable', 0), ('economic', 0), ('fernheinig18', 0), ('cultural', 0), ('appropriation', 0), ('muh', 0), ('svllindia', 0), ('mumbai', 0), ('surat', 0), ('navimumbai', 0), ('saipan', 0), ('guam', 0), ('adventure', 0), ('capeair', 0), ('dignity', 0), ('cih1qnllcm', 0), ('acy', 0), ('andyellwood', 0), ('delk', 0), ('wake', 0), ('penalized', 0), ('packing', 0), ('lightly', 0), ('buybacks', 0), ('retire', 0), ('m2wsg2olgo', 0), ('restructured', 0), ('brotha', 0), ('3hourdelay', 0), ('cnctl7g1ef', 0), ('diabetic', 0), ('insulin', 0), ('7pofsxojsy', 0), ('cesspool', 0), ('germs', 0), ('38a', 0), ('assumed', 0), ('8e.', 0), ('needtobehonest', 0), ('areyounew', 0), ('no800number', 0), ('feeltheheat', 0), ('purely', 0), ('xx5qscjll1', 0), ('brandssayingbae', 0), ('freberg15', 0), ('espn_coachmack', 0), ('velcro', 0), ('inebriated', 0), ('alcohol', 0), ('reactions', 0), ('fete', 0), ('destination-', 0), ('9year', 0), ('crummyservice', 0), ('whydidntiflysouthwest', 0), ('goodluckamericanair', 0), ('badcustomerexperience', 0), ('systemic', 0), ('153.69.214.203', 0), ('disallows', 0), ('ksml', 0), ('szr0pioa21', 0), ('covert', 0), ('tactics', 0), ('dontdothistome', 0), ('scene', 0), ('muscles', 0), ('frown', 0), ('flyin', 0), ('gripeo', 0), ('f6copx1fvj', 0), ('2.5yrs', 0), ('southwestluvsweeps', 0), ('lilly', 0), ('cbsnews', 0), ('efficencies', 0), ('pvg', 0), ('tos', 0), ('nascar', 0), ('1:02', 0), ('tf', 0), ('ricoh', 0), ('smith', 0), ('oust', 0), ('da', 0), ('fuccc-', 0), ('oaj5mnucha', 0), ('welcomes', 0), ('pri', 0), ('opsec', 0), ('1553', 0), ('resume', 0), ('speechless', 0), ('panam', 0), ('accomplish', 0), ('aim', 0), (\"that'd\", 0), ('onion', 0), ('rings', 0), ('drinking', 0), ('online?rep', 0), ('accurately', 0), ('mae', 0), ('nanceebing', 0), ('professor', 0), ('skiplagged', 0), ('startups', 0), ('3127', 0), ('1907', 0), ('lizautter', 0), ('thest', 0), ('southwestsmoothie', 0), ('vr9k180lai', 0), ('elizabeth', 0), ('tahiti', 0), ('aaalwayslate', 0), ('2293', 0), ('paul', 0), ('convince', 0), ('psychological', 0), ('tricks', 0), ('colors', 0), ('-in', 0), ('ebhset', 0), ('building', 0), ('falseadvertising', 0), ('replaced', 0), ('russelneiss', 0), ('aa3490', 0), ('2edgc6tbls', 0), ('marinadomine', 0), ('bom', 0), ('may.', 0), ('copay', 0), ('condolences', 0), ('suntimes', 0), ('cameragear', 0), ('162', 0), ('mrrenevendez', 0), ('gn30p75kqb', 0), ('rayja9', 0), ('martysg', 0), ('h6ce3mwcqj', 0), ('qkquraggoo', 0), ('stuffing', 0), ('sweat', 0), ('gassing', 0), ('barklays', 0), ('book(in', 0), ('ua5282', 0), ('x2', 0), ('clown', 0), ('hitch', 0), ('hike', 0), ('passengersarepeople', 0), ('snaps', 0), ('cups', 0), ('minimum', 0), ('1831', 0), ('erw', 0), ('442998', 0), ('threat', 0), ('sue', 0), ('67k4n9eq6e', 0), ('15-hr', 0), ('witness', 0), ('mental', 0), ('bounce', 0), ('walls', 0), ('1k.', 0), ('mall', 0), ('n7exdbcrhg', 0), ('4:36', 0), ('backroads', 0), ('78', 0), ('sides', 0), ('blessed', 0), ('pe', 0), ('20k', 0), ('in24bpb7dw', 0), ('browsers', 0), ('popping', 0), ('cannedtweet', 0), ('ua6465', 0), ('437', 0), ('ab', 0), ('2334', 0), ('8:30am', 0), ('11:40', 0), ('4h2', 0), ('5h2', 0), ('timezones', 0), ('accuratetraveltimes', 0), ('3rdtimethishashappened', 0), ('e0c9bi09cf', 0), ('bounces', 0), ('worstservice', 0), ('meanwhile', 0), ('dreadful', 0), ('agreed', 0), ('reschedules', 0), ('2hr15min', 0), ('grt', 0), ('crackers', 0), ('angering', 0), ('slowness', 0), ('removing', 0), ('lists', 0), ('rkwugmanm9', 0), ('833', 0), ('helene', 0), ('dotnetnate', 0), ('exps', 0), ('trade', 0), ('sunkist', 0), ('webbernaturals', 0), ('1l9scwphph', 0), ('ua4727', 0), ('turrible', 0), ('inhumane', 0), ('letsworktogether', 0), ('6:05pm', 0), ('893', 0), ('secrets', 0), ('purchasing', 0), ('ripoffs', 0), ('pricediscrimination', 0), ('ridicules', 0), ('honululu', 0), ('882', 0), ('mayweather', 0), ('pacquiao', 0), ('meelan', 0), ('rec', 0), ('sjc->lax', 0), ('intel', 0), ('645', 0), ('punished', 0), ('passengerslose', 0), ('intuit', 0), ('jhamilton2007', 0), ('careers', 0), ('intuitlife', 0), ('leanin', 0), ('2qjbcv5jzq', 0), ('pek', 0), ('sandra', 0), ('commented', 0), ('25yrs', 0), ('l.a.', 0), ('yccitaep3s', 0), ('amateurs', 0), ('vu7xswjkiy', 0), ('maui', 0), ('5141', 0), ('staffing', 0), ('shavon', 0), ('evn', 0), ('5kshtue6q0', 0), ('cinnabon', 0), ('cinnabons', 0), ('bonsinthesky', 0), ('50th', 0), ('10th', 0), ('sweethearts', 0), ('companions', 0), ('avatars', 0), ('kitty', 0), ('disproportionate', 0), ('aptzpurop4', 0), ('ga8pbamu0c', 0), ('3768', 0), ('2522', 0), ('2100', 0), ('ticket,12h', 0), ('meeting,7', 0), ('chkout', 0), ('12,flt', 0), ('5,no', 0), ('vegetarian', 0), ('shrug', 0), ('ua768', 0), ('instance', 0), ('unsuccessful', 0), ('nonperformance', 0), ('us2118', 0), ('amy', 0), ('lloyd', 0), ('nfjauw16vz<--', 0), ('digging', 0), ('earning', 0), ('1584', 0), ('connolly', 0), ('🌞', 0), ('shannonbloom', 0), ('lines-', 0), ('advan', 0), ('exits', 0), ('9:51pm', 0), ('worstflightexperienceever', 0), ('getmehome', 0), ('flight4592', 0), ('3466', 0), ('slide', 0), ('maddie_flood', 0), ('booster', 0), ('mccaren', 0), ('1089', 0), ('faail', 0), ('4:40pm', 0), ('candy', 0), ('449', 0), ('compare', 0), ('diufep8n2q', 0), ('pairings', 0), ('redwineisbetter', 0), ('shiver', 0), ('forevercold', 0), ('beqotlnugc', 0), ('ui9m8ypzh2', 0), ('3267', 0), ('n659sw', 0), ('mitchellairport', 0), ('lj2ydkor8q', 0), ('extending', 0), ('whats', 0), ('notahappytraveler', 0), ('bostongarden', 0), ('welcoming', 0), ('nbz45jcd1r', 0), ('getyourlife', 0), ('tower', 0), ('6:47', 0), ('greeted', 0), ('thanked', 0), ('gu', 0), ('invitation', 0), ('legit', 0), ('malfunctioning', 0), ('enzo', 0), ('setorii', 0), ('pooch', 0), ('dlh9138hbg', 0), ('divadapouch', 0), ('thepoopqueen', 0), ('xxy2d2imnp', 0), ('ind43728m.', 0), ('swapping', 0), ('clinicpolly', 0), ('you--', 0), ('8uxzj2', 0), ('utevgw', 0), ('n615jb', 0), ('sox', 0), ('513', 0), ('disneyland', 0), ('nkafbjyari', 0), ('breathe', 0), ('f5r3zz', 0), ('separating', 0), ('safetyconcerns', 0), ('ztrdwv0n4l', 0), ('contingencies', 0), ('extravaganza', 0), ('v8pvphmtzc', 0), ('lax29108', 0), ('ryxbplgmnk', 0), ('4439', 0), ('mismanagement', 0), ('grandparents', 0), ('tmobile', 0), ('combination', 0), ('40,000', 0), ('boardingpass', 0), ('wendell', 0), ('holton', 0), ('worse?oh', 0), ('lon;flight', 0), ('lkfh9hyhw8', 0), ('scvpools', 0), ('2210', 0), ('2324', 0), ('luxuries', 0), ('aesthetics', 0), ('offline', 0), ('michelle', 0), ('t1', 0), ('sorude', 0), ('learnt', 0), ('ebxc94kfjd', 0), ('bully', 0), ('mentality', 0), ('fostering', 0), ('inspiration', 0), ('greater', 0), ('employeerelations', 0), ('connecticut', 0), ('laughed', 0), ('550', 0), ('isthisreal', 0), ('nevertoldus', 0), ('iitojhuikh', 0), ('sosmart', 0), ('frequentflyerappreciates', 0), ('alsoyayforsnacks', 0), ('contradictory', 0), ('anaphylaxis', 0), ('12h30am', 0), ('callings', 0), ('increments', 0), ('fixes', 0), ('attitudy', 0), ('cabins', 0), ('enters', 0), ('deteriorating', 0), ('assurances', 0), ('updateyourwebsite', 0), ('angelo', 0), ('kitchen', 0), ('stuckonaplane', 0), ('sos', 0), ('babyfood', 0), ('avios', 0), ('measurements', 0), ('tia', 0), ('mosiac', 0), ('bicycles', 0), ('criteria', 0), ('bikes', 0), ('faq', 0), ('jamie', 0), ('mckinnie', 0), ('owning', 0), ('mold', 0), ('us3825', 0), ('filthyplane', 0), ('hopeidonotgetsick', 0), ('zik2uoxgnw', 0), ('6wks', 0), ('bensonhenderson', 0), ('mimosa', 0), ('ucf0b0bq8r', 0), ('reopen', 0), ('1285', 0), ('growing', 0), ('geraghty', 0), ('unansweredquestions', 0), ('1544', 0), ('burgundy', 0), ('27d.', 0), ('waitinginphilly', 0), ('flight838', 0), ('bored', 0), ('way!!', 0), ('portlandjetport', 0), ('kdmq0jps02', 0), ('thks', 0), ('tip', 0), ('accessible', 0), ('206', 0), ('canthurtasking', 0), ('734', 0), ('stagnant', 0), ('cheated', 0), ('wore', 0), ('5721', 0), ('away.now', 0), ('27l', 0), ('gagent', 0), ('danny', 0), ('us628', 0), ('jaskyplwt5', 0), ('sdm2wvr3zr', 0), ('cutoff', 0), ('riedel', 0), ('consolation', 0), ('impediment', 0), ('3387', 0), ('hopped', 0), ('winwin', 0), ('cutest', 0), ('pepper', 0), ('shaker', 0), ('vc6keulg2j', 0), ('savr', 0), ('awrd', 0), ('expanding', 0), ('kk6eixifp5', 0), ('freaked', 0), ('limbo', 0), ('cyndi', 0), ('troy', 0), ('2513', 0), ('1555', 0), ('origami', 0), ('oldpolicieswaybetter', 0), ('offensively', 0), ('particulars', 0), ('weighed', 0), ('45.5', 0), ('sbn', 0), ('8:20', 0), ('missin', 0), ('deicing', 0), ('flight1407', 0), ('ua871', 0), ('fyvrfn', 0), ('tickt', 0), ('obama', 0), ('7min', 0), ('2464', 0), ('await', 0), ('weeklycommuteonaa', 0), ('jqhg4jtm4w', 0), ('superiors', 0), ('exams', 0), ('-most', 0), ('ted', 0), ('-not', 0), ('dale', 0), ('versa', 0), ('4315', 0), ('n231wn', 0), ('idra8kenoh', 0), ('578', 0), ('6:05', 0), ('6:55', 0), ('secondary', 0), ('screenings', 0), ('vet', 0), ('healing', 0), ('wmn4life', 0), ('efficiently', 0), ('337', 0), ('waters', 0), ('480', 0), ('julesdameron', 0), ('accessibility', 0), ('equality', 0), ('memorize', 0), ('phrase', 0), ('31f', 0), ('aa1469', 0), ('t9jbn9wztq', 0), ('subscription', 0), ('ga', 0), ('fcuk', 0), ('paycheck', 0), ('37,000', 0), ('️bos', 0), ('dfpietra', 0), ('tsk', 0), ('uggh', 0), ('wmass', 0), ('strives', 0), ('centric', 0), ('additonal', 0), ('44', 0), ('countries', 0), ('sufficiently', 0), ('presumably', 0), ('reproach', 0), ('reform', 0), ('larkc8vc4s', 0), ('usable', 0), ('1other', 0), ('measure', 0), ('launched', 0), ('withheld', 0), ('kvfwajvvid', 0), ('improved', 0), ('attendents', 0), ('ua1022', 0), ('alwayshappensthere', 0), ('angrytraveler', 0), ('redsox', 0), ('️ny', 0), ('catsanddogslivingtogether', 0), ('kfuyyokufv', 0), ('lift', 0), ('lyqrb4hcyu', 0), ('investment', 0), ('surcharge', 0), ('tfgreenairport', 0), ('explanations', 0), ('45ktssk18j', 0), ('done.0', 0), ('sanitizer', 0), ('worstcustservice', 0), ('au1066', 0), ('nevergettinghome', 0), ('joe', 0), ('633', 0), ('aa1675', 0), ('unorganized', 0), ('ymmh9k4cbr', 0), ('strayed', 0), ('96sctomh29', 0), ('ua1023', 0), ('visibly', 0), ('9xbo5dakak', 0), ('3729', 0), ('huxleyesque', 0), ('slowly', 0), ('veterans', 0), ('mco.keep', 0), ('pounding', 0), ('1418', 0), ('entry', 0), ('boofin', 0), ('relayed', 0), ('toes', 0), ('charac', 0), ('stillnobags', 0), ('bedofroses', 0), ('colored', 0), ('3qyezhjgsb', 0), ('milesaaver', 0), ('whyfly', 0), ('4040', 0), ('3349', 0), ('gem', 0), ('bool', 0), ('niggaz', 0), ('manifests', 0), ('difficulties', 0), ('nocommunication', 0), ('hfjyn2vtvj', 0), ('wewantcomps', 0), ('maddening', 0), ('snoop', 0), ('-den', 0), ('poteettj', 0), ('citi', 0), ('karaax', 0), ('neuer', 0), ('mrjustyn', 0), ('studying', 0), ('lingo', 0), ('depressing', 0), ('417', 0), ('sexually', 0), ('3574', 0), ('airbus321seat14fproblems', 0), ('zkoe6clgiu', 0), ('csm', 0), ('daryl', 0), ('ripping', 0), ('northern', 0), ('nm4vnnf8kb', 0), ('n33103', 0), ('taxies', 0), ('bhx_official', 0), ('ua26', 0), ('liberty', 0), ('ialiceh2ft', 0), ('reboard', 0), ('eerekdf9fq', 0), ('losers', 0), ('f1yvaio9ul', 0), ('vglx6ykwqg', 0), ('overwhelmed', 0), ('delyd', 0), ('fella', 0), ('overtime', 0), ('disloyal', 0), ('0cevy3p42b', 0), ('huffpostbiz', 0), ('ontario', 0), ('idlovetoask', 0), ('dpx3yogtej', 0), ('hindered', 0), ('snapped', 0), ('dumped', 0), ('firstworldproblems', 0), ('83', 0), ('supertzar85', 0), ('qranzimhtr', 0), ('aye', 0), ('profitbeforepeople', 0), ('2020', 0), ('icloud', 0), ('917', 0), ('salisbury', 0), ('intra', 0), ('lineup', 0), ('4210', 0), ('bradley_airport', 0), ('1800-flowers', 0), ('ewk', 0), ('pseudo', 0), ('daysinn', 0), ('existence', 0), ('1138', 0), ('af', 0), ('nutsaboutsouthwest', 0), ('longing', 0), ('firstlove', 0), ('toll', 0), ('hearts', 0), ('3ubcoasyws', 0), ('grouping', 0), ('2031', 0), ('regretting', 0), ('hotterandlongerthanhell', 0), ('fluctuated', 0), ('acpt', 0), ('✅', 0), ('❌', 0), ('qp6aw3nlip', 0), ('12:15', 0), ('disputed', 0), ('like(1', 0), ('condo', 0), ('noanswer', 0), ('staring', 0), ('1820', 0), ('2rsw', 0), ('courtsey', 0), ('2min', 0), ('wh', 0), ('25,367', 0), ('pace', 0), ('152,202', 0), ('misplace', 0), ('1pm10:15', 0), ('ua4904', 0), ('burden', 0), ('---', 0), ('9rx5homm25', 0), ('flyknoxville', 0), ('noclothesnoinfo', 0), ('mcsi0dzpnz', 0), ('geekandahalf', 0), ('compliments', 0), ('removes', 0), ('traditionally', 0), ('sledge', 0), ('hammer', 0), ('scalpel', 0), ('pky7zhnnrh', 0), ('adam_karren', 0), ('zj76', 0), ('prem.gold', 0), ('happycamper', 0), ('sobbing', 0), ('44,000', 0), ('forfeited', 0), ('needlessly', 0), ('aa1224', 0), ('2:14', 0), ('psgrs', 0), ('5:39', 0), ('kfkjf1ztgi', 0), ('carryonbagssloweverybodydown', 0), ('lruns4cupcakes', 0), ('clarkhoward', 0), ('4720', 0), ('alwaysdelayedonunited', 0), ('ky', 0), ('bdng', 0), ('1108', 0), ('pres', 0), ('eqm', 0), ('cater', 0), ('tbt', 0), ('veg', 0), ('ares', 0), ('sre', 0), ('thy', 0), ('memorial', 0), ('classic', 0), ('airport_fra', 0), ('2jul', 0), ('43', 0), ('brighter', 0), ('9:30', 0), ('3hrdelay', 0), ('jetgreen', 0), ('jetred', 0), ('hkg', 0), ('booklet', 0), ('alb', 0), ('kaps12', 0), ('quarter', 0), ('isabelle', 0), ('gramp', 0), ('tlgoihqkvs', 0), ('printer', 0), ('1401', 0), ('25a.', 0), ('w8mtmsp2ry', 0), ('6kp4m0r1f7', 0), ('mktg', 0), ('branding', 0), ('savings', 0), ('cxp', 0), ('americanairbr', 0), ('drain', 0), ('fearing', 0), ('gears', 0), ('grinding', 0), ('currentlysittingontarmac', 0), ('recruiting', 0), ('msbgu', 0), ('geography', 0), ('exasperating', 0), ('undergoing', 0), ('20minutes', 0), ('neurosurgery', 0), ('icu', 0), ('7:50', 0), ('recommendation', 0), ('2uaicfjrms', 0), ('thecandacesmith', 0), ('candace', 0), ('adore', 0), ('woulda', 0), ('phishing', 0), ('mco->iad', 0), ('passngr', 0), ('gt', 0), ('3867', 0), ('invited', 0), ('distinguish', 0), ('fist', 0), ('everybody', 0), ('54', 0), ('1797', 0), ('1249', 0), ('1156', 0), ('qll48r57ep', 0), ('27aitzl6nd', 0), ('scheming', 0), ('obj', 0), ('lmaooo', 0), ('washingtondc', 0), ('edinburgh', 0), ('jorescfb4x', 0), ('southwestluv', 0), ('9unxqotzik', 0), ('tryng', 0), ('rsrv', 0), ('tk', 0), ('spk', 0), ('chk', 0), ('nightmarish', 0), ('incase', 0), ('sailor', 0), ('jameswester', 0), ('james', 0), ('telephones', 0), ('57', 0), ('4028', 0), ('medically', 0), ('1.5hr', 0), ('supvrs', 0), ('wilmington', 0), ('vosizh17sl', 0), ('yellow', 0), ('her-', 0), ('displaced', 0), ('multimedia', 0), ('frauds', 0), ('ltaljx', 0), ('goodthingscome', 0), ('a7nvbj8ipx', 0), ('caf2cx3gfi', 0), ('mvyoizrpde', 0), ('infinite', 0), ('n8winfu6c5', 0), ('tinaisback', 0), ('^sw', 0), ('strandedattheairport', 0), ('abounds', 0), ('humour', 0), ('rebook-', 0), ('4g0k0z2rei', 0), ('3511', 0), ('uctraveladvisor', 0), ('loaner', 0), ('loanr.5084773604', 0), ('5:40pm', 0), ('blackberry10', 0), ('awe474', 0), ('20th', 0), ('indication', 0), ('pigeon', 0), ('warn', 0), ('parryaftab', 0), ('court', 0), ('ilqzmmjiyq', 0), ('deltanews', 0), ('300rt', 0), ('crabby', 0), ('hubbys', 0), ('fan-', 0), ('includes', 0), ('brian', 0), ('williams', 0), ('edit', 0), ('observation', 0), ('unserviceable', 0), ('controllableirregularity', 0), ('slogan', 0), ('documentation', 0), ('1408', 0), ('tmccexyaaq', 0), ('alabama', 0), ('348', 0), ('sittingonthetarmac', 0), ('rolled', 0), ('profitable', 0), ('venture', 0), ('isitthegarykellyway', 0), ('g6455c', 0), ('ud', 0), ('retrn', 0), ('pickng', 0), ('9v8tmusjvu', 0), ('podium', 0), ('repeatedly', 0), ('cracker', 0), ('rinzysk6ki', 0), ('undignified', 0), ('freedrinkcoupons', 0), ('champagne', 0), ('aa153', 0), ('tokyomarathon2015', 0), ('ij4xl01tkx', 0), ('w5nl0ay9bl', 0), ('ihatemergers', 0), ('stressors', 0), ('hime', 0), ('2h30', 0), ('kvxs1lcqlp', 0), ('alynewton', 0), ('prompted', 0), ('hungary', 0), ('s&&gs', 0), ('applications', 0), ('positions', 0), ('gml7ot3imh', 0), ('caexhibitions', 0), ('compounding', 0), ('k13', 0), ('ac6zwmuoon', 0), ('xbqqqbrgvf', 0), ('smashed', 0), ('4386', 0), ('453', 0), ('12a', 0), ('11a.', 0), ('2792125083854', 0), ('buisness', 0), ('hail', 0), ('promos', 0), ('️anywhere', 0), ('fly=130', 0), ('kirkwoodtiger', 0), ('aay5avg99b', 0), ('^ld', 0), ('bethonors', 0), ('attndt', 0), ('wrecking', 0), ('havoc', 0), ('smugsmirk', 0), ('norush', 0), ('holdon', 0), ('everythingsgonnabealright', 0), ('64kn6geep8', 0), ('2416', 0), ('notbabysitters', 0), ('whrsthecoach', 0), ('evasive', 0), ('ser', 0), ('chatting', 0), ('stdby', 0), ('💪', 0), ('handily', 0), ('exceed', 0), ('forecasts', 0), ('gonmrwem6i', 0), ('tree', 0), ('flightdelay', 0), ('craft', 0), ('nocompensation', 0), ('lovesouthwest', 0), ('mybday', 0), ('waives', 0), ('jana', 0), ('acosta', 0), ('campaign', 0), ('yh1kzkyzrr', 0), ('wmo6tkqhxp', 0), ('usatodaytravel', 0), ('906', 0), ('zvfmxnuelj', 0), ('idontwanttocallback', 0), ('desires', 0), ('wmx12f33zc', 0), ('kcqebeej7s', 0), ('90s', 0), ('cheeze', 0), ('hooray', 0), ('elevategold', 0), ('ege', 0), ('marvinatorsb', 0), ('thnk', 0), ('lax->jfk', 0), ('delayedl', 0), ('tsanightmare', 0), ('395', 0), ('rolling', 0), ('1226', 0), ('whispering', 0), ('b5ttno68xu', 0), ('🙈', 0), ('agnt', 0), ('threatens', 0), ('hotter', 0), ('noluv', 0), ('pops', 0), ('ricardo', 0), ('olavarria', 0), ('5:59pm', 0), ('dpted', 0), ('8:30pm', 0), ('-checked', 0), ('ua3645', 0), ('-shameful', 0), ('7:54pm', 0), ('denise', 0), ('grkbj7bxlk', 0), ('duh', 0), ('dkzl57upqi', 0), ('static', 0), ('c68ld9', 0), ('forgets', 0), ('ricky', 0), ('-pilots', 0), ('ua276', 0), ('ua3364', 0), ('input', 0), ('position-', 0), ('joanne', 0), ('phenomenal', 0), ('flightnightmare', 0), ('karabuxthomps', 0), ('retook', 0), ('churn', 0), ('gonnabealongnight', 0), ('lipstick', 0), ('mins+', 0), ('misery', 0), ('lawyerup', 0), ('heartless', 0), ('eiw2syb8fu', 0), ('roberts&&s=1', 0), ('nailed', 0), ('acquire', 0), ('4klfywwmq1', 0), ('voted', 0), ('title', 0), ('jedediah', 0), ('outraged', 0), ('ahah', 0), ('🎵', 0), ('❗', 0), ('(^^', 0), ('whoot', 0), ('schooler', 0), ('pho', 0), ('a9', 0), ('ua1157', 0), ('thanks~', 0), ('floridavacation', 0), ('meerikangas', 0), ('unavoidable', 0), ('controllable', 0), ('1205', 0), ('metars', 0), ('paradise', 0), ('kdzqczlpyr', 0), ('hectic', 0), ('represent', 0), ('jezziegoldz', 0), ('haqc7gdg7c', 0), ('sloppy', 0), ('robotweeting', 0), ('7:21', 0), ('horribleservice', 0), ('lostinlove', 0), ('bzwgp7adve', 0), ('wemosaictogether', 0), ('exhorbitantfees', 0), ('4606', 0), ('scareair', 0), ('debit', 0), ('pfsenjk5pw', 0), ('natural', 0), ('beefjerky', 0), ('bops', 0), ('newspaper', 0), ('maatkare67', 0), ('nthin', 0), ('itscold', 0), ('3999', 0), ('professionals', 0), ('2ikbp8gxwi', 0), ('engagements', 0), ('tar', 0), ('mat', 0), ('353', 0), ('tbuccherifrnc3e.', 0), ('13.5', 0), ('beijing', 0), ('lucycat', 0), ('bcn', 0), ('17a', 0), ('hotelstonight', 0), ('startingbloc', 0), ('angrybird', 0), (\"where'smybag\", 0), ('screening', 0), ('freaks', 0), ('cattle', 0), ('surreal', 0), ('inline', 0), ('disgutedindenver', 0), ('eps', 0), ('investor', 0), ('flwmgdahxu', 0), ('pd3nbaakxh', 0), ('a-16mo', 0), ('addtl', 0), ('2nt', 0), ('cockroaches', 0), ('crawling', 0), ('traps', 0), ('ua1532', 0), ('3-yr', 0), ('granny', 0), ('vp', 0), ('upocmmulun', 0), ('grades', 0), ('definitive', 0), ('webpage', 0), ('servicedog', 0), ('temorris2010', 0), ('waive$200fee', 0), ('gap', 0), ('uno_baseball', 0), ('luvintheair', 0), ('maps', 0), ('electronics', 0), ('aa215', 0), ('hcnn0wxqqr', 0), ('stmt', 0), ('incl', 0), ('getyouracttogether', 0), ('us651621', 0), ('legacy', 0), ('1171', 0), ('d_goodspeed', 0), ('sfo->bos', 0), ('competitively', 0), ('179', 0), ('324', 0), ('esuu0hiajm', 0), ('daycare', 0), ('fs4ve7', 0), ('swagglikebean', 0), ('4:30am', 0), ('smoothflight', 0), ('2202', 0), ('j4cj0lrf2d', 0), ('dtlguq1kak', 0), ('9:40pm', 0), ('tiredcustomer', 0), ('themed', 0), ('454', 0), ('maxabrahms', 0), ('scooby', 0), (\"rec'd\", 0), ('jimmy', 0), ('samartzis', 0), ('zacks_com', 0), ('gouzrdt7zf', 0), ('xpm98igqjn', 0), ('headaches', 0), ('cigarettes', 0), ('replane', 0), ('youcandobetter', 0), ('prechk', 0), ('8pm', 0), ('blows', 0), ('7ujt8vtcpa', 0), ('priceless', 0), ('9h', 0), ('stonewalled', 0), ('calming', 0), ('glitchy', 0), ('aha', 0), ('detective', 0), ('1447', 0), ('n351jb', 0), ('xx2m2jxqep', 0), ('notion', 0), ('1601', 0), ('insubstantial', 0), ('litter', 0), ('sponsor', 0), ('2hxsdp0ha4', 0), ('c-130', 0), ('sweetheart', 0), ('altonbrownlive', 0), ('sohappy', 0), ('8yr', 0), ('1568', 0), ('mosiacfail', 0), ('dai_president', 0), ('obey', 0), ('robcnyc', 0), ('gbiw9ugfnm', 0), ('1&&2', 0), ('misspelled', 0), ('planing', 0), ('spvsr', 0), ('sally', 0), ('4c', 0), ('burg', 0), ('travelingwithsmallkids', 0), ('communist', 0), ('sellout', 0), ('xgpaayfdwt', 0), ('nbzkhizf3v', 0), ('5:00', 0), ('rikrik', 0), ('^jp', 0), ('renewed', 0), ('peopleon', 0), ('hfof33iyhi', 0), ('676', 0), ('mf7rabgn8a', 0), ('ar0vaylmfc', 0), ('expects', 0), ('3875', 0), ('bershawnjackson', 0), ('d.dean', 0), ('3500pts', 0), ('partnerrewards', 0), ('bbb_media', 0), ('donotflywiththem', 0), ('bafore', 0), ('southworst', 0), ('fp9m6y', 0), ('jennifer.cascino', 0), ('sentierimelinda', 0), ('tea&¬', 0), ('pumps', 0), ('really?they', 0), ('of40.i', 0), ('10:39', 0), ('macario2', 0), ('on?after', 0), ('djhxvjt201', 0), ('14a', 0), ('ua895', 0), ('oxsa8btvtb', 0), ('kybilc', 0), ('y.o', 0), ('adjacent', 0), ('isle', 0), ('299', 0), ('swwhyhen76', 0), ('cheesy', 0), ('80sweresomuchfun', 0), ('fwhei6', 0), ('subscribe', 0), ('supporter', 0), ('jesus', 0), ('portrayed', 0), ('homosexual', 0), ('judas', 0), ('performs', 0), ('genuinely', 0), ('comparable', 0), ('older', 0), ('0ewj7oklji', 0), ('statusmatchpaidoff', 0), ('atfrkp6goy', 0), ('ods1819', 0), ('hepknpuzwu', 0), ('chewey', 0), ('oatmeal', 0), ('anyways', 0), ('nomoreaggravation', 0), ('airside', 0), ('favor', 0), ('say?get', 0), ('less!me', 0), ('see!am!peter', 0), ('dishonoring', 0), ('3397', 0), ('san68059', 0), ('commend', 0), ('sass', 0), ('c38', 0), ('us626', 0), ('paseengers', 0), ('0510', 0), ('santo', 0), ('domingo', 0), ('southern', 0), ('8hrs&&waiting', 0), ('georgia', 0), ('-0.06', 0), ('wallstreet', 0), ('scope', 0), ('ofw4a8b5ws', 0), ('absurdly', 0), ('2z3jv73ilw', 0), ('vía', 0), ('5hpsqvrjk8', 0), ('businesstravel', 0), ('goodenoughmother', 0), ('totalfail', 0), ('caution', 0), ('hahahahaha', 0), ('utdfqf5wpa', 0), ('ua80', 0), ('chilly', 0), ('😮', 0), ('aa3181', 0), ('pockets', 0), ('theydontanswer', 0), ('houston?just', 0), ('napkins', 0), ('oxy1jnpjm3', 0), ('sanity', 0), ('eltboljul9', 0), ('rejecting', 0), ('southbendinwhere', 0), ('qgwk10dewv', 0), ('fromthefrontseat', 0), ('anku', 0), ('yaffasolin', 0), ('380', 0), ('zambia', 0), ('impending', 0), ('interpreting', 0), ('sarcastic', 0), ('rechecked', 0), ('nwf2fka8fy', 0), ('unloading', 0), ('writes', 0), ('813', 0), ('826', 0), ('mbj', 0), ('816', 0), ('us4623', 0), ('4:08', 0), ('6:48', 0), ('wretched', 0), ('dfmvmibh4x', 0), ('tru', 0), ('7.99', 0), ('preventative', 0), ('ticked', 0), ('rushed', 0), ('potentially', 0), ('diffused', 0), ('ipaamzt7z2', 0), ('bze', 0), ('awgjkjiiac', 0), ('slew', 0), ('saidi', 0), ('irony', 0), ('barking', 0), ('eternally', 0), ('͜ʖ', 0), ('topqmvqnjp', 0), ('prescreen', 0), ('stlouis', 0), ('rcdh183q1j', 0), ('firm', 0), ('priceline', 0), ('ttinac11', 0), ('personable', 0), ('7x9usbj2fv', 0), ('travelled', 0), ('scl-', 0), ('iha', 0), ('21l', 0), ('twiiter', 0), ('~30', 0), ('bashing', 0), ('tgsb1dfps3', 0), ('flightattendant', 0), ('dreampath', 0), ('-g', 0), ('pasta', 0), ('tastes', 0), ('consumption', 0), ('qualified', 0), ('hollymais', 0), ('au', 0), ('chargers', 0), ('lenses', 0), ('tom', 0), ('sporting', 0), ('back-', 0), ('689', 0), ('orthodoc', 0), ('1130', 0), ('bait', 0), ('tactic', 0), ('abassinet', 0), ('jamesasworth', 0), ('brent', 0), ('70plus', 0), ('pnr', 0), ('ua1469', 0), ('theellenshow', 0), ('kdepetro313', 0), ('.what', 0), ('n3lrfo4uay', 0), ('chrishasmadeusblush', 0), ('trending', 0), ('squared', 0), ('departments', 0), ('temps', 0), ('r7ibqr4cyd', 0), ('reflection', 0), ('extinct', 0), ('jasonwhitely', 0), ('947', 0), ('emer', 0), ('albuquer', 0), ('maverick', 0), ('specially', 0), ('carlton', 0), ('speeds', 0), ('flight7', 0), ('ardent', 0), ('poughkeepsie', 0), ('frhuxib8ii', 0), ('eating', 0), ('one.?i', 0), ('shower', 0), ('loner', 0), ('acu', 0), ('0jutcdrljl', 0), ('posts', 0), ('net', 0), ('atwonline', 0), ('tvb5zbzvhg', 0), ('3970', 0), ('bid', 0), ('lax--->sea', 0), ('bio', 0), ('flyana_official', 0), ('ana', 0), ('transpacific', 0), ('flywhonotblue', 0), ('liza', 0), ('4464', 0), ('milwaukee', 0), ('brrr', 0), ('\\u200b', 0), ('ci5cfrlqbe', 0), ('motor', 0), ('cvgairport', 0), ('2498', 0), ('higgs', 0), ('boson', 0), ('surliness', 0), ('guessing', 0), ('hopethegearmakesitintact', 0), ('onlyinamerica', 0), ('customerservices', 0), ('aa1344', 0), ('2.23', 0), ('544', 0), ('graphic', 0), ('ut5grrwaaa', 0), ('convenience', 0), ('na5g5eakpa', 0), ('8.1.3', 0), ('dogbuckeye', 0), ('2y', 0), ('battling', 0), ('freyabevan_fund', 0), ('guidance', 0), ('jetbluebos', 0), ('790', 0), ('-rr', 0), ('1079871763', 0), ('inaccessibility', 0), ('vudwjm1lyb', 0), ('ua5184', 0), ('wpg', 0), ('curfew', 0), ('aa1237', 0), ('assets', 0), ('0162431184663', 0), ('americans', 0), ('ecuador', 0), ('5on3klzvmt', 0), ('t1rypzebc8', 0), ('1614', 0), ('460', 0), ('poorcommunication', 0), ('waitingsince', 0), ('10:51', 0), ('11:50pm', 0), ('aa223', 0), ('1180', 0), ('4q', 0), ('iol', 0), ('xz6qeg3nef', 0), ('offload', 0), ('feat', 0), ('dkyde6', 0), ('4583>36', 0), ('3636>606>36', 0), ('4404>36', 0), ('479', 0), ('unite', 0), ('fashion', 0), ('unitedvusa', 0), ('rbn7stuij1', 0), ('912', 0), ('herman', 0), ('ambassador', 0), ('sided', 0), ('assignments', 0), ('😓', 0), ('tnkixxrxhb', 0), ('farmington', 0), ('slopes', 0), ('41min', 0), ('flipped', 0), ('lexington', 0), ('kentuckymbb', 0), ('concerning', 0), ('ridic', 0), ('verifies', 0), ('harris', 0), ('teamspirit', 0), ('x5jena7nye', 0), ('14th', 0), ('3818', 0), ('whyisusairalwaysdelayed', 0), ('bdindallas', 0), ('satisfactory', 0), ('wut', 0), ('m4uwcpxtxj', 0), ('highest', 0), ('xzy7phkfgr', 0), ('backhome', 0), ('helpaa', 0), ('flydelta', 0), ('jetbluejfk', 0), ('samsonite', 0), ('totaled', 0), ('apathy', 0), ('1:10', 0), ('-30', 0), ('8fkqw', 0), ('reactive', 0), ('makers', 0), ('mindset', 0), ('dqnn0rf1v8', 0), ('travelbank', 0), ('recouping', 0), ('notification-', 0), ('remain', 0), ('5xgnyhgafz', 0), ('ua1130', 0), ('earphone', 0), ('oldplanes', 0), ('damageluggage', 0), ('kay', 0), ('lsybglf59j', 0), ('tbd', 0), ('usd', 0), ('quotations', 0), ('bkk', 0), ('(1', 0), ('negligent', 0), ('5db9esbnzg', 0), ('luvsw', 0), ('stahp', 0), ('bm2unraoni', 0), ('1046', 0), ('soured', 0), ('companionpass', 0), ('810', 0), ('jabevan221', 0), ('gth239', 0), ('undetermined', 0), ('648', 0), ('fgkxv5', 0), ('587701925count', 0), ('bozos', 0), ('sche', 0), ('genious', 0), ('unsmiling', 0), ('breezy', 0), ('information?still', 0), ('ay1gidcfa4', 0), ('yc7v2s0iod', 0), ('p6eef1zwzc', 0), ('donkey', 0), ('dicks', 0), ('target', 0), ('stafford', 0), ('vqmdmzafuj', 0), ('619', 0), ('satellite', 0), ('463', 0), ('informing', 0), ('laps', 0), ('laughing', 0), ('1318', 0), ('9:50', 0), ('1of', 0), ('+2nd', 0), ('ump', 0), ('membership', 0), ('joy', 0), ('assed', 0), ('ua6doua34l', 0), ('dgruber1700', 0), ('shucks', 0), ('sneaky', 0), ('dontmakemebeg', 0), ('brave', 0), ('qro', 0), ('alwaysdelayed', 0), ('qqbmug', 0), ('reticketed', 0), ('crosswords', 0), ('medication', 0), ('4days&&apologise', 0), ('whatsoever', 0), ('unitedairline', 0), ('confrontational', 0), ('custy', 0), ('pvr', 0), ('cramped', 0), ('flight?it', 0), ('draw', 0), ('church', 0), ('8d', 0), ('545', 0), ('dividendsmember', 0), ('nuhplnxriq', 0), ('inflexible', 0), ('1861', 0), ('8:20pm', 0), ('nhlbruins', 0), ('repping', 0), ('bruins', 0), ('hof', 0), ('jetbluebruins', 0), ('jknwugj778', 0), ('arc', 0), ('extractions', 0), ('abducted', 0), ('backyard', 0), ('competes', 0), ('bmi', 0), ('1384', 0), ('homeless', 0), ('y’all', 0), ('2118', 0), ('sighed', 0), ('mcdonnell', 0), ('douglas', 0), ('6:00', 0), ('glowing', 0), ('sparkled', 0), ('nokidhungry', 0), ('fiancee', 0), ('amateur', 0), ('6-year', 0), ('noservice', 0), ('584', 0), ('luggagegate', 0), ('tlc', 0), ('universalorl', 0), ('6mos', 0), ('las2buf', 0), ('yuck', 0), ('w9bqiw0aou', 0), ('footage', 0), ('6491', 0), ('recycle', 0), ('bagtag', 0), ('misunderstanding', 0), ('prolonged', 0), ('prds', 0), ('4302', 0), ('5163', 0), ('3751', 0), ('k0mhzrjf6e', 0), ('fransico', 0), ('evacuated', 0), ('sfo2lax', 0), ('dies', 0), ('ebola', 0), ('hxvvis0vww', 0), ('burrito', 0), ('1119', 0), ('fiousairways', 0), ('💁', 0), ('aa375', 0), ('cncled', 0), ('arrangement', 0), ('frozentoilet', 0), ('medicalissue', 0), ('mechanicalissue', 0), ('dispatchissue', 0), ('over-', 0), ('edplotts', 0), ('youre', 0), ('evv', 0), ('6:20', 0), ('canadians', 0), ('fudgin', 0), ('justwantmybed', 0), ('1610', 0), ('louder', 0), ('t3gnk2n7ld', 0), ('underway', 0), ('query', 0), ('scrum', 0), ('sil', 0), ('declined', 0), ('activity', 0), ('prepare', 0), ('6.5hr', 0), ('1172', 0), ('upfare', 0), ('waitlisted', 0), ('authorize', 0), ('upwherewebelong', 0), ('ktawbiuuro', 0), ('kisses', 0), ('nklozcntto', 0), ('answerthephone', 0), ('daydreaming', 0), ('ohioprobz', 0), ('percentage', 0), ('yout', 0), ('kphl', 0), ('corpgreed', 0), ('nevertakeno', 0), ('6mbvjflpbm', 0), ('wcsazzqpae', 0), ('began', 0), (\"uwon't\", 0), ('me2make', 0), ('me2sit', 0), ('excess', 0), ('times&&still', 0), ('unrealistic', 0), ('brownsville', 0), ('bitty', 0), ('recordings', 0), ('aforementioned', 0), ('patron', 0), ('hoodlums', 0), ('c24cefa9pl', 0), ('imvmpnqxai', 0), ('releasing', 0), ('lbb', 0), ('tripofalifetime', 0), ('oct.', 0), ('c7kzbvf8h8', 0), ('connectns', 0), ('hotl', 0), ('3841', 0), ('jail', 0), ('guessweflyingdelta', 0), ('oahu', 0), ('patterns', 0), ('297', 0), ('.other', 0), ('unlucky', 0), ('readily', 0), ('pleasent', 0), ('tied', 0), ('proposal-', 0), ('27th', 0), ('gala', 0), ('org-', 0), ('boundless', 0), ('nothing.and', 0), ('.it', 0), ('ypu', 0), ('-jfk', 0), ('eternity', 0), ('5ammisery', 0), ('core', 0), ('config', 0), ('bretharold', 0), ('vyuanh4iqr', 0), ('missedflight', 0), ('requests', 0), ('bringin', 0), ('4:45pm', 0), ('russell', 0), ('daiber', 0), ('lea', 0), ('unitedsucksdick', 0), ('askamex', 0), ('airspace', 0), ('flt803', 0), ('nonupgrade', 0), ('ladan', 0), ('outfitted', 0), ('reuse', 0), ('10x9x17', 0), ('20x15.7x8.7', 0), ('taller', 0), ('layout', 0), ('5012', 0), ('byebyejetblue', 0), ('sounding', 0), ('slapped', 0), ('juliasinton948', 0), ('9:11', 0), ('2spooky', 0), ('4me', 0), ('m8', 0), ('spook', 0), ('scare', 0), ('yul', 0), ('fistfights', 0), ('earrings', 0), ('humiliated', 0), ('uncompromising', 0), ('blindsided', 0), ('hint', 0), ('j6iclv8dts', 0), ('aug.', 0), ('10:05am', 0), ('45minflight', 0), ('been3hours', 0), ('malaysia', 0), ('0011', 0), ('800-', 0), ('8000', 0), ('kuala', 0), ('lumpur', 0), ('1684', 0), ('mco->jfk', 0), ('disclose', 0), ('5545', 0), ('b18', 0), ('3322', 0), ('planb', 0), ('flight16', 0), ('amenity', 0), ('kits', 0), ('sharp', 0), ('👊', 0), ('actingoutmgmnt', 0), ('430am', 0), ('dca48810', 0), ('zhxok07aqa', 0), ('nonetheless', 0), ('bluetiful', 0), ('lifeneedsfrosting', 0), ('researching', 0), ('souljacoy', 0), ('6zj6l2ztua', 0), ('structures', 0), ('hated', 0), ('idiotic', 0), ('715', 0), ('comeonpeople', 0), ('russellswriting', 0), ('russ', 0), ('bridesmaid', 0), ('uhmmm', 0), ('jcolenc', 0), ('266', 0), ('v015pk7dsi', 0), ('cantblametheweather', 0), ('worn', 0), ('enoughisenough', 0), ('majority', 0), ('667', 0), ('t5mrj5yw6i', 0), ('ecom', 0), ('evil', 0), ('mdt', 0), ('makeup', 0), ('montrose', 0), ('pie', 0), ('jlittle100', 0), ('flight850', 0), ('clt-', 0), ('56', 0), ('emilylyonss', 0), ('battle', 0), ('dallaslovefield-', 0), ('6rlz0ebk2x', 0), ('5:05', 0), ('coupons', 0), ('longday', 0), ('epqqonho2h', 0), ('slaycancerwithdragons', 0), ('players', 0), ('chgd', 0), ('acoustic', 0), ('1591', 0), ('1618', 0), ('2z3hgqprsg', 0), ('reminds', 0), ('setup', 0), ('bicycle', 0), ('fla.', 0), ('834', 0), ('quzvmk2rtr', 0), ('mega', 0), ('1585)and', 0), ('choosechicago', 0), ('2463', 0), ('victoria', 0), ('condescending', 0), ('4001', 0), ('1215pm', 0), ('wbmhrl3bvl', 0), ('356', 0), ('rides', 0), ('rkvczbpdce', 0), ('unitedagainstunited', 0), ('g00saozgtv', 0), ('dismissed', 0), ('thereisafirstforeverything', 0), ('minefits', 0), ('mystery', 0), ('tonnes', 0), ('contactless', 0), ('dc10', 0), ('concept', 0), ('ending', 0), ('sobbed', 0), ('1272', 0), ('burning', 0), ('preparations', 0), ('bear', 0), ('philly-', 0), ('sponsorship', 0), ('q6xedzvhh9', 0), ('valleys', 0), ('reno', 0), ('125.00', 0), ('regina', 0), ('argg', 0), ('616', 0), ('comfortably', 0), ('civilized', 0), ('screakjmf', 0), ('justifiable', 0), ('world-8', 0), ('loudspeaker', 0), ('powered', 0), ('campus', 0), ('entrance', 0), ('10tmthvfdc', 0), ('z1', 0), ('proceeded', 0), ('overhaul', 0), ('1114', 0), ('isolate', 0), ('nonprofits', 0), ('tilleymonsta', 0), ('4gr39s91dl', 0), ('everglades', 0), ('faint', 0), ('sunburn', 0), ('ratchet', 0), ('vouufrn4js', 0), ('yasss', 0), ('slammed', 0), ('\"really', 0), ('cjdjpdx', 0), ('multinational', 0), ('4:00', 0), ('zcbjyo6lsn', 0), ('1708', 0), ('phx->dal', 0), ('lin', 0), ('weasel', 0), ('flcnnn2usd', 0), ('closings', 0), ('smaller', 0), ('thinner', 0), ('necessities', 0), ('hurricane', 0), ('basketball', 0), ('wheresmyrefund', 0), ('iceday', 0), ('mod', 0), ('selects', 0), ('stl2atl', 0), ('2nite', 0), ('gig', 0), ('fvf9yw', 0), ('swrr', 0), ('298033455', 0), ('930pm', 0), ('franks105', 0), ('9tbsjquw41', 0), ('graphics', 0), ('minimal', 0), ('iconography', 0), ('outsourced', 0), ('knack', 0), ('substandard', 0), ('qygxgmd3sn', 0), ('alamo', 0), ('tatiana', 0), ('tracker', 0), ('1946', 0), ('specialolympics', 0), (\"cxl'd\", 0), ('fllight', 0), ('allan', 0), ('kmm24999563v99860l0km', 0), ('8719519', 0), ('521', 0), ('blankets', 0), ('nominated', 0), ('meetthefleet', 0), ('dnstitrzwy', 0), ('winkwink', 0), ('vague', 0), ('cgjase', 0), ('pissing', 0), ('uppp', 0), ('imtired', 0), ('missing.stollen', 0), ('shoulda', 0), ('burningman', 0), ('camp', 0), ('6am', 0), ('toolittletoolate', 0), ('kci', 0), ('walkway', 0), ('nightlife', 0), ('u.k.', 0), ('complainer', 0), ('missingtheoscars', 0), ('gregwallace66', 0), ('cents', 0), ('gentleman', 0), ('hahahaha', 0), ('gsa', 0), ('spreadtheword', 0), ('baggagefail', 0), ('bagsflyfreebutnotwithme', 0), ('wdyekvb1ze', 0), ('craftbeer', 0), ('goodflight', 0), ('tgsljjn6g0', 0), ('noob', 0), ('sendambien', 0), ('andchexmix', 0), ('overchging', 0), ('bg', 0), ('herded', 0), ('cattle2slaughter', 0), ('defective', 0), ('9:56', 0), ('awhile', 0), ('1,750', 0), ('1800flowers', 0), ('focus', 0), ('4urzvbpjko', 0), ('mellani', 0), ('superstars', 0), ('united-', 0), ('flight-', 0), ('connections-', 0), ('appleton', 0), ('lzfgutxiyn', 0), ('addr', 0), ('signin', 0), ('tny9uipha5', 0), ('vary', 0), ('blanket', 0), ('me:-', 0), ('youretheworst', 0), ('simonroesner', 0), ('concrete', 0), ('outdated', 0), ('757s', 0), ('ports', 0), ('noticing', 0), ('substantial', 0), ('yessir', 0), ('yourlocalnyer', 0), ('rob', 0), ('wiggle', 0), ('unplanned', 0), ('londonfashionweek', 0), ('lfw15', 0), ('parody', 0), ('mwpg7grezp', 0), ('valley', 0), ('disruption', 0), ('fcmostinnovative', 0), ('incubator', 0), ('fastcompany', 0), ('wu3lbcncr9', 0), ('whagpknnlf', 0), ('smitten', 0), ('4424', 0), ('flyrepublicair', 0), ('n813ma', 0), ('osc9oflol3', 0), ('-door', 0), ('thanksunited', 0), ('aimed', 0), ('satisfy', 0), ('nano', 0), ('smattering', 0), ('easter', 0), ('transported', 0), ('preference', 0), ('cty', 0), ('ji7xks2jkk', 0), ('tiredandwanttogohome', 0), ('sharktank', 0), ('y39yzdpbvu', 0), ('caterobbie', 0), ('ghjbp5gg67', 0), ('ethics', 0), ('6.5', 0), ('pura', 0), ('vida', 0), ('emerging', 0), ('leader', 0), ('program-', 0), ('jlhm0x7ukb', 0), ('luv?its', 0), ('imdetermined', 0), ('oxm6cwgab7', 0), ('megelizabeth631', 0), ('barclaycardus', 0), ('controllers', 0), ('705', 0), ('cat', 0), ('zig', 0), ('zagging', 0), ('movements', 0), ('ch_mom', 0), ('chs', 0), ('germany', 0), ('israel', 0), ('livvyports16', 0), ('bcuz', 0), ('grouchy', 0), ('nap', 0), ('refusing', 0), ('adolfo', 0), ('garcia', 0), ('2078', 0), ('balt', 0), ('vomited', 0), ('caroline', 0), ('superhero', 0), ('undies', 0), ('samchampion', 0), ('n3suiip0vw', 0), ('repainted', 0), ('2023', 0), ('60th', 0), ('upgrademe', 0), ('9gx5mmmubb', 0), ('.thnx', 0), ('attained', 0), ('1261', 0), ('tus', 0), ('useable', 0), ('8x7xvm', 0), ('unaccommodating', 0), ('csfail', 0), ('experts', 0), ('mplio6dygn', 0), ('mardigras2015', 0), ('aa1457', 0), ('3866', 0), ('25mins', 0), ('srm13qbrzd', 0), ('signing', 0), ('credentials', 0), ('3,000', 0), ('31cfhtk60r', 0), ('838', 0), ('nnntastic', 0), ('groupa', 0), ('thanksamericanairlines', 0), ('perfectly', 0), ('fml', 0), ('scoot', 0), ('sand', 0), ('trees', 0), ('useles', 0), ('parizad', 0), ('conv', 0), ('inconceivable', 0), ('q9n6nzyspk', 0), ('buffaloairport', 0), ('lmfaooo', 0), ('1g9rnmyuqe', 0), ('weepysweetmonty', 0), ('compartments', 0), ('1117', 0), ('2:35pm', 0), ('3ltx7jkbo9', 0), ('regrading', 0), ('tuftsenergyconf', 0), ('barriers', 0), ('medallion', 0), ('probablynot', 0), ('3hr30min', 0), ('mobility', 0), ('4828', 0), ('marshall', 0), ('catching', 0), ('11:10p', 0), ('mistaken', 0), ('scarf', 0), ('howhardcanthatreallybe', 0), ('2:20', 0), ('gist', 0), ('cruz', 0), ('qm9dqbai6', 0), ('amtrak', 0), ('baggage.find', 0), ('moves', 0), ('t9s68korsn', 0), ('crossing', 0), ('leverage', 0), ('aa1657', 0), ('4035', 0), ('unwind', 0), ('loluwfci11', 0), ('awake', 0), ('logout', 0), ('tyvm', 0), ('adress', 0), ('usaiways', 0), ('us2065', 0), ('drives', 0), ('whenitsnowsitpours', 0), ('tgcyalate', 0), ('nada', 0), ('hyperlinked', 0), ('ih5w9nfkz2', 0), ('creates', 0), ('589', 0), ('ua415', 0), ('17th', 0), ('2168', 0), ('🆘', 0), ('wrestle', 0), ('joke-', 0), ('u5hxri6crx', 0), ('ua1673', 0), ('9:08', 0), ('boeingairplanes', 0), ('disguised', 0), ('uh6uwuosc0', 0), ('1415', 0), ('ncguzdgdaq', 0), ('4009', 0), ('cathy', 0), ('epicfailure', 0), ('rqstd', 0), ('bcz', 0), ('cfi1e3kxa9', 0), ('unemployment', 0), ('606', 0), ('2maro', 0), ('9za6xb1h89', 0), ('pd7r1ll6re', 0), ('relay', 0), ('allowabl', 0), ('loyalmosaicmember', 0), ('miamore', 0), ('iadore', 0), ('fwzclbvug4', 0), ('forelock', 0), ('nationalairpor', 0), ('ghettofab', 0), ('maqw2nlniu', 0), ('dlewis2412', 0), ('inflght', 0), ('marcnocwzn', 0), ('preventable', 0), ('firefighters', 0), ('applause', 0), ('ua49', 0), ('rim', 0), ('repeatably', 0), ('taiwan', 0), ('flysw', 0), ('tomvh', 0), ('maarten', 0), ('airsouthwest', 0), ('checkers', 0), ('overkill', 0), ('horribleattitudes', 0), ('409', 0), ('0671', 0), ('😲', 0), ('blazer', 0), ('kooples', 0), ('t3', 0), ('reiterate', 0), ('5hs', 0), ('20yr', 0), ('nofunatall', 0), ('opposed', 0), ('guilty', 0), ('ua1619', 0), ('630a', 0), ('nm4agoodlife', 0), ('synergy', 0), ('5imdckodfx', 0), ('broken.i', 0), ('remaining', 0), ('validity', 0), ('rubs', 0), ('contagious', 0), ('virus', 0), ('713', 0), ('mines', 0), ('medium', 0), ('tanked', 0), ('inquire', 0), ('irreplaceable', 0), ('milestone', 0), ('repaid', 0), ('freeconcert', 0), ('schoolgirl', 0), ('typing', 0), ('reciprocate', 0), ('asus', 0), ('16th', 0), ('wondered', 0), ('amen', 0), ('dominick', 0), ('l.', 0), ('guardia', 0), ('backed', 0), ('getmeoffthisbird', 0), ('users', 0), ('pleasehurryup', 0), ('answerphone', 0), ('reschedulemyflight', 0), ('989', 0), ('mans', 0), ('portable', 0), ('qw1til96ya', 0), ('fhk2te', 0), ('953', 0), ('aires', 0), ('3.30pm', 0), ('svu', 0), ('companionpasses', 0), ('residing', 0), ('mdn5ed58ze', 0), ('ooej4d4jop', 0), ('inquiries', 0), ('1565', 0), ('antitrust', 0), ('2xdaily', 0), ('ctg', 0), ('zcc82u', 0), ('16h', 0), ('robocalls', 0), ('corybronze', 0), ('heroes', 0), ('jtxyhqhfjj', 0), ('analyst', 0), ('dwese7xidr', 0), ('badbussiness', 0), ('63zaq2lt8f', 0), ('newborns', 0), ('appropriately', 0), ('royally', 0), ('fakesincerity', 0), ('unmonitored', 0), ('countless', 0), ('strips', 0), ('surrounding', 0), ('-doing', 0), ('zip', 0), ('showsomerespect', 0), ('stranding', 0), ('renhotels', 0), ('marriottrewards', 0), ('edition', 0), ('hemisphere', 0), ('storms', 0), ('6tz6imqzlg', 0), ('displays', 0), ('nobackup', 0), ('grandbabies', 0), ('births', 0), ('ux', 0), ('awe', 0), ('kaha58', 0), ('j_beatz247', 0), ('consult', 0), ('intended', 0), ('peer', 0), ('duct', 0), ('taped', 0), ('ohboy', 0), ('shouldigetoutandpush', 0), ('r9zsvzurlw', 0), ('id-', 0), ('unannounced', 0), ('1sywlmtzek', 0), ('upsell', 0), ('laden', 0), ('aa504', 0), ('aa200', 0), ('5957', 0), ('bbm6pabort', 0), ('fuckin', 0), (\"'cuz\", 0), ('nj5ga1gds5', 0), ('sk6w9xqaqb', 0), ('wowxhpu5qv', 0), ('p7skxzve1a', 0), ('sprint', 0), ('0_0', 0), ('bham', 0), ('307', 0), ('ranging', 0), ('unanswered', 0), ('kmanldqbh4', 0), ('grief', 0), ('0400', 0), ('erieairport', 0), ('electronic', 0), ('pxdel1nq3l', 0), ('2boh2mh3cb', 0), ('plt', 0), ('deny', 0), ('sets', 0), ('giannilee', 0), ('vxsafetydance', 0), ('75yo', 0), ('audience', 0), ('balloons', 0), ('rodeo', 0), ('notmadeofmoney', 0), ('mrandyep', 0), ('creative', 0), ('tywinter', 0), ('lou', 0), ('ourguest', 0), ('possessions', 0), ('fedup', 0), ('disastrous', 0), ('ua1118', 0), ('crooked', 0), ('shouldwearmasks', 0), ('759', 0), ('phi', 0), ('coldly', 0), ('lug4mfvwsa', 0), ('baldordash', 0), ('lhrt2', 0), ('notpghtimothy', 0), ('not-', 0), ('d9', 0), ('5129', 0), ('11am', 0), ('empathize', 0), ('capitalized', 0), ('lowercase', 0), ('tagging', 0), ('backing', 0), ('devotedyyours', 0), ('sd', 0), ('yyj', 0), ('mpi4yuo9jr', 0), ('drw08djhai', 0), ('escorted', 0), ('prebooked', 0), ('und', 0), ('ph8qjzapkx', 0), ('johnwayneair', 0), ('695', 0), ('reviewing', 0), ('hardcase', 0), ('golfbags', 0), ('lightyears', 0), ('frightening', 0), ('mkt', 0), ('whathappend', 0), ('devalued-', 0), ('-http', 0), ('mdbdyomrs7', 0), ('whatstatus', 0), ('1228', 0), ('640', 0), ('fingerscrossed', 0), ('pleasegod', 0), ('missmykids', 0), ('8602947', 0), ('jon', 0), ('58tutgli0d', 0), ('2morrow', 0), (\"comp'd\", 0), ('835', 0), ('luxclark', 0), ('laura', 0), ('^cb', 0), ('flyingretro', 0), ('6asuwx3kv0', 0), ('eservice', 0), ('united.com', 0), ('bg0kwm', 0), ('narayanan', 0), ('tel', 0), ('tryna', 0), ('502', 0), ('activate', 0), ('preparation', 0), ('marciaveronicaa', 0), ('uncle', 0), ('considerate', 0), ('friendlyfriday', 0), ('paws', 0), ('satesq', 0), ('crw', 0), ('starryeyes_dev', 0), ('larry', 0), ('fedora', 0), ('qqlzk2jkzr', 0), ('ideserveareward', 0), ('l7hsnlgie2', 0), ('ua761', 0), ('1world', 0), ('smart', 0), ('lukewyckoff', 0), ('16,000', 0), ('crewmembers', 0), ('embody', 0), ('thanksdave', 0), ('innp0kkyby', 0), ('ensued', 0), ('marcos', 0), ('concierge', 0), ('gru', 0), ('sorting', 0), ('winner', 0), ('cpzb285o71', 0), ('rnp', 0), ('2wks', 0), ('sfo->yyz', 0), ('azltjhf7lv', 0), ('mzzfgqfhu2', 0), ('irene', 0), ('paxex', 0), ('sxvagbrtli', 0), ('aaadvantage', 0), ('heymynameissean', 0), (\"new'airplanes\", 0), ('ua1088', 0), ('lulgnweffh', 0), ('vip', 0), ('swap', 0), ('5a', 0), ('50k', 0), ('upinairclaire', 0), ('broadway', 0), ('ds22ceeenj', 0), ('preoccupied', 0), ('flagging', 0), ('observer', 0), ('barcodes', 0), ('runs', 0), ('astounded', 0), ('nsjwvttjgo', 0), ('mediocre', 0), ('combo', 0), ('switchingboth', 0), ('unsettling', 0), ('compensates', 0), ('96apr35qan', 0), ('1yln1gx4qx', 0), ('sexy', 0), ('qgmfcb7yt4', 0), ('ptsbka4cdj', 0), ('5.5hrs', 0), ('ua3728', 0), ('vftuyjh45x', 0), ('2daysofunitedfailures', 0), ('1thingafteranother', 0), ('traveller', 0), ('scary', 0), ('surfer', 0), ('noloveforsurfers', 0), ('protected', 0), ('kerry', 0), ('frequently', 0), ('highbuddyyy', 0), ('3:55pm', 0), ('787s', 0), ('duck', 0), ('winks', 0), ('casual', 0), ('jieycat1ek', 0), ('skateboards', 0), ('cxttxv2lmp', 0), ('lo6lghpcdu', 0), ('uschamber', 0), ('summit', 0), ('ought', 0), ('dultch97', 0), ('horse', 0), ('radish', 0), ('🐴', 0), ('aal65', 0), ('declared', 0), ('squawking', 0), ('petition', 0), ('bec', 0), ('avrtowtyzk', 0), ('simultaneously', 0), ('wishmyflightwaslonger', 0), ('deceiving', 0), ('reprehensible', 0), ('sgf', 0), ('aa1061', 0), ('originating', 0), ('witty', 0), ('repartee', 0), ('margo', 0), ('intercontinental', 0), ('330', 0), ('cdg', 0), ('flythefriendlyskies', 0), ('specifically', 0), ('discouraging', 0), ('37d', 0), ('i9s86kihge', 0), ('11:31', 0), ('12:08', 0), ('celebration', 0), ('audition', 0), ('hlm2oks6xl', 0), ('settled', 0), ('crew\"', 0), ('moar', 0), ('faceless', 0), ('html5', 0), ('outlook', 0), ('reuters', 0), ('jeu7od3eyj', 0), ('navigating', 0), ('flu', 0), ('brooklyn', 0), ('genuine', 0), ('b36a', 0), ('nogearnotraining', 0), ('lj2larive0', 0), ('worrisome', 0), ('82', 0), ('6pm', 0), ('qjkl4abprg', 0), ('1776', 0), ('liar', 0), ('47', 0), ('pacify', 0), ('suggesting', 0), ('resource', 0), (\"wow'd\", 0), ('235', 0), ('wrench', 0), ('connectors', 0), ('gjt', 0), ('wdaktmr7mj', 0), ('clvlhfguzw', 0), ('droppeditoffyet', 0), ('1427', 0), ('333', 0), ('2062', 0), ('bohol', 0), ('501(c)(3', 0), ('miracles', 0), ('dismissive', 0), ('encourage', 0), ('sole', 0), ('6166', 0), ('blatantly', 0), ('stable', 0), (\"m'good\", 0), ('corner', 0), ('canister', 0), ('powder', 0), ('divider', 0), ('644', 0), ('l&&f.', 0), ('610', 0), ('362', 0), ('7498(99', 0), ('jhughes1025', 0), ('german', 0), ('deplanes', 0), ('auf', 0), ('wiedersehen', 0), ('fraqdpkyga', 0), ('hellobrittney', 0), ('curb', 0), ('srv', 0), ('p.m.', 0), ('10:45pm', 0), ('hanneslohmann', 0), ('troubleshot', 0), ('paranoid', 0), ('mayweatherpacquiao', 0), ('8dqzlrjo9p', 0), ('client', 0), (\"ipad.don't\", 0), ('qualify', 0), ('blizzard', 0), ('row-', 0), ('crutches', 0), ('troubadour', 0), ('rklqxxawhc', 0), ('bagawim', 0), ('ngxal9oml6', 0), ('auction', 0), ('invitational', 0), ('mrfbjtepef', 0), ('ethan', 0), ('revive', 0), ('laundry', 0), ('tabs', 0), ('effing', 0), ('travelzoo', 0), ('kj1iljaebv', 0), ('restrooms', 0), ('unclear', 0), ('730pm', 0), ('150am', 0), ('butnot', 0), ('129', 0), ('259', 0), ('utfdhxa8pu', 0), ('buck', 0), ('dented', 0), ('miranda', 0), ('6212', 0), ('idnumber8569822', 0), ('hopetogetanswersoon', 0), ('a68d5fulmh', 0), ('bums', 0), ('estellevw', 0), ('robbogart', 0), ('fib', 0), ('jetscrew', 0), ('awfulcustomerservice', 0), ('3880', 0), ('kaneshow', 0), ('restrm', 0), ('row7', 0), ('2218', 0), ('us2218', 0), ('vino', 0), ('🚫', 0), ('↔️', 0), ('directs', 0), ('okcdirects', 0), ('okcprofessionals', 0), ('quietly', 0), ('irate', 0), ('midoexhibition', 0), ('seasonal', 0), ('intent', 0), ('queries', 0), ('3ddqq0gqni', 0), ('8je1h3666w', 0), ('hannah', 0), ('surgeries', 0), ('kqnrrp86a5', 0), ('yummy', 0), ('sofly', 0), ('firststari', 0), ('seetonight', 0), ('pyjaoaynx6', 0), ('tracks', 0), ('mashing', 0), ('tones', 0), ('aa1401', 0), ('8:55pm', 0), ('vipliveinthevieyard', 0), ('austrian', 0), ('incls', 0), ('planebroken', 0), ('neverontime', 0), ('paymytab', 0), ('structure', 0), ('diminishes', 0), ('certs', 0), ('chronological', 0), ('captured', 0), ('brittany', 0), ('aged', 0), ('internally', 0), ('402', 0), ('negatively', 0), ('integrity', 0), ('retweeted', 0), ('encouraged', 0), ('winston', 0), ('famous', 0), ('jeans', 0), ('suits', 0), ('jj', 0), ('lostbags', 0), ('aa977', 0), ('cur', 0), ('grant', 0), ('2dayslate', 0), ('ua5097', 0), ('6kpyhcka9l', 0), ('prefference', 0), ('mommy', 0), ('daddy', 0), ('roadmap', 0), ('intelligent', 0), ('embed', 0), ('chips', 0), ('ai', 0), ('gray', 0), ('2120', 0), ('0372389047497', 0), ('montreal', 0), ('ua3659', 0), ('ua3417', 0), ('hunting', 0), ('pistol', 0), ('12am', 0), ('awe1701', 0), ('85', 0), ('sporadically', 0), ('uncharacteristic', 0), ('txhyj40llg', 0), ('oa2drfaoq2', 0), ('lwwdac2khx', 0), ('wndceo5qlk', 0), ('setting', 0), ('thehipmunk', 0), ('correctness', 0), ('dustyob', 0), ('sourhwest', 0), ('hardest', 0), ('owes', 0), ('192', 0), ('rndtrp', 0), ('djq_kc', 0), ('djimpact', 0), ('insurance', 0), (\"12:00,don't\", 0), ('the15hours', 0), (\"flight!there're\", 0), ('doubled', 0), ('inquiring', 0), ('5hr+', 0), ('-really', 0), ('airfarewatchdog', 0), ('substitute', 0), ('horizon', 0), ('stilling', 0), ('disunited', 0), ('imessage', 0), ('instagram', 0), ('foru', 0), ('flailing', 0), ('jhxwmutx4', 0), ('sxu', 0), ('kkay8xaps1', 0), ('whatajoke', 0), ('lindaswc', 0), ('hisc4ndmgz.', 0), ('aa973', 0), ('platinummember', 0), ('guiltypleasures', 0), ('belabor', 0), ('idaho', 0), ('passenegers', 0), ('tailfinthursday', 0), ('nc0es6e4lf', 0), ('a->b', 0), ('steal', 0), ('anticipating', 0), ('hip', 0), ('stations', 0), ('sirius', 0), ('xm', 0), ('pleasecomeback', 0), ('glxfwp6nqh', 0), ('drift', 0), ('daytonabeach', 0), ('oyllrzqu5', 0), ('albertbreer', 0), ('continentalair1', 0), ('wakes', 0), ('heartbroken', 0), (\"cx'ed\", 0), ('nev', 0), ('fate', 0), ('traveloneworld', 0), ('amend', 0), ('emerald', 0), ('jwl26g6lrw', 0), ('ruth_slobodin', 0), ('justdoit', 0), ('youknowyouwantto', 0), ('💘', 0), ('badcustomersrvice', 0), ('whereismybag', 0), ('todays', 0), ('draft', 0), ('thanksm', 0), ('classed', 0), ('achieves', 0), ('zsuztnaijq', 0), ('sum1', 0), ('reconsidering', 0), ('ucvnilmb4x', 0), ('ryand2285', 0), ('happybirthday', 0), ('aa104', 0), ('imran_r44', 0), ('ua6366', 0), ('befor', 0), ('shulemstern', 0), ('baggagedrama', 0), ('cs1673hrqq', 0), ('saga', 0), ('melissaafrancis', 0), ('reunion', 0), ('964012', 0), ('964077', 0), ('964078', 0), ('nexttime', 0), ('andthewinneris', 0), ('painandsuffering', 0), ('requested-', 0), ('codes', 0), ('referencing', 0), ('pnbajfkmhg', 0), ('marcus', 0), ('unavailable\"to', 0), ('pressed', 0), ('staffer', 0), ('nlzs1ehnee', 0), ('overseas', 0), ('creating', 0), ('reduce', 0), ('phrased', 0), ('differently', 0), ('flt5127', 0), ('greatcustomerservice', 0), ('mcgraw', 0), ('carol', 0), ('lightning', 0), ('ua1764', 0), ('3883', 0), ('38e.', 0), ('restr', 0), ('rhkamx9vf5', 0), ('pyalebgkjt', 0), ('assuage', 0), ('indignation', 0), ('noted', 0), ('consoled', 0), ('3586', 0), ('70s', 0), ('inner', 0), ('lowstandards', 0), ('m67wnbglxq', 0), ('1572', 0), ('argh', 0), ('debbie', 0), ('baldwin', 0), ('demo', 0), ('vx919', 0), ('las2sfo', 0), ('bestcrew', 0), ('sherocks', 0), ('ua4935', 0), ('dec', 0), ('fxnv618b1a', 0), ('xd', 0), ('scratching', 0), ('ysqbvq6mgb', 0), ('policy-', 0), ('steel', 0), ('etd', 0), ('swa1004', 0), ('refers', 0), ('marsh', 0), ('tara', 0), ('praise', 0), ('g9b6e0a2sz', 0), ('cathaypacific', 0), ('cathaypacificus', 0), ('154', 0), ('patiencerunningout', 0), ('ua922', 0), ('aircrft', 0), ('1512', 0), ('n924an', 0), ('j0mhmkdivl', 0), ('phew', 0), ('pant', 0), ('wheeze', 0), ('zpz78poeon', 0), ('books&&medicine', 0), ('orphanage', 0), ('pgoeuxnspi', 0), ('expiration', 0), ('160', 0), ('lft7qd23sy', 0), ('getmeontop', 0), ('netneutrality', 0), ('ees', 0), ('k20', 0), ('430', 0), ('chking', 0), ('schd', 0), ('imagined', 0), ('stubbornly', 0), ('cityandsand', 0), ('coordinate', 0), ('nutella', 0), ('veryimportantproject', 0), ('seek', 0), ('dontflythem', 0), ('monica', 0), ('attach', 0), ('94lxa62', 0), ('e2kvm4', 0), ('thansk', 0), ('lessening', 0), ('317', 0), ('nomoaa', 0), ('flightlanding', 0), ('sunscreen', 0), ('feelsgood', 0), ('5pvg2hjxkp', 0), ('spruce', 0), ('moose', 0), ('1:30am', 0), ('cinziannap', 0), ('amnt', 0), ('7z3gqebfk2', 0), ('525', 0), ('urged', 0), (\"9'8\", 0), ('surfboard', 0), (\"hasn't\", 0), ('prank', 0), ('p6r5rt5ow5', 0), ('slides', 0), ('taxiway', 0), ('4ponj3jide', 0), ('3dcwerz1kr', 0), (':x', 0), ('snowy', 0), ('prchase', 0), ('retailer', 0), ('l8', 0), ('keepmy', 0), ('nickeled', 0), ('wrwqrublps', 0), ('ubergizmo', 0), ('badairline', 0), ('jetbluesucks', 0), ('tries', 0), ('vegan', 0), ('4595', 0), ('overheating', 0), ('leeannhealey', 0), ('baejet', 0), ('amirite', 0), ('terrybrokebad', 0), ('assurance', 0), ('ua6318', 0), ('wresponses', 0), ('chosen', 0), ('vulnerable', 0), ('thieves', 0), ('tux', 0), ('hap4gbostu', 0), ('indicating', 0), ('encounter', 0), ('outright', 0), ('fispahani', 0), ('3494', 0), ('skipper', 0), ('airlinequality', 0), ('tu9jx2jazn', 0), ('wtop', 0), ('phon', 0), ('seattlebound', 0), ('moveaboutthecountry', 0), ('usair4603', 0), ('4591', 0), ('702', 0), ('worst2unitedflightsever', 0), ('wtfodds', 0), ('msn', 0), ('rx', 0), ('eyeglasses', 0), ('thick', 0), ('hd', 0), ('ua1037', 0), ('9abc', 0), ('4125', 0), ('comeon', 0), ('aircrafts', 0), ('2119', 0), ('413gial0yl', 0), ('210', 0), ('wear', 0), ('skin', 0), ('xxx', 0), ('618', 0), ('lisapal', 0), ('hfjkto', 0), ('ithica', 0), ('burn', 0), ('disabled', 0), ('wailing', 0), ('idols', 0), ('💖', 0), ('wheresthepilot', 0), ('flt1088', 0), ('hourdelay', 0), ('multipledooropeningandclosing', 0), ('dangerofgettingsnowedin', 0), ('nws', 0), ('5000', 0), ('leathery', 0), ('2046', 0), ('narrow', 0), ('vincesviews', 0), ('preventing', 0), ('faves', 0), ('favoriteairline', 0), ('luvforsw', 0), ('occasions', 0), ('elhxuv0uj1', 0), ('pales', 0), ('comparison', 0), ('wages', 0), ('referring', 0), ('n8uvclmada', 0), ('rated', 0), ('n76200', 0), ('prepares', 0), ('xbkvcraokn', 0), ('wonderfully', 0), ('clu5pdprhp', 0), ('p3n2w8jfps.', 0), ('9:05', 0), ('united\\u200b', 0), ('shv', 0), ('g8cvwj', 0), ('kailua', 0), ('you.3860', 0), ('cincy.just', 0), ('landed.you', 0), ('-going', 0), ('orbitz', 0), ('955', 0), ('notwheelsup', 0), ('qxww1p09a0', 0), ('1217', 0), ('empathizes', 0), ('1stclass', 0), ('nonworking', 0), ('entertainmnt', 0), ('loeco4gmvd', 0), ('hdndl11785', 0), ('4478', 0), ('irixaifjjx', 0), ('wether', 0), ('rocky', 0), ('milehighselfieclub', 0), ('a1choxkpjp', 0), ('9eueyxawcv', 0), ('unfollowing', 0), ('aa2334', 0), ('snowfall', 0), ('aprzspxige', 0), ('offended', 0), ('stockhouse', 0), ('obf9jbpc6a', 0), ('hughes', 0), ('trains', 0), ('automobiles', 0), ('cst', 0), ('2:26', 0), ('xcvqxykg49', 0), ('628', 0), ('1pm', 0), ('potatoes', 0), ('m2phoavrxc', 0), ('~80', 0), ('toyingwithouremotions', 0), ('-it', 0), ('ifthe80sneverstopped', 0), ('chart', 0), ('topping', 0), ('onehouronhold', 0), ('3xweekly', 0), ('neworleans', 0), ('9may-5sep', 0), ('danihampton', 0), ('dani', 0), ('desparately', 0), ('bna-', 0), ('annebevi', 0), ('paulbev1', 0), ('mikeabramson', 0), ('recvd', 0), ('.this', 0), ('sucks.i', 0), ('40k', 0), ('tckt', 0), ('stupidly', 0), ('601', 0), ('-9', 0), ('escape', 0), ('raft', 0), ('dtheyofxrb', 0), ('beantownmatty', 0), ('noreply', 0), ('usairwaysmobile.com', 0), ('filters', 0), ('dns', 0), ('admin', 0), ('kristy', 0), ('days!no', 0), ('usairway', 0), ('3nsusfsbpv', 0), ('nowarmclothes', 0), ('malcome', 0), ('replicate', 0), ('52', 0), ('giennyqn22', 0), ('we7pf5ll1y', 0), ('2hr+', 0), ('evenmorespace', 0), ('evenmoreview', 0), ('dxux6dbfd3', 0), ('3744', 0), ('n284wn', 0), ('bd5tvr3gcy', 0), ('10-minute', 0), ('hoagy10', 0), ('pasting', 0), ('subtlety', 0), ('1aavvoreph', 0), ('reverted', 0), ('5-minute', 0), ('am!!', 0), ('followback', 0), ('continentalairlines', 0), ('x1eqyahfvz', 0), ('probls', 0), ('rtrn', 0), ('waspaid', 0), ('aiecraft', 0), ('martha', 0), ('african', 0), ('mv', 0), (\"i'v\", 0), ('goingtovegas', 0), ('justwrong', 0), ('683', 0), ('flightn', 0), ('fend', 0), ('ttxrsynlxr', 0), ('cyncyn661', 0), ('763s', 0), ('4473', 0), ('fulfilled', 0), ('reqs', 0), ('unprofessionalism', 0), ('unmoving', 0), ('asw6qwuf1z', 0), ('ukdjjijrow', 0), ('--(pt', 0), (\"a'dam\", 0), ('y5qe9hcqzt', 0), ('pgh', 0), ('gqp69g9zgw', 0), ('clunky', 0), ('trivialize', 0), ('1798', 0), ('missedupgrades', 0), ('personally(about', 0), ('atl?no', 0), ('albeit', 0), ('courtney', 0), ('abused', 0), ('cabine', 0), ('sao', 0), ('gruber', 0), ('indian', 0), ('aunties', 0), ('aruna', 0), ('aypyaduy6a', 0), ('emrey35', 0), ('vancouver', 0), ('2102', 0), ('albums', 0), ('bite', 0), ('sdfairport', 0), ('peeved', 0), ('pin', 0), ('ids', 0), ('staffers', 0), ('thoughtful', 0), ('dis', 0), ('flightfail', 0), ('hour20delay', 0), ('swooped', 0), ('restored', 0), ('ops', 0), ('miscalculation', 0), ('404', 0), ('tossed', 0), ('whitterbug', 0), ('p8vcz4xthm', 0), ('dispatchalerts', 0), ('ute', 0), ('bridges', 0), ('jetblues', 0), ('ncb2oncs9i', 0), ('4491', 0), ('uq2oopjpwg', 0), ('outward', 0), ('syd', 0), ('7:44', 0), ('36min', 0), ('flattering', 0), ('2a.', 0), ('l&&f', 0), ('799', 0), ('8hr+', 0), ('unsuitable', 0), ('1hour', 0), ('lycarltfhl', 0), ('9news', 0), ('9newsbusiness', 0), ('o3wlainimy', 0), ('cud', 0), ('supv', 0), ('dadboner', 0), ('boldflavors', 0), ('flavors', 0), ('ingredients', 0), ('hdoxim6nz2', 0), ('fefhpmfple', 0), ('finishes', 0), ('walks', 0), ('brewcrewfan8', 0), ('facts', 0), ('lunchtime', 0), ('4569', 0), ('ment', 0), ('effective', 0), ('greyed', 0), ('8hh4p2', 0), ('crfrwpc1sx', 0), ('11:59', 0), ('ystday', 0), ('cheapest', 0), ('hgeronemus', 0), ('completing', 0), ('installation', 0), ('sgckbopata', 0), ('587', 0), ('gluten', 0), ('whyyy', 0), ('shattered', 0), ('oaflfr7wxb', 0), ('sham', 0), ('cbsphilly', 0), ('425pm', 0), ('unreachable', 0), ('authoritative', 0), ('searched', 0), ('dirtiest', 0), ('9xkiy0kq2j', 0), ('fx9bijlxat', 0), ('markets', 0), ('bureau', 0), ('apy3zlsquu', 0), ('intact', 0), ('4372', 0), ('connectin', 0), ('nyfw', 0), ('thousandth', 0), ('americant', 0), ('rajuchinthala', 0), ('becuase', 0), ('selfies', 0), ('2321', 0), ('12:17pm', 0), ('capabilities', 0), ('stevelord212', 0), ('on+', 0), ('nawww', 0), ('bundle', 0), ('giggled', 0), ('goodgenes', 0), ('ilookyoung', 0), ('platinumeventually', 0), ('appeared', 0), ('ua3785', 0), ('contempt', 0), ('rescued', 0), ('nola', 0), ('jaynegelman', 0), ('802', 0), ('madhouse', 0), ('sests', 0), ('1050', 0), ('smoothest', 0), ('harass', 0), ('mistakefurious', 0), ('6yo', 0), ('210pm', 0), ('ea', 0), ('ua57', 0), ('chkin', 0), ('olympic', 0), ('1h40', 0), ('os', 0), ('controlled', 0), ('verizonwireless', 0), ('motions', 0), ('noltnancy', 0), ('hosp.3', 0), ('trys', 0), ('cuts', 0), ('hlp', 0), ('4146', 0), ('fridge', 0), ('dorm', 0), ('noc', 0), ('1278', 0), ('bsuxlu', 0), ('briughy', 0), ('comclassic', 0), ('aif2015', 0), ('agcommunity', 0), ('peggy', 0), ('2559', 0), ('8:55', 0), ('e36', 0), ('miriam', 0), ('hf8ajz4ffl', 0), ('worstthingever', 0), ('fedexed', 0), ('infrastructure', 0), ('massivefail', 0), ('failphone', 0), ('deodorant', 0), ('shampoo', 0), ('toothpaste', 0), ('courrier', 0), ('ffc13zygjs', 0), ('20,748', 0), ('forfeit', 0), ('inactivity', 0), ('1235', 0), ('1642', 0), ('mintalicious', 0), ('shelleyandmarcrock', 0), ('😪', 0), ('now.3', 0), ('4781', 0), ('5102newflight', 0), ('0162424965446', 0), ('specialist', 0), ('1839', 0), ('restless', 0), ('saianel', 0), ('ccndjp', 0), ('kmquly9g5e', 0), ('christinebpc', 0), ('versions', 0), ('738', 0), ('travelproblems', 0), ('patienceiswearingthin', 0), ('refueling', 0), ('1457', 0), ('clues', 0), ('guru', 0), ('idontwannalivewithoutyourlove', 0), ('i9kcgaxxfa', 0), ('itwasminttobe', 0), ('bestinclasssocial', 0), ('determined', 0), ('playlist', 0), ('880', 0), ('sleepy', 0), ('eventhoughits2degreesathome', 0), ('rick', 0), ('clifton', 0), ('handbag', 0), ('reposting', 0), ('imateacher', 0), ('tallahassee', 0), ('gainesville', 0), ('hormonal', 0), ('teenager', 0), ('wastedeffort', 0), ('nofood', 0), ('nodrinks', 0), ('nohelp', 0), ('unitedlies', 0), ('p7fsluxegw', 0), ('insensitive', 0), ('foodallergies', 0), ('unsolicited', 0), ('uneducated', 0), ('opinions', 0), ('reckless', 0), ('dangerous', 0), ('token', 0), ('pto', 0), ('amid', 0), ('cantlogoutofunitedwifi', 0), ('copa', 0), ('635', 0), ('competing', 0), ('am.should', 0), ('fê', 0), ('sex', 0), ('4mqfmxebxt', 0), ('darquenloveli', 0), ('^kn', 0), ('prof_solutions', 0), ('canadaair', 0), ('bm9o2k5x5j', 0), ('accrue', 0), ('cosmetic', 0), ('6hjucp694l', 0), ('straightened', 0), ('today-', 0), ('avoiding', 0), ('hella', 0), ('exceptionally', 0), ('uncourteous', 0), ('nationwide', 0), ('indy', 0), ('jua', 0), ('dope', 0), ('transactional', 0), ('681', 0), ('thislinehasntmovedforanhour', 0), ('americanisbetter', 0), ('warmest', 0), ('negativedegrees', 0), ('snowwillnevermelt', 0), ('helpimstuck', 0), ('cstmr', 0), ('ucveu2hurz', 0), ('1773', 0), ('luvin', 0), ('loudly', 0), ('throug', 0), ('dimmed', 0), ('23”l', 0), ('9”w', 0), ('12”h', 0), ('reclaim', 0), ('inefficient', 0), ('ua1550', 0), ('pump', 0), ('surveying', 0), ('alittle', 0), ('ord-->cdg', 0), ('bait&&switch', 0), ('bulb', 0), ('yqhk8ljabn', 0), ('matter-', 0), ('whining', 0), ('openskies', 0), ('flow', 0), ('infuriating', 0), ('sarahzou', 0), ('translation', 0), ('reinvest', 0), (\"'cause\", 0), ('stucked', 0), ('aadelay', 0), ('emplid', 0), ('aa67', 0), ('20feb15', 0), ('nickcunningham1', 0), ('mde', 0), ('fuckoff', 0), ('library', 0), ('straighten', 0), ('u1vieuidf5', 0), ('reload', 0), ('ourprincess', 0), ('freyasfund', 0), ('bandie', 0), ('ujfs9zi6kd', 0), ('alerts', 0), ('lister', 0), ('17-month', 0), ('fold', 0), ('crib', 0), ('goodgriefpeople', 0), ('3745', 0), ('longbeachairport', 0), ('ua4753', 0), ('internship', 0), ('blackish', 0), ('445pm', 0), ('g12sn5qsqz”-', 0), ('ua994', 0), ('kta', 0), ('vail', 0), ('sales', 0), ('extortion', 0), ('-help', 0), ('‘', 0), ('89gkyuf1qh', 0), ('consumermarketing', 0), ('waitingforbags', 0), ('dpdfpp', 0), ('blow', 0), ('geraldine', 0), ('airline=', 0), ('7am', 0), ('9hour', 0), ('zofwldqxbe', 0), ('newburg', 0), ('reseated', 0), ('waking', 0), ('408', 0), ('nastiest', 0), ('slime', 0), ('vacancies', 0), ('truebluemember4life', 0), ('ding', 0), ('firefox', 0), ('-beg', 0), ('differ', 0), ('gdzadxzbya', 0), ('👋', 0), ('dehydrated', 0), ('drunkpilots', 0), ('zira2z3udc', 0), ('blackmailed', 0), ('£', 0), ('nullified', 0), ('freddieawards', 0), ('rnd', 0), ('fred', 0), ('flintstone', 0), ('gkgkzlawpr', 0), ('9:50am', 0), ('getmeouttahere', 0), ('southwestsucks', 0), ('happycustomer', 0), ('66nxzhbbmt', 0), ('inclusion', 0), ('k66srfnw77', 0), ('overheard', 0), ('applaud', 0), ('environment', 0), ('805', 0), ('evolved', 0), ('fornpf69ky', 0), ('disconnection', 0), ('us-', 0), ('yvonne', 0), ('anthony', 0), ('tier', 0), ('golfunited', 0), ('190', 0), ('verification', 0), ('solving', 0), ('retrieved', 0), ('ref.8441639', 0), ('unresolved', 0), ('.we', 0), ('agreement', 0), ('mosaicmecrazy', 0), ('nofilterneeded', 0), ('ny6cs7jruv', 0), ('2063', 0), ('2:50pm', 0), ('18feb', 0), ('herba', 0), ('wise', 0), ('immensely', 0), ('capability', 0), ('injuries', 0), ('contains', 0), ('modifications', 0), ('fusturated', 0), ('512', 0), ('sime', 0), ('noapology', 0), ('ua1665', 0), ('flightedflight', 0), ('villages', 0), ('ltf2qud3xc', 0), ('applies', 0), ('doc', 0), ('ua3466', 0), ('fwd', 0), ('4278', 0), ('justdippin', 0), ('thetakeover', 0), ('produced', 0), ('yponthebeat', 0), ('ikqbdza7tn', 0), ('downstairs', 0), ('elise', 0), ('ua5168', 0), ('ua795', 0), ('givethoseladiesraise', 0), ('ahem', 0), ('ozs', 0), ('peeps', 0), ('1159', 0), ('5cwh1yfoow', 0), ('touching', 0), ('1225', 0), ('delayforwhat', 0), ('poorlyhandled', 0), ('usairheads', 0), ('18fmr06mn6', 0), ('trend', 0), ('tempting', 0), ('sodone', 0), ('cyprhe5gok', 0), ('3113', 0), ('dmoukdarath', 0), ('leaking', 0), ('vents', 0), ('vx358', 0), ('noair', 0), ('sfotobos', 0), ('9:30am', 0), ('courteroy', 0), ('lolz', 0), ('induce', 0), ('dildo', 0), ('3336', 0), ('press', 0), ('deice', 0), ('771', 0), ('13341', 0), ('woodland', 0), ('virginia', 0), ('20171', 0), ('0200', 0), ('up-', 0), ('6373', 0), ('transparency', 0), ('mhtforlife', 0), ('acting', 0), ('0pdntgbxc6', 0), ('cream', 0), ('solid', 0), ('300s', 0), ('compares', 0), ('havin', 0), ('390', 0), ('snuck', 0), ('cookie', 0), ('plebes', 0), ('jfk->sfo', 0), ('bnflhpxtmw', 0), ('chariot', 0), ('angle', 0), ('3zzkqwwbjz', 0), ('freddie', 0), ('sibling', 0), ('elwoodblues77', 0), ('tremendously', 0), ('4465', 0), ('blatimore', 0), ('transparent', 0), ('tests', 0), ('chemistry', 0), ('equip', 0), ('flamethrowers', 0), ('plow', 0), ('changes=', 0), ('exercise', 0), ('travelfail', 0), ('republic', 0), ('refueled', 0), ('retards', 0), ('7:55', 0), ('inconvience', 0), ('galaxy', 0), ('s4', 0), ('scroll', 0), ('sharon', 0), ('saviour', 0), ('jerk', 0), ('muzak', 0), ('youth', 0), ('stpatricksfoundation', 0), ('rotary', 0), ('l7lwjazioa', 0), ('yer', 0), ('nyc-->pdx', 0), ('nyc-->pgh', 0), ('firing', 0), ('loaned', 0), ('bt37kyrbyj', 0), ('poorest', 0), ('g97habyep5', 0), ('flgjt', 0), ('elp', 0), ('emb145', 0), ('elpaso', 0), ('9meozbo4xl', 0), ('fwkj49b1le', 0), ('5348', 0), ('4443', 0), ('0.21mbps', 0), ('ntuix5dbyr', 0), ('4oje523ptw', 0), ('approproately', 0), ('planestrainsandautomobiles', 0), ('deicer', 0), ('phf', 0), ('us733', 0), ('4geiger', 0), ('burst', 0), ('neverflyusairways', 0), ('👿', 0), ('prompting', 0), ('gettingthirsty', 0), ('leah', 0), ('anchorage', 0), (':-))', 0), ('uphold', 0), ('taxes', 0), ('statusmatch', 0), ('jimdaytv', 0), ('bots', 0), ('1000cost-', 0), ('sjveelween', 0), ('stone', 0), ('painted', 0), ('aa111', 0), ('mdbeei', 0), ('mcmullen', 0), ('350', 0), ('shitshow', 0), ('notourfaultyoudontuseyourgatesright', 0), ('2017', 0), ('486', 0), ('dumping', 0), ('theworstairlineever', 0), ('fruit', 0), ('mistreatment', 0), ('austic', 0), ('deiced', 0), ('untrue', 0), ('1041', 0), ('dullestostatecollege', 0), ('runningonthreehoursofsleep', 0), ('delayedovernight', 0), ('8th', 0), ('flypbi', 0), ('truu_tall', 0), ('374', 0), ('uninformed', 0), ('unapologetic', 0), ('entertained', 0), ('tomorro', 0), ('c14', 0), ('1791', 0), ('towed', 0), ('corrupt', 0), ('826pkiq5hi', 0), ('truthful', 0), ('tap', 0), ('earnings', 0), ('expedite', 0), ('3526665682', 0), ('trashy', 0), ('bleed', 0), ('leeds', 0), ('1629', 0), ('203', 0), ('3312', 0), ('carolinas', 0), ('rockers', 0), ('knock', 0), ('g4wwr6vbrq', 0), ('zombie', 0), ('transcontinental', 0), ('72h', 0), ('command', 0), ('hqhdad7fvk', 0), ('enertainment', 0), ('on-6-hour', 0), ('hi76boavxy', 0), ('shouldhaveflownjetblue', 0), ('sync', 0), ('getconnected', 0), ('shady', 0), ('sucking', 0), ('freakin', 0), ('anna', 0), ('bankruptcies', 0), ('tailfin', 0), ('qxv45mv0ug', 0), ('rx8z53m7yy', 0), ('ll', 0), ('dwell', 0), ('encouragement', 0), ('installed', 0), ('goodness', 0), ('️from', 0), ('beatstheothers', 0), ('virginmedia', 0), ('seductive', 0), ('ahlxhhkiyn', 0), ('11.5', 0), ('6:40', 0), ('959', 0), ('jeff_hofmann', 0), ('denisejtaylor', 0), ('laurieameacham', 0), ('1212', 0), ('valentinesday', 0), ('loveisintheair', 0), ('docmvotwti', 0), ('wager', 0), ('isitsummeryet', 0), ('alist', 0), ('wifiless', 0), ('it-', 0), ('nonewplanes', 0), ('twetpxuppn', 0), ('previously', 0), ('revieving', 0), ('ideal', 0), ('sittin', 0), ('enhance', 0), ('wtw', 0), ('3zpjr7kwbk', 0), ('n5o43svl8i', 0), ('designated', 0), ('pasengers', 0), ('gotta', 0), ('3472', 0), ('eager', 0), ('vision', 0), ('ccicanine', 0), ('utah', 0), ('sbehi46bmk', 0), ('gla', 0), ('steward', 0), ('bbbne_sd_ks_ia', 0), ('listens', 0), ('2069', 0), ('tripping', 0), ('reluctant', 0), ('1925', 0), ('friendlyteam', 0), ('pound', 0), ('pairs', 0), ('cstsvc', 0), ('honors', 0), ('rcd', 0), ('7hrs', 0), ('1675', 0), ('monetary', 0), ('nashinmypants', 0), ('aboout', 0), ('grk13575', 0), ('comenity', 0), ('vacatinn', 0), ('devalue', 0), ('duhbj41jhx', 0), ('aa5', 0), ('ba1506', 0), ('5320', 0), ('woase2015', 0), ('helsinkiairport', 0), ('winterops', 0), ('uvf', 0), ('keepusguessing', 0), ('isthisyourfirsttry', 0), ('realistic', 0), ('o3cjsvssqf', 0), ('iimtjxcvlg', 0), ('froward', 0), ('vets', 0), ('initiative', 0), ('3ticketsforjax', 0), ('alavera', 0), ('kcvubuyexc', 0), ('0jjt4x3yxg', 0), ('l8r', 0), ('pricewise', 0), ('ch0nmjymgh', 0), ('ua230', 0), ('7d.', 0), ('enforce', 0), ('eigajyzcw2', 0), ('anarchy', 0), ('555', 0), ('electric', 0), ('skateboard', 0), ('diehardvirgin', 0), ('realized', 0), ('flyquiet', 0), ('ordnoise', 0), ('533', 0), ('onlyblue', 0), ('jetblueforever', 0), ('acc', 0), ('cb', 0), ('toss', 0), ('wit', 0), ('rkprxtgvfl', 0), ('tiks', 0), ('️im', 0), ('warrants', 0), ('lasalle', 0), ('v24qnp3doi', 0), ('patricia', 0), ('mmcwkqp2gy', 0), ('worm', 0), ('13ewr', 0), ('ua1151', 0), ('comedian', 0), ('stage', 0), ('potable', 0), ('robprice', 0), ('eleonora7', 0), ('md', 0), ('anderson', 0), ('11c', 0), ('lifeisgood', 0), ('sailed', 0), ('relationships', 0), ('vgqoihtrkh', 0), ('booze', 0), ('bach', 0), ('ord-->msy', 0), ('41cgqueen', 0), ('vows', 0), ('smoothtransition', 0), ('adam', 0), ('absoulutely', 0), ('mitchsunderland', 0), ('1700', 0), ('tyr', 0), ('3200', 0), ('mikes', 0), ('ua1731', 0), ('beaches', 0), ('periolodicly', 0), ('ckin', 0), ('misguided', 0), ('dr.', 0), ('appointment', 0), ('denverairport', 0), ('professionalism', 0), ('4663', 0), ('261093929756', 0), ('8:23', 0), ('xatoxbnsfa', 0), ('waitingonapilot', 0), ('siouxfalls', 0), ('whyairtravelsucks', 0), ('tonight!great', 0), ('timieyancey', 0), ('tkvcmhbpim', 0), ('upload', 0), ('bandwidth', 0), ('1729', 0), ('alarm', 0), ('escaping', 0), ('notgoodenough', 0), ('vo61lme5ja', 0), ('parentsonboard', 0), ('unitedbreaksguitars', 0), ('wantmymoneyback', 0), ('manuel', 0), ('mary', 0), ('mugged', 0), ('wrongiswrong', 0), ('shined', 0), ('aflame', 0), ('2917', 0), ('cid', 0), ('furryfiesta', 0), ('tok', 0), ('112', 0), ('scolding', 0), ('249', 0), ('pointed', 0), ('oreos', 0), ('jessicajaymes', 0), ('sour', 0), ('labyrinth', 0), ('swindle', 0), ('influx', 0), ('5015', 0), ('shrinerack', 0), ('wifey', 0), ('vday', 0), ('keeper', 0), ('holla', 0), ('jloiblnair', 0), ('wipes', 0), ('yield', 0), ('navigate', 0), ('bucket', 0), ('kats', 0), ('neveryamind', 0), ('vn3jjia53o', 0), ('pensacola', 0), ('3670', 0), ('retiring', 0), ('25th', 0), ('3611', 0), ('5:10pm', 0), ('7:34pm', 0), ('quote', 0), ('jetbluefail', 0), ('dr5octp1dy', 0), ('marccopely', 0), ('discourteous', 0), ('frequentflyers', 0), ('4467', 0), ('503', 0), ('closepwcs', 0), ('yzxfe7au22', 0), ('1:45', 0), ('smoothie', 0), ('ypbkcirbxu', 0), ('skys', 0), ('4603', 0), ('mo3tvida', 0), ('s3esw5agum', 0), ('8am', 0), ('addition', 0), ('my8yb4', 0), ('clarita', 0), ('jaramillo', 0), ('mejia', 0), ('hopkins', 0), ('admiralsclub', 0), ('wny9tzsr8n', 0), ('twa', 0), ('us4485', 0), ('england', 0), ('~50', 0), ('carlw1980', 0), ('wronganswer', 0), ('gerne', 0), ('4553', 0), ('fab', 0), ('1f.', 0), ('yeseniahernandez', 0), ('peculiar', 0), ('marriage', 0), ('itover', 0), ('someones', 0), ('negroni', 0), ('bitcoin', 0), (\"o'head\", 0), ('naomi_cooper', 0), ('tixs', 0), ('8.20', 0), ('9.50', 0), ('8.10', 0), ('tks', 0), ('pulp4i0w96', 0), ('skype', 0), ('brandi', 0), ('zabsonre', 0), ('tk3aopdtsq', 0), ('pricy', 0), ('inventory', 0), ('3a', 0), ('➡', 0), ('️8c', 0), ('cosmopolitan', 0), ('shotwest', 0), ('argue', 0), ('adv', 0), ('fallen', 0), ('1xdlbibclp', 0), ('sardine', 0), ('belief', 0), ('implement', 0), ('4333', 0), ('bademployeeproblem', 0), ('trumping', 0), ('naval', 0), ('commands', 0), ('2955', 0), ('hilo', 0), ('2hr30min', 0), ('8hrs', 0), ('supp', 0), ('fllairport', 0), ('samantha', 0), ('keepitmovin', 0), ('siblings', 0), ('squished', 0), ('1923', 0), ('zrh', 0), ('2:45hrs', 0), ('hollywood', 0), ('dw5nf0ibtr', 0), ('tvk0pyxqv5', 0), ('cakairport', 0), ('actualy', 0), ('hostel', 0), ('fake', 0), ('squawked', 0), ('cakendeath', 0), ('4487', 0), ('fendforyourself', 0), ('considerably', 0), ('norway', 0), ('shrugging', 0), ('9shhtvioti', 0), ('bbaonx9txd', 0), ('559', 0), ('9:19', 0), ('us558', 0), ('moneynotspentonunited', 0), ('sivi', 0), ('stewart', 0), ('unrivalled', 0), ('complainers', 0), ('robyn', 0), ('manch', 0), ('please.my', 0), ('k7ubotmr1r', 0), ('portcolumbuscmh', 0), ('ashevilleair', 0), ('wifes', 0), ('aa5411', 0), ('i7vdi9wqsf', 0), ('218', 0), ('facepalm', 0), ('improves', 0), ('angryairtravel', 0), ('recorded', 0), ('tedious', 0), ('breathing', 0), ('ansleyhutson', 0), ('emily_donneiiy', 0), ('gong', 0), ('enforcement', 0), ('coats', 0), ('swallowed', 0), ('solves', 0), ('pouting', 0), ('attitudeissues', 0), ('4994', 0), ('jackson', 0), ('wyoming', 0), ('2ndary', 0), ('1065', 0), ('directing', 0), ('queuing', 0), ('u69fafqhsf', 0), ('honour', 0), ('dadeland', 0), ('parameters', 0), ('ehsanismpowered', 0), ('attentiveness', 0), ('tweetin', 0), ('doin', 0), ('anythin', 0), ('wiser', 0), ('becky', 0), ('piela', 0), ('orange', 0), ('nw', 0), ('insight', 0), ('77min', 0), ('segs', 0), ('inflatable', 0), ('savethoseseats', 0), ('profiting', 0), ('hurting', 0), ('sheer', 0), ('reigning', 0), ('gd', 0), ('effin', 0), ('shitting', 0), ('hold-', 0), ('phone-', 0), ('2034', 0), ('beautifull', 0), ('bubbly', 0), ('oaaret', 0), ('aquadilla', 0), ('malpensa', 0), ('7apr', 0), ('28mar', 0), ('25.00', 0), ('session', 0), ('beloved', 0), ('vv8cfyhkvb', 0), ('staffed', 0), ('unaccomidating', 0), ('abc11_wtvd', 0), ('stuck.on', 0), ('v5qwkyxsw6', 0), ('✔', 0), ('albanyairport', 0), ('spaces', 0), ('resources', 0), ('evidence', 0), ('ils', 0), ('cll', 0), ('prerecorded', 0), ('il', 0), ('centerl', 0), ('lio6ocpteq', 0), ('-huge', 0), ('1623', 0), ('traditions', 0), ('9vkj9s7jrm', 0), ('hn', 0), ('taping', 0), ('i5v9wfbtue', 0), ('ruiningmy', 0), ('tiffany', 0), ('2692', 0), ('vpdrplxj5a', 0), ('3960', 0), ('e0r0nto4tr', 0), ('325', 0), ('e09kej9bv1', 0), ('lex', 0), ('kinder', 0), ('values', 0), ('lostmybusiness', 0), ('pac', 0), ('secondly', 0), ('karajusto', 0), ('stone9956', 0), ('serves', 0), ('theend', 0), ('goodday', 0), ('extenuating', 0), ('memgrizz', 0), ('spurs', 0), ('okcthunder', 0), ('princesses', 0), ('glassslipperchallenge', 0), ('wdw', 0), ('stains', 0), ('mgr', 0), ('^ah', 0), ('3hrs-', 0), ('resort', 0), ('ib8kyjbcjm', 0), ('tamara', 0), ('r.', 0), ('packingayak', 0), ('brianregancomic', 0), ('elevator', 0), ('boom', 0), ('pzgc6jch7n', 0), ('666', 0), ('trbl', 0), ('terriblecommunication', 0), ('impossibly', 0), ('1lesscustomer', 0), ('svcs', 0), ('argument', 0), ('pamgrout', 0), ('9-hour', 0), ('ridiculousness', 0), ('learncustomerservice', 0), ('impacts', 0), ('ua252', 0), ('⤴⤴', 0), ('-me', 0), ('twin', 0), ('olds', 0), ('lifesaver', 0), ('bass', 0), ('saveface', 0), ('showup', 0), ('narrower', 0), ('bloated', 0), ('bailed', 0), ('priv', 0), ('amypoehler', 0), ('smiles1307', 0), ('aa-', 0), ('cheque', 0), ('l0i8fnz3ku', 0), ('ua2066', 0), ('ua6194', 0), ('runners', 0), ('miscnx', 0), ('station', 0), ('sundays', 0), ('determination', 0), ('vastly', 0), ('derekc21', 0), ('jaipur', 0), ('dehli', 0), ('nosecuritylines', 0), ('apostrophe', 0), ('surname', 0), ('apostrophefail', 0), ('flyeia', 0), ('epicfailunited', 0), ('f8neqm', 0), ('reassigned', 0), ('pandu', 0), ('qualification', 0), ('foreve', 0), ('arminrosen', 0), ('ggreenwald', 0), ('undefined', 0), ('cgroup', 0), ('1562', 0), ('sfo-', 0), ('hemophilia', 0), ('rainy', 0), ('americanone', 0), ('4016688561', 0), ('mga', 0), ('daddyshome', 0), ('agts', 0), ('plot', 0), ('thickens', 0), ('languages', 0), ('-without', 0), ('answer-', 0), ('latinamerican', 0), ('purchase.error', 0), ('invalid_loyalty_member_account_status', 0), ('sw9', 0), ('1-vyil1xklrog24fs-918j_a', 0), ('op', 0), ('career', 0), ('possible.2', 0), ('italian', 0), ('ua1270', 0), ('descending', 0), ('farce', 0), ('depression', 0), ('discussing', 0), ('kelsey', 0), ('bellagio', 0), ('humphrey', 0), ('mavigetbbw', 0), ('loyalrrmember', 0), ('~3', 0), ('8477733', 0), ('ua381', 0), ('overselling', 0), ('flights=', 0), ('revue', 0), ('6:35', 0), ('demonstration', 0), ('corny', 0), ('lwotkiekgu', 0), ('5187', 0), ('cop', 0), ('2417', 0), ('uygew2nosr', 0), ('mjkpgvxmpc', 0), ('ju9rhz4rqc', 0), ('businessfirst', 0), ('delightful', 0), ('airlineadviser', 0), ('dtv', 0), ('10yr', 0), ('movement', 0), ('xaspqdsqhe', 0), ('illogical', 0), ('dimensions', 0), ('offenders', 0), ('conversational', 0), ('exiting', 0), ('1680', 0), ('ploughs', 0), ('lone', 0), ('furrow', 0), ('middleeast', 0), ('dcobokn7ee', 0), ('thenationaluae', 0), ('ua992', 0), ('49pv3kchnr', 0), ('org', 0), (\"we're\", 0), ('nolo', 0), ('goodenufmother', 0), ('tiday', 0), ('kjkuvj6cmo', 0), ('dresparkles', 0), ('nomorecheckedbags', 0), ('1h08', 0), ('878', 0), ('f6', 0), ('5431', 0), ('tiredofwaiting', 0), ('seatback', 0), ('ua1260', 0), ('dualcam', 0), ('redreserve', 0), ('pride', 0), ('0xjared', 0), ('ais', 0), ('inquiry', 0), ('universally', 0), ('delacy', 0), ('compassionate', 0), ('challenges', 0), ('5077', 0), ('r8p2zy3fe4', 0), ('pacificbiznews', 0), ('floors', 0), ('attendants-', 0), ('measles', 0), ('outbreak', 0), ('costumers', 0), ('betch', 0), ('cqmm7nue9', 0), ('livewelltraveled', 0), ('sytycd', 0), ('kristie(sp', 0), ('gate4', 0), ('promotethatgirl', 0), ('6:00am', 0), ('bttgmyn0a0', 0), ('accts', 0), ('9+hours', 0), ('10:45', 0), ('dobetterjetblue', 0), ('behalf', 0), ('astounding', 0), ('vabeatsjblue', 0), ('brcsjbxg2s', 0), ('3:50', 0), ('extraordinary', 0), ('geg4nghmie', 0), ('tinman2ironman', 0), ('meggersrocks', 0), ('1580', 0), ('h3k3owohd1', 0), ('deaffriendly', 0), ('2brt0athau', 0), ('wznp5q1m0h', 0), ('rats', 0), ('synonymous', 0), ('yzh4zrqm0i', 0), ('petty', 0), ('lax.when', 0), ('planes?plane', 0), ('unitedfirst', 0), ('chiberia', 0), ('letsgohome', 0), ('pastmypatienceexpirationdate', 0), ('by3vdiosua', 0), ('175', 0), ('ventilation', 0), ('wjiigztiwg', 0), ('opal', 0), ('woven', 0), ('murdering', 0), ('n2fvelcygz', 0), ('tropic', 0), ('elected', 0), ('appointed', 0), ('kkedjnrtwo', 0), ('agt', 0), ('pascucci', 0), ('yiwlhqhzgp', 0), ('d4', 0), ('helped-2', 0), ('ua5025', 0), ('hon', 0), ('unprecedented', 0), ('nustgpelsf', 0), ('be0b4k1xbt', 0), ('buttons', 0), ('lostandforgotten', 0), ('soiqrn19aj', 0), ('ibvvtzls4e', 0), ('bqonpa', 0), ('1641', 0), ('2214', 0), ('mia-', 0), ('theairhelper', 0), ('relieved', 0), ('neighboring', 0), ('us4551', 0), ('5fmipw9dhi', 0), ('dread', 0), ('rhw78ktqfo', 0), ('unprofessionally', 0), ('contaced', 0), ('eyewitness', 0), ('883', 0), ('uczzp9yphk', 0), ('supported', 0), ('yxn00pnoav', 0), ('budapest', 0), ('oscarscountdown', 0), ('10:00pm', 0), ('istanbul', 0), ('sat(2morrow', 0), ('2851', 0), ('pir', 0), ('saturdays', 0), ('permanent', 0), ('470', 0), ('conn', 0), ('nixchangefees', 0), ('3hr', 0), ('26min', 0), ('4016', 0), ('529557', 0), ('h2o', 0), ('flight1797', 0), ('7:38', 0), ('karinslee', 0), ('chinese', 0), ('persisting', 0), ('130am', 0), ('constructive', 0), ('criticism', 0), ('1348', 0), ('compatible', 0), ('1esmmnizek', 0), ('7pm', 0), ('11pm', 0), ('practices', 0), ('mytimeismoney', 0), ('socket', 0), ('vouchers??no', 0), ('childrens', 0), ('absorber', 0), ('3487', 0), ('7c', 0), ('portfolio', 0), ('looong', 0), ('extraordinaire', 0), ('seau', 0), ('fong', 0), ('amazon', 0), ('lenaowfyvu', 0), ('kevolt', 0), ('sozldj', 0), ('burned', 0), ('eatgregeat', 0), ('greg', 0), ('teamnkh', 0), ('2:55pm', 0), ('shoe', 0), ('sock', 0), ('755vpym4mv', 0), ('opaque', 0), ('sliver', 0), ('fl1289sfo', 0), ('getmeoffrhisfuckinplane', 0), ('quantas', 0), ('auckland', 0), ('kacy2awdbw', 0), ('gnv<<<fsd', 0), ('2.19', 0), ('2.21', 0), ('dc-10', 0), ('ns1acfqcdq', 0), ('theacademy', 0), ('hotlanta', 0), ('x5zqssjtrb', 0), ('nix', 0), ('tons', 0), ('katie', 0), ('c47', 0), ('sympathize', 0), ('4-minute', 0), ('kthxbai', 0), ('nippon', 0), ('2065', 0), ('20hrs', 0), ('greyhoundbus', 0), ('illiterate', 0), ('t4gcks2bh5', 0), ('lednocdqee', 0), ('physical', 0), ('aggiemensgolf', 0), ('12thman', 0), ('g8dka3edhf', 0), ('reaches', 0), ('streetwise', 0), ('c7tpdkqulm', 0), ('respects', 0), ('xhsuupheze', 0), ('thanks!', 0), ('performing', 0), ('cspkcats', 0), ('outtage', 0), ('affecting', 0), ('0530', 0), ('lastflightofthenight', 0), ('breakup', 0), ('deltapoints', 0), ('overloads', 0), ('execution', 0), ('giants', 0), ('lh7631', 0), ('allrepresentativesbusy', 0), ('nooption', 0), ('ondemand', 0), ('leatherseats', 0), ('hipunis', 0), ('cushy', 0), ('claudia', 0), ('sapphire', 0), ('2600', 0), ('915', 0), ('87', 0), ('43rd', 0), ('mb3bjwgoap', 0), ('ufbdr5axeo', 0), ('1220', 0), ('tracing', 0), ('turquoise', 0), ('franchise02', 0), ('keithlaw', 0), ('propositioned', 0), ('creditcardsales', 0), ('8:15p', 0), ('onboad', 0), ('volt', 0), ('pzal4wtrez', 0), ('suite', 0), ('fkn', 0), ('806', 0), ('npbhd0', 0), ('ewxwxidtfx', 0), ('xoxo', 0), ('wheelchairs', 0), ('dxn58rxdks', 0), ('jameskraw', 0), ('njv4bp', 0), ('essence', 0), ('lungs', 0), ('btvpxtzju0', 0), ('flightspots', 0), ('mobileboarding', 0), ('777.70', 0), ('sfo->aus', 0), ('ua343', 0), ('is9jx1', 0), ('mite', 0), ('bites', 0), ('mites', 0), ('pretending', 0), ('welfare', 0), ('devaluation', 0), ('sato', 0), ('4ktk2hsmgy', 0), ('website--', 0), ('diane', 0), ('nail', 0), ('coffin', 0), ('straightend', 0), (\"6'2\", 0), ('callers', 0), ('376', 0), ('2007', 0), ('3111', 0), ('n614sw', 0), ('qefkfwzo7d', 0), ('beverages', 0), ('happytweet', 0), ('crappiest', 0), ('enemy', 0), ('2:55', 0), ('mx', 0), ('stepped', 0), ('fashioned', 0), ('277', 0), ('tke', 0), ('pumped', 0), ('vd0tlomtwu', 0), ('manuel_c', 0), ('platitudes', 0), ('twice.got', 0), ('bills', 0), ('help!phone', 0), ('slowing', 0), ('holz', 0), ('ua748', 0), ('el_ingeniero', 0), ('finleybklyncfs', 0), ('directional', 0), ('dislexia', 0), ('dan_roam', 0), ('^mn', 0), ('lxwbsfxfj0', 0), ('cheat', 0), ('horribly', 0), ('stray', 0), ('thor', 0), ('bestdressed', 0), ('1,000', 0), ('edge', 0), ('walls29', 0), ('’d', 0), ('dissemination', 0), ('relevant', 0), ('bettween', 0), ('71a', 0), ('otty5rymzd', 0), ('grasshopper', 0), ('twitterz', 0), ('kung', 0), ('8mwitri9kf', 0), ('constitution', 0), ('declaration', 0), ('independence', 0), ('navy', 0), ('valuables', 0), ('us2146', 0), ('aa2924', 0), ('24hr', 0), ('deval', 0), ('ua1470', 0), ('614', 0), ('tmr', 0), ('mpls', 0), ('japan', 0), ('counts', 0), ('11:15', 0), ('12:40', 0), ('luved', 0), ('372', 0), ('partnering', 0), ('hilton', 0), ('suuperg', 0), ('rockstars', 0), ('lubbock', 0), ('registering', 0), ('fedex', 0), ('legally', 0), ('blind', 0), ('loweredexpectations', 0), ('8544484', 0), ('ubetter', 0), ('smth', 0), ('faundation', 0), ('judeo', 0), ('cristian', 0), ('ideologias', 0), ('mwbk68k0a3', 0), ('rethink', 0), ('lagos', 0), ('nigeria', 0), ('ou', 0), ('mundane', 0), ('qs', 0), ('cincinnati', 0), ('fitz', 0), ('1326', 0), ('marty', 0), ('nobaggagefees', 0), ('tjdzamhpew', 0), ('populate', 0), ('newamericanstinks', 0), ('incidentally', 0), ('sheila', 0), ('170', 0), ('bonnie', 0), ('slog', 0), ('help_lindsey', 0), ('359', 0), ('bragged', 0), ('truebluecolors', 0), ('2275', 0), ('pp', 0), ('seet', 0), ('10mins', 0), ('dqjl8vz2h2', 0), ('dallasairport', 0), ('2208', 0), ('cle.would', 0), ('a20', 0), ('lofty', 0), ('silverstatus', 0), ('f4tp0dawbd', 0), ('se57dmjhiw', 0), ('it?why', 0), ('qlyss8', 0), ('7-day', 0), ('jetways', 0), ('pisspoor', 0), ('aa291', 0), ('delay?consequence', 0), ('breeze', 0), ('6mbk79mdnw', 0), ('740', 0), ('ionlyflyblue', 0), ('a3ycflalxv', 0), ('empl', 0), ('greatjob', 0), ('~$550', 0), ('11:55am', 0), ('usairwis', 0), ('inefficiency', 0), ('pn', 0), ('320008a', 0), ('deflator', 0), ('chapter', 0), ('b787', 0), ('amm', 0), ('oilncfweyg', 0), ('workin', 0), ('notnice', 0), ('tellyourstory', 0), ('mnl', 0), ('advertised', 0), ('1038', 0), ('bookable', 0), ('soreback', 0), ('ericbradleypt', 0), ('j6hb4jdver', 0), ('briansumers', 0), ('toolong', 0), ('dulles.we', 0), ('on.multiple', 0), ('syr', 0), ('coltsmissingbags', 0), ('miscounting', 0), ('djevolutionhd', 0), ('125k+', 0), ('deeply', 0), ('paytontaylor129', 0), ('payton', 0), ('taylor', 0), ('hall', 0), ('signage', 0), ('22-mdw', 0), ('melissa', 0), ('ownership', 0), ('erzht75kqz', 0), ('12-month', 0), ('17.58', 0), ('xvbjczlmda', 0), ('itscostingmeincome', 0), (\"nat'l\", 0), ('justgetmehome', 0), ('becuz', 0), ('nostalgic', 0), ('pieces', 0), ('onelove', 0), ('regulation', 0), ('furnish', 0), ('labeled', 0), ('occupy', 0), ('musical', 0), ('ua3710', 0), ('94', 0), ('workforces', 0), ('s!b', 0), ('unheard', 0), ('brands', 0), ('skebqktxvx', 0), ('detectors', 0), ('txting', 0), ('restriction', 0), ('stuckintheloop', 0), ('firevan', 0), ('wikipearl', 0), ('natprodexpo', 0), ('expowest', 0), ('alwayslate', 0), ('routine', 0), ('nyt', 0), ('bngpli8jt6', 0), ('schedules', 0), ('quintana', 0), ('roo', 0), ('.5', 0), ('iflyalot', 0), ('411', 0), ('evrytime', 0), ('bso', 0), ('attentive', 0), ('50hrs', 0), ('expires.why', 0), ('mightmismybrosgraduation', 0), ('2601', 0), ('kangaroos', 0), ('destin-', 0), ('walton', 0), ('pad', 0), ('boggling', 0), ('ueggkn79za', 0), ('ua6', 0), ('employ', 0), ('whyareyouyelling', 0), ('n9vge2npib', 0), ('defiantly', 0), ('ual212', 0), ('bpdfpp', 0), ('abandon', 0), ('416', 0), ('514', 0), ('unprepared', 0), ('aftr', 0), ('bng', 0), ('hstg', 0), ('med', 0), ('fnd', 0), ('cnceld', 0), ('disheartening', 0), ('11:15p', 0), ('construction', 0), ('faults', 0), ('oveur', 0), ('murdock', 0), ('huston', 0), ('2516', 0), ('2244', 0), ('smarter', 0), ('mooks', 0), ('godelta', 0), ('plains', 0), ('turkish', 0), ('shaquille', 0), ('ua1534', 0), ('barclays', 0), ('1800iflyswa', 0), ('nocareforcustomers', 0), ('tomoro', 0), ('6,000', 0), ('ontarmac', 0), ('1881', 0), ('donaldaroberts1', 0), ('1032', 0), ('lmk', 0), ('thur', 0), ('deter', 0), ('storage', 0), ('latter', 0), ('evennotified', 0), ('theflight', 0), ('isdelayed', 0), ('wererunning', 0), ('roundtrips', 0), ('raps', 0), ('newburgh', 0), ('ua3882', 0), ('crewe', 0), ('rising', 0), ('vahdekvoke', 0), ('mighty', 0), ('1,5', 0), ('preggo', 0), ('hormones', 0), ('gis2015', 0), ('logs', 0), ('2of2', 0), ('2707', 0), ('infinity', 0), ('agencies', 0), ('qrxz0bgbtq', 0), ('umpteen', 0), ('wannaa', 0), ('hb799cco0', 0), ('mattthomasnews', 0), ('siberia', 0), ('refreshes', 0), ('checkout.error', 0), ('358', 0), ('dounotwantmybusiness', 0), ('5182', 0), ('initiated', 0), ('coverage', 0), ('preciation', 0), ('️tampa', 0), ('terrible.no', 0), ('are.his', 0), ('aweful', 0), ('finale', 0), ('😈', 0), ('severally', 0), ('chairmanlove', 0), ('links', 0), ('2npxb6obmr', 0), ('predicted', 0), ('businesstrip', 0), ('keepingtraditionsalive', 0), ('describing', 0), ('29daystogo', 0), ('t-24', 0), ('4297', 0), ('virtually', 0), ('rentals', 0), ('filing', 0), ('keepitclassy', 0), ('ezee', 0), ('wilson', 0), ('contain', 0), ('herself', 0), ('authors', 0), ('fiction', 0), ('ua5037', 0), ('t78k7abtwf', 0), ('disconnecting', 0), ('pins', 0), ('cbv7f3kbkx', 0), ('8a', 0), ('depot', 0), ('jlhalldc', 0), ('kurt', 0), ('ua1745', 0), ('dc9', 0), ('clueless', 0), ('49min', 0), ('correspondence', 0), ('whiskey', 0), ('wiyh', 0), ('flight108', 0), ('sprinted', 0), ('coughed', 0), ('lung', 0), ('mhhs9ruplv', 0), ('undone', 0), ('selections', 0), ('6:23', 0), ('workng', 0), ('et', 0), ('pushy', 0), ('happend', 0), ('668', 0), ('approximate', 0), ('157', 0), ('thehaileytate', 0), ('seatbelt', 0), ('presentation', 0), ('16c9ex79rk', 0), ('w0hoaewhws', 0), ('558', 0), ('temporary', 0), ('misjudging', 0), ('deliberate', 0), ('expens', 0), ('i1sfmi7zat', 0), ('636', 0), ('a=', 0), ('itenary', 0), ('jack_kairys', 0), ('yyzua70435', 0), ('cncdld', 0), ('festivities', 0), ('6cgfv02gzb', 0), ('nothelpful', 0), ('gunna', 0), ('stevie', 0), ('pv', 0), ('incurring', 0), ('grader', 0), ('bayepzkmiz', 0), ('aa362', 0), ('dfw>>mke', 0), ('gfc', 0), ('mkpognntyc', 0), ('boost', 0), ('conversion', 0), ('etailwest', 0), ('payments', 0), ('surgeryhelp', 0), ('belong', 0), ('humiliating', 0), ('demanded', 0), ('handles', 0), ('reissue', 0), ('bowl', 0), ('p8xfhq4kps', 0), ('8q6mfd', 0), ('alternatively', 0), ('congratulation', 0), ('exe', 0), ('neveind', 0), ('painless', 0), ('tennis', 0), ('characterize', 0), ('1838', 0), ('lease', 0), ('somewhat', 0), ('empathetic', 0), ('monika', 0), ('mwa', 0), ('tiffanyandco', 0), ('sabotaging', 0), ('feces', 0), ('sprinkled', 0), ('c12', 0), ('helpline', 0), ('prize', 0), ('sba', 0), ('kconti44', 0), ('lined', 0), ('berlin', 0), ('conversed', 0), ('manana', 0), ('nny', 0), ('kitties', 0), ('countingdown', 0), ('overcharged&&underserved', 0), ('holds', 0), ('bulkhead', 0), ('hogs', 0), ('zv6cfpohl5', 0), ('rwg', 0), ('powers', 0), ('entrusted', 0), ('9bzqzqx8dc', 0), ('jhau4k48yv', 0), ('instructions', 0), ('1,200', 0), ('7d', 0), ('338', 0), ('banned', 0), ('ua3388', 0), ('acknowledge', 0), ('07xhcacjax', 0), ('gather', 0), ('devs', 0), ('1999', 0), ('2011', 0), ('finals', 0), ('throwback', 0), ('mb3ipgs8zq', 0), ('mait', 0), ('formality\"-', 0), ('reader', 0), ('108', 0), ('fiancée', 0), ('animal', 0), ('7:16', 0), ('gcwvfuopl2', 0), ('letitgo', 0), ('qxteqzm3yz', 0), ('streamline', 0), ('commute', 0), ('☕', 0), ('📲', 0), ('1357', 0), ('abcnews', 0), ('princess', 0), ('splitting', 0), ('quadruples', 0), ('wontflyagainwithyou', 0), ('attendent', 0), ('backtowinter', 0), ('vx9vbctdlf', 0), ('foxnews', 0), ('106', 0), ('protocols', 0), ('tlh', 0), ('whacked', 0), ('worldwide', 0), ('shameonyou', 0), ('inflation', 0), ('cars', 0), ('rylietolbert15', 0), ('diligent', 0), ('35x.', 0), ('buses', 0), ('rapidrewards', 0), ('astounds', 0), ('vacations', 0), ('1945', 0), ('snowbama', 0), ('beers', 0), ('handy', 0), ('society', 0), ('1136', 0), ('d.', 0), ('americanforlife', 0), ('electrical', 0), ('interiors', 0), ('whyjeff', 0), ('excellentcustomerservice', 0), ('aa1103', 0), ('ftmyers', 0), ('montana', 0), ('ur60un86gy', 0), ('magical', 0), ('am.i', 0), ('mwangbickler', 0), ('michael', 0), ('-got', 0), ('retains', 0), ('2:45', 0), ('begun', 0), ('c9', 0), ('programmers', 0), ('rollerboards', 0), ('art', 0), ('repeated', 0), ('vacationfail', 0), ('frozenwater', 0), ('gettingimpatient', 0), ('theycouldatleastofferfreebooze', 0), ('7xmav13g2w', 0), ('ela7tntcir', 0), ('15yr', 0), ('tejrn09tfw', 0), ('lololololol', 0), ('yxswfq9tgp', 0), ('bebetter', 0), ('preparedness', 0), ('snowballed', 0), ('bbhtlzgh2c', 0), ('glassdoor', 0), ('snagging', 0), ('notsurprising', 0), ('luvthem', 0), ('skycap', 0), ('1080', 0), ('func', 0), ('duecto', 0), ('willl', 0), ('dynamite', 0), ('iwas', 0), ('12am.sound', 0), ('analystdoc', 0), ('1337', 0), ('bleh', 0), ('reclameaqui', 0), ('tripadvisor', 0), ('augjscmolu', 0), ('stocking', 0), ('immediate', 0), ('bootbag', 0), ('assuring', 0), ('11:35', 0), ('untrained', 0), ('us1799', 0), ('clt->sfo', 0), ('anyone40min', 0), ('chuckhole', 0), ('lanes', 0), ('callmestanley7', 0), ('deactivated', 0), ('deactivate', 0), ('exclusive', 0), ('steaming', 0), ('dhhomg2kix', 0), ('whilst', 0), ('nonstops', 0), ('566.80', 0), ('nosupport', 0), ('redo', 0), ('swapic', 0), ('interupt', 0), ('staduim', 0), ('philpete', 0), ('suddenly', 0), ('strength', 0), ('mauererpower', 0), ('reached', 0), ('rcvd', 0), ('messes', 0), ('outline', 0), ('scenarios', 0), ('lbc', 0), ('achieving', 0), (\"'em\", 0), ('fitbit', 0), ('flexes', 0), ('sol', 0), ('commence', 0), ('nerves', 0), ('unfollow', 0), ('thanking', 0), ('4461', 0), ('braving', 0), ('1222', 0), ('e190', 0), ('ramps', 0), ('rivals', 0), ('3khgjofgpx', 0), ('transatlantic', 0), ('banana', 0), ('rollercoaster', 0), ('vskxyamnom', 0), ('sadie4406', 0), ('mraw3qdw4d', 0), ('role', 0), ('no-', 0), ('boarding-', 0), ('714', 0), ('reativation', 0), ('1ker', 0), ('tomorrows', 0), ('refreshments', 0), ('vgn2x1ckg0', 0), ('upc', 0), ('vacation-', 0), ('swimsuits', 0), ('1130pm', 0), ('1133', 0), ('n353jb', 0), ('swzm2fx3nu', 0), ('golfwithwoody', 0), ('woody', 0), ('rookie', 0), ('ec', 0), ('monitoring', 0), ('fakeawards', 0), ('luvisbetter', 0), ('nrpwmgyv3e', 0), ('inserted', 0), ('goodbye', 0), ('fvyzjldton', 0), ('🚶', 0), ('oylgeao7y8', 0), ('doubtful', 0), ('ua1002', 0), ('la397zaoay', 0), (\"dm'ing\", 0), ('forum', 0), ('dissapointment', 0), ('=(', 0), ('nh10', 0), ('5713', 0), ('3277', 0), ('rad', 0), ('hemispheresmag', 0), ('8thtime5monthsold', 0), ('kcqnwixucm', 0), ('2284', 0), ('flightrs', 0), ('gtsvyb', 0), ('a8', 0), ('a15', 0), ('earring', 0), ('dayjustgotworse', 0), ('uiesr3ghho', 0), ('mltple', 0), ('457', 0), ('lly144', 0), ('jerks', 0), ('🐳', 0), ('dont', 0), ('184', 0), ('finq5fh6ue', 0), ('mandatory', 0), ('bish', 0), ('enuf', 0), ('mbr', 0), ('adapted', 0), ('4443.we', 0), ('2:12', 0), ('33)for', 0), ('apx', 0), ('rly', 0), ('8:30a', 0), ('9a', 0), ('9:30a', 0), ('10a', 0), ('11a', 0), ('11:30a', 0), ('1274', 0), ('satisfactorily', 0), ('justsayin', 0), ('rem', 0), ('211pilot', 0), ('spilled', 0), ('x__x', 0), ('xxppzo88j1', 0), ('latrice', 0), ('h.', 0), ('inappropriately', 0), ('aa4285', 0), ('gnight', 0), ('cache', 0), ('159', 0), ('wjyas2d94n', 0), ('88.9', 0), ('ketr', 0), ('ssuvwwkyhh', 0), ('cartagena', 0), ('praises', 0), ('pact', 0), ('ssal', 0), ('fmjtyl', 0), ('instrument', 0), ('apollochplayers', 0), ('plants', 0), ('productivity', 0), ('healthbenefitsofplants', 0), ('gardening', 0), ('bvfaxdubaq', 0), ('tables', 0), ('purifier', 0), ('polite', 0), ('habitually', 0), ('igiveup', 0), ('prayer', 0), ('mishaps', 0), ('lo', 0), ('smiles', 0), ('ord.we', 0), ('catfoodbeerglue', 0), ('2thc9rkurt', 0), ('abbreve', 0), ('displeasure', 0), ('901', 0), ('rio', 0), ('rcm_oficial', 0), ('representing', 0), ('cisnerosmedia', 0), ('yourstoryhere', 0), ('cbarrows', 0), ('a319', 0), ('squeaks', 0), ('shift', 0), ('formed', 0), ('cowardly', 0), ('imrlau77ih', 0), ('wedontcarebecauseyoupaidalready', 0), ('deployment', 0), ('popped', 0), ('amin_aur', 0), ('1:34', 0), ('pgwukrpmox', 0), ('10:35', 0), ('9:20', 0), ('brittanyobx11', 0), ('quirky', 0), ('archaic', 0), ('accommodates', 0), ('apnea', 0), ('2pujvcelng', 0), ('scqujbvsta', 0), ('ua1127', 0), ('547', 0), ('8fmzzoltv9', 0), ('possession', 0), ('forty', 0), ('refurbish', 0), ('unknowledgeable', 0), ('sundown', 0), ('rqbpmwettq', 0), ('establish', 0), ('prior)', 0), ('us5235', 0), ('cinedrones', 0), ('ap', 0), ('tfjfmsha2k', 0), ('c_istudios', 0), ('youdidit', 0), ('getmeoutofhere', 0), ('whatstheholdup', 0), ('chitocle', 0), ('frontrunner', 0), ('oscars2016', 0), ('ssbaujtouw', 0), ('cockup', 0), ('oh7cfv7dhr', 0), ('240minute', 0), ('eaten', 0), ('usairwayssuck', 0), ('delaney', 0), ('4kh92mkotz', 0), ('11:21p', 0), ('engineer', 0), ('frame', 0), ('27a', 0), ('funerals', 0), ('8hh0c63tie', 0), ('4helped', 0), ('lighting', 0), ('kickin', 0), ('💤', 0), ('faulty', 0), ('liars', 0), ('erie', 0), ('62godfaknb', 0), ('income', 0), ('discovered', 0), ('csrs', 0), ('czamkoff', 0), ('greed', 0), ('hawaiianair', 0), ('jammed', 0), ('insider', 0), ('hill', 0), ('vvzksmfkvw', 0), ('wating', 0), ('amt', 0), ('yvonneokaka', 0), ('98', 0), ('heel', 0), ('clicks', 0), ('awesomeee', 0), ('aa91', 0), ('12:13pm', 0), ('platinums', 0), ('difficulty', 0), ('acts', 0), ('dump', 0), ('sti', 0), ('invoice', 0), ('gum', 0), ('n9hmcrjchb', 0), ('recover', 0), ('1848', 0), ('ba1551', 0), ('aa1679', 0), ('successful', 0), ('863-', 0), ('pleasure-', 0), ('trqlpeinzw', 0), ('becomes', 0), ('czor4nyh9n', 0), ('backwards', 0), ('ua1523', 0), ('3:55', 0), ('pointy', 0), ('ggqzqd', 0), ('purse', 0), ('workhard', 0), ('playsoon', 0), ('ua1121', 0), ('misread', 0), ('stingiest', 0), ('ptfo', 0), ('bastards', 0), ('stingy', 0), ('enh1keuutd', 0), ('scent', 0), ('tht', 0), ('dnt', 0), ('4914', 0), ('transferring', 0), ('contribution', 0), ('pool', 0), ('areas', 0), ('fwwe7f', 0), ('va.', 0), ('ant', 0), ('tailwinds', 0), ('dublinairport', 0), ('loveloughneagh', 0), ('20,000', 0), ('frd0cay6da', 0), ('commitments', 0), ('ftl', 0), ('pizza', 0), ('7:10', 0), ('vuxf4r4unu', 0), ('shade', 0), ('reachingnewlows', 0), ('1025', 0), ('3854', 0), ('forecasted', 0), ('rlwbj80ma5', 0), ('flight911', 0), ('wrecked', 0), ('yorkshire2002', 0), ('whatgives', 0), ('dullessucks', 0), ('supporting', 0), ('2373', 0), ('unaccounted', 0), ('reservation-', 0), ('finalstretch', 0), ('mileagerun', 0), ('6k', 0), ('psych', 0), ('pittsburg', 0), ('exicted', 0), ('shortcuts', 0), ('1008', 0), ('bogotá', 0), ('menus', 0), ('ongoing', 0), ('15:30', 0), ('despise', 0), ('thee', 0), ('flt1533', 0), ('carta', 0), ('flight--', 0), ('bitchy', 0), ('anhour', 0), ('airlinegave', 0), ('2224', 0), ('jn3v3k3qgv', 0), ('allready', 0), ('dreaming', 0), ('crickets', 0), ('stuffy', 0), ('congested', 0), ('dissapointing', 0), ('ua1616', 0), ('lagging', 0), ('oak->msy', 0), ('5903', 0), ('gregm528', 0), ('scenes', 0), ('noaccountability', 0), ('4179', 0), ('tribute', 0), ('soundofmusic', 0), ('oxgen', 0), ('tank', 0), ('osox9h7fwy', 0), ('rebooting', 0), ('dispatch', 0), ('pivotalcf', 0), ('c29', 0), ('a18', 0), ('carts', 0), ('handicap', 0), ('5237', 0), ('spade', 0), ('spiced', 0), ('flightlation-', 0), ('10:30a', 0), ('4:00a', 0), ('waltdisneyworld', 0), ('bed', 0), ('bs.have', 0), ('ua1159', 0), ('rmoug15', 0), ('cheduled', 0), ('to10.30', 0), ('2009', 0), ('3078', 0), ('jannasaurusrex', 0), ('janna', 0), ('weappreciateyou', 0), ('jetbluefame', 0), ('ri', 0), ('beans', 0), ('digg', 0), ('lt1pykfvrq', 0), ('sms', 0), ('pulls', 0), ('stillbagless', 0), ('alison', 0), ('bobbi', 0), ('marked', 0), ('reposted', 0), ('ua6357', 0), ('bullying', 0), ('workforce', 0), ('tic', 0), ('7hours', 0), ('naelah', 0), ('delays.handling', 0), ('ground;still', 0), ('magically', 0), ('repaired', 0), ('n.', 0), ('awfully', 0), ('daniel', 0), ('1557', 0), ('jockeying', 0), ('ua862', 0), ('cm4roiypc2', 0), ('lynchburg', 0), ('lyoocx5msh', 0), ('racist', 0), ('inconveniently', 0), ('span', 0), ('believable', 0), ('jperhi', 0), ('ease', 0), ('4:45', 0), ('us1765', 0), ('rare', 0), ('decorum', 0), ('revisiting', 0), ('blumanity', 0), ('dallas_news', 0), ('lfgr0nifut', 0), ('lining', 0), ('44stocker', 0), ('sarah', 0), ('stocker', 0), ('abcletjetbluestreamfeed', 0), ('dedication', 0), ('mos', 0), ('dow', 0), ('6x', 0), ('broad', 0), ('shoulders', 0), ('insulting', 0), ('reps-', 0), ('7:50pm', 0), ('suffered', 0), ('lengthy', 0), ('zfroinpszi', 0), ('lft5', 0), ('10:51pm', 0), ('unloaded', 0), ('tcmparty', 0), ('ce3', 0), ('31daysofoscar', 0), ('melbourne', 0), ('ichangedyourdiaper', 0), ('1zt2kee8up', 0), ('patrichruben', 0), ('maximization', 0), ('dinosaurs', 0), ('gsp', 0), ('separately', 0), ('cocktails', 0), ('hours-', 0), ('cltdouglas', 0), ('hp9rppcvhx', 0), ('terror', 0), ('minors', 0), ('killeen', 0), ('2339', 0), ('sunrises', 0), ('jgdu5us8dz', 0), ('rapids', 0), ('string', 0), ('fewer', 0), ('philacarservice', 0), ('championship', 0), ('️out', 0), ('hiccups', 0), ('zfqmpgxvs6', 0), ('0bjnz4eix5', 0), ('homewardbound', 0), ('-u', 0), ('fransisco', 0), ('sale?im', 0), ('microsecond', 0), ('intlcheckin', 0), ('retribution', 0), ('lsxji0ouvr', 0), ('wa', 0), ('colder', 0), ('436', 0), ('rpdbpx3wnd', 0), ('semantics', 0), ('extent', 0), ('dictionary', 0), ('airportcardio', 0), ('p6ucbvlv5e', 0), ('terriblecustomerservice', 0), ('fec4i3vwq7', 0), ('applepay', 0), ('-today', 0), ('202.88', 0), ('doumented', 0), ('prbound', 0), ('alan_bledsoe', 0), ('alan', 0), ('lve', 0), ('aygaoeb6uu', 0), ('bgr1061', 0), ('ishouldhavedriven', 0), ('resent', 0), ('skymall', 0), ('ripskymall', 0), ('1161', 0), ('vdfdodqvgx', 0), ('sandiego', 0), ('bostonbbb', 0), ('ljzdthd9bv', 0), ('6.55pm', 0), ('1.50', 0), ('goingforgreatnessfail', 0), ('benadryl', 0), ('epipens', 0), ('hez4jk4zsk', 0), ('~huh', 0), ('mallowfairy', 0), ('bd', 0), ('proj', 0), ('cond', 0), ('unbelieavle', 0), ('unaccpetable', 0), ('failback', 0), ('mtn', 0), ('amiltx3', 0), ('forgiven', 0), ('customer,,,it', 0), ('^ll', 0), ('3367', 0), ('2488', 0), ('8004337300', 0), ('hitawall', 0), ('sector', 0), ('whereby', 0), ('xijyrpslzk', 0), ('hollow', 0), ('obvious', 0), ('drivers', 0), ('makeovertime', 0), ('customerserviceplease', 0), ('2plains', 0), ('2fails', 0), ('salad', 0), ('fuking', 0), ('coin', 0), ('circle', 0), ('paper,&&said', 0), ('michele', 0), ('maltese', 0), ('puppy', 0), ('praised', 0), ('upgrade-', 0), ('usvi', 0), ('dndoepqukz', 0), ('donedeal', 0), ('talktoahuman', 0), ('eight', 0), ('steered', 0), ('voicemail', 0), ('rudeservice', 0), ('spain', 0), ('539', 0), ('min+', 0), ('youredoingitwrong', 0), ('diversions', 0), ('nottrue', 0), ('3oq1t4ohjl', 0), ('8273993', 0), ('fluid', 0), ('leisure', 0), ('ambivalence', 0), ('noexcusesaccepted', 0), ('geneva', 0), ('spaghetti', 0), ('birthdays', 0), ('uaywrr45as', 0), ('tu', 0), ('leeway', 0), ('gin', 0), ('tonic', 0), ('stupidity', 0), ('jax2bna', 0), ('notokay', 0), ('ua1750', 0), ('prison', 0), ('6delays', 0), ('ua125', 0), ('joyadventuremom', 0), ('breastfeeding', 0), ('15.99', 0), ('wireless', 0), ('6.99', 0), ('piggy', 0), ('api', 0), ('496', 0), ('que', 0), ('flight424', 0), ('comedic', 0), ('othr', 0), ('2066', 0), ('maxfitgirl29', 0), ('3825', 0), ('grandcanyon', 0), ('d7pqouatdf', 0), ('octaviannightmare', 0), ('f5ixyw8xyb', 0), ('senses', 0), ('yxe', 0), ('ua6136', 0), ('4jdvk8tcqx', 0), ('i7ut2zvhco', 0), ('10p', 0), ('likeagirl', 0), ('smm', 0), ('ntgl2wnqvm', 0), ('ua1565', 0), ('1366', 0), ('1552', 0), ('ocean', 0), ('haning', 0), ('interim', 0), ('reduction', 0), ('900s', 0), ('2350', 0), ('portsmouth', 0), ('attdt', 0), ('decides', 0), ('allright', 0), ('makingloveoutofnothingatall', 0), ('kdhruf54sw', 0), ('lga->dal', 0), ('deal-', 0), ('yaayy', 0), ('dxicoyioxf', 0), ('enrolled', 0), ('after2', 0), ('citing', 0), ('time2switch', 0), ('byebyeusairline', 0), ('ernie_vigil', 0), (\"f'd\", 0), ('sickcrew', 0), ('ua649', 0), ('victim', 0), ('arpt', 0), ('aa2450', 0), ('354', 0), ('jacqueline', 0), ('amexserve', 0), ('lick', 0), ('n559jb', 0), ('qeada92mw6', 0), ('9:15', 0), ('cdt', 0), ('bushleague', 0), ('weakservice', 0), ('ftlauderdalesun', 0), ('orlandosentinel', 0), ('1ateafnc6r', 0), ('150219', 0), ('000114', 0), ('thelodge', 0), ('yeniettelswood', 0), ('andrewbiga', 0), ('codycleverly', 0), ('heidimacey', 0), ('motherpollock', 0), ('ua4636', 0), ('ua82', 0), ('safer', 0), ('bracket', 0), (\"problem?i've\", 0), ('guatemala', 0), ('adjusting', 0), ('snowstorms', 0), ('tongue', 0), ('cheek', 0), ('etiquette', 0), ('gguaa1jvdf', 0), ('poc', 0), ('organizations', 0), ('definately', 0), ('united13', 0), ('zzps5ywve2', 0), ('gratitude', 0), ('skywest', 0), ('impaired', 0), ('jetblueanyone', 0), ('1.75', 0), ('precioustime', 0), ('drwinston001', 0), ('charles', 0), ('cave', 0), ('chalk', 0), ('begrudgingly', 0), ('beatriz', 0), ('150202', 0), ('000419', 0), ('predictable', 0), ('tore', 0), ('hid', 0), ('screensand', 0), ('duanenclark', 0), ('cleanliness', 0), ('satisfied', 0), ('sizer', 0), ('monopoly', 0), ('munich', 0), ('1669', 0), ('3781', 0), ('yco9dikpt9', 0), ('flight2149', 0), ('javascript', 0), ('stylesheets', 0), ('rncahill', 0), ('disconnected!new', 0), ('ua6016053916', 0), ('ressie', 0), ('gsb2j3c4gm', 0), ('ordering', 0), ('dzegapfqw1', 0), ('384', 0), ('3589', 0), ('ringing', 0), ('antigua', 0), ('pregnantwithtwins', 0), ('bouncer', 0), ('(:', 0), ('guacamole', 0), ('precludes', 0), ('lima', 0), ('10-hour', 0), ('makestoomuchsense', 0), ('banning', 0), ('nut', 0), ('dust', 0), ('1802', 0), ('stretch', 0), ('trickling', 0), ('4kbtzvju3b', 0), ('4:17pm', 0), ('emrubu4wzd', 0), ('preferences', 0), ('cnbc', 0), ('bloombergradio', 0), ('hpgxyzrw8o', 0), ('crucial', 0), ('ejacqui', 0), ('👸', 0), ('reevaluate', 0), ('terra', 0), ('oversleeping', 0), ('uncontrollable', 0), ('irregularity', 0), ('eligible', 0), ('lekvhg', 0), ('prospective', 0), ('schools', 0), ('fairbanks', 0), ('fjkvqmbmas', 0), ('⤵for', 0), ('ef4p0hishb', 0), ('asses', 0), ('28hrs', 0), ('revision', 0), ('badwebsite', 0), ('mysteriously', 0), ('sjqemdtqma', 0), ('xf9mpnaaje', 0), ('executives', 0), ('violation', 0), ('passengerbillofrights', 0), ('gxvfumn3iz', 0), ('aurorabiz', 0), ('sitters', 0), ('amenities', 0), ('function', 0), ('nocharge', 0), ('aviv', 0), ('westpalmbeachbound', 0), ('helpless', 0), ('tanpa', 0), ('4275', 0), ('rxmjwoo7qi', 0), ('ltwhmol1dr', 0), ('deferring', 0), ('machines', 0), ('thebachelor', 0), ('wah', 0), ('keepit100', 0), ('1202', 0), ('locating', 0), ('thewayoftheid”haa', 0), ('spends', 0), ('stranger', 0), ('randomactsofcorporategreed', 0), ('dj', 0), ('cking', 0), ('railed', 0), ('l_burley11', 0), ('ewwgi97gdx', 0), ('frrfxccw7z', 0), ('nklw9ssvrq', 0), ('senior', 0), ('illness', 0), ('forfeits', 0), ('jim', 0), ('10voucherwhatajoke', 0), ('chantilly', 0), ('cabcelled', 0), ('730a', 0), ('socialtantrum', 0), ('2nzh3qoazo', 0), ('footrest', 0), ('shelf', 0), ('a330', 0), ('zl4bvexmcj', 0), ('stuckintampa', 0), ('vanished', 0), ('remained', 0), ('clog', 0), ('vegetarianproblems', 0), ('tabitha', 0), ('barclay', 0), ('clutch', 0), ('6a', 0), ('1620', 0), ('x4rsvagijn', 0), ('equals', 0), ('baggageissues', 0), ('30timesenough', 0), ('frankly', 0), ('worrying', 0), ('lock', 0), ('33036', 0), (\"you've\", 0), ('h952rdktqy', 0), ('asarco_es_ar', 0), ('🙉', 0), ('iqu0ppvq2s', 0), ('emeyerson', 0), ('walmart', 0), ('w&&b', 0), ('2495', 0), ('1229', 0), ('1120am', 0), ('b15', 0), ('triple', 0), ('product', 0), ('herbal', 0), ('drinker', 0), ('ineligible', 0), (\"flightled.can't\", 0), ('nicole', 0), ('quito', 0), ('1665', 0), ('3hours', 0), ('twenty', 0), ('shanese', 0), ('bryant', 0), ('melton', 0), ('grandmother', 0), ('6:44', 0), ('kys', 0), ('rack', 0), ('latte', 0), ('1783', 0), ('funflightattendants', 0), ('flt635', 0), ('sundayfunday', 0), ('tsvibtvt8h', 0), ('729', 0), ('⌚', 0), ('mag', 0), ('2bwi', 0), ('nmaryland', 0), ('2morrw', 0), ('dissaponted', 0), ('5491', 0), ('ywg', 0), ('ct', 0), ('5644', 0), ('connex', 0), ('legitimately', 0), ('havana', 0), ('beneficial', 0), ('3403', 0), ('8hr', 0), ('compete', 0), ('2962', 0), ('0600', 0), (\"won't\", 0), ('importantflight', 0), ('melaniespring', 0), ('a4', 0), ('emergencies', 0), ('chocked', 0), ('unmet', 0), ('cookjaycook123', 0), ('thnkx', 0), ('bt', 0), ('sux', 0), ('rumor', 0), ('898', 0), ('59:57', 0), ('grow', 0), ('1547', 0), ('killed', 0), ('buzz', 0), ('zfv', 0), ('1265', 0), ('2396', 0), ('royal', 0), ('commission', 0), ('hiremorepeople', 0), ('hubs', 0), ('pumping', 0), ('parts', 0), ('freeflight', 0), ('longstanding', 0), ('lile', 0), ('upstate', 0), ('xfwxsrwkha', 0), ('notafanofyourmerger', 0), ('n366sw', 0), ('wqzztiemx0', 0), ('screencap', 0), ('unspecified', 0), ('worded', 0), ('funited', 0), ('2348', 0), ('3499', 0), ('hbsj2sf17h', 0), ('10:01', 0), ('baitandswitch', 0), ('baftz', 0), ('zksx79itdn', 0), ('contracts', 0), ('did-', 0), ('journalist', 0), ('1am', 0), ('wonked', 0), ('css', 0), ('8qsqmm7kf2', 0), ('raeann', 0), ('stopping', 0), ('renttherunway', 0), ('dress', 0), ('bgr', 0), ('boeing', 0), ('winters', 0), ('owmaxoyehz', 0), ('escalate', 0), ('hp', 0), ('printers', 0), ('mfps', 0), ('panicked', 0), ('1748', 0), (\"q'd\", 0), ('glance', 0), ('starboard', 0), ('semester', 0), ('8473573', 0), ('1142', 0), ('1125', 0), ('curt', 0), ('eternal', 0), ('mergerdisaster', 0), ('evidently', 0), ('1person', 0), ('9:05am', 0), ('resell', 0), ('gladys', 0), ('es', 0), ('amiga', 0), ('melting', 0), ('jjdosfyibm', 0), ('7a', 0), ('unproductive', 0), ('nelsjeff', 0), ('38otlzak5d', 0), ('no2jetblue', 0), ('hired', 0), ('pssngrs', 0), ('notcomingback', 0), ('itis', 0), ('poorcustumerservice', 0), ('ftv2nwwqf1', 0), ('5cdx2roae6', 0), ('sections', 0), ('lindsay', 0), (\"that'll\", 0), ('505', 0), ('bradley', 0), ('ua90', 0), ('1750', 0), ('seeking', 0), ('mrn', 0), ('disupdates', 0), ('budweiserduels', 0), ('velour', 0), ('irina', 0), ('flip', 0), ('eatup', 0), ('cafe', 0), ('reboot', 0), ('toby', 0), ('ymftw1uyhr', 0), ('hiltonworldwide', 0), ('caravannyc', 0), ('maysvillenyc', 0), ('egaejtrglb', 0), ('raving', 0), ('nbr1', 0), ('helper', 0), ('deceptive', 0), ('granting', 0), ('neverflyunited', 0), ('opt', 0), ('verified', 0), ('sxsw', 0), ('nit', 0), ('1183', 0), ('820pm', 0), ('ua1416', 0), ('failagain', 0), ('thanks.are', 0), ('vein', 0), ('thrombosis', 0), ('noting', 0), ('dealings', 0), ('stubborn', 0), ('demanding', 0), ('1613', 0), ('aisles', 0), ('evermoreroom', 0), ('7im9rhivyr', 0), ('louprice13', 0), ('aacustomerservice', 0), ('2330', 0), ('sleepless', 0), ('cometoaustin', 0), ('talents', 0), ('flyswa', 0), ('1239', 0), ('router', 0), ('fuselage', 0), ('cancld', 0), ('discnct', 0), ('o3srl1hfho', 0), ('itsaaronchriz', 0), ('2k424j0', 0), ('dnx58v.', 0), ('confuses', 0), ('581', 0), ('blood', 0), ('appt', 0), ('18009174929', 0), ('6uxwpadugs', 0), ('maintain', 0), ('arbitrarily', 0), ('4223', 0), ('damion', 0), ('damionflight4223', 0), ('steep', 0), ('ti2469', 0), ('shiz', 0), ('barrier', 0), ('jorge', 0), ('inspiring', 0), ('jbdkxd6efz', 0), ('wezumdimyf', 0), ('wsgyckciio', 0), ('complex', 0), ('highhopes', 0), ('nrosenb1', 0), ('goddamn', 0), ('functional', 0), ('dontchangeathing', 0), ('1702', 0), ('mb0hvfqb1t”-see', 0), ('ihop', 0), ('3.5hrs', 0), ('lifting', 0), ('spirits', 0), ('allegianttravel', 0), ('explaining', 0), ('markie_post', 0), ('markie', 0), ('11:50', 0), ('46mins', 0), ('dice', 0), ('6hour', 0), ('flydeltanexttime', 0), ('3935', 0), ('humored', 0), ('youcouldntmakethis', 0), ('brokenwheel', 0), ('stahhppp', 0), ('vhfjgneozo', 0), ('sugar', 0), ('andrewfallis', 0), ('to-', 0), ('stillnotonmyflight', 0), ('whatcustomerservice', 0), ('️you', 0), ('defibrillator', 0), ('verbally', 0), ('cussed', 0), ('cameras', 0), ('als', 0), ('m1yywafkfi', 0), ('kevinswan', 0), ('alstdi', 0), ('a_life_story', 0), ('211', 0), ('voxcghciji', 0), ('rldelahunty', 0), ('obscene', 0), ('pattern', 0), ('h44uj63cjg', 0), ('gosh', 0), ('335', 0), ('2247', 0), ('12:26pm', 0), ('premier1', 0), ('thousand', 0), ('utmost', 0), ('sentimental', 0), ('manufactured', 0), ('quirkiness', 0), ('mmm', 0), ('-captiveaudience', 0), ('kleinerin', 0), ('pastor', 0), ('homeschool', 0), ('spirited', 0), ('prefundia', 0), ('jrbzlhrw7y', 0), ('strict', 0), ('vw2v8gvngq', 0), ('panic', 0), ('thrower', 0), ('tsvgbrl15f', 0), ('hirasmusbidragi', 0), ('9:25', 0), ('pivxean3jy', 0), ('adjustment', 0), ('vacay', 0), ('playa', 0), ('carmen', 0), ('mot', 0), ('insta', 0), ('produce', 0), ('limits', 0), ('downgrading', 0), ('cheapoair', 0), ('applicable', 0), ('xaizw2isml', 0), ('template', 0), ('nyjets', 0), ('gopatriots', 0), ('unexplained', 0), ('regard', 0), ('expressing', 0), ('measly', 0), ('mp3', 0), ('player', 0), ('usage', 0), ('nvk3irg4kp', 0), ('vegecomgirl', 0), ('needtocatchmynextflight', 0), ('alreadyrebookedonce', 0), ('pa7dcjxlzl', 0), ('740pm', 0), ('fl382', 0), ('670', 0), ('pedophile', 0), ('blacked', 0), ('worsttraveldayever', 0), ('cough', 0), ('755', 0), ('6hr', 0), ('circulation', 0), ('know-', 0), ('11:45am', 0), ('thats', 0), ('padresst', 0), ('4454', 0), ('dig', 0), ('heels', 0), ('novel', 0), ('madbee95', 0), ('1316', 0), ('spiritairpr', 0), ('chicagosmayor', 0), ('noise', 0), ('norahm', 0), ('cfzdjmn0ui', 0), ('sellmypointssoon', 0), ('drone', 0), ('keambleam', 0), ('bag(s', 0), ('tequila', 0), ('blegh', 0), ('c11', 0), ('foodnetwork', 0), ('tummy', 0), ('elmira', 0), ('4124', 0), ('ms', 0), ('xdjzkc34', 0), ('fend4urself', 0), ('acquired', 0), ('kravitz', 0), ('dunkin', 0), ('donuts', 0), ('hazard', 0), ('thingsyoucantmakeup', 0), ('switch2sbux', 0), ('🆖', 0), ('400,we', 0), ('viraltech', 0), ('institutional', 0), ('predictive', 0), ('analytics', 0), ('missedconnection', 0), ('forcedovernight', 0), ('70min', 0), ('jetbridge', 0), ('colombian', 0), ('effortless', 0), ('tory', 0), ('improving', 0), ('h46ht1oz40', 0), ('lostrevenue', 0), ('angryandsober', 0), ('bachelorpartymishap', 0), ('weathered', 0), ('stacy', 0), ('3:22', 0), ('3:15', 0), ('sombrons', 0), ('monkey', 0), ('mdw2mci', 0), ('homeandreadyfornexttrip', 0), ('2xjvun66zz', 0), ('1503', 0), ('thxu', 0), ('pennypincher', 0), ('phltolas', 0), ('yesterday-', 0), ('in&&didnt', 0), ('thru-', 0), ('5418', 0), ('2258', 0), ('ajm3bhjvaa', 0), ('foh', 0), ('doom', 0), ('ua6255', 0), ('winnipeg', 0), ('ua1059', 0), ('tightconnection', 0), ('x6syw3mdvu', 0), ('e5naxbue4s', 0), ('e1mex0t6q5', 0), ('fwa', 0), ('2934', 0), ('borderline', 0), (\"g'ma\", 0), ('1528', 0), ('909', 0), ('distressed', 0), ('startling', 0), ('us728', 0), ('erring', 0), ('us5268', 0), ('4050', 0), ('mellie', 0), ('tammy', 0), ('loft', 0), ('hy0vrfhjht', 0), ('5223', 0), ('3min', 0), ('3:00am', 0), ('50min', 0), ('wantcharge', 0), ('dsearls', 0), ('2386', 0), ('89ish', 0), ('.1000', 0), ('7:30am', 0), ('ineedcoffee', 0), ('destroying', 0), ('gastoncounty', 0), ('lively', 0), ('neverflyvirgin', 0), ('orphan', 0), ('fn2qxybt9', 0), ('pid', 0), ('1815', 0), ('n747uw', 0), ('ttlwzgiyag', 0), ('cvba4olcbl', 0), ('wta5px70a5', 0), ('⤵', 0), ('q5sb0davuy', 0), ('christine', 0), ('1xzrk66wvq', 0), ('messaging', 0), ('1way', 0), ('usuck', 0), ('cory', 0), ('800-number', 0), ('chaperone', 0), ('2390', 0), ('thatthis', 0), ('amateurish', 0), ('350pm', 0), ('flight353', 0), ('aa1119', 0), ('aa157', 0), ('2070', 0), ('gooutofbusiness', 0), (':|', 0), ('hj5kq82chn', 0), ('0167560070877', 0), ('fsqthg', 0), ('flyjetblue', 0), ('theyareallbetter', 0), ('applauded', 0), ('takemeback', 0), ('oqz7wc4lla', 0), ('clarion', 0), ('circles', 0), ('kylecomer', 0), ('overzealous', 0), ('prevented', 0), ('worstflight', 0), ('interrogated', 0), ('poorform', 0), ('serenitynow', 0), ('luxurious', 0), ('rn', 0), ('bliss', 0), ('indenial', 0), ('whatfrozenpipes', 0), ('6ttzejv3hy', 0), ('weeks&&those', 0), ('dickheads', 0), ('accountable', 0), (\"didn't\", 0), (':-d', 0), ('underweight', 0), ('c4', 0), ('1140', 0), ('bagsflyfree', 0), ('badpolicy', 0), ('cheatcustomers', 0), ('n8661a', 0), ('8h4', 0), ('5z9styuqj3', 0), ('udpq0fliqo', 0), ('therealaviation', 0), ('usairwayscenter', 0), ('639p', 0), ('danbury', 0), ('lostsuitcase', 0), ('noreimbursement', 0), ('joni', 0), ('5653', 0), ('gent', 0), ('tattoo', 0), ('ox4w6ktsgi', 0), ('reso', 0), ('associated', 0), ('dajwzhlvyu', 0), ('👺', 0), ('kindly', 0), ('1,223.22', 0), ('unusable', 0), ('usairwaysfailscustomers', 0), ('bands', 0), ('717', 0), ('d1mqf5', 0), ('myr', 0), ('problematic', 0), ('in1st', 0), ('\\n  ', 0), ('inconveniences', 0), ('batman', 0), ('insanely', 0), ('presidential', 0), ('anti', 0), ('consumer', 0), ('1137', 0), ('o5sifhp4rt', 0), ('optout', 0), ('cxrzhcdtvz', 0), ('feelings', 0), ('happy4them', 0), ('maintenece', 0), ('bestairlineever', 0), ('neverchange', 0), ('kansas', 0), ('.thanks', 0), ('straying', 0), ('2954', 0), ('junction', 0), ('amazingflightcrew', 0), ('deborah', 0), ('sport', 0), ('farelock', 0), ('topnews', 0), ('arab', 0), ('emirates', 0), ('aqzwecokk2', 0), ('spontaneously', 0), ('linking', 0), ('cinci', 0), ('yokkhhqcmp', 0), ('4:50', 0), (',checked', 0), ('4;50', 0), ('8h', 0), ('1875', 0), ('stats', 0), ('2.5hours', 0), ('hatch', 0), ('fuchzrzjg5', 0), ('400s', 0), ('narita', 0), ('supvsr', 0), ('chicagomidway', 0), ('mgmt', 0), ('-lga', 0), ('711', 0), ('eh', 0), ('landonschott', 0), ('likes', 0), ('welldone', 0), ('friendlysky', 0), ('snowforce', 0), ('poles', 0), ('sonyasloanmd', 0), ('2trgemtebz', 0), ('tpzhjx7hbt', 0), ('ua63', 0), ('mass', 0), ('maryjo', 0), ('4053', 0), ('cyoonzftdc', 0), ('airlinesecurity', 0), ('refresher', 0), ('courses', 0), ('apathetic', 0), ('drvrugby', 0), ('partly', 0), ('tricities', 0), ('sylvie75015', 0), ('sylvie', 0), ('yourock', 0), ('mxo42', 0), ('henrikwagner73', 0), ('custexp', 0), ('otfz7cyguq', 0), ('hat', 0), ('frowny', 0), ('4200', 0), ('3:35', 0), ('subterfuge', 0), ('pns', 0), ('10am', 0), ('burroughs', 0), ('yourairlinesucks', 0), ('cudtomers', 0), ('alicia', 0), ('exceptionalservice', 0), ('ninadavuluri', 0), ('mailbox', 0), ('forwarding', 0), ('times.hand', 0), ('called.please', 0), ('abc7newsbayarea', 0), ('makingthingseasy', 0), ('feelbetter', 0), ('aa951', 0), ('viracopos', 0), ('3fhes0lpmu', 0), ('xmz3tf9ix8', 0), ('1534', 0), ('reachable', 0), ('ua1297', 0), ('customerexperience', 0), ('always-', 0), ('aback', 0), ('squarely', 0), ('informs', 0), ('the16', 0), ('thetroubadour', 0), ('ripme', 0), ('d1ergpdwsj', 0), ('5001', 0), ('centre', 0), ('allowances', 0), (\"sen't\", 0), ('18th', 0), (':))', 0), ('03.03', 0), ('ua4646', 0), ('lovedflyingwiththem', 0), ('notanymore', 0), ('1:00pm', 0), ('x4tdy84dbh', 0), ('779', 0), ('389.50', 0), ('watson', 0), ('jennings', 0), ('circuit', 0), ('breaker', 0), ('894', 0), ('tpallini', 0), ('odlall5edh', 0), ('phantom', 0), ('apeared', 0), ('41', 0), ('2312', 0), ('interferes', 0), ('ellen', 0), ('concerts', 0), ('alway', 0), ('treasure', 0), ('liveatfirefly', 0), ('cdn', 0), ('towns', 0), ('customerappreciation', 0), ('gaincustomers', 0), ('keepem2', 0), ('ua484', 0), ('mqxc64', 0), ('mpwnc2', 0), ('wn3946', 0), ('rita', 0), ('wack', 0), ('bueno', 0), ('pqms', 0), ('pqds', 0), ('1146', 0), ('weblink', 0), ('443min', 0), ('avoidable', 0), ('appreciation', 0), ('goldentickets', 0), ('casleah', 0), ('finalizing', 0), ('ukm4e99dz0', 0), ('lma', 0), ('admitted', 0), ('itsthelittlethings', 0), ('scm1133', 0), ('7stktjxan1', 0), ('timbit', 0), ('classiq', 0), ('greetingz', 0), ('transition', 0), ('cayman_islands', 0), ('unanticipated', 0), ('hhagerty', 0), ('a60', 0), ('2413', 0), ('tomrw', 0), ('q37pown6uv', 0), ('figures', 0), ('nogate', 0), ('amarillo', 0), ('silverairwsys', 0), ('affiliated', 0), ('selves', 0), ('intimate', 0), ('anni', 0), ('bape6rumne', 0), ('deed', 0), ('trivia', 0), ('aucsykfuhd', 0), ('wsjplus', 0), ('obqiro1buj', 0), ('jm8gq1kgrf', 0), ('sweeps', 0), ('nofg0tqhyn', 0), ('az-', 0), ('frigidfriday', 0), ('bfpfw6eyku', 0), ('tifffyhuang', 0), ('lf69waf5ad', 0), ('bloombergnews', 0), ('6redd3vc73', 0), ('aa3074', 0), ('lga.sat', 0), ('us1951+us874.do', 0), ('ashleykatherton', 0), ('bernhardtjh', 0), ('8tjuum22dd', 0), ('notsatisfied', 0), ('takeresponsibility', 0), ('5612', 0), ('ans', 0), ('monterey', 0), ('fog', 0), ('brizzyberg27', 0), ('flyus', 0), ('heinekenusacorp', 0), ('distributor', 0), ('livethelegend', 0), ('4369', 0), ('wayne', 0), ('1230am', 0), ('230am', 0), ('vhp2gtdwpk', 0), ('mardi', 0), ('gras', 0), ('419', 0), ('record-', 0), ('rozana', 0), ('choosekind', 0), ('shanghai', 0), ('happyfriday', 0), ('1857', 0), ('needtogethome', 0), ('thenatek', 0), ('dec.', 0), ('jan.', 0), ('get2', 0), ('ua475', 0), ('gently', 0), ('placing', 0), ('whipped', 0), ('ciscojimfrench', 0), ('cobedien', 0), ('airtran', 0), ('q4vnmb', 0), ('uy28d1uegx', 0), ('vjfv7ksgcq', 0), ('904am', 0), ('ieg2obcepp', 0), ('desition', 0), ('nade', 0), ('jdhadp', 0), ('😋', 0), ('bringyourown', 0), ('kleankanteen', 0), ('daaa0rqbxw', 0), ('691', 0), ('pilyoc', 0), ('thefutureisweird', 0), ('hardtodo', 0), ('msscottwg', 0), ('55min', 0), ('us755-aa2595', 0), ('2595', 0), ('oscarnight', 0), ('1b', 0), ('ua246', 0), ('incurred', 0), ('approximately', 0), ('yday', 0), ('90min', 0), ('drenched', 0), ('2702', 0), ('2696', 0), ('montereyregionalairport', 0), ('wn4287', 0), ('9:35pm', 0), ('ua3787', 0), ('uses', 0), ('e.g.', 0), ('muc', 0), ('moveup', 0), ('2go', 0), ('–', 0), ('fgrbpazsix', 0), ('edits', 0), ('mbas', 0), ('q2', 0), ('q3', 0), ('unloads', 0), ('badbusiness', 0), ('okie', 0), ('doke', 0), ('noone', 0), ('m.robinson', 0), ('spite', 0), ('crazybitch', 0), ('fron', 0), ('shaky', 0), ('7:40pm', 0), ('stacycrossb6', 0), ('saharasams', 0), ('flawless', 0), ('blueheros', 0), ('dating', 0), ('nov.', 0), ('edreams_en', 0), ('launder', 0), ('recognize', 0), ('terri', 0), ('derek.austin', 0), ('century21.ca', 0), ('ringling', 0), ('barnum', 0), ('bailey', 0), ('peeled', 0), ('pr3oebc2n2', 0), ('lawyer', 0), ('wrath', 0), ('marsha', 0), ('m.', 0), ('myrtle', 0), ('thankyouforeverything', 0), ('sarita', 0), ('nathankillam', 0), ('payed', 0), ('sba0aricyq', 0), ('life.stop', 0), ('inquired', 0), ('fuckinlame', 0), ('naia_miaa', 0), ('ufyxxkisa3', 0), ('akron', 0), ('8)', 0), ('aau9mka6zy', 0), ('gerri_elliott', 0), ('restating', 0), ('teeth', 0), ('suprise', 0), ('vanity', 0), ('fa7nygn1ux', 0), ('drag', 0), ('ystrdy', 0), ('sauvignon', 0), ('blanc', 0), ('pronounce', 0), ('emily', 0), ('terrifyingly', 0), ('jwa', 0), ('murphyjulie', 0), ('commutation', 0), ('drawing', 0), ('govt', 0), ('8088', 0), ('a3zz0f.', 0), ('allgood', 0), ('desirable', 0), ('addressing', 0), ('activated', 0), ('selecting', 0), ('sllyibe2vq', 0), ('asyqe1tdjp', 0), ('tys', 0), ('scumbag', 0), ('airliner', 0), ('2ny5tuxfqf', 0), ('graduation', 0), ('uhuh', 0), ('preemptive', 0), ('ybv0xaowkv', 0), ('columbian', 0), ('pg96ys9asw', 0), ('islands', 0), ('sht', 0), ('fiscal', 0), ('incapable', 0), ('2yo', 0), ('greatly', 0), ('gimme', 0), ('stillwaiting', 0), ('curse', 0), ('optimistic', 0), ('guns', 0), ('iwoulddoanythingforlove', 0), ('yx1dqjn8nl', 0), ('vusa_australia', 0), ('aussie', 0), ('cowgirl', 0), ('cowboy', 0), ('estelle', 0), ('3001885409', 0), ('botched', 0), ('absurdity', 0), ('feelingtheluv', 0), (':(((', 0), ('cncld', 0), ('klxivnbcyh', 0), ('vindictive_tk', 0), ('lolol', 0), ('s_myc88', 0), ('terminology', 0), ('brings', 0), ('verbiage', 0), ('tools', 0), ('volleyball', 0), ('tn5cxcld6', 0), ('jnqnbk7hut', 0), ('peak', 0), ('caucasity', 0), ('csnrpvy9b9', 0), ('mkwlkr', 0), ('kigfkvxxdq', 0), ('preexisting', 0), ('tablets', 0), ('oktukjy92o', 0), ('parachuteguy', 0), ('^mr', 0), ('lv9hwqdk9a', 0), ('hacked', 0), ('transferable', 0), ('suggestion-', 0), ('avyqdmpi1y', 0), ('customerloyalty', 0), ('epitimeoffail', 0), ('86', 0), ('tissues', 0), ('vinyl', 0), ('aa3186', 0), ('aa2401', 0), ('16mont', 0), ('s.s.', 0), ('1735', 0), ('conditioning', 0), ('discomfort', 0), ('iqnvyfpg4p', 0), ('xwjol55flh', 0), ('y8aormfkac', 0), ('dzkc3auzu9', 0), ('eis9hcnpro', 0), ('fixthis', 0), ('paigeworthy', 0), ('complimenting', 0), ('mty', 0), ('octavia', 0), ('aerocivilcol', 0), ('portal', 0), ('huclxluv5h', 0), ('o4zr27qpcr', 0), ('handedly', 0), ('joplin', 0), ('jln', 0), ('dandy', 0), ('fvlxirh1f1', 0), ('lookforwardtoflywithaa', 0), ('7br5t5qcxk', 0), ('1874get', 0), ('leads', 0), ('folding', 0), ('highway', 0), ('tynchoelac', 0), ('disrespectfully', 0), ('strive', 0), ('iyuzm2puvs', 0), ('passengers-', 0), ('teen', 0), ('flight5182', 0), ('donut', 0), ('designer', 0), ('pleads', 0), ('1937', 0), ('vodkatonics', 0), ('🍸', 0), ('lacma', 0), ('fairfax', 0), ('predict', 0), ('howdy', 0), ('erroring', 0), ('aa3688', 0), ('clob5qwmxr', 0), ('778aztdaer', 0), ('left?even', 0), ('aunts', 0), ('9trvfncedl', 0), ('subsequently', 0), ('chathes', 0), ('iting', 0), ('peanutsonaplatter', 0), ('dhepburn', 0), ('296', 0), ('684', 0), (\"cont'd\", 0), ('swfan', 0), ('lvirtdtqly', 0), ('interior', 0), ('newplanesmell', 0), ('djjjn9slht', 0), ('10:00p', 0), ('10:07p', 0), ('smoothoperation', 0), ('9,000', 0), ('organized', 0), ('uoaryq98pu', 0), ('3260', 0), ('grandkids', 0), ('bhooiyt6zq', 0), ('refundprocedurenottoopainful', 0), ('smell', 0), ('1024', 0), ('2238', 0), ('d6', 0), ('tlpbaupik5', 0), ('thefaaonline', 0), ('25,000', 0), ('jilted', 0), ('moneyelsewhere', 0), ('va370', 0), ('eliza', 0), ('airtahitinui', 0), ('motion', 0), ('m81rv0blxs', 0), ('us1937', 0), ('9hr', 0), ('rollaboard', 0), ('5xvnnmltiw', 0), ('4968', 0), ('n8325d', 0), ('no_airport', 0), ('fd4snvkiem', 0), ('length', 0), ('hops', 0), ('julgood1', 0), ('miscommunicated', 0), ('oardjjgrrd', 0), ('thre', 0), ('themagicalstranger', 0), ('3138', 0), ('givethemraises', 0), ('marxsterbcow', 0), ('thailand', 0), ('remembers', 0), ('coffeeneeded', 0), ('3months', 0), ('rich', 0), ('westagard', 0), ('att', 0), ('nancy', 0), ('customersfirst', 0), ('travis', 0), ('boots', 0), ('6170', 0), ('ritacomo', 0), ('ua688', 0), ('welp', 0), ('kwuek1ukbc', 0), ('incidents', 0), ('maybemange', 0), ('alittlebetter', 0), ('howisthatpossible', 0), ('incedentals', 0), ('noworstairline', 0), ('nlrphoto', 0), ('weekly', 0), ('2440', 0), ('explains', 0), ('6:18', 0), ('6:07', 0), ('charlote', 0), ('istead', 0), ('onhxhco6bk.', 0), ('8:41am', 0), ('8:57am', 0), ('av_duffy', 0), ('goosebayairport', 0), ('goose', 0), ('labrador', 0), ('4ki6xr67nk', 0), ('3389', 0), ('dumas2ttg', 0), ('noxtralegroom', 0), ('nocoatcloset', 0), ('mons', 0), ('demand', 0), ('listing', 0), ('aa3465', 0), ('8:16', 0), ('aspenbaggagefail', 0), ('superb', 0), ('glitches', 0), ('dawn_davis', 0), ('751', 0), ('strandusindenver', 0), ('hourandtenminutedelay', 0), ('lpdstock', 0), ('5283', 0), ('redirects', 0), ('3days', 0), ('jeanette', 0), ('holler', 0), ('unamericanairlines', 0), ('2daysofhell', 0), ('tolerable', 0), ('routinely', 0), ('2646', 0), ('5302', 0), ('5:51', 0), ('0638', 0), ('1918', 0), ('linesforever', 0), ('flysaa', 0), ('rachelle', 0), ('whiny', 0), ('accommodated', 0), ('hts', 0), ('beought', 0), ('unexpactable', 0), ('tails', 0), ('travelhelp', 0), ('earnedmybusiness', 0), ('vinylvegas', 0), ('3198', 0), ('aex', 0), ('aa304', 0), ('dependents', 0), ('inperson', 0), ('nerd', 0), ('curvygirltravels', 0), ('cabs', 0), ('reebooked', 0), ('1389', 0), ('lv', 0), ('12.50pm', 0), ('jayfranceschi', 0), ('interviews', 0), ('lacks', 0), ('panynj', 0), ('froschtravel', 0), ('rdj1mwflg1', 0), ('bearable', 0), ('20minute', 0), ('hanged', 0), ('guyana', 0), ('flight2031', 0), ('boyfriends', 0), ('800w', 0), ('disspointed', 0), ('premier1k', 0), ('cement', 0), ('ua1724', 0), ('ndtlj15zpu', 0), ('nrhodes85', 0), ('shocker', 0), ('fligths', 0), ('awwweesssooomee', 0), ('hillaconlin', 0), ('solar', 0), ('charger', 0), ('changer', 0), ('plug', 0), ('usb', 0), ('1030pm', 0), ('lbairport', 0), ('longbeachcity', 0), ('facilities', 0), ('jbyvmsod29', 0), ('scream', 0), ('willie', 0), ('nelson', 0), ('impersonator', 0), ('sang', 0), ('peanutsandtoons', 0), ('kcddod7uff', 0), ('headlines', 0), ('liveonfox17', 0), ('februaryfreezefox17', 0), ('morning--', 0), ('1814', 0), ('heavenlychc9', 0), ('thng', 0), ('ml1jacpmch', 0), ('hyrao7a4uu', 0), ('ua863', 0), ('sydneyairport', 0), ('1636', 0), ('ish', 0), ('comparing', 0), ('challemann', 0), ('jvstatus', 0), ('hospice', 0), ('87yearslate', 0), ('maybeijustlost', 0), ('whyyounoloveme', 0), ('823', 0), ('3075-', 0), ('1758', 0), ('vacate', 0), ('findanothergate', 0), ('southwestfail', 0), ('peq90pqmpp', 0), ('roanoke', 0), ('sous', 0), ('t5sparrow', 0), ('504', 0), ('pgashow', 0), ('weathers', 0), ('12:20', 0), ('3709', 0), ('f&&$king', 0), ('woeful', 0), ('hospitals', 0), ('wait.about', 0), ('1per', 0), ('whereabouts', 0), ('greeeaat', 0), ('dw6vdvqxbb', 0), ('destroy', 0), ('convey', 0), ('emailmailto', 0), ('okee', 0), ('fasten', 0), ('miserably', 0), ('ua1510', 0), ('cooker', 0), ('taylormdowns', 0), ('tucking', 0), ('h6hn33jjje', 0), ('compounded', 0), ('jetbluemess', 0), ('distress', 0), ('qdebyahqfm', 0), ('accruing', 0), ('itfits', 0), ('aurn07pwd4', 0), ('vxn2j36m7v', 0), ('hm', 0), ('le4h2gtzxz', 0), ('usxlon', 0), ('the_uso', 0), ('5siczx1oez', 0), ('mhtt', 0), ('ua1069', 0), ('sunglasses', 0), ('26f.', 0), ('unempathetic', 0), (\"full.don't\", 0), ('992', 0), ('salvaged', 0), ('lifevests', 0), ('ant_kneee', 0), ('wave', 0), ('^jj', 0), ('crâpe', 0), ('ua1207', 0), ('biscuits', 0), ('gz9gqdt7jj', 0), ('b2xi4yg5t8', 0), ('5b2agfd8c4', 0), ('prolly', 0), ('fulfill', 0), ('exhaustion', 0), ('runnin', 0), ('2rent', 0), ('killin', 0), ('381', 0), ('controller', 0), ('agian!!and', 0), ('ua1758', 0), ('500-mile', 0), ('ua7985', 0), ('coshared', 0), ('strandedinnashville', 0), ('ua3576', 0), ('ray', 0), ('736', 0), ('robbing', 0), ('ua23', 0), ('shambles', 0), ('sac', 0), ('v1radykep2', 0), ('disbelief', 0), ('enxv64rkbu', 0), ('1-the', 0), ('freezes', 0), ('2-', 0), ('nitrogen', 0), ('3-a', 0), ('inflating', 0), ('fudgers', 0), ('duke', 0), ('1761', 0), ('mason', 0), ('uneventful', 0), ('periods', 0), ('bragging', 0), ('js', 0), ('pit-', 0), ('online-', 0), ('agent-', 0), ('syastem', 0), ('hahah', 0), ('7vee44macm', 0), ('hockey', 0), ('sticks', 0), ('effect', 0), ('tense', 0), ('fuyukaidesuyo', 0), ('shes', 0), ('venezuela', 0), ('weighing', 0), ('fay', 0), ('6&&8', 0), ('clearvision', 0), ('tv4u', 0), ('q9byn9pctf', 0), ('animals', 0), ('americandairlinessucks', 0), ('kathrynsotelo', 0), ('9c', 0), ('9skrlyrz1o', 0), ('angriest', 0), ('angst', 0), ('iest', 0), ('tasha', 0), ('dad_or_alive', 0), ('pearl', 0), ('doublestandards', 0), ('circling', 0), ('276', 0), ('lucas', 0), ('1796', 0), ('chl', 0), ('likingyoulessandless', 0), ('himself', 0), ('bil', 0), ('flaw', 0), ('1605', 0), ('reasonably', 0), ('unitedworstever', 0), ('trappedhouston', 0), ('trial', 0), ('upholding', 0), ('briefings', 0), ('prohibits', 0), ('bag\"', 0), ('4411', 0), ('ua1150', 0), ('mintyfresh', 0), ('beta', 0), ('elaborate', 0), ('cha', 0), ('ua6002', 0), ('mli->den', 0), ('ua3530', 0), ('den->yeg', 0), ('ramada', 0), ('kidnapped', 0), ('enormous', 0), ('ffanixjhwh', 0), ('e9', 0), ('aal', 0), ('2mins', 0), ('worstever', 0), ('mynzitcovn', 0), ('remembering', 0), ('iceland', 0), ('vw4p4t4tlh', 0), ('=)', 0), ('dorns', 0), (\"okay'd\", 0), ('knuvuovhub', 0), ('obsessed', 0), ('extralight', 0), ('pitts', 0), ('booo', 0), ('acquisition', 0), ('1843', 0), ('plundering', 0), ('european', 0), ('fabrice', 0), ('freeze', 0), ('avp', 0), ('tgif', 0), ('wxowzhpgfl', 0), ('potus', 0), ('dvr', 0), ('tourists', 0), ('25min', 0), ('nationalized', 0), ('nation', 0), ('simplify', 0), ('communications-', 0), ('pqm', 0), ('geekstiel', 0), ('xmrvr4lgeg', 0), ('wjoc9f14su', 0), ('tori_leggieri', 0), ('2.5hrs', 0), ('nick', 0), ('742', 0), ('le2v9d', 0), ('numbered', 0), ('iatanbul', 0), ('familiar', 0), ('alfamilyoffour', 0), ('flightr\"', 0), ('19b', 0), ('1943', 0), ('haj5lkqjw4', 0), ('miraculously', 0), ('veryloyalcustomer', 0), ('slots', 0), ('👉', 0), ('🚪', 0), ('dsdebodmel', 0), ('b44', 0), ('mpagent', 0), ('seanmfmadden', 0), ('peterstraubmma', 0), ('jmercadomma', 0), ('tonysimsmma', 0), ('chasing', 0), ('qsvgru', 0), ('890', 0), ('5136', 0), ('qf0oc2hqez', 0), ('findurgrip', 0), ('fupf0uayir', 0), ('swing', 0), ('fairway', 0), ('overlooking', 0), ('5979', 0), ('csddccmvbd', 0), ('12th', 0), ('methods', 0), ('billmelate', 0), ('dqny4aktg9', 0), ('ifespcbztm', 0), ('sarcastically', 0), ('cheese', 0), ('2298', 0), ('category', 0), ('6h5uezh4cv', 0), ('nomorevirgin', 0), ('wishing', 0), ('1:23', 0), ('dphqrgkdoa', 0), ('swanky', 0), ('cabaret', 0), ('singer', 0), ('acces', 0), ('wakinginmemphis', 0), ('sauna', 0), ('jackpot', 0), ('zo2iceg4li', 0), ('battierccipuppy', 0), ('ohk', 0), ('inexpensive', 0), ('airfares', 0), ('1463', 0), ('tripitpro', 0), ('published', 0), ('thatisall', 0), ('platter', 0), ('abundance', 0), ('8vnckgzxl1', 0), ('untd', 0), ('4:30', 0), ('plainly', 0), ('possibility', 0), ('nw7vx7dgmf', 0), ('essentials', 0), ('foodallergy', 0), ('dmb41shows', 0), ('internships', 0), ('5-', 0), ('jindalcmc', 0), ('davidson', 0), ('auditorium(1.118', 0), ('jsom', 0), ('utdallas', 0), ('handshake', 0), ('problemsolvers', 0), ('unpredictable', 0), ('peaches275', 0), ('thismosaicnothappy', 0), ('triage', 0), ('personality', 0), ('surveys', 0), ('milage', 0), ('mobil', 0), ('pty', 0), ('icecream', 0), ('ua3782', 0), ('unforeseeable', 0), ('k.', 0), ('iux94rgc83', 0), ('bobwesson', 0), ('jpd7nsgrt7', 0), ('malhoit', 0), ('instantly', 0), ('avenue', 0), ('441', 0), ('wc', 0), ('10d', 0), ('lgjw7b.', 0), ('voluntarily', 0), ('8b.', 0), ('artisanal', 0), ('pairing', 0), ('10a.', 0), ('10f', 0), ('week&&inbound', 0), ('lastnight', 0), ('careless', 0), ('skkewqhssg', 0), ('reply?\"our', 0), ('😅', 0), ('mha3xxaed5', 0), ('lesliewolfson', 0), ('ltr', 0), ('comically', 0), ('relied', 0), ('language', 0), ('ivgpzsjtkw', 0), ('livepersonplease', 0), ('thestarter', 0), ('pregame', 0), ('funnycaptain', 0), ('happyflight', 0), ('ipodtouch', 0), ('xxsaombdgs', 0), ('rtw', 0), ('planner', 0), ('spec', 0), ('scotthroth', 0), ('equalizer', 0), ('brendanpshannon', 0), ('brendan', 0), ('shortly!^rs', 0), ('advising', 0), ('sugafly', 0), ('aegeanairlines', 0), ('availab', 0), ('understandably', 0), ('edgy', 0), ('chipper', 0), ('4047', 0), ('spelled', 0), ('bumper', 0), ('bone', 0), ('excusable', 0), ('2022', 0), ('19jun-6sep', 0), ('undelayed', 0), (\"i'vebeen\", 0), ('nbr', 0), ('waa', 0), ('^ha', 0), ('dca->hpn', 0), ('prof', 0), ('takers', 0), ('mvmt', 0), ('ar', 0), ('utilize', 0), ('10:05pm', 0), ('virtual', 0), ('upaz1ef3dl', 0), ('hg7veqhghy', 0), ('overcharged', 0), ('midnite', 0), ('hipster', 0), ('amounts', 0), ('apologized', 0), ('3252', 0), ('3923', 0), ('tt', 0), ('sleekmoney', 0), ('znsujp86bv', 0), ('fjbfsc', 0), ('776.20', 0), ('656.xx', 0), ('investigation', 0), ('achieve', 0), ('snit', 0), ('pgfryz', 0), ('4,000', 0), ('emptied', 0), ('4628', 0), ('thisiscoach', 0), ('9ragncw2bk', 0), ('eve', 0), ('8:10', 0), ('cdzhtyd0ak', 0), ('praywinn', 0), ('labor', 0), ('slowdown', 0), ('253', 0), ('billed', 0), ('suffer', 0), ('luxury', 0), ('digit', 0), ('bosnia', 0), ('m9nywr5kbs', 0), ('thingsishouldknow', 0), ('ifeeldumb', 0), ('620', 0), ('freecomedyshow', 0), ('newlifetimecustomer', 0), ('1870', 0), ('nzherald', 0), ('q4amiw7fsw', 0), ('ada', 0), ('cousins', 0), ('dn1if2cgwe', 0), ('1247', 0), ('mccarran', 0), ('c16', 0), ('entree', 0), ('nosedived', 0), ('newamerican', 0), ('56essfoowt', 0), ('vtqe8m1l3i', 0), ('struggle', 0), ('hqdb5iruvg', 0), ('sarahpompei', 0), ('eqqi1nfszh', 0), ('bride', 0), ('4500', 0), ('grumpykim', 0), ('holdtime', 0), ('upp41abxrq', 0), ('918', 0), ('nyc->bos', 0), ('comin', 0), ('h8', 0), ('thankjesus', 0), ('thankme', 0), ('q5a7jtki5', 0), ('nwk', 0), ('6kqlhvap7', 0), ('affairs', 0), ('retweet', 0), ('bad4business', 0), ('qdljhsloi5', 0), (\"cx'd\", 0), ('4011', 0), ('rwrd', 0), ('aadv', 0), ('unnoticed', 0), ('reinstating', 0), ('kosher', 0), ('dvt', 0), ('xc6jq70r7b', 0), ('nyvv1x3d67', 0), ('lovetotravel', 0), ('chaching', 0), ('tcunningham10', 0), ('byod', 0), ('worksnicely', 0), ('lmuschel', 0), ('sep', 0), ('f3kxb8', 0), ('20th-30th', 0), ('chatted', 0), ('lowdown', 0), ('specials', 0), ('bked', 0), ('flyfrontier', 0), ('scramble', 0), ('evr', 0), ('doesntfeellikestatusyet', 0), ('10:50am', 0), ('tmm', 0), ('caching', 0), ('heyo', 0), ('1836', 0), ('9:48', 0), ('pancho_joe', 0), ('mixtape', 0), ('undermines', 0), ('intelligence', 0), ('teleportation', 0), ('ua514', 0), ('chapman', 0), ('designs', 0), ('chge', 0), ('-10pm', 0), ('crjs', 0), ('airstairs', 0), ('valet', 0), ('10:20pm', 0), ('1152', 0), ('134', 0), ('flythroughs', 0), ('zsdgzydnde', 0), ('keepitup', 0), ('bkmfey7qol', 0), ('unknown\"-', 0), ('accelerate', 0), ('7:15', 0), ('1:15', 0), ('waitingagain', 0), ('3710', 0), ('colliding', 0), ('transports', 0), ('monthly', 0), ('kgonzales89', 0), ('scandal', 0), ('chng', 0), ('affiliates', 0), ('afiliates', 0), ('mentioning', 0), ('mortified', 0), ('acted', 0), ('1+hour', 0), ('flightcancelled', 0), ('custservicehasnonumber', 0), ('5xweekly', 0), ('28apr', 0), ('lqjt2jvoys', 0), ('mild', 0), ('poisoning', 0), ('ua5', 0), ('4565', 0), ('ultimately', 0), ('styling', 0), ('rush', 0), ('6500', 0), ('egregious', 0), ('sam', 0), ('adams', 0), ('usurious', 0), ('weds', 0), ('argueing', 0), ('1019', 0), ('343', 0), ('steamed', 0), ('conjunction', 0), ('7-hour', 0), ('golden', 0), ('tops', 0), ('😦', 0), ('bwahahaha', 0), ('nudgenudge', 0), ('correlate', 0), ('grandpa', 0), ('ashes', 0), ('naples', 0), ('lived', 0), ('usnavy', 0), ('1:30pm', 0), ('janet', 0), ('lasted', 0), ('redeeming', 0), ('3x9nruovts', 0), ('sdq', 0), ('7gb0hgw51', 0), ('joking', 0), ('wiil', 0), ('signup', 0), ('allowable', 0), ('lip', 0), ('ohno', 0), ('bundleup', 0), ('leastthebeverageswillbecold', 0), ('-nyc', 0), ('blackhistorymonth', 0), ('musician', 0), ('blacklivesmatter', 0), ('contactcej', 0), ('possiable', 0), ('schiphol', 0), ('4972', 0), ('truebluepoints', 0), ('jetbluemember', 0), ('dependable', 0), ('skyteam', 0), ('udub', 0), ('cameron__roe', 0), ('kbhym5gkap', 0), ('iwoigrlhxb', 0), ('taylorlumsden', 0), ('responsiveness', 0), ('fidifamilies', 0), ('deficiency', 0), ('hating', 0), ('samoore10', 0), ('acknowledgement', 0), ('southwestrocks', 0), ('emotional', 0), ('a0yosjhzmc', 0), ('pleading', 0), ('versace', 0), ('biceps', 0), ('nyc(area', 0), ('52-week', 0), ('zdkxn4ktou', 0), ('~10', 0), ('martin', 0), ('9vtfm7knad', 0), ('swapped', 0), ('dmv', 0), ('noshadetothedmv', 0), ('historically', 0), ('lifeline', 0), ('moderate', 0), ('3444', 0), ('venetia', 0), ('crook', 0), ('devastated', 0), ('suggests', 0), ('attending', 0), ('retroactively', 0), ('laiggef9kj', 0), ('🐩', 0), ('vqtyza6mzu', 0), ('bnasnow', 0), ('44zhmfdiw6', 0), ('unitedwithivy', 0), ('732', 0), ('idonotcare', 0), ('days&&charging', 0), ('to\"arrange', 0), ('up\"in', 0), ('tollfree', 0), ('sabe', 0), ('allegiantair', 0), ('support-', 0), ('saddened', 0), ('tysvm', 0), ('suree', 0), ('whom', 0), ('bringbacktheluvtordu', 0), ('directflights', 0), ('grnd', 0), ('280', 0), ('730', 0), ('ase24766', 0), ('345', 0), ('6000', 0), ('groan', 0), ('barrel', 0), ('disapptment', 0), ('usairwaysfflyer', 0), ('situation-', 0), ('stacey', 0), ('fgjbex480d', 0), ('ocqk0jfxua', 0), ('counterparts', 0), ('3913', 0), ('4229', 0), ('suntoshi', 0), ('2672', 0), ('hi6fl1ax9e', 0), ('1786', 0), ('3kvkd8yrxa', 0), ('surprises', 0), ('seulpvfn95', 0), ('sbgbn7ouxy', 0), ('accessing', 0), ('qn5odugfqk', 0), ('gabriela', 0), ('helpfulness', 0), ('lastella', 0), ('aa2416', 0), ('pair.(3', 0), ('3001408092', 0), ('-.-', 0), ('58b7swrpmq', 0), ('customary', 0), ('1020', 0), ('irrlcd', 0), ('squashed', 0), ('nose', 0), ('flightglobal', 0), ('yf9nhmwyff', 0), ('worstairlineinamerica', 0), ('1416', 0), ('5530', 0), ('int’l', 0), ('04sdytt7zd', 0), ('whereas', 0), ('a380s', 0), ('garage', 0), ('virginamerica.com', 0), ('seemless', 0), ('4199', 0), ('mislead', 0), ('brooding', 0), ('x9blwgwa68', 0), ('downloaded', 0), ('mfssh2uhue', 0), ('affects', 0), ('ua1429', 0), ('ync2zut4zz', 0), ('wires', 0), ('swb1gr57cc', 0), ('sev', 0), ('2k', 0), ('disabledtraveler', 0), ('rebecca', 0), ('levi', 0), ('solate', 0), ('perceived', 0), ('flightncy', 0), ('canx', 0), ('requirements', 0), ('backpacks', 0), ('laissez', 0), ('faire', 0), ('stbernard', 0), ('coupled', 0), ('exacerbates', 0), ('r1oqaveo7i', 0), ('qd2lyuxazg', 0), ('ua5631', 0), ('burbank', 0), ('whichever', 0), ('ticket(s', 0), ('lj2zxzn8kg', 0), ('slower', 0), ('ory89eegek', 0), ('dos', 0), (\"don'ts\", 0), ('announcer', 0), ('651', 0), ('zouowgv3q6', 0), ('southwestairwasthere', 0), ('1k+', 0), ('unserved', 0), ('ua14', 0), ('hints', 0), ('gjqx6j', 0), ('a587cw', 0), (\"i'll\", 0), ('pop-', 0), ('costumerservice', 0), ('jk', 0), ('3:30pm', 0), ('americanairlnes', 0), ('0316', 0), ('downright', 0), ('hostile', 0), ('will1531', 0), ('justifythissupport', 0), ('retweets', 0), ('5095', 0), ('cak', 0), ('blames', 0), ('redesign', 0), ('equipped', 0), ('cheerupdates', 0), ('stopover', 0), ('zones', 0), ('sweetmel', 0), ('1320', 0), ('proportion', 0), ('sliced', 0), ('bread', 0), ('sl6bdrxfn8', 0), ('talent', 0), ('bdsm', 0), ('porn', 0), ('uqgw6qsffu', 0), ('dungeon', 0), ('pl9sop5ihu', 0), ('peuc0bmij9', 0), ('sap->mia', 0), ('1504', 0), ('1102', 0), ('xox', 0), ('harf', 0), ('iraiq', 0), ('isis', 0), ('marieharf', 0), ('ridiculously', 0), ('858', 0), ('thaiairways', 0), ('thai', 0), ('nowhereland', 0), ('izfofgjzui', 0), ('awfulness', 0), ('eeqwvammiy', 0), ('dh2rfuijyp', 0), ('absorb', 0), ('unmanned', 0), ('youragentshavenoclue', 0), ('a37n3ohokl', 0), ('aiyc9wv5oq', 0), ('will.make', 0), ('1612', 0), ('456', 0), ('1016', 0), ('6:55am', 0), ('incidentals', 0), ('12:30', 0), ('buys', 0), ('5203', 0), ('canld', 0), ('resch', 0), ('1:30.if', 0), ('cng', 0), ('inoperable', 0), ('heartlanta', 0), ('obtain', 0), ('container', 0), ('18gal', 0), ('totes', 0), ('mjtk2sfuhg', 0), ('gguig3t28z', 0), ('beareavement', 0), ('colonist', 0), ('nzdxrvszwv', 0), ('overcharging', 0), ('1689', 0), ('2888155964', 0), ('mllovelace', 0), ('u6duw27mde', 0), ('season', 0), ('3:30am', 0), ('reveals', 0), ('travelpulse', 0), ('fttfyfmvco', 0), ('struts', 0), ('nozzle', 0), ('calibrated', 0), ('belligerent', 0), ('ranting', 0), ('cac', 0), ('unnerving', 0), ('qdxft9qqt9', 0), ('603', 0), ('2705', 0), ('luke_mcintosh68', 0), ('advis', 0), ('-winter', 0), ('weather-', 0), ('accidents', 0), ('1086', 0), ('begging', 0), ('b13', 0), ('tired&&frustrated', 0), ('hemispheres', 0), ('vrqdpqepfw', 0), ('abigailedge', 0), ('maimi', 0), ('urcyfcp2lx', 0), ('interns', 0), ('travelportland', 0), ('hood', 0), ('y3sahvx3zk', 0), ('71', 0), ('twist', 0), ('unsecured', 0), ('ife', 0), ('handicapped', 0), ('careyon', 0), ('compact', 0), ('9nivw9ftzw', 0), ('swipe', 0), ('improvetheprocess', 0), ('leigh_emery', 0), ('vlci2kv1ip', 0), ('closure', 0), ('cheapoairchat', 0), ('ito', 0), ('fixyourstuff', 0), ('songs', 0), ('essential', 0), ('attire', 0), ('v8sb0rbicx', 0), ('reunited', 0), ('delinquent', 0), ('homeward', 0), ('honalulu', 0), ('delayua53', 0), ('kauai', 0), ('deboards', 0), ('4097', 0), ('8:50', 0), ('skycaps', 0), ('nov', 0), ('kin', 0), ('604', 0), ('ffstatusdontmatter', 0), ('thenewaa', 0), ('tried-', 0), ('^_^', 0), ('realtime', 0), ('rockingthetweets', 0), ('ritz', 0), ('ew', 0), ('b4xhirugzv', 0), ('16a', 0), ('salem', 0), ('icelandair', 0), ('clusterfucks', 0), ('compton', 0), ('611', 0), ('colo.', 0), ('pxexilsjbs', 0), ('fights', 0), ('looped', 0), ('26f', 0), ('windy', 0), ('70f', 0), ('2ir7ynmbdu', 0), ('8:45am', 0), ('stepitup', 0), ('jsumiyasu', 0), ('bucketobolts', 0), ('weekday', 0), (\":'(\", 0), ('showexpert', 0), ('fraction', 0), ('redeye', 0), ('2gether', 0), ('10x', 0), ('f\"ing', 0), ('loans', 0), ('flowers', 0), ('smfh', 0), ('oldseatnocushion', 0), ('nohelponboard', 0), ('favor?!', 0), ('aateam', 0), ('rigorous', 0), ('pordes', 0), ('everyones', 0), ('132', 0), ('unbalanced', 0), ('5268', 0), ('5hours', 0), ('tumitravel', 0), ('xmas', 0), ('razor', 0), ('secs', 0), ('g3uy6w28qh', 0), ('901hlngbtx', 0), ('answerthis', 0), ('inpolite', 0), ('grumpy', 0), ('wamo66', 0), ('8:00', 0), ('takr', 0), ('11:00pm', 0), ('teyana', 0), ('medusafridays', 0), ('2.27', 0), ('till11', 0), ('qwfmoq0dql', 0), ('kbb0b5fxmk', 0), ('themenofbusiness', 0), ('dxb', 0), ('poisonpill76', 0), ('omgee', 0), ('onfleek', 0), ('😵', 0), ('1851', 0), ('1769', 0), ('250k', 0), ('partnered', 0), ('0liwecasoe', 0), ('leak', 0), ('getmeoffthisplane', 0), ('ineedabeer', 0), ('sukhdeep', 0), ('newest', 0), ('96ftlzwtvo', 0), ('insure', 0), ('assholes', 0), ('fricken', 0), ('3899', 0), ('2pm', 0), ('meagan', 0), ('fouty', 0), ('brancato', 0), ('2771', 0), ('aa3370', 0), ('dplq3mhqgd', 0), ('tug', 0), ('delongerry', 0), ('dontmakemegooutside', 0), ('therofo', 0), ('cbsbaltimore', 0), ('oi32uq2ttz', 0), ('🎲', 0), ('cavalli', 0), ('calves', 0), ('interfering', 0), ('btb4awqtln', 0), ('4sfpcbyy9', 0), ('interchangeably', 0), ('-6', 0), ('dumps', 0), ('dzg99jfiik', 0), ('deoderant', 0), ('gang', 0), ('1at', 0), ('1sttimeflyer', 0), ('obsolete', 0), ('icyflight', 0), ('bingo', 0), ('noah', 0), ('2bestfriends', 0), ('though-', 0), ('niece', 0), ('unitedfails', 0), ('worsttripofmylife', 0), ('vpqem31xuq', 0), ('liking', 0), ('5txu5tsfkj', 0), ('ua1589', 0), ('jurassic', 0), ('dinosaur', 0), ('eczhcmm5vi', 0), ('revers', 0), ('kanne822', 0), ('gifting', 0), ('375', 0), ('oqukso3s2o', 0), ('response!', 0), ('sway', 0), ('tqc96tkci9', 0), ('1028', 0), ('hoom', 0), ('of7pfvqpoy', 0), ('mini', 0), ('intentional', 0), ('lchvjolidg', 0), ('fll->sfo', 0), ('3359', 0), ('0kn7pjelzl', 0), ('thanksjetblue', 0), ('garywerk', 0), ('sandwiches', 0), ('5t4fpcgrej', 0), ('pb&&j', 0), ('35a', 0), ('gopuregrenada', 0), ('discovergrenada', 0), ('mbcehcszx3', 0), ('caribbejan', 0), ('islandexpert', 0), ('2zm4jkalzl', 0), ('instant', 0), ('trite', 0), ('cap', 0), ('1801-', 0), ('mp', 0), ('occurs', 0), ('fw', 0), ('keyrpflhil', 0), ('right-', 0), ('1510', 0), ('4rl0p5jchb', 0), ('w1aakjumxa', 0), ('ua51', 0), ('wendi', 0), ('127', 0), ('hover', 0), ('intrusive', 0), ('214', 0), ('725', 0), ('1966', 0), ('cant', 0), ('husainhaqqani', 0), ('husain', 0), ('protest', 0), ('rehman', 0), ('malik', 0), ('accompany', 0), ('4yr', 0), ('egkvfokogj', 0), ('shipping', 0), ('sink', 0), ('sfjduahx9z', 0), ('skift', 0), ('wallstslumlord', 0), ('pkg49', 0), ('serviced', 0), ('vo3eqsepqh', 0), ('nehnsdckty', 0), ('lane', 0), ('badbadbad', 0), ('bible', 0), ('appealing', 0), ('jal', 0), ('cathay', 0), ('fligth', 0), ('somthing', 0), ('stamp', 0), ('0prgysvurm', 0), ('celebs', 0), ('skyscanner', 0), ('offloading', 0), ('6533', 0), ('pointsme', 0), ('2160', 0), ('logical', 0), ('telleveryone', 0), ('cuzco', 0), ('headphone', 0), ('x7ilzqdwe2', 0), ('1579', 0), ('cramming', 0), ('q8vsffrd1u', 0), ('1632', 0), ('aa1691', 0), ('hassles', 0), ('patheticcx', 0), ('shuttles', 0), ('cri', 0), ('modelodenegocio', 0), ('innovacion', 0), ('businessmodel', 0), ('herb', 0), ('bevies', 0), ('courtsnod', 0), ('spell', 0), ('gobankrupt', 0), ('am9cuiewo4', 0), ('donthavehighhopes', 0), ('averaging', 0), ('resending', 0), ('newsvp', 0), ('407', 0), ('standbye', 0), ('olive201', 0), ('90mins', 0), ('texarkana', 0), ('shouldhavedriven', 0), ('3121', 0), ('packermama1', 0), ('chging', 0), ('isit', 0), ('fl1289', 0), ('clincher', 0), ('wouldt', 0), ('hegshmeg', 0), ('1101', 0), ('anotherdisappointment', 0), ('pkfi9bttzf', 0), ('aircargo', 0), ('bbj6kmtyul', 0), ('4471', 0), ('914', 0), ('329', 0), ('0185', 0), ('notfair', 0), ('3231dtw', 0), ('49flbgzzkd', 0), ('chgy5yrvka', 0), ('aa3031so', 0), ('iflyoakland', 0), ('dim', 0), ('united1', 0), ('kfd4wqrklw', 0), ('functionally', 0), ('ppva4rch9f', 0), ('saves', 0), ('directv', 0), ('hqdtk6atue', 0), ('xrdtov7nl8', 0), ('4y78byackc', 0), ('jenniferdawnpro', 0), ('tacky', 0), ('saddens', 0), ('onlywaytofly', 0), ('5:40', 0), ('substitutes', 0), ('overflow', 0), ('4158', 0), ('complimentarybeveragesneeded', 0), ('demoted', 0), ('golds', 0), ('spousal.discrimination', 0), ('fsz4yo', 0), ('fvudmh27pf', 0), ('ballin', 0), ('whereisthelove', 0), ('whybeaaff', 0), ('mco->dca', 0), ('hhoxqpsuba', 0), ('noodles', 0), ('peas', 0), ('zukes', 0), ('yogurt', 0), ('built', 0), ('acnewsguy', 0), ('acarl4', 0), ('snag', 0), ('connectfor', 0), ('60+min', 0), ('hs', 0), ('ithaca', 0), ('xld', 0), ('rulesshouldbend', 0), ('murraysawchuck', 0), ('us643', 0), ('ua647', 0), ('improper', 0), ('gills', 0), ('1001', 0), ('getmartyhome', 0), ('sagerooski', 0), ('veggies', 0), ('olives', 0), ('organizational', 0), ('pple', 0), ('yayayay', 0), ('servers', 0), ('gottogetbetter', 0), ('skyw', 0), ('p2hum7lxur', 0), ('ralph', 0), ('nader', 0), ('o0745apiau', 0), ('mthm9waobu', 0), ('reassess', 0), ('annamarie', 0), ('norris', 0), ('recognized', 0), ('promoting', 0), ('noneother', 0), ('tfanxbh1cf', 0), ('levels', 0), ('realistically', 0), ('stepup', 0), ('makeitright', 0), ('wewillsee', 0), ('lastly', 0), ('ijustwanttosleep', 0), ('swift', 0), ('programming', 0), ('teamtreehouse', 0), ('logically', 0), ('truthh4', 0), ('nabisco', 0), ('pepperidge', 0), ('farms', 0), ('1914', 0), ('buggy', 0), ('zakkohane', 0), ('happytohelp', 0), ('flustered', 0), ('ig2dgctt2', 0), ('unitedairlinessux', 0), ('10:01pm', 0), ('zgoqoxjbqy', 0), ('xggcntco8', 0), ('rudestaff', 0), ('incompetentmanagers', 0), ('behaves', 0), ('colo', 0), ('unfamiliar', 0), ('outcome', 0), ('nvlnglnmgn', 0), ('n7psuejdc8', 0), ('wernicke', 0), ('oyu', 0), ('chillpill', 0), ('108639', 0), ('stellarservice', 0), ('wigs', 0), ('comforting', 0), ('stationary', 0), ('stickingtodelta', 0), ('disappearing', 0), ('manilla', 0), ('ratings', 0), ('dewithpew2', 0), ('11:47', 0), ('ths10ldy2a', 0), ('header.elevateuser.numofpointsavailable', 0), ('||', 0), ('-how', 0), ('body', 0), ('downs', 0), ('meat', 0), ('punishedforflying', 0), ('293', 0), ('dca.manual', 0), ('southwestoliver', 0), ('notevenjv', 0), ('barzegar', 0), ('euros', 0), ('tent', 0), ('village', 0), ('igsvzvrbbn', 0), ('thete', 0), ('pkaxunyfn2', 0), ('bussines', 0), ('submits', 0), ('eom', 0), ('12:30am', 0), ('onholdfordays', 0), ('renoairport', 0), ('b91', 0), ('fe', 0), ('axryeiwzh0', 0), ('vuelo24.es', 0), ('vuelos24.es', 0), ('webs', 0), ('ebokeers', 0), ('weatherless', 0), ('skillful', 0), ('flightness', 0), ('snafu', 0), ('ypvpvdltys', 0), ('sweatshirt', 0), ('hepl', 0), ('ws', 0), ('disciplined', 0), ('ji2pg4gom9', 0), ('miserablemorning', 0), ('multiplier', 0), ('ua1641', 0), ('seguinej', 0), ('5137', 0), ('5547', 0), ('-mia', 0), ('times!everytime', 0), ('vmsg:\"your', 0), ('3933', 0), ('flatiron', 0), ('cbssoxfan', 0), ('off.calls', 0), ('phonedied', 0), ('alistpreferred', 0), ('1tzz0vbmbs', 0), ('beingsuckontarmacsucks', 0), ('v4zvugmkjw', 0), ('631)891', 0), ('5722', 0), ('mor', 0), ('parhetic', 0), ('9º', 0), ('anticipation', 0), ('winterstorm2015', 0), ('whichisworsedenordfw', 0), ('vacationing', 0), ('jersey', 0), ('iove', 0), ('unsat', 0), ('ahoy', 0), ('allyoucanjetpass', 0), ('flipping', 0), ('aa363', 0), ('temper', 0), ('nothings', 0), ('collectively', 0), ('wervirgin', 0), ('loganex', 0), ('unconscionable', 0), ('8162', 0), ('4007', 0), ('av-8b', 0), ('xw', 0), ('5097', 0), ('breavement', 0), ('2133', 0), ('c9p2iosphm', 0), ('misbehavior', 0), ('dubai', 0), ('freaky', 0), ('retracted', 0), ('8:25', 0), ('strtd', 0), ('surprisingly', 0), ('khzrccyp2a', 0), ('tennetexan', 0), ('combat', 0), ('receives', 0), ('analysts', 0), ('doruxbqla1', 0), ('694', 0), ('borrow', 0), ('ugfckermrw', 0), ('ensured', 0), ('455', 0), ('aa3390', 0), ('reaccommodation', 0), ('mumbled', 0), ('dmangen', 0), ('visualclubconcepts.com', 0), ('don', 0), ('guc', 0), ('postsecret.com', 0), ('iusedtoloveu', 0), ('tefhpuwmdj', 0), ('wills', 0), ('2hr30', 0), ('loser', 0), ('wvgpp3ymz1', 0), ('actively', 0), ('startled', 0), ('description', 0), ('expanded', 0), ('1338', 0), ('providenciales', 0), ('1651', 0), ('supply', 0), ('images', 0)])"
            ]
          },
          "metadata": {
            "tags": []
          },
          "execution_count": 15
        }
      ]
    },
    {
      "cell_type": "markdown",
      "metadata": {
        "id": "ZtU3EHBtgPgm",
        "colab_type": "text"
      },
      "source": [
        "##3. Fine-tune pretrained LM"
      ]
    },
    {
      "cell_type": "markdown",
      "metadata": {
        "id": "IfGharY1hXcZ",
        "colab_type": "text"
      },
      "source": [
        "Call the fastai's language_model_learner on our airline data with AWD_LSTM architechure and pretrained weights. We choose dropout < 1 to reduce underfitting."
      ]
    },
    {
      "cell_type": "code",
      "metadata": {
        "id": "5tXA4CtuiEac",
        "colab_type": "code",
        "colab": {
          "base_uri": "https://localhost:8080/",
          "height": 34
        },
        "outputId": "a6e93f66-ed3e-4857-9259-6c66ad980231"
      },
      "source": [
        "learn = language_model_learner(data_lm, AWD_LSTM, drop_mult=0.5, pretrained=True)"
      ],
      "execution_count": 16,
      "outputs": [
        {
          "output_type": "stream",
          "text": [
            "Downloading https://s3.amazonaws.com/fast-ai-modelzoo/wt103-fwd.tgz\n"
          ],
          "name": "stdout"
        },
        {
          "output_type": "display_data",
          "data": {
            "text/html": [
              ""
            ],
            "text/plain": [
              "<IPython.core.display.HTML object>"
            ]
          },
          "metadata": {
            "tags": []
          }
        }
      ]
    },
    {
      "cell_type": "code",
      "metadata": {
        "id": "a0UEyW5tohnp",
        "colab_type": "code",
        "colab": {
          "base_uri": "https://localhost:8080/",
          "height": 143
        },
        "outputId": "661d4ddf-9105-4d42-87fa-3fefc93cd1b2"
      },
      "source": [
        "learn.lr_find()"
      ],
      "execution_count": 17,
      "outputs": [
        {
          "output_type": "display_data",
          "data": {
            "text/html": [
              "\n",
              "    <div>\n",
              "        <style>\n",
              "            /* Turns off some styling */\n",
              "            progress {\n",
              "                /* gets rid of default border in Firefox and Opera. */\n",
              "                border: none;\n",
              "                /* Needs to be in here for Safari polyfill so background images work as expected. */\n",
              "                background-size: auto;\n",
              "            }\n",
              "            .progress-bar-interrupted, .progress-bar-interrupted::-webkit-progress-bar {\n",
              "                background: #F44336;\n",
              "            }\n",
              "        </style>\n",
              "      <progress value='1' class='' max='2' style='width:300px; height:20px; vertical-align: middle;'></progress>\n",
              "      50.00% [1/2 00:19<00:19]\n",
              "    </div>\n",
              "    \n",
              "<table border=\"1\" class=\"dataframe\">\n",
              "  <thead>\n",
              "    <tr style=\"text-align: left;\">\n",
              "      <th>epoch</th>\n",
              "      <th>train_loss</th>\n",
              "      <th>valid_loss</th>\n",
              "      <th>accuracy</th>\n",
              "      <th>time</th>\n",
              "    </tr>\n",
              "  </thead>\n",
              "  <tbody>\n",
              "    <tr>\n",
              "      <td>0</td>\n",
              "      <td>6.823287</td>\n",
              "      <td>#na#</td>\n",
              "      <td>00:19</td>\n",
              "    </tr>\n",
              "  </tbody>\n",
              "</table><p>\n",
              "\n",
              "    <div>\n",
              "        <style>\n",
              "            /* Turns off some styling */\n",
              "            progress {\n",
              "                /* gets rid of default border in Firefox and Opera. */\n",
              "                border: none;\n",
              "                /* Needs to be in here for Safari polyfill so background images work as expected. */\n",
              "                background-size: auto;\n",
              "            }\n",
              "            .progress-bar-interrupted, .progress-bar-interrupted::-webkit-progress-bar {\n",
              "                background: #F44336;\n",
              "            }\n",
              "        </style>\n",
              "      <progress value='36' class='' max='63' style='width:300px; height:20px; vertical-align: middle;'></progress>\n",
              "      57.14% [36/63 00:11<00:08 9.5422]\n",
              "    </div>\n",
              "    "
            ],
            "text/plain": [
              "<IPython.core.display.HTML object>"
            ]
          },
          "metadata": {
            "tags": []
          }
        },
        {
          "output_type": "stream",
          "text": [
            "LR Finder is complete, type {learner_name}.recorder.plot() to see the graph.\n"
          ],
          "name": "stdout"
        }
      ]
    },
    {
      "cell_type": "code",
      "metadata": {
        "id": "9tsnX0mAooMi",
        "colab_type": "code",
        "colab": {
          "base_uri": "https://localhost:8080/",
          "height": 279
        },
        "outputId": "2e1f151b-a742-4473-9a4d-3965d489c2d8"
      },
      "source": [
        "learn.recorder.plot()"
      ],
      "execution_count": 18,
      "outputs": [
        {
          "output_type": "display_data",
          "data": {
            "image/png": "[encoded data removed]",
            "text/plain": [
              "<Figure size 432x288 with 1 Axes>"
            ]
          },
          "metadata": {
            "tags": [],
            "needs_background": "light"
          }
        }
      ]
    },
    {
      "cell_type": "markdown",
      "metadata": {
        "id": "nmjFqwA-jw2Q",
        "colab_type": "text"
      },
      "source": [
        "To optimise the learning rate, we follow the [one cycle policy](https://docs.fast.ai/callbacks.one_cycle.html#What-is-1cycle?). We initially train the final layer and then unfreeze to train entire model."
      ]
    },
    {
      "cell_type": "code",
      "metadata": {
        "id": "iKlI_BMEiVe6",
        "colab_type": "code",
        "colab": {
          "base_uri": "https://localhost:8080/",
          "height": 80
        },
        "outputId": "591d183b-6d49-4252-b229-473286fa4778"
      },
      "source": [
        "learn.fit_one_cycle(1, 5e-2)"
      ],
      "execution_count": 19,
      "outputs": [
        {
          "output_type": "display_data",
          "data": {
            "text/html": [
              "<table border=\"1\" class=\"dataframe\">\n",
              "  <thead>\n",
              "    <tr style=\"text-align: left;\">\n",
              "      <th>epoch</th>\n",
              "      <th>train_loss</th>\n",
              "      <th>valid_loss</th>\n",
              "      <th>accuracy</th>\n",
              "      <th>time</th>\n",
              "    </tr>\n",
              "  </thead>\n",
              "  <tbody>\n",
              "    <tr>\n",
              "      <td>0</td>\n",
              "      <td>4.293869</td>\n",
              "      <td>3.651074</td>\n",
              "      <td>0.315374</td>\n",
              "      <td>00:22</td>\n",
              "    </tr>\n",
              "  </tbody>\n",
              "</table>"
            ],
            "text/plain": [
              "<IPython.core.display.HTML object>"
            ]
          },
          "metadata": {
            "tags": []
          }
        }
      ]
    },
    {
      "cell_type": "code",
      "metadata": {
        "id": "MAWuOeYCs1yY",
        "colab_type": "code",
        "colab": {}
      },
      "source": [
        "learn.unfreeze()"
      ],
      "execution_count": 20,
      "outputs": []
    },
    {
      "cell_type": "code",
      "metadata": {
        "id": "ZVB8HUE6suzM",
        "colab_type": "code",
        "colab": {
          "base_uri": "https://localhost:8080/",
          "height": 143
        },
        "outputId": "ba0efc71-0013-45a1-b1fc-5d26b8a99061"
      },
      "source": [
        "learn.lr_find()"
      ],
      "execution_count": 21,
      "outputs": [
        {
          "output_type": "display_data",
          "data": {
            "text/html": [
              "\n",
              "    <div>\n",
              "        <style>\n",
              "            /* Turns off some styling */\n",
              "            progress {\n",
              "                /* gets rid of default border in Firefox and Opera. */\n",
              "                border: none;\n",
              "                /* Needs to be in here for Safari polyfill so background images work as expected. */\n",
              "                background-size: auto;\n",
              "            }\n",
              "            .progress-bar-interrupted, .progress-bar-interrupted::-webkit-progress-bar {\n",
              "                background: #F44336;\n",
              "            }\n",
              "        </style>\n",
              "      <progress value='1' class='' max='2' style='width:300px; height:20px; vertical-align: middle;'></progress>\n",
              "      50.00% [1/2 00:25<00:25]\n",
              "    </div>\n",
              "    \n",
              "<table border=\"1\" class=\"dataframe\">\n",
              "  <thead>\n",
              "    <tr style=\"text-align: left;\">\n",
              "      <th>epoch</th>\n",
              "      <th>train_loss</th>\n",
              "      <th>valid_loss</th>\n",
              "      <th>accuracy</th>\n",
              "      <th>time</th>\n",
              "    </tr>\n",
              "  </thead>\n",
              "  <tbody>\n",
              "    <tr>\n",
              "      <td>0</td>\n",
              "      <td>3.604666</td>\n",
              "      <td>#na#</td>\n",
              "      <td>00:25</td>\n",
              "    </tr>\n",
              "  </tbody>\n",
              "</table><p>\n",
              "\n",
              "    <div>\n",
              "        <style>\n",
              "            /* Turns off some styling */\n",
              "            progress {\n",
              "                /* gets rid of default border in Firefox and Opera. */\n",
              "                border: none;\n",
              "                /* Needs to be in here for Safari polyfill so background images work as expected. */\n",
              "                background-size: auto;\n",
              "            }\n",
              "            .progress-bar-interrupted, .progress-bar-interrupted::-webkit-progress-bar {\n",
              "                background: #F44336;\n",
              "            }\n",
              "        </style>\n",
              "      <progress value='31' class='' max='63' style='width:300px; height:20px; vertical-align: middle;'></progress>\n",
              "      49.21% [31/63 00:12<00:13 13.3533]\n",
              "    </div>\n",
              "    "
            ],
            "text/plain": [
              "<IPython.core.display.HTML object>"
            ]
          },
          "metadata": {
            "tags": []
          }
        },
        {
          "output_type": "stream",
          "text": [
            "LR Finder is complete, type {learner_name}.recorder.plot() to see the graph.\n"
          ],
          "name": "stdout"
        }
      ]
    },
    {
      "cell_type": "code",
      "metadata": {
        "id": "WwTTsO_SuxLR",
        "colab_type": "code",
        "colab": {
          "base_uri": "https://localhost:8080/",
          "height": 279
        },
        "outputId": "126fbd08-3c11-431e-cbb8-ba425d5bdb08"
      },
      "source": [
        "learn.recorder.plot()"
      ],
      "execution_count": 22,
      "outputs": [
        {
          "output_type": "display_data",
          "data": {
            "image/png": "[encoded data removed]",
            "text/plain": [
              "<Figure size 432x288 with 1 Axes>"
            ]
          },
          "metadata": {
            "tags": [],
            "needs_background": "light"
          }
        }
      ]
    },
    {
      "cell_type": "code",
      "metadata": {
        "id": "L_B2Kk7xo8wI",
        "colab_type": "code",
        "colab": {
          "base_uri": "https://localhost:8080/",
          "height": 142
        },
        "outputId": "c4d59fea-b196-4a8e-9506-7bf944a385d3"
      },
      "source": [
        "learn.fit_one_cycle(3, 1e-2)"
      ],
      "execution_count": 23,
      "outputs": [
        {
          "output_type": "display_data",
          "data": {
            "text/html": [
              "<table border=\"1\" class=\"dataframe\">\n",
              "  <thead>\n",
              "    <tr style=\"text-align: left;\">\n",
              "      <th>epoch</th>\n",
              "      <th>train_loss</th>\n",
              "      <th>valid_loss</th>\n",
              "      <th>accuracy</th>\n",
              "      <th>time</th>\n",
              "    </tr>\n",
              "  </thead>\n",
              "  <tbody>\n",
              "    <tr>\n",
              "      <td>0</td>\n",
              "      <td>3.551591</td>\n",
              "      <td>3.475408</td>\n",
              "      <td>0.338295</td>\n",
              "      <td>00:28</td>\n",
              "    </tr>\n",
              "    <tr>\n",
              "      <td>1</td>\n",
              "      <td>3.331598</td>\n",
              "      <td>3.360199</td>\n",
              "      <td>0.353376</td>\n",
              "      <td>00:28</td>\n",
              "    </tr>\n",
              "    <tr>\n",
              "      <td>2</td>\n",
              "      <td>2.829446</td>\n",
              "      <td>3.399121</td>\n",
              "      <td>0.355273</td>\n",
              "      <td>00:28</td>\n",
              "    </tr>\n",
              "  </tbody>\n",
              "</table>"
            ],
            "text/plain": [
              "<IPython.core.display.HTML object>"
            ]
          },
          "metadata": {
            "tags": []
          }
        }
      ]
    },
    {
      "cell_type": "markdown",
      "metadata": {
        "id": "xFeMeB7c640P",
        "colab_type": "text"
      },
      "source": [
        "Now our LM is fine-tuned using the airline data, test our model by predicting the next ten words given a new phrase."
      ]
    },
    {
      "cell_type": "code",
      "metadata": {
        "id": "QqpGI4_g6waI",
        "colab_type": "code",
        "colab": {
          "base_uri": "https://localhost:8080/",
          "height": 35
        },
        "outputId": "7bafa4ca-5eda-4452-e4b8-0a88ee95ae3f"
      },
      "source": [
        "learn.predict(\"The flight was awful. They lost my\", n_words=10)"
      ],
      "execution_count": 24,
      "outputs": [
        {
          "output_type": "execute_result",
          "data": {
            "application/vnd.google.colaboratory.intrinsic+json": {
              "type": "string"
            },
            "text/plain": [
              "'The flight was awful. They lost my luggage . But it really good for me to'"
            ]
          },
          "metadata": {
            "tags": []
          },
          "execution_count": 24
        }
      ]
    },
    {
      "cell_type": "markdown",
      "metadata": {
        "id": "yRUXbQmB7Q-W",
        "colab_type": "text"
      },
      "source": [
        "Although it does not make much sense, the sentence does respect basic grammer. We also note that this phrase \"CancelledFlightled\" comes up in a lot of the tweets in the raw data file which is strange as it appears to be a typo."
      ]
    },
    {
      "cell_type": "code",
      "metadata": {
        "id": "4OeCRUDO8ynq",
        "colab_type": "code",
        "colab": {}
      },
      "source": [
        "learn.save_encoder('ft_enc')"
      ],
      "execution_count": 25,
      "outputs": []
    },
    {
      "cell_type": "markdown",
      "metadata": {
        "id": "BANBvB1z827-",
        "colab_type": "text"
      },
      "source": [
        "## 4. Build sentiment classifier "
      ]
    },
    {
      "cell_type": "markdown",
      "metadata": {
        "id": "WVayNBoZ9CnH",
        "colab_type": "text"
      },
      "source": [
        "Call the fastai's text_classifier_learner on our airline data with AWD_LSTM architechure and pretrained weights."
      ]
    },
    {
      "cell_type": "code",
      "metadata": {
        "id": "hmz9BMxo9YNL",
        "colab_type": "code",
        "colab": {}
      },
      "source": [
        "learn = text_classifier_learner(data_clas, AWD_LSTM, drop_mult=0.5)"
      ],
      "execution_count": 71,
      "outputs": []
    },
    {
      "cell_type": "code",
      "metadata": {
        "id": "IJx06ATf9d8E",
        "colab_type": "code",
        "colab": {
          "base_uri": "https://localhost:8080/",
          "height": 1000
        },
        "outputId": "825704a8-5c8d-4354-b186-b145571d1df1"
      },
      "source": [
        "learn.load_encoder('ft_enc')"
      ],
      "execution_count": 72,
      "outputs": [
        {
          "output_type": "execute_result",
          "data": {
            "text/plain": [
              "RNNLearner(data=TextClasDataBunch;\n",
              "\n",
              "Train: LabelList (10540 items)\n",
              "x: TextList\n",
              "xxbos   @ jetblue y u xxup no xxup let xxup me xxup out xxup and xxup make xxup fun xxup size xxup cookies # xxunk # xxunk # xxunk,xxbos   @ united thank you ! xxmaj my second flight i already got bumped up to 1st ! xxmaj love it !,xxbos   @ southwestair xxmaj my flight to xxup kc has been xxmaj cancelled xxmaj flighted and the next available is n't till xxmaj tuesday ? ! xxmaj what am i supposed to do for 3 nights xxrep 5 ?,xxbos   @ united no my concerns were not addressed,xxbos   @ southwestair i changed my flight through xxmaj st. xxmaj louis . xxmaj thanks for the reply though !\n",
              "y: CategoryList\n",
              "negative,positive,negative,negative,positive\n",
              "Path: /content/drive/My Drive/ULMFiT Sentiment;\n",
              "\n",
              "Valid: LabelList (2636 items)\n",
              "x: TextList\n",
              "xxbos   @ southwestair xxmaj on hold for 45 minutes trying to rebook a xxmaj cancelled xxmaj flightled flight with a companion ticket . xxmaj help ?,xxbos   @ usairways i did n't take my original flight . i was suppose to arrive last night than by 2:00pm today . xxmaj did n't get in til 5,xxbos   @ united they had snacks available , just no fresh food ... not sure what happened , but i 'm sure we will grab a xxunk before our xxup sfo connection,xxbos   @ southwestair i wrote to your customer support on xxmaj monday re : a xxmaj cancelled xxmaj flighted flight but have n't heard back . xxmaj any idea what 's up ? xxmaj thanks .,xxbos   @ united xxup ua 746 . xxmaj pacific xxmaj xxunk and xxmaj date xxmaj night cut out . xxmaj not constantly or randomly , but one spot , xxunk .\n",
              "y: CategoryList\n",
              "negative,negative,neutral,negative,negative\n",
              "Path: /content/drive/My Drive/ULMFiT Sentiment;\n",
              "\n",
              "Test: LabelList (1464 items)\n",
              "x: TextList\n",
              "xxbos   @ united submitted customer care form xxmaj jan 7th . xxmaj still no response . a little longer then 7 - 10 business days,xxbos   @ southwestair xxup thank xxup you for your awesome flights . xxmaj xxunk got screwed on   @ xxunk , managed to xxunk and get a xxup sw plane today . ! ! !,xxbos   @ southwestair rules .,xxbos   @ united new flight has me at the window . xxmaj kind of xxunk off . i pick aisle seats only because i hate window seats . # annoyed # epicfail,xxbos   @ united seriously ? 45 min on the plane at bhm and now 30 min in baggage and still no bags ? # worstairlineever\n",
              "y: EmptyLabelList\n",
              ",,,,\n",
              "Path: /content/drive/My Drive/ULMFiT Sentiment, model=SequentialRNN(\n",
              "  (0): MultiBatchEncoder(\n",
              "    (module): AWD_LSTM(\n",
              "      (encoder): Embedding(5552, 400, padding_idx=1)\n",
              "      (encoder_dp): EmbeddingDropout(\n",
              "        (emb): Embedding(5552, 400, padding_idx=1)\n",
              "      )\n",
              "      (rnns): ModuleList(\n",
              "        (0): WeightDropout(\n",
              "          (module): LSTM(400, 1152, batch_first=True)\n",
              "        )\n",
              "        (1): WeightDropout(\n",
              "          (module): LSTM(1152, 1152, batch_first=True)\n",
              "        )\n",
              "        (2): WeightDropout(\n",
              "          (module): LSTM(1152, 400, batch_first=True)\n",
              "        )\n",
              "      )\n",
              "      (input_dp): RNNDropout()\n",
              "      (hidden_dps): ModuleList(\n",
              "        (0): RNNDropout()\n",
              "        (1): RNNDropout()\n",
              "        (2): RNNDropout()\n",
              "      )\n",
              "    )\n",
              "  )\n",
              "  (1): PoolingLinearClassifier(\n",
              "    (layers): Sequential(\n",
              "      (0): BatchNorm1d(1200, eps=1e-05, momentum=0.1, affine=True, track_running_stats=True)\n",
              "      (1): Dropout(p=0.2, inplace=False)\n",
              "      (2): Linear(in_features=1200, out_features=50, bias=True)\n",
              "      (3): ReLU(inplace=True)\n",
              "      (4): BatchNorm1d(50, eps=1e-05, momentum=0.1, affine=True, track_running_stats=True)\n",
              "      (5): Dropout(p=0.1, inplace=False)\n",
              "      (6): Linear(in_features=50, out_features=3, bias=True)\n",
              "    )\n",
              "  )\n",
              "), opt_func=functools.partial(<class 'torch.optim.adam.Adam'>, betas=(0.9, 0.99)), loss_func=FlattenedLoss of CrossEntropyLoss(), metrics=[<function accuracy at 0x7fcfd44dc950>], true_wd=True, bn_wd=True, wd=0.01, train_bn=True, path=PosixPath('/content/drive/My Drive/ULMFiT Sentiment'), model_dir='models', callback_fns=[functools.partial(<class 'fastai.basic_train.Recorder'>, add_time=True, silent=False)], callbacks=[RNNTrainer\n",
              "learn: RNNLearner(data=TextClasDataBunch;\n",
              "\n",
              "Train: LabelList (10540 items)\n",
              "x: TextList\n",
              "xxbos   @ jetblue y u xxup no xxup let xxup me xxup out xxup and xxup make xxup fun xxup size xxup cookies # xxunk # xxunk # xxunk,xxbos   @ united thank you ! xxmaj my second flight i already got bumped up to 1st ! xxmaj love it !,xxbos   @ southwestair xxmaj my flight to xxup kc has been xxmaj cancelled xxmaj flighted and the next available is n't till xxmaj tuesday ? ! xxmaj what am i supposed to do for 3 nights xxrep 5 ?,xxbos   @ united no my concerns were not addressed,xxbos   @ southwestair i changed my flight through xxmaj st. xxmaj louis . xxmaj thanks for the reply though !\n",
              "y: CategoryList\n",
              "negative,positive,negative,negative,positive\n",
              "Path: /content/drive/My Drive/ULMFiT Sentiment;\n",
              "\n",
              "Valid: LabelList (2636 items)\n",
              "x: TextList\n",
              "xxbos   @ southwestair xxmaj on hold for 45 minutes trying to rebook a xxmaj cancelled xxmaj flightled flight with a companion ticket . xxmaj help ?,xxbos   @ usairways i did n't take my original flight . i was suppose to arrive last night than by 2:00pm today . xxmaj did n't get in til 5,xxbos   @ united they had snacks available , just no fresh food ... not sure what happened , but i 'm sure we will grab a xxunk before our xxup sfo connection,xxbos   @ southwestair i wrote to your customer support on xxmaj monday re : a xxmaj cancelled xxmaj flighted flight but have n't heard back . xxmaj any idea what 's up ? xxmaj thanks .,xxbos   @ united xxup ua 746 . xxmaj pacific xxmaj xxunk and xxmaj date xxmaj night cut out . xxmaj not constantly or randomly , but one spot , xxunk .\n",
              "y: CategoryList\n",
              "negative,negative,neutral,negative,negative\n",
              "Path: /content/drive/My Drive/ULMFiT Sentiment;\n",
              "\n",
              "Test: LabelList (1464 items)\n",
              "x: TextList\n",
              "xxbos   @ united submitted customer care form xxmaj jan 7th . xxmaj still no response . a little longer then 7 - 10 business days,xxbos   @ southwestair xxup thank xxup you for your awesome flights . xxmaj xxunk got screwed on   @ xxunk , managed to xxunk and get a xxup sw plane today . ! ! !,xxbos   @ southwestair rules .,xxbos   @ united new flight has me at the window . xxmaj kind of xxunk off . i pick aisle seats only because i hate window seats . # annoyed # epicfail,xxbos   @ united seriously ? 45 min on the plane at bhm and now 30 min in baggage and still no bags ? # worstairlineever\n",
              "y: EmptyLabelList\n",
              ",,,,\n",
              "Path: /content/drive/My Drive/ULMFiT Sentiment, model=SequentialRNN(\n",
              "  (0): MultiBatchEncoder(\n",
              "    (module): AWD_LSTM(\n",
              "      (encoder): Embedding(5552, 400, padding_idx=1)\n",
              "      (encoder_dp): EmbeddingDropout(\n",
              "        (emb): Embedding(5552, 400, padding_idx=1)\n",
              "      )\n",
              "      (rnns): ModuleList(\n",
              "        (0): WeightDropout(\n",
              "          (module): LSTM(400, 1152, batch_first=True)\n",
              "        )\n",
              "        (1): WeightDropout(\n",
              "          (module): LSTM(1152, 1152, batch_first=True)\n",
              "        )\n",
              "        (2): WeightDropout(\n",
              "          (module): LSTM(1152, 400, batch_first=True)\n",
              "        )\n",
              "      )\n",
              "      (input_dp): RNNDropout()\n",
              "      (hidden_dps): ModuleList(\n",
              "        (0): RNNDropout()\n",
              "        (1): RNNDropout()\n",
              "        (2): RNNDropout()\n",
              "      )\n",
              "    )\n",
              "  )\n",
              "  (1): PoolingLinearClassifier(\n",
              "    (layers): Sequential(\n",
              "      (0): BatchNorm1d(1200, eps=1e-05, momentum=0.1, affine=True, track_running_stats=True)\n",
              "      (1): Dropout(p=0.2, inplace=False)\n",
              "      (2): Linear(in_features=1200, out_features=50, bias=True)\n",
              "      (3): ReLU(inplace=True)\n",
              "      (4): BatchNorm1d(50, eps=1e-05, momentum=0.1, affine=True, track_running_stats=True)\n",
              "      (5): Dropout(p=0.1, inplace=False)\n",
              "      (6): Linear(in_features=50, out_features=3, bias=True)\n",
              "    )\n",
              "  )\n",
              "), opt_func=functools.partial(<class 'torch.optim.adam.Adam'>, betas=(0.9, 0.99)), loss_func=FlattenedLoss of CrossEntropyLoss(), metrics=[<function accuracy at 0x7fcfd44dc950>], true_wd=True, bn_wd=True, wd=0.01, train_bn=True, path=PosixPath('/content/drive/My Drive/ULMFiT Sentiment'), model_dir='models', callback_fns=[functools.partial(<class 'fastai.basic_train.Recorder'>, add_time=True, silent=False)], callbacks=[...], layer_groups=[Sequential(\n",
              "  (0): Embedding(5552, 400, padding_idx=1)\n",
              "  (1): EmbeddingDropout(\n",
              "    (emb): Embedding(5552, 400, padding_idx=1)\n",
              "  )\n",
              "), Sequential(\n",
              "  (0): WeightDropout(\n",
              "    (module): LSTM(400, 1152, batch_first=True)\n",
              "  )\n",
              "  (1): RNNDropout()\n",
              "), Sequential(\n",
              "  (0): WeightDropout(\n",
              "    (module): LSTM(1152, 1152, batch_first=True)\n",
              "  )\n",
              "  (1): RNNDropout()\n",
              "), Sequential(\n",
              "  (0): WeightDropout(\n",
              "    (module): LSTM(1152, 400, batch_first=True)\n",
              "  )\n",
              "  (1): RNNDropout()\n",
              "), Sequential(\n",
              "  (0): PoolingLinearClassifier(\n",
              "    (layers): Sequential(\n",
              "      (0): BatchNorm1d(1200, eps=1e-05, momentum=0.1, affine=True, track_running_stats=True)\n",
              "      (1): Dropout(p=0.2, inplace=False)\n",
              "      (2): Linear(in_features=1200, out_features=50, bias=True)\n",
              "      (3): ReLU(inplace=True)\n",
              "      (4): BatchNorm1d(50, eps=1e-05, momentum=0.1, affine=True, track_running_stats=True)\n",
              "      (5): Dropout(p=0.1, inplace=False)\n",
              "      (6): Linear(in_features=50, out_features=3, bias=True)\n",
              "    )\n",
              "  )\n",
              ")], add_time=True, silent=False)\n",
              "alpha: 2.0\n",
              "beta: 1.0], layer_groups=[Sequential(\n",
              "  (0): Embedding(5552, 400, padding_idx=1)\n",
              "  (1): EmbeddingDropout(\n",
              "    (emb): Embedding(5552, 400, padding_idx=1)\n",
              "  )\n",
              "), Sequential(\n",
              "  (0): WeightDropout(\n",
              "    (module): LSTM(400, 1152, batch_first=True)\n",
              "  )\n",
              "  (1): RNNDropout()\n",
              "), Sequential(\n",
              "  (0): WeightDropout(\n",
              "    (module): LSTM(1152, 1152, batch_first=True)\n",
              "  )\n",
              "  (1): RNNDropout()\n",
              "), Sequential(\n",
              "  (0): WeightDropout(\n",
              "    (module): LSTM(1152, 400, batch_first=True)\n",
              "  )\n",
              "  (1): RNNDropout()\n",
              "), Sequential(\n",
              "  (0): PoolingLinearClassifier(\n",
              "    (layers): Sequential(\n",
              "      (0): BatchNorm1d(1200, eps=1e-05, momentum=0.1, affine=True, track_running_stats=True)\n",
              "      (1): Dropout(p=0.2, inplace=False)\n",
              "      (2): Linear(in_features=1200, out_features=50, bias=True)\n",
              "      (3): ReLU(inplace=True)\n",
              "      (4): BatchNorm1d(50, eps=1e-05, momentum=0.1, affine=True, track_running_stats=True)\n",
              "      (5): Dropout(p=0.1, inplace=False)\n",
              "      (6): Linear(in_features=50, out_features=3, bias=True)\n",
              "    )\n",
              "  )\n",
              ")], add_time=True, silent=False)"
            ]
          },
          "metadata": {
            "tags": []
          },
          "execution_count": 72
        }
      ]
    },
    {
      "cell_type": "code",
      "metadata": {
        "id": "Avx58EgJ9oVg",
        "colab_type": "code",
        "colab": {
          "base_uri": "https://localhost:8080/",
          "height": 112
        },
        "outputId": "f73f74fc-83a8-4d1b-c98d-0256901e9549"
      },
      "source": [
        "learn.lr_find()"
      ],
      "execution_count": 73,
      "outputs": [
        {
          "output_type": "display_data",
          "data": {
            "text/html": [
              "\n",
              "    <div>\n",
              "        <style>\n",
              "            /* Turns off some styling */\n",
              "            progress {\n",
              "                /* gets rid of default border in Firefox and Opera. */\n",
              "                border: none;\n",
              "                /* Needs to be in here for Safari polyfill so background images work as expected. */\n",
              "                background-size: auto;\n",
              "            }\n",
              "            .progress-bar-interrupted, .progress-bar-interrupted::-webkit-progress-bar {\n",
              "                background: #F44336;\n",
              "            }\n",
              "        </style>\n",
              "      <progress value='0' class='' max='1' style='width:300px; height:20px; vertical-align: middle;'></progress>\n",
              "      0.00% [0/1 00:00<00:00]\n",
              "    </div>\n",
              "    \n",
              "<table border=\"1\" class=\"dataframe\">\n",
              "  <thead>\n",
              "    <tr style=\"text-align: left;\">\n",
              "      <th>epoch</th>\n",
              "      <th>train_loss</th>\n",
              "      <th>valid_loss</th>\n",
              "      <th>accuracy</th>\n",
              "      <th>time</th>\n",
              "    </tr>\n",
              "  </thead>\n",
              "  <tbody>\n",
              "  </tbody>\n",
              "</table><p>\n",
              "\n",
              "    <div>\n",
              "        <style>\n",
              "            /* Turns off some styling */\n",
              "            progress {\n",
              "                /* gets rid of default border in Firefox and Opera. */\n",
              "                border: none;\n",
              "                /* Needs to be in here for Safari polyfill so background images work as expected. */\n",
              "                background-size: auto;\n",
              "            }\n",
              "            .progress-bar-interrupted, .progress-bar-interrupted::-webkit-progress-bar {\n",
              "                background: #F44336;\n",
              "            }\n",
              "        </style>\n",
              "      <progress value='93' class='' max='329' style='width:300px; height:20px; vertical-align: middle;'></progress>\n",
              "      28.27% [93/329 00:05<00:13 2.9446]\n",
              "    </div>\n",
              "    "
            ],
            "text/plain": [
              "<IPython.core.display.HTML object>"
            ]
          },
          "metadata": {
            "tags": []
          }
        },
        {
          "output_type": "stream",
          "text": [
            "LR Finder is complete, type {learner_name}.recorder.plot() to see the graph.\n"
          ],
          "name": "stdout"
        }
      ]
    },
    {
      "cell_type": "code",
      "metadata": {
        "id": "Vizu-r8D91Tg",
        "colab_type": "code",
        "colab": {
          "base_uri": "https://localhost:8080/",
          "height": 279
        },
        "outputId": "aa0b6e74-db1a-4d11-c849-5fa7d8951dc1"
      },
      "source": [
        "learn.recorder.plot()"
      ],
      "execution_count": 74,
      "outputs": [
        {
          "output_type": "display_data",
          "data": {
            "image/png": "[encoded data removed]",
            "text/plain": [
              "<Figure size 432x288 with 1 Axes>"
            ]
          },
          "metadata": {
            "tags": [],
            "needs_background": "light"
          }
        }
      ]
    },
    {
      "cell_type": "markdown",
      "metadata": {
        "id": "Yja-zjD55o60",
        "colab_type": "text"
      },
      "source": [
        "Again, we follow the [one cycle policy](https://docs.fast.ai/callbacks.one_cycle.html#What-is-1cycle?) and initially train the final layer followed by the entire model."
      ]
    },
    {
      "cell_type": "code",
      "metadata": {
        "id": "ChooAxX994PV",
        "colab_type": "code",
        "colab": {
          "base_uri": "https://localhost:8080/",
          "height": 80
        },
        "outputId": "bdf569e7-a9b4-4285-ede0-44e78c1b9e18"
      },
      "source": [
        "learn.fit_one_cycle(1, 1e-2)"
      ],
      "execution_count": 75,
      "outputs": [
        {
          "output_type": "display_data",
          "data": {
            "text/html": [
              "<table border=\"1\" class=\"dataframe\">\n",
              "  <thead>\n",
              "    <tr style=\"text-align: left;\">\n",
              "      <th>epoch</th>\n",
              "      <th>train_loss</th>\n",
              "      <th>valid_loss</th>\n",
              "      <th>accuracy</th>\n",
              "      <th>time</th>\n",
              "    </tr>\n",
              "  </thead>\n",
              "  <tbody>\n",
              "    <tr>\n",
              "      <td>0</td>\n",
              "      <td>0.603808</td>\n",
              "      <td>0.500849</td>\n",
              "      <td>0.799317</td>\n",
              "      <td>00:20</td>\n",
              "    </tr>\n",
              "  </tbody>\n",
              "</table>"
            ],
            "text/plain": [
              "<IPython.core.display.HTML object>"
            ]
          },
          "metadata": {
            "tags": []
          }
        }
      ]
    },
    {
      "cell_type": "code",
      "metadata": {
        "id": "BSVNMrNQAkHC",
        "colab_type": "code",
        "colab": {}
      },
      "source": [
        "learn.unfreeze()"
      ],
      "execution_count": 76,
      "outputs": []
    },
    {
      "cell_type": "code",
      "metadata": {
        "id": "2LeKOAwVAmfV",
        "colab_type": "code",
        "colab": {
          "base_uri": "https://localhost:8080/",
          "height": 112
        },
        "outputId": "4ec924c3-0ec6-47d8-9447-c02c2c6a0fc2"
      },
      "source": [
        "learn.lr_find()"
      ],
      "execution_count": 84,
      "outputs": [
        {
          "output_type": "display_data",
          "data": {
            "text/html": [
              "\n",
              "    <div>\n",
              "        <style>\n",
              "            /* Turns off some styling */\n",
              "            progress {\n",
              "                /* gets rid of default border in Firefox and Opera. */\n",
              "                border: none;\n",
              "                /* Needs to be in here for Safari polyfill so background images work as expected. */\n",
              "                background-size: auto;\n",
              "            }\n",
              "            .progress-bar-interrupted, .progress-bar-interrupted::-webkit-progress-bar {\n",
              "                background: #F44336;\n",
              "            }\n",
              "        </style>\n",
              "      <progress value='0' class='' max='1' style='width:300px; height:20px; vertical-align: middle;'></progress>\n",
              "      0.00% [0/1 00:00<00:00]\n",
              "    </div>\n",
              "    \n",
              "<table border=\"1\" class=\"dataframe\">\n",
              "  <thead>\n",
              "    <tr style=\"text-align: left;\">\n",
              "      <th>epoch</th>\n",
              "      <th>train_loss</th>\n",
              "      <th>valid_loss</th>\n",
              "      <th>accuracy</th>\n",
              "      <th>time</th>\n",
              "    </tr>\n",
              "  </thead>\n",
              "  <tbody>\n",
              "  </tbody>\n",
              "</table><p>\n",
              "\n",
              "    <div>\n",
              "        <style>\n",
              "            /* Turns off some styling */\n",
              "            progress {\n",
              "                /* gets rid of default border in Firefox and Opera. */\n",
              "                border: none;\n",
              "                /* Needs to be in here for Safari polyfill so background images work as expected. */\n",
              "                background-size: auto;\n",
              "            }\n",
              "            .progress-bar-interrupted, .progress-bar-interrupted::-webkit-progress-bar {\n",
              "                background: #F44336;\n",
              "            }\n",
              "        </style>\n",
              "      <progress value='89' class='' max='329' style='width:300px; height:20px; vertical-align: middle;'></progress>\n",
              "      27.05% [89/329 00:12<00:32 1.1499]\n",
              "    </div>\n",
              "    "
            ],
            "text/plain": [
              "<IPython.core.display.HTML object>"
            ]
          },
          "metadata": {
            "tags": []
          }
        },
        {
          "output_type": "stream",
          "text": [
            "LR Finder is complete, type {learner_name}.recorder.plot() to see the graph.\n"
          ],
          "name": "stdout"
        }
      ]
    },
    {
      "cell_type": "code",
      "metadata": {
        "id": "dSod9r_RAoPD",
        "colab_type": "code",
        "colab": {
          "base_uri": "https://localhost:8080/",
          "height": 279
        },
        "outputId": "9a0765fd-75fc-4394-df52-079b296687dc"
      },
      "source": [
        "learn.recorder.plot()"
      ],
      "execution_count": 85,
      "outputs": [
        {
          "output_type": "display_data",
          "data": {
            "image/png": "[encoded data removed]",
            "text/plain": [
              "<Figure size 432x288 with 1 Axes>"
            ]
          },
          "metadata": {
            "tags": [],
            "needs_background": "light"
          }
        }
      ]
    },
    {
      "cell_type": "code",
      "metadata": {
        "id": "SNO7BbwyA-_y",
        "colab_type": "code",
        "colab": {
          "base_uri": "https://localhost:8080/",
          "height": 111
        },
        "outputId": "8ca622d7-efd2-4dad-b1c2-971eaff77632"
      },
      "source": [
        "learn.fit_one_cycle(2, 1e-3)"
      ],
      "execution_count": 86,
      "outputs": [
        {
          "output_type": "display_data",
          "data": {
            "text/html": [
              "<table border=\"1\" class=\"dataframe\">\n",
              "  <thead>\n",
              "    <tr style=\"text-align: left;\">\n",
              "      <th>epoch</th>\n",
              "      <th>train_loss</th>\n",
              "      <th>valid_loss</th>\n",
              "      <th>accuracy</th>\n",
              "      <th>time</th>\n",
              "    </tr>\n",
              "  </thead>\n",
              "  <tbody>\n",
              "    <tr>\n",
              "      <td>0</td>\n",
              "      <td>0.529447</td>\n",
              "      <td>0.434281</td>\n",
              "      <td>0.830425</td>\n",
              "      <td>00:49</td>\n",
              "    </tr>\n",
              "    <tr>\n",
              "      <td>1</td>\n",
              "      <td>0.398124</td>\n",
              "      <td>0.429089</td>\n",
              "      <td>0.830046</td>\n",
              "      <td>00:45</td>\n",
              "    </tr>\n",
              "  </tbody>\n",
              "</table>"
            ],
            "text/plain": [
              "<IPython.core.display.HTML object>"
            ]
          },
          "metadata": {
            "tags": []
          }
        }
      ]
    },
    {
      "cell_type": "markdown",
      "metadata": {
        "id": "RY1Z_DTpyhxH",
        "colab_type": "text"
      },
      "source": [
        "## 5. Predictions"
      ]
    },
    {
      "cell_type": "markdown",
      "metadata": {
        "id": "WidqxEdZypXL",
        "colab_type": "text"
      },
      "source": [
        "### New phrases"
      ]
    },
    {
      "cell_type": "markdown",
      "metadata": {
        "id": "usDkegom52EP",
        "colab_type": "text"
      },
      "source": [
        "Make up some phrases about flying and predict the sentiment."
      ]
    },
    {
      "cell_type": "code",
      "metadata": {
        "id": "Hx05Ob3eUTvz",
        "colab_type": "code",
        "colab": {
          "base_uri": "https://localhost:8080/",
          "height": 34
        },
        "outputId": "01901470-5395-475c-eab2-78bdeabdf0c0"
      },
      "source": [
        "learn.predict(\"It was a good flight\")"
      ],
      "execution_count": 87,
      "outputs": [
        {
          "output_type": "execute_result",
          "data": {
            "text/plain": [
              "(Category tensor(2), tensor(2), tensor([0.0605, 0.0207, 0.9188]))"
            ]
          },
          "metadata": {
            "tags": []
          },
          "execution_count": 87
        }
      ]
    },
    {
      "cell_type": "code",
      "metadata": {
        "id": "MWU6pS0SDE4F",
        "colab_type": "code",
        "colab": {
          "base_uri": "https://localhost:8080/",
          "height": 34
        },
        "outputId": "563d7422-9887-471c-dc2d-e350212276ec"
      },
      "source": [
        "learn.predict(\"It was a flight\")"
      ],
      "execution_count": 88,
      "outputs": [
        {
          "output_type": "execute_result",
          "data": {
            "text/plain": [
              "(Category tensor(0), tensor(0), tensor([0.3849, 0.2957, 0.3194]))"
            ]
          },
          "metadata": {
            "tags": []
          },
          "execution_count": 88
        }
      ]
    },
    {
      "cell_type": "code",
      "metadata": {
        "id": "iiOGOAsgUVW-",
        "colab_type": "code",
        "colab": {
          "base_uri": "https://localhost:8080/",
          "height": 34
        },
        "outputId": "44d92b3b-72ac-43cd-926a-e7c263d47d53"
      },
      "source": [
        "learn.predict(\"It was a bad flight\")"
      ],
      "execution_count": 89,
      "outputs": [
        {
          "output_type": "execute_result",
          "data": {
            "text/plain": [
              "(Category tensor(0), tensor(0), tensor([0.5881, 0.0499, 0.3621]))"
            ]
          },
          "metadata": {
            "tags": []
          },
          "execution_count": 89
        }
      ]
    },
    {
      "cell_type": "markdown",
      "metadata": {
        "id": "JmvXKce9y3bv",
        "colab_type": "text"
      },
      "source": [
        "### Validation Set"
      ]
    },
    {
      "cell_type": "markdown",
      "metadata": {
        "id": "HN_bAYpizU_V",
        "colab_type": "text"
      },
      "source": [
        "Predict for the validation set."
      ]
    },
    {
      "cell_type": "code",
      "metadata": {
        "id": "0n9u8xU9c4gZ",
        "colab_type": "code",
        "colab": {
          "base_uri": "https://localhost:8080/",
          "height": 17
        },
        "outputId": "159332d5-7d02-47af-fb5f-7c8c2a8991a0"
      },
      "source": [
        "val_pred, val_target, val_loss = learn.get_preds(ds_type=DatasetType.Valid, with_loss=True)"
      ],
      "execution_count": 90,
      "outputs": [
        {
          "output_type": "display_data",
          "data": {
            "text/html": [
              ""
            ],
            "text/plain": [
              "<IPython.core.display.HTML object>"
            ]
          },
          "metadata": {
            "tags": []
          }
        }
      ]
    },
    {
      "cell_type": "code",
      "metadata": {
        "id": "g5wUQEWSiTGl",
        "colab_type": "code",
        "colab": {
          "base_uri": "https://localhost:8080/",
          "height": 419
        },
        "outputId": "79eb70d7-f9bd-461b-ded6-0a72cb516a38"
      },
      "source": [
        "valid_results = pd.DataFrame({'target' : val_target.numpy(),'negative prob':val_pred.numpy()[:,0],'neutral prob':val_pred.numpy()[:,1],'positive prob':val_pred.numpy()[:,2],'losses' : val_loss.numpy()})\n",
        "valid_results"
      ],
      "execution_count": 91,
      "outputs": [
        {
          "output_type": "execute_result",
          "data": {
            "text/html": [
              "<div>\n",
              "<style scoped>\n",
              "    .dataframe tbody tr th:only-of-type {\n",
              "        vertical-align: middle;\n",
              "    }\n",
              "\n",
              "    .dataframe tbody tr th {\n",
              "        vertical-align: top;\n",
              "    }\n",
              "\n",
              "    .dataframe thead th {\n",
              "        text-align: right;\n",
              "    }\n",
              "</style>\n",
              "<table border=\"1\" class=\"dataframe\">\n",
              "  <thead>\n",
              "    <tr style=\"text-align: right;\">\n",
              "      <th></th>\n",
              "      <th>target</th>\n",
              "      <th>negative prob</th>\n",
              "      <th>neutral prob</th>\n",
              "      <th>positive prob</th>\n",
              "      <th>losses</th>\n",
              "    </tr>\n",
              "  </thead>\n",
              "  <tbody>\n",
              "    <tr>\n",
              "      <th>0</th>\n",
              "      <td>0</td>\n",
              "      <td>0.953540</td>\n",
              "      <td>0.037645</td>\n",
              "      <td>0.008815</td>\n",
              "      <td>0.047573</td>\n",
              "    </tr>\n",
              "    <tr>\n",
              "      <th>1</th>\n",
              "      <td>0</td>\n",
              "      <td>0.838979</td>\n",
              "      <td>0.154967</td>\n",
              "      <td>0.006054</td>\n",
              "      <td>0.175570</td>\n",
              "    </tr>\n",
              "    <tr>\n",
              "      <th>2</th>\n",
              "      <td>1</td>\n",
              "      <td>0.697113</td>\n",
              "      <td>0.171303</td>\n",
              "      <td>0.131584</td>\n",
              "      <td>1.764320</td>\n",
              "    </tr>\n",
              "    <tr>\n",
              "      <th>3</th>\n",
              "      <td>0</td>\n",
              "      <td>0.796035</td>\n",
              "      <td>0.131438</td>\n",
              "      <td>0.072527</td>\n",
              "      <td>0.228113</td>\n",
              "    </tr>\n",
              "    <tr>\n",
              "      <th>4</th>\n",
              "      <td>0</td>\n",
              "      <td>0.686435</td>\n",
              "      <td>0.293711</td>\n",
              "      <td>0.019853</td>\n",
              "      <td>0.376243</td>\n",
              "    </tr>\n",
              "    <tr>\n",
              "      <th>...</th>\n",
              "      <td>...</td>\n",
              "      <td>...</td>\n",
              "      <td>...</td>\n",
              "      <td>...</td>\n",
              "      <td>...</td>\n",
              "    </tr>\n",
              "    <tr>\n",
              "      <th>2631</th>\n",
              "      <td>0</td>\n",
              "      <td>0.053009</td>\n",
              "      <td>0.938781</td>\n",
              "      <td>0.008209</td>\n",
              "      <td>2.937294</td>\n",
              "    </tr>\n",
              "    <tr>\n",
              "      <th>2632</th>\n",
              "      <td>1</td>\n",
              "      <td>0.244610</td>\n",
              "      <td>0.746193</td>\n",
              "      <td>0.009198</td>\n",
              "      <td>0.292772</td>\n",
              "    </tr>\n",
              "    <tr>\n",
              "      <th>2633</th>\n",
              "      <td>2</td>\n",
              "      <td>0.005636</td>\n",
              "      <td>0.010104</td>\n",
              "      <td>0.984260</td>\n",
              "      <td>0.015866</td>\n",
              "    </tr>\n",
              "    <tr>\n",
              "      <th>2634</th>\n",
              "      <td>0</td>\n",
              "      <td>0.793781</td>\n",
              "      <td>0.123051</td>\n",
              "      <td>0.083168</td>\n",
              "      <td>0.230947</td>\n",
              "    </tr>\n",
              "    <tr>\n",
              "      <th>2635</th>\n",
              "      <td>0</td>\n",
              "      <td>0.587359</td>\n",
              "      <td>0.355506</td>\n",
              "      <td>0.057135</td>\n",
              "      <td>0.532119</td>\n",
              "    </tr>\n",
              "  </tbody>\n",
              "</table>\n",
              "<p>2636 rows × 5 columns</p>\n",
              "</div>"
            ],
            "text/plain": [
              "      target  negative prob  neutral prob  positive prob    losses\n",
              "0          0       0.953540      0.037645       0.008815  0.047573\n",
              "1          0       0.838979      0.154967       0.006054  0.175570\n",
              "2          1       0.697113      0.171303       0.131584  1.764320\n",
              "3          0       0.796035      0.131438       0.072527  0.228113\n",
              "4          0       0.686435      0.293711       0.019853  0.376243\n",
              "...      ...            ...           ...            ...       ...\n",
              "2631       0       0.053009      0.938781       0.008209  2.937294\n",
              "2632       1       0.244610      0.746193       0.009198  0.292772\n",
              "2633       2       0.005636      0.010104       0.984260  0.015866\n",
              "2634       0       0.793781      0.123051       0.083168  0.230947\n",
              "2635       0       0.587359      0.355506       0.057135  0.532119\n",
              "\n",
              "[2636 rows x 5 columns]"
            ]
          },
          "metadata": {
            "tags": []
          },
          "execution_count": 91
        }
      ]
    },
    {
      "cell_type": "markdown",
      "metadata": {
        "id": "XlwtUeFAzZc2",
        "colab_type": "text"
      },
      "source": [
        "Take a closer look at the predictions with the biggest losses."
      ]
    },
    {
      "cell_type": "code",
      "metadata": {
        "id": "pT1odoymzBwQ",
        "colab_type": "code",
        "colab": {
          "base_uri": "https://localhost:8080/",
          "height": 255
        },
        "outputId": "afe12a51-db00-4d00-b329-b78eafa64b62"
      },
      "source": [
        "txt_ci = TextClassificationInterpretation.from_learner(learn, ds_type=DatasetType.Valid)\n",
        "txt_ci.show_top_losses(5)"
      ],
      "execution_count": 92,
      "outputs": [
        {
          "output_type": "display_data",
          "data": {
            "text/html": [
              ""
            ],
            "text/plain": [
              "<IPython.core.display.HTML object>"
            ]
          },
          "metadata": {
            "tags": []
          }
        },
        {
          "output_type": "display_data",
          "data": {
            "text/html": [
              "<table border=\"1\" class=\"dataframe\">\n",
              "  <thead>\n",
              "    <tr style=\"text-align: right;\">\n",
              "      <th>Text</th>\n",
              "      <th>Prediction</th>\n",
              "      <th>Actual</th>\n",
              "      <th>Loss</th>\n",
              "      <th>Probability</th>\n",
              "    </tr>\n",
              "  </thead>\n",
              "  <tbody>\n",
              "    <tr>\n",
              "      <td>xxbos   @ americanair   @ robertdwyer xxup aa does nt charge any fees to change award tickets as long as the origin , destination &amp; &amp; award type remains the same</td>\n",
              "      <td>neutral</td>\n",
              "      <td>positive</td>\n",
              "      <td>7.02</td>\n",
              "      <td>0.00</td>\n",
              "    </tr>\n",
              "    <tr>\n",
              "      <td>xxbos   @ united flight 1491 ... plane from xxup sfo to xxup den is basically on time .</td>\n",
              "      <td>negative</td>\n",
              "      <td>positive</td>\n",
              "      <td>5.78</td>\n",
              "      <td>0.00</td>\n",
              "    </tr>\n",
              "    <tr>\n",
              "      <td>xxbos   @ virginamerica   @ ladygaga   @ carrieunderwood all are great , but i have to go with # carrieunderwood 😍 👌</td>\n",
              "      <td>positive</td>\n",
              "      <td>neutral</td>\n",
              "      <td>5.21</td>\n",
              "      <td>0.01</td>\n",
              "    </tr>\n",
              "    <tr>\n",
              "      <td>xxbos   @ usairways over the phone . i called the xxunk number and she picked up almost immediately .</td>\n",
              "      <td>negative</td>\n",
              "      <td>positive</td>\n",
              "      <td>4.98</td>\n",
              "      <td>0.01</td>\n",
              "    </tr>\n",
              "    <tr>\n",
              "      <td>xxbos   @ jetblue 's xxup ceo battles to appease passengers and xxmaj wall xxmaj street -   @ thevdt http : / / t.co / xxunk</td>\n",
              "      <td>neutral</td>\n",
              "      <td>negative</td>\n",
              "      <td>4.90</td>\n",
              "      <td>0.01</td>\n",
              "    </tr>\n",
              "  </tbody>\n",
              "</table>"
            ],
            "text/plain": [
              "<IPython.core.display.HTML object>"
            ]
          },
          "metadata": {
            "tags": []
          }
        }
      ]
    },
    {
      "cell_type": "markdown",
      "metadata": {
        "id": "4Y7MeSUlzkZu",
        "colab_type": "text"
      },
      "source": [
        "### Test Set"
      ]
    },
    {
      "cell_type": "markdown",
      "metadata": {
        "id": "-JhPb8Okz3v5",
        "colab_type": "text"
      },
      "source": [
        "Predict for our test set and calculate accuracy."
      ]
    },
    {
      "cell_type": "code",
      "metadata": {
        "id": "Rpqf724TrWKj",
        "colab_type": "code",
        "colab": {
          "base_uri": "https://localhost:8080/",
          "height": 949
        },
        "outputId": "4d0a357a-e4cf-4240-bc88-6976060d0fc8"
      },
      "source": [
        "test_data = pd.read_csv('{}test.csv'.format(data_path))\n",
        "\n",
        "test_pred, test_target, test_loss = learn.get_preds(ds_type=DatasetType.Test, with_loss=True,ordered=True)\n",
        "\n",
        "test_results = pd.DataFrame({'negative':test_pred.numpy()[:,0],'neutral':test_pred.numpy()[:,1],'positive':test_pred.numpy()[:,2]})\n",
        "test_results['pred'] = test_results.idxmax(axis=1)\n",
        "\n",
        "test_data = pd.concat([tweets.iloc[len_train:,:].reset_index(drop=True),test_results], axis=1, sort=False)\n",
        "test_data"
      ],
      "execution_count": 93,
      "outputs": [
        {
          "output_type": "display_data",
          "data": {
            "text/html": [
              ""
            ],
            "text/plain": [
              "<IPython.core.display.HTML object>"
            ]
          },
          "metadata": {
            "tags": []
          }
        },
        {
          "output_type": "execute_result",
          "data": {
            "text/html": [
              "<div>\n",
              "<style scoped>\n",
              "    .dataframe tbody tr th:only-of-type {\n",
              "        vertical-align: middle;\n",
              "    }\n",
              "\n",
              "    .dataframe tbody tr th {\n",
              "        vertical-align: top;\n",
              "    }\n",
              "\n",
              "    .dataframe thead th {\n",
              "        text-align: right;\n",
              "    }\n",
              "</style>\n",
              "<table border=\"1\" class=\"dataframe\">\n",
              "  <thead>\n",
              "    <tr style=\"text-align: right;\">\n",
              "      <th></th>\n",
              "      <th>tweet_id</th>\n",
              "      <th>airline_sentiment</th>\n",
              "      <th>airline_sentiment_confidence</th>\n",
              "      <th>negativereason</th>\n",
              "      <th>negativereason_confidence</th>\n",
              "      <th>airline</th>\n",
              "      <th>airline_sentiment_gold</th>\n",
              "      <th>name</th>\n",
              "      <th>negativereason_gold</th>\n",
              "      <th>retweet_count</th>\n",
              "      <th>text</th>\n",
              "      <th>tweet_coord</th>\n",
              "      <th>tweet_created</th>\n",
              "      <th>tweet_location</th>\n",
              "      <th>user_timezone</th>\n",
              "      <th>negative</th>\n",
              "      <th>neutral</th>\n",
              "      <th>positive</th>\n",
              "      <th>pred</th>\n",
              "    </tr>\n",
              "  </thead>\n",
              "  <tbody>\n",
              "    <tr>\n",
              "      <th>0</th>\n",
              "      <td>567969159927205888</td>\n",
              "      <td>negative</td>\n",
              "      <td>1.0000</td>\n",
              "      <td>Customer Service Issue</td>\n",
              "      <td>1.0000</td>\n",
              "      <td>United</td>\n",
              "      <td>NaN</td>\n",
              "      <td>MickGriffin</td>\n",
              "      <td>NaN</td>\n",
              "      <td>0</td>\n",
              "      <td>@united submitted customer care form Jan 7th. ...</td>\n",
              "      <td>NaN</td>\n",
              "      <td>2015-02-18 00:49:34 -0800</td>\n",
              "      <td>Gdansk / Manchester</td>\n",
              "      <td>London</td>\n",
              "      <td>0.973677</td>\n",
              "      <td>0.025642</td>\n",
              "      <td>0.000681</td>\n",
              "      <td>negative</td>\n",
              "    </tr>\n",
              "    <tr>\n",
              "      <th>1</th>\n",
              "      <td>570284129138274304</td>\n",
              "      <td>positive</td>\n",
              "      <td>1.0000</td>\n",
              "      <td>NaN</td>\n",
              "      <td>NaN</td>\n",
              "      <td>Southwest</td>\n",
              "      <td>NaN</td>\n",
              "      <td>catjubs</td>\n",
              "      <td>NaN</td>\n",
              "      <td>0</td>\n",
              "      <td>@SouthwestAir  THANK YOU for your awesome flig...</td>\n",
              "      <td>NaN</td>\n",
              "      <td>2015-02-24 10:08:26 -0800</td>\n",
              "      <td>lurking in a coffeehouse</td>\n",
              "      <td>Pacific Time (US &amp; Canada)</td>\n",
              "      <td>0.164566</td>\n",
              "      <td>0.008399</td>\n",
              "      <td>0.827035</td>\n",
              "      <td>positive</td>\n",
              "    </tr>\n",
              "    <tr>\n",
              "      <th>2</th>\n",
              "      <td>568888806805512192</td>\n",
              "      <td>positive</td>\n",
              "      <td>0.6715</td>\n",
              "      <td>NaN</td>\n",
              "      <td>NaN</td>\n",
              "      <td>Southwest</td>\n",
              "      <td>NaN</td>\n",
              "      <td>Joeanhalt</td>\n",
              "      <td>NaN</td>\n",
              "      <td>0</td>\n",
              "      <td>@SouthwestAir rules.</td>\n",
              "      <td>[41.78959656, -87.74028015]</td>\n",
              "      <td>2015-02-20 13:43:55 -0800</td>\n",
              "      <td>chicago, il</td>\n",
              "      <td>Central Time (US &amp; Canada)</td>\n",
              "      <td>0.112247</td>\n",
              "      <td>0.784684</td>\n",
              "      <td>0.103068</td>\n",
              "      <td>neutral</td>\n",
              "    </tr>\n",
              "    <tr>\n",
              "      <th>3</th>\n",
              "      <td>568804253151731712</td>\n",
              "      <td>negative</td>\n",
              "      <td>1.0000</td>\n",
              "      <td>Bad Flight</td>\n",
              "      <td>1.0000</td>\n",
              "      <td>United</td>\n",
              "      <td>NaN</td>\n",
              "      <td>blastedgtl</td>\n",
              "      <td>NaN</td>\n",
              "      <td>0</td>\n",
              "      <td>@united new flight has me at the window. Kind ...</td>\n",
              "      <td>NaN</td>\n",
              "      <td>2015-02-20 08:07:56 -0800</td>\n",
              "      <td>NaN</td>\n",
              "      <td>Quito</td>\n",
              "      <td>0.955373</td>\n",
              "      <td>0.015131</td>\n",
              "      <td>0.029496</td>\n",
              "      <td>negative</td>\n",
              "    </tr>\n",
              "    <tr>\n",
              "      <th>4</th>\n",
              "      <td>569644171331538945</td>\n",
              "      <td>negative</td>\n",
              "      <td>1.0000</td>\n",
              "      <td>Bad Flight</td>\n",
              "      <td>0.3556</td>\n",
              "      <td>United</td>\n",
              "      <td>NaN</td>\n",
              "      <td>mamijeanna</td>\n",
              "      <td>NaN</td>\n",
              "      <td>0</td>\n",
              "      <td>@united seriously? 45 min on the plane at bhm ...</td>\n",
              "      <td>NaN</td>\n",
              "      <td>2015-02-22 15:45:28 -0800</td>\n",
              "      <td>NaN</td>\n",
              "      <td>NaN</td>\n",
              "      <td>0.982424</td>\n",
              "      <td>0.016931</td>\n",
              "      <td>0.000645</td>\n",
              "      <td>negative</td>\n",
              "    </tr>\n",
              "    <tr>\n",
              "      <th>...</th>\n",
              "      <td>...</td>\n",
              "      <td>...</td>\n",
              "      <td>...</td>\n",
              "      <td>...</td>\n",
              "      <td>...</td>\n",
              "      <td>...</td>\n",
              "      <td>...</td>\n",
              "      <td>...</td>\n",
              "      <td>...</td>\n",
              "      <td>...</td>\n",
              "      <td>...</td>\n",
              "      <td>...</td>\n",
              "      <td>...</td>\n",
              "      <td>...</td>\n",
              "      <td>...</td>\n",
              "      <td>...</td>\n",
              "      <td>...</td>\n",
              "      <td>...</td>\n",
              "      <td>...</td>\n",
              "    </tr>\n",
              "    <tr>\n",
              "      <th>1459</th>\n",
              "      <td>569252529596297217</td>\n",
              "      <td>negative</td>\n",
              "      <td>1.0000</td>\n",
              "      <td>Customer Service Issue</td>\n",
              "      <td>0.6822</td>\n",
              "      <td>Southwest</td>\n",
              "      <td>NaN</td>\n",
              "      <td>abbeymcole</td>\n",
              "      <td>NaN</td>\n",
              "      <td>0</td>\n",
              "      <td>@SouthwestAir officially on hold for 2 hours!</td>\n",
              "      <td>NaN</td>\n",
              "      <td>2015-02-21 13:49:13 -0800</td>\n",
              "      <td>Kansas City</td>\n",
              "      <td>Central Time (US &amp; Canada)</td>\n",
              "      <td>0.981741</td>\n",
              "      <td>0.010265</td>\n",
              "      <td>0.007994</td>\n",
              "      <td>negative</td>\n",
              "    </tr>\n",
              "    <tr>\n",
              "      <th>1460</th>\n",
              "      <td>568189949415170048</td>\n",
              "      <td>negative</td>\n",
              "      <td>1.0000</td>\n",
              "      <td>Lost Luggage</td>\n",
              "      <td>1.0000</td>\n",
              "      <td>United</td>\n",
              "      <td>NaN</td>\n",
              "      <td>mtezna</td>\n",
              "      <td>NaN</td>\n",
              "      <td>0</td>\n",
              "      <td>@united Not sure what happened @ MSP yesterday...</td>\n",
              "      <td>NaN</td>\n",
              "      <td>2015-02-18 15:26:55 -0800</td>\n",
              "      <td>Virginia</td>\n",
              "      <td>Eastern Time (US &amp; Canada)</td>\n",
              "      <td>0.958779</td>\n",
              "      <td>0.019483</td>\n",
              "      <td>0.021737</td>\n",
              "      <td>negative</td>\n",
              "    </tr>\n",
              "    <tr>\n",
              "      <th>1461</th>\n",
              "      <td>569185594095509504</td>\n",
              "      <td>negative</td>\n",
              "      <td>1.0000</td>\n",
              "      <td>Bad Flight</td>\n",
              "      <td>0.6787</td>\n",
              "      <td>United</td>\n",
              "      <td>NaN</td>\n",
              "      <td>iamlaurencard</td>\n",
              "      <td>NaN</td>\n",
              "      <td>1</td>\n",
              "      <td>.@united too much info to share via tweet. Ple...</td>\n",
              "      <td>NaN</td>\n",
              "      <td>2015-02-21 09:23:15 -0800</td>\n",
              "      <td>Aliso Viejo, CA</td>\n",
              "      <td>Pacific Time (US &amp; Canada)</td>\n",
              "      <td>0.738638</td>\n",
              "      <td>0.107102</td>\n",
              "      <td>0.154260</td>\n",
              "      <td>negative</td>\n",
              "    </tr>\n",
              "    <tr>\n",
              "      <th>1462</th>\n",
              "      <td>568781747128803328</td>\n",
              "      <td>positive</td>\n",
              "      <td>1.0000</td>\n",
              "      <td>NaN</td>\n",
              "      <td>NaN</td>\n",
              "      <td>Southwest</td>\n",
              "      <td>NaN</td>\n",
              "      <td>svssywentz</td>\n",
              "      <td>NaN</td>\n",
              "      <td>0</td>\n",
              "      <td>@SouthwestAir i live in the southwest, Imagine...</td>\n",
              "      <td>NaN</td>\n",
              "      <td>2015-02-20 06:38:30 -0800</td>\n",
              "      <td>NaN</td>\n",
              "      <td>NaN</td>\n",
              "      <td>0.001941</td>\n",
              "      <td>0.047042</td>\n",
              "      <td>0.951017</td>\n",
              "      <td>positive</td>\n",
              "    </tr>\n",
              "    <tr>\n",
              "      <th>1463</th>\n",
              "      <td>567734329212940288</td>\n",
              "      <td>positive</td>\n",
              "      <td>1.0000</td>\n",
              "      <td>NaN</td>\n",
              "      <td>NaN</td>\n",
              "      <td>Southwest</td>\n",
              "      <td>NaN</td>\n",
              "      <td>MrDavidLombardi</td>\n",
              "      <td>NaN</td>\n",
              "      <td>0</td>\n",
              "      <td>@SouthwestAir Great job!! Looking forward to m...</td>\n",
              "      <td>NaN</td>\n",
              "      <td>2015-02-17 09:16:26 -0800</td>\n",
              "      <td>AZ - USA</td>\n",
              "      <td>Arizona</td>\n",
              "      <td>0.000534</td>\n",
              "      <td>0.000705</td>\n",
              "      <td>0.998761</td>\n",
              "      <td>positive</td>\n",
              "    </tr>\n",
              "  </tbody>\n",
              "</table>\n",
              "<p>1464 rows × 19 columns</p>\n",
              "</div>"
            ],
            "text/plain": [
              "                tweet_id airline_sentiment  ...  positive      pred\n",
              "0     567969159927205888          negative  ...  0.000681  negative\n",
              "1     570284129138274304          positive  ...  0.827035  positive\n",
              "2     568888806805512192          positive  ...  0.103068   neutral\n",
              "3     568804253151731712          negative  ...  0.029496  negative\n",
              "4     569644171331538945          negative  ...  0.000645  negative\n",
              "...                  ...               ...  ...       ...       ...\n",
              "1459  569252529596297217          negative  ...  0.007994  negative\n",
              "1460  568189949415170048          negative  ...  0.021737  negative\n",
              "1461  569185594095509504          negative  ...  0.154260  negative\n",
              "1462  568781747128803328          positive  ...  0.951017  positive\n",
              "1463  567734329212940288          positive  ...  0.998761  positive\n",
              "\n",
              "[1464 rows x 19 columns]"
            ]
          },
          "metadata": {
            "tags": []
          },
          "execution_count": 93
        }
      ]
    },
    {
      "cell_type": "code",
      "metadata": {
        "id": "sNNf62jzx87J",
        "colab_type": "code",
        "colab": {
          "base_uri": "https://localhost:8080/",
          "height": 34
        },
        "outputId": "1414a777-65d1-42fd-cf09-deb328024f5b"
      },
      "source": [
        "accuracy = np.mean(test_data['airline_sentiment']==test_data['pred'])\n",
        "print('test accuracy: {}'.format(round(accuracy,3)))"
      ],
      "execution_count": 94,
      "outputs": [
        {
          "output_type": "stream",
          "text": [
            "test accuracy: 0.84\n"
          ],
          "name": "stdout"
        }
      ]
    }
  ]
}